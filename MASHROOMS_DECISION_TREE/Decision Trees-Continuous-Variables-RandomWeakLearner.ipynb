{
 "cells": [
  {
   "cell_type": "markdown",
   "metadata": {
    "collapsed": true,
    "deletable": true,
    "editable": true,
    "slideshow": {
     "slide_type": "slide"
    }
   },
   "source": [
    "\n",
    "## Shahwaiz Bukhari\n",
    "----\n",
    "## Goal\n",
    "\n",
    "Your goal in this assigment is to implement a Decision Tree Classifier.\n",
    "\n",
    "**Note** Please note that you are allowed to use only those libraries which we have discussed in the class, i.e. numpy, scipy, pandas."
   ]
  },
  {
   "cell_type": "markdown",
   "metadata": {
    "deletable": true,
    "editable": true
   },
   "source": [
    "### Decision Tree Classifier\n",
    "\n",
    "Now in this assignment we will be implementing the Decision Classifier for both Continuous and Categorical attributes.\n",
    "\n",
    "You will be testing your implementations with three different split criterias, namely:\n",
    " - Information Gain\n",
    " - Gini Index\n",
    " - CART \n"
   ]
  },
  {
   "cell_type": "code",
   "execution_count": 1,
   "metadata": {
    "collapsed": false,
    "deletable": true,
    "editable": true,
    "scrolled": true,
    "slideshow": {
     "slide_type": "slide"
    }
   },
   "outputs": [
    {
     "name": "stdout",
     "output_type": "stream",
     "text": [
      "Populating the interactive namespace from numpy and matplotlib\n"
     ]
    }
   ],
   "source": [
    "%pylab inline\n",
    "import scipy.stats\n",
    "from collections import defaultdict  # default dictionary \n",
    "import copy"
   ]
  },
  {
   "cell_type": "code",
   "execution_count": 2,
   "metadata": {
    "collapsed": false,
    "deletable": false,
    "editable": true,
    "nbgrader": {
     "checksum": "5f673a73f08c6a76dd52953330389488",
     "grade": false,
     "grade_id": "node",
     "locked": false,
     "solution": true
    },
    "scrolled": true
   },
   "outputs": [],
   "source": [
    "class Node:\n",
    "    def __init__(self,purity,klasslabel='',score=0,split=[],fidx=-1):\n",
    "        self.lchild=None       \n",
    "        self.rchild=None\n",
    "        self.klasslabel=klasslabel        \n",
    "        self.split=split\n",
    "        self.score=score\n",
    "        self.fidx=fidx\n",
    "        self.purity=purity\n",
    "        \n",
    "    def set_childs(self,lchild,rchild):\n",
    "        # YOUR CODE HERE\n",
    "        self.lchild=lchild\n",
    "        self.rchild=rchild\n",
    "        #raise NotImplementedError()\n",
    "    def isleaf(self):\n",
    "        # YOUR CODE HERE\n",
    "        #if leaf returns True else False\n",
    "        if(self.lchild is  None and self.rchild is  None):\n",
    "            return True\n",
    "        else:\n",
    "            return False\n",
    "        #raise NotImplementedError()\n",
    "    def isless_than_eq(self, X):\n",
    "        # YOUR CODE HERE\n",
    "        raise NotImplementedError()\n",
    "    def get_str(self):        \n",
    "        if self.isleaf():\n",
    "            return 'C(class={},Purity={})'.format(self.klasslabel,self.purity)\n",
    "        else:\n",
    "            return 'I(Fidx={},Score={},Split={})'.format(self.fidx,self.score,self.split)\n",
    "    "
   ]
  },
  {
   "cell_type": "code",
   "execution_count": 3,
   "metadata": {
    "collapsed": true,
    "deletable": true,
    "editable": true,
    "scrolled": true
   },
   "outputs": [],
   "source": [
    "# A placeholder class \n",
    "# TODO: You have to implement the following class, remember from the lectures that you will \n",
    "# need to build a model for each different class you are trying to identify..."
   ]
  },
  {
   "cell_type": "code",
   "execution_count": 4,
   "metadata": {
    "collapsed": false
   },
   "outputs": [
    {
     "data": {
      "text/plain": [
       "19"
      ]
     },
     "execution_count": 4,
     "metadata": {},
     "output_type": "execute_result"
    }
   ],
   "source": [
    "np.random.randint(10,20)"
   ]
  },
  {
   "cell_type": "code",
   "execution_count": 5,
   "metadata": {
    "collapsed": false,
    "deletable": false,
    "editable": true,
    "nbgrader": {
     "checksum": "823ecf560a3fef28b50be423ab4fd6a5",
     "grade": false,
     "grade_id": "tree",
     "locked": false,
     "solution": true
    },
    "scrolled": false,
    "slideshow": {
     "slide_type": "slide"
    }
   },
   "outputs": [],
   "source": [
    "import pdb\n",
    "## Your code goes here...\n",
    "# You might need to define auxliary classes for composition.. ?\n",
    "class DecisionTree:\n",
    "    ''' Implements the Decision Tree For Classification... '''\n",
    "    def __init__(self, purityp, exthreshold,maxdepth=10):        \n",
    "        self.purity=purityp\n",
    "        self.exthreshold=exthreshold\n",
    "        self.maxdepth=maxdepth\n",
    "        ###__init__(self,purity,klasslabel='',score=0,split=[],fidx=-1)\n",
    "        #node=None\n",
    "        self.root=None\n",
    "        pass\n",
    "    def train(self, X, Y):\n",
    "        ''' Train Decision Tree using the given \n",
    "            X [m x d] data matrix and Y labels matrix\n",
    "            \n",
    "            Input:\n",
    "            ------\n",
    "            X: [m x d] a data matrix of m d-dimensional examples.\n",
    "            Y: [m x 1] a label vector.\n",
    "            \n",
    "            Returns:\n",
    "            -----------\n",
    "            Nothing\n",
    "            '''\n",
    "        nexamples,nfeatures=X.shape\n",
    "        ## now go and train a model for each class...\n",
    "        # YOUR CODE HERE\n",
    "        #Xc=copy.copy(X)\n",
    "        #Yc=copy.copy(Y)\n",
    "        \n",
    "        #print \"X.shape::\" ,X.shape\n",
    "        \n",
    "        idx=range(X.shape[0])\n",
    "        np.random.shuffle(idx)\n",
    "        \n",
    "        if(nexamples>1):\n",
    "                untill=int(nexamples*.70)\n",
    "        else:\n",
    "                untill=nexamples\n",
    "                \n",
    "        #print \"nexamples:\",nexamples\n",
    "        #print \"untill:\",untill\n",
    "            \n",
    "        Xt=X[0:untill]\n",
    "        Yt=Y[0:untill]\n",
    "            \n",
    "            #print X\n",
    "            #print Y\n",
    "            \n",
    "        Xt=X[idx]\n",
    "        Yt=Y[idx]\n",
    "                \n",
    "        \n",
    "        self.build_tree(Xt,Yt)\n",
    "        return \n",
    "      \n",
    "    def build_tree( self,X, Y, depth=10,currNode=None):\n",
    "            nexamples, nfeatures=X.shape\n",
    "            ###intro the shuffle\n",
    "            #idx=range(Xt.shape[0])\n",
    "            #np.random.shuffle(idx)\n",
    "    \n",
    "            #Xt=Xt[idx]\n",
    "            #Yt=Yt[idx]\n",
    "            \"\"\"\n",
    "            if(nexamples>1):\n",
    "                untill=int(nexamples*.70)\n",
    "            else:\n",
    "                untill=nexamples\n",
    "                \n",
    "            print \"nexamples:\",nexamples\n",
    "            print \"untill:\",untill\n",
    "            \n",
    "            X=Xt[0:untill]\n",
    "            Y=Yt[0:untill]\n",
    "            \n",
    "            #print X\n",
    "            #print Y\n",
    "            \n",
    "            \"\"\"\n",
    "            \"\"\" \n",
    "                Function is used to recursively build the decision Tree \n",
    "\n",
    "                Input\n",
    "                -----\n",
    "                X: [m x d] a data matrix of m d-dimensional examples.\n",
    "                Y: [m x 1] a label vector.\n",
    "\n",
    "                Returns\n",
    "                -------\n",
    "                root node of the built tree...\n",
    "            \"\"\"\n",
    "            #nexamples, nfeatures=X.shape\n",
    "            klasses=np.unique(Y);\n",
    "            # YOUR CODE HERE\n",
    "            #--------calculating purity-------#    \n",
    "            p_arr=[]\n",
    "            argmax_flag=False\n",
    "            for i in klasses:\n",
    "                    p_arr.append( X[Y==i].shape[0])\n",
    "            #------------getting the max purity-----------#\n",
    "            p_idx=np.argmax(p_arr)\n",
    "            purityD=p_arr[p_idx]/float(nexamples)\n",
    "            \n",
    "        \n",
    "            # or  self.find_depth()>6\n",
    "            if (nexamples<=self.exthreshold or purityD>=self.purity or self.find_depth()>6):\n",
    "                currNode.purity=purityD\n",
    "                currNode.klasslabel=klasses[p_idx]\n",
    "       \n",
    "                currNode.lchild=None\n",
    "                currNode.rchild=None\n",
    "                return self.root    \n",
    "            split_point=0.0\n",
    "            score=100\n",
    "            \n",
    "            Xlidx=[]\n",
    "            Xridx=[]\n",
    "            bestFeat=-1\n",
    "            \n",
    "            X=X.T\n",
    "            \n",
    "            \n",
    "            \n",
    "            nfeat=int(X.shape[0]**1/2)\n",
    "            \n",
    "            iterm=np.random.randint(0,X.shape[0]-1,nfeat)\n",
    "            #print \"iterm::\",iterm \n",
    "            for feat in iterm:\n",
    "                #def evaluate_numerical_attribute(self,feat, Y)\n",
    "                #returns split,mingain,Xlidx,Xridx\n",
    "                #print \"feat:\",feat\n",
    "                split,mingain_score,tmpXlidx,tmpXridx = self.evaluate_numerical_attribute(X[feat], Y)\n",
    "                if(mingain_score < score):    \n",
    "                    split_point=split\n",
    "                    score=mingain_score\n",
    "                    Xlidx=tmpXlidx\n",
    "                    Xridx=tmpXridx\n",
    "                    bestFeat=feat\n",
    "            \n",
    "            \"\"\"\n",
    "            \n",
    "            feat=np.random.randint(0,X.shape[0])\n",
    "            split,mingain_score,tmpXlidx,tmpXridx = self.evaluate_numerical_attribute(X[feat], Y)\n",
    "            if(mingain_score < score):    \n",
    "                    split_point=split\n",
    "                    score=mingain_score\n",
    "                    Xlidx=tmpXlidx\n",
    "                    Xridx=tmpXridx\n",
    "                    bestFeat=feat\n",
    "            \n",
    "            \"\"\"\n",
    "            ###now we have the best split point for best feature\n",
    "            ###split the X into two parts Dy and Dn on basis of split point\n",
    "            ###Book:// partition D into DY and DN using split point∗, and call recursively \n",
    "            \n",
    "            DY_exp=X.T[ Xlidx ]\n",
    "            DN_exp=X.T[ Xridx ]\n",
    "            Y_l=Y[ Xlidx ]\n",
    "            Y_r=Y[ Xridx ]\n",
    "            ###***********************************************************###\n",
    "            #################################################################\n",
    "            ###def __init__(self,purity,klasslabel='',score=0,split=[],fidx=-1):\n",
    "            \n",
    "            split_store=[ bestFeat,split_point]\n",
    "            if(self.root==None):\n",
    "                \n",
    "                self.root=Node(purityD,'',score,split_store,-1)\n",
    "                self.root.lchild=Node(-1,'noclass',-1,[-1,-1],-1)\n",
    "                self.root.rchild=Node(-1,'noclass',-1,[-1,-1],-1)\n",
    "                \n",
    "                self.build_tree(DY_exp,Y_l,10,self.root.lchild)\n",
    "                self.build_tree(DN_exp,Y_r,10,self.root.rchild)\n",
    "                \n",
    "            else:\n",
    "                \n",
    "                currNode.purity=purityD\n",
    "                currNode.klasslabel=''\n",
    "                currNode.score=score\n",
    "                currNode.split=split_store\n",
    "                currNode.fidx=-1\n",
    "                \n",
    "                \n",
    "                currNode.lchild=Node(-1,'noclass',-1,[-1,-1],-1)\n",
    "                currNode.rchild=Node(-1,'noclass',-1,[-1,-1],-1)\n",
    "                \n",
    "                self.build_tree(DY_exp,Y_l,10,currNode.lchild)\n",
    "                self.build_tree(DN_exp,Y_r,10,currNode.rchild)\n",
    "                \n",
    "            ###now make a recursive call for both left and right part \n",
    "            ###def build_tree(self, X, Y, depth) return RootNode\n",
    "            #################################################################\n",
    "    def test(self, X):\n",
    "        \n",
    "        ''' Test the trained classifiers on the given set of examples \n",
    "        \n",
    "                   \n",
    "            Input:\n",
    "            ------\n",
    "            X: [m x d] a data matrix of m d-dimensional test examples.\n",
    "           \n",
    "            Returns:\n",
    "            -----------\n",
    "                pclass: the predicted class for each example, i.e. to which it belongs\n",
    "        '''\n",
    "        \n",
    "        nexamples, nfeatures=X.shape\n",
    "        pclasses=self.predict(X)\n",
    "        \n",
    "        # your code go here...\n",
    "        \n",
    "        return np.array(pclasses)\n",
    "    ###########INfo.Gain function########\n",
    "    c    #####################################\n",
    "    def evaluate_numerical_attribute(self,feat, Y):\n",
    "        '''\n",
    "            Evaluates the numerical attribute for all possible split points for\n",
    "            possible feature selection\n",
    "            \n",
    "            Input:\n",
    "            ---------\n",
    "            feat: a contiuous feature\n",
    "            Y: labels\n",
    "            \n",
    "            Returns:\n",
    "            ----------\n",
    "            v: splitting threshold\n",
    "            score: splitting score\n",
    "            Xlidx: Index of examples belonging to left child node\n",
    "            Xridx: Index of examples belonging to right child node\n",
    "            \n",
    "        '''\n",
    "        \n",
    "        \n",
    "        \n",
    "        # A big source of Bugs will be sorting the same array and expecting it to behave original,\n",
    "        # use separate variables to store the sorted array and its corresponding classes labels...\n",
    "        classes=np.unique(Y)\n",
    "        nclasses=len(classes)\n",
    "        sidx=np.argsort(feat)\n",
    "        f=feat[sidx] # sorted features\n",
    "        sY=Y[sidx] # sorted features class labels...\n",
    "        \n",
    "        # YOUR CODE HERE\n",
    "        ###caculating the midpoints\n",
    "        Mids_all=np.array([])\n",
    "        \n",
    "        #print \"f.shape[0]:\",f.shape[0]\n",
    "        \n",
    "        for i in range(f.shape[0]-1):\n",
    "            if(f[i]!=f[i+1]):\n",
    "                Mids_all=np.append( Mids_all ,( f[i]+f[i+1] ) / 2.0 )\n",
    "                \n",
    "        idx_r=Mids_all.shape[0]-1\n",
    "        \n",
    "        #print \"idx_r:\",idx_r \n",
    "        \n",
    "        if(idx_r>11):\n",
    "            idx=np.random.randint(0,idx_r,10 )\n",
    "            Mids=Mids_all[idx]\n",
    "            #print \"idx:\",idx\n",
    "        \n",
    "        else:\n",
    "            #idx=np.random.randint(0,idx_r,idx_r )\n",
    "            Mids=Mids_all        \n",
    "        #idx=np.append( idx , Mids_all[idx_r] )\n",
    "        \n",
    "        ###now evaluate at each mid point the best split score\n",
    "        ###and save the midPoint for best split point\n",
    "        ###make and array of shape (feat.shape[0]*no_of_kclasses)\n",
    "        count_arr = [] \n",
    "        for mid in Mids:\n",
    "            tmp_arr=np.array([])\n",
    "            for klass in classes:    \n",
    "                tmp_arr=np.append( tmp_arr , f[f[sY==klass]<=mid].shape[0] )\n",
    "            count_arr.append(tmp_arr)\n",
    "        count_arr=np.array(count_arr)    \n",
    "        ########################################################\n",
    "        ###now we will calculate the score at each split\n",
    "        ###and split point which gives the max score we will store it                       \n",
    "        split = 0.0\n",
    "        mingain_score = 1000\n",
    "        tot_counts=count_arr[count_arr.shape[0]-1]\n",
    "        for i in range(0,count_arr.shape[0]):\n",
    "                score=self.gain(count_arr[i],tot_counts)\n",
    "                if(score<mingain_score):\n",
    "                               split = Mids[i]\n",
    "                               mingain_score = score                                   \n",
    "        Xlidx=f <= split  \n",
    "        Xridx=f > split               \n",
    "        return split,mingain_score,Xlidx,Xridx\n",
    "    def predict(self, X):\n",
    "        \n",
    "        \"\"\"\n",
    "        Test the trained classifiers on the given example X\n",
    "        \n",
    "                   \n",
    "            Input:\n",
    "            ------\n",
    "            X: [1 x d] a d-dimensional test example.\n",
    "           \n",
    "            Returns:\n",
    "            -----------\n",
    "                pclass: the predicted class for the given example, i.e. to which it belongs\n",
    "        \"\"\"\n",
    "        z=[]\n",
    "        \n",
    "        for idx in range(X.shape[0]):\n",
    "            tmp=self._predict(self.root,X[idx,:])\n",
    "            z.append(tmp)\n",
    "        \n",
    "        return z \n",
    "    \n",
    "    def _predict(self,node, X):\n",
    "        \n",
    "        # YOUR CODE HERE\n",
    "        ############################################\n",
    "        ###**************************************###\n",
    "        ###we have root as node in input\n",
    "        ###so make a base case\n",
    "        ###and a recursive case\n",
    "        ###\n",
    "        \n",
    "        #def __init__(self,purity,klasslabel='',score=0,split=[],fidx=-1):\n",
    "        ###\n",
    "        if( node.lchild == None and node.rchild == None):\n",
    "            return node.klasslabel\n",
    "        else:\n",
    "            bFeat=node.split[0]\n",
    "            val=node.split[1]\n",
    "            if( X[bFeat] <= val):\n",
    "                return self._predict(node.lchild,X)\n",
    "            else:\n",
    "                return self._predict(node.rchild,X)\n",
    "        \n",
    "        ###**************************************###\n",
    "        ############################################\n",
    "        \n",
    "    def __str__(self):\n",
    "        print \"HERE\"\n",
    "        return self.__print(self.root)        \n",
    "        \n",
    "     \n",
    "    def find_depth(self):\n",
    "        return self._find_depth(self.root)\n",
    "    \n",
    "    \n",
    "    def _find_depth(self,node):\n",
    "        if not node:\n",
    "            return\n",
    "        if node.isleaf():\n",
    "            return 1\n",
    "        else:\n",
    "            return max(self._find_depth(node.lchild),self._find_depth(node.rchild))+1\n",
    "    def __print(self,node,depth=0):\n",
    "        ret = \"\"\n",
    "\n",
    "        # Print right branch\n",
    "        if node.rchild:\n",
    "            ret += self.__print(node.rchild,depth+1)\n",
    "\n",
    "        # Print own value\n",
    "        \n",
    "        ret += \"\\n\" + (\"    \"*depth) + node.get_str()\n",
    "\n",
    "        # Print left branch\n",
    "        if node.lchild:\n",
    "            ret += self.__print(node.lchild,depth+1)\n",
    "        \n",
    "        return ret"
   ]
  },
  {
   "cell_type": "code",
   "execution_count": 74,
   "metadata": {
    "collapsed": false
   },
   "outputs": [
    {
     "name": "stderr",
     "output_type": "stream",
     "text": [
      "C:\\Users\\Shahwaiz\\Anaconda2\\lib\\site-packages\\ipykernel\\__main__.py:332: VisibleDeprecationWarning: boolean index did not match indexed array along dimension 0; dimension is 104 but corresponding boolean dimension is 34\n",
      "C:\\Users\\Shahwaiz\\Anaconda2\\lib\\site-packages\\ipykernel\\__main__.py:332: VisibleDeprecationWarning: boolean index did not match indexed array along dimension 0; dimension is 104 but corresponding boolean dimension is 70\n",
      "C:\\Users\\Shahwaiz\\Anaconda2\\lib\\site-packages\\ipykernel\\__main__.py:332: VisibleDeprecationWarning: boolean index did not match indexed array along dimension 0; dimension is 24 but corresponding boolean dimension is 12\n",
      "C:\\Users\\Shahwaiz\\Anaconda2\\lib\\site-packages\\ipykernel\\__main__.py:332: VisibleDeprecationWarning: boolean index did not match indexed array along dimension 0; dimension is 7 but corresponding boolean dimension is 3\n",
      "C:\\Users\\Shahwaiz\\Anaconda2\\lib\\site-packages\\ipykernel\\__main__.py:332: VisibleDeprecationWarning: boolean index did not match indexed array along dimension 0; dimension is 7 but corresponding boolean dimension is 4\n",
      "C:\\Users\\Shahwaiz\\Anaconda2\\lib\\site-packages\\ipykernel\\__main__.py:332: VisibleDeprecationWarning: boolean index did not match indexed array along dimension 0; dimension is 17 but corresponding boolean dimension is 9\n",
      "C:\\Users\\Shahwaiz\\Anaconda2\\lib\\site-packages\\ipykernel\\__main__.py:332: VisibleDeprecationWarning: boolean index did not match indexed array along dimension 0; dimension is 17 but corresponding boolean dimension is 8\n",
      "C:\\Users\\Shahwaiz\\Anaconda2\\lib\\site-packages\\ipykernel\\__main__.py:332: VisibleDeprecationWarning: boolean index did not match indexed array along dimension 0; dimension is 9 but corresponding boolean dimension is 5\n",
      "C:\\Users\\Shahwaiz\\Anaconda2\\lib\\site-packages\\ipykernel\\__main__.py:332: VisibleDeprecationWarning: boolean index did not match indexed array along dimension 0; dimension is 9 but corresponding boolean dimension is 4\n",
      "C:\\Users\\Shahwaiz\\Anaconda2\\lib\\site-packages\\ipykernel\\__main__.py:332: VisibleDeprecationWarning: boolean index did not match indexed array along dimension 0; dimension is 8 but corresponding boolean dimension is 4\n",
      "C:\\Users\\Shahwaiz\\Anaconda2\\lib\\site-packages\\ipykernel\\__main__.py:332: VisibleDeprecationWarning: boolean index did not match indexed array along dimension 0; dimension is 31 but corresponding boolean dimension is 10\n",
      "C:\\Users\\Shahwaiz\\Anaconda2\\lib\\site-packages\\ipykernel\\__main__.py:332: VisibleDeprecationWarning: boolean index did not match indexed array along dimension 0; dimension is 31 but corresponding boolean dimension is 21\n",
      "C:\\Users\\Shahwaiz\\Anaconda2\\lib\\site-packages\\ipykernel\\__main__.py:332: VisibleDeprecationWarning: boolean index did not match indexed array along dimension 0; dimension is 27 but corresponding boolean dimension is 10\n",
      "C:\\Users\\Shahwaiz\\Anaconda2\\lib\\site-packages\\ipykernel\\__main__.py:332: VisibleDeprecationWarning: boolean index did not match indexed array along dimension 0; dimension is 27 but corresponding boolean dimension is 17\n",
      "C:\\Users\\Shahwaiz\\Anaconda2\\lib\\site-packages\\ipykernel\\__main__.py:332: VisibleDeprecationWarning: boolean index did not match indexed array along dimension 0; dimension is 13 but corresponding boolean dimension is 5\n",
      "C:\\Users\\Shahwaiz\\Anaconda2\\lib\\site-packages\\ipykernel\\__main__.py:332: VisibleDeprecationWarning: boolean index did not match indexed array along dimension 0; dimension is 13 but corresponding boolean dimension is 8\n",
      "C:\\Users\\Shahwaiz\\Anaconda2\\lib\\site-packages\\ipykernel\\__main__.py:332: VisibleDeprecationWarning: boolean index did not match indexed array along dimension 0; dimension is 14 but corresponding boolean dimension is 5\n",
      "C:\\Users\\Shahwaiz\\Anaconda2\\lib\\site-packages\\ipykernel\\__main__.py:332: VisibleDeprecationWarning: boolean index did not match indexed array along dimension 0; dimension is 14 but corresponding boolean dimension is 9\n",
      "C:\\Users\\Shahwaiz\\Anaconda2\\lib\\site-packages\\ipykernel\\__main__.py:332: VisibleDeprecationWarning: boolean index did not match indexed array along dimension 0; dimension is 73 but corresponding boolean dimension is 24\n",
      "C:\\Users\\Shahwaiz\\Anaconda2\\lib\\site-packages\\ipykernel\\__main__.py:332: VisibleDeprecationWarning: boolean index did not match indexed array along dimension 0; dimension is 73 but corresponding boolean dimension is 49\n",
      "C:\\Users\\Shahwaiz\\Anaconda2\\lib\\site-packages\\ipykernel\\__main__.py:332: VisibleDeprecationWarning: boolean index did not match indexed array along dimension 0; dimension is 63 but corresponding boolean dimension is 22\n",
      "C:\\Users\\Shahwaiz\\Anaconda2\\lib\\site-packages\\ipykernel\\__main__.py:332: VisibleDeprecationWarning: boolean index did not match indexed array along dimension 0; dimension is 63 but corresponding boolean dimension is 41\n",
      "C:\\Users\\Shahwaiz\\Anaconda2\\lib\\site-packages\\ipykernel\\__main__.py:332: VisibleDeprecationWarning: boolean index did not match indexed array along dimension 0; dimension is 22 but corresponding boolean dimension is 8\n",
      "C:\\Users\\Shahwaiz\\Anaconda2\\lib\\site-packages\\ipykernel\\__main__.py:332: VisibleDeprecationWarning: boolean index did not match indexed array along dimension 0; dimension is 22 but corresponding boolean dimension is 14\n",
      "C:\\Users\\Shahwaiz\\Anaconda2\\lib\\site-packages\\ipykernel\\__main__.py:332: VisibleDeprecationWarning: boolean index did not match indexed array along dimension 0; dimension is 10 but corresponding boolean dimension is 5\n",
      "C:\\Users\\Shahwaiz\\Anaconda2\\lib\\site-packages\\ipykernel\\__main__.py:332: VisibleDeprecationWarning: boolean index did not match indexed array along dimension 0; dimension is 11 but corresponding boolean dimension is 5\n",
      "C:\\Users\\Shahwaiz\\Anaconda2\\lib\\site-packages\\ipykernel\\__main__.py:332: VisibleDeprecationWarning: boolean index did not match indexed array along dimension 0; dimension is 11 but corresponding boolean dimension is 6\n",
      "C:\\Users\\Shahwaiz\\Anaconda2\\lib\\site-packages\\ipykernel\\__main__.py:332: VisibleDeprecationWarning: boolean index did not match indexed array along dimension 0; dimension is 6 but corresponding boolean dimension is 3\n",
      "C:\\Users\\Shahwaiz\\Anaconda2\\lib\\site-packages\\ipykernel\\__main__.py:332: VisibleDeprecationWarning: boolean index did not match indexed array along dimension 0; dimension is 93 but corresponding boolean dimension is 29\n",
      "C:\\Users\\Shahwaiz\\Anaconda2\\lib\\site-packages\\ipykernel\\__main__.py:332: VisibleDeprecationWarning: boolean index did not match indexed array along dimension 0; dimension is 93 but corresponding boolean dimension is 64\n",
      "C:\\Users\\Shahwaiz\\Anaconda2\\lib\\site-packages\\ipykernel\\__main__.py:332: VisibleDeprecationWarning: boolean index did not match indexed array along dimension 0; dimension is 86 but corresponding boolean dimension is 27\n",
      "C:\\Users\\Shahwaiz\\Anaconda2\\lib\\site-packages\\ipykernel\\__main__.py:332: VisibleDeprecationWarning: boolean index did not match indexed array along dimension 0; dimension is 86 but corresponding boolean dimension is 59\n",
      "C:\\Users\\Shahwaiz\\Anaconda2\\lib\\site-packages\\ipykernel\\__main__.py:332: VisibleDeprecationWarning: boolean index did not match indexed array along dimension 0; dimension is 61 but corresponding boolean dimension is 20\n",
      "C:\\Users\\Shahwaiz\\Anaconda2\\lib\\site-packages\\ipykernel\\__main__.py:332: VisibleDeprecationWarning: boolean index did not match indexed array along dimension 0; dimension is 61 but corresponding boolean dimension is 41\n",
      "C:\\Users\\Shahwaiz\\Anaconda2\\lib\\site-packages\\ipykernel\\__main__.py:332: VisibleDeprecationWarning: boolean index did not match indexed array along dimension 0; dimension is 56 but corresponding boolean dimension is 17\n",
      "C:\\Users\\Shahwaiz\\Anaconda2\\lib\\site-packages\\ipykernel\\__main__.py:332: VisibleDeprecationWarning: boolean index did not match indexed array along dimension 0; dimension is 56 but corresponding boolean dimension is 39\n",
      "C:\\Users\\Shahwaiz\\Anaconda2\\lib\\site-packages\\ipykernel\\__main__.py:332: VisibleDeprecationWarning: boolean index did not match indexed array along dimension 0; dimension is 64 but corresponding boolean dimension is 23\n",
      "C:\\Users\\Shahwaiz\\Anaconda2\\lib\\site-packages\\ipykernel\\__main__.py:332: VisibleDeprecationWarning: boolean index did not match indexed array along dimension 0; dimension is 64 but corresponding boolean dimension is 41\n",
      "C:\\Users\\Shahwaiz\\Anaconda2\\lib\\site-packages\\ipykernel\\__main__.py:332: VisibleDeprecationWarning: boolean index did not match indexed array along dimension 0; dimension is 61 but corresponding boolean dimension is 22\n",
      "C:\\Users\\Shahwaiz\\Anaconda2\\lib\\site-packages\\ipykernel\\__main__.py:332: VisibleDeprecationWarning: boolean index did not match indexed array along dimension 0; dimension is 61 but corresponding boolean dimension is 39\n",
      "C:\\Users\\Shahwaiz\\Anaconda2\\lib\\site-packages\\ipykernel\\__main__.py:332: VisibleDeprecationWarning: boolean index did not match indexed array along dimension 0; dimension is 15 but corresponding boolean dimension is 6\n",
      "C:\\Users\\Shahwaiz\\Anaconda2\\lib\\site-packages\\ipykernel\\__main__.py:332: VisibleDeprecationWarning: boolean index did not match indexed array along dimension 0; dimension is 15 but corresponding boolean dimension is 9\n",
      "C:\\Users\\Shahwaiz\\Anaconda2\\lib\\site-packages\\ipykernel\\__main__.py:332: VisibleDeprecationWarning: boolean index did not match indexed array along dimension 0; dimension is 6 but corresponding boolean dimension is 4\n",
      "C:\\Users\\Shahwaiz\\Anaconda2\\lib\\site-packages\\ipykernel\\__main__.py:332: VisibleDeprecationWarning: boolean index did not match indexed array along dimension 0; dimension is 6 but corresponding boolean dimension is 2\n",
      "C:\\Users\\Shahwaiz\\Anaconda2\\lib\\site-packages\\ipykernel\\__main__.py:332: VisibleDeprecationWarning: boolean index did not match indexed array along dimension 0; dimension is 46 but corresponding boolean dimension is 16\n",
      "C:\\Users\\Shahwaiz\\Anaconda2\\lib\\site-packages\\ipykernel\\__main__.py:332: VisibleDeprecationWarning: boolean index did not match indexed array along dimension 0; dimension is 46 but corresponding boolean dimension is 30\n",
      "C:\\Users\\Shahwaiz\\Anaconda2\\lib\\site-packages\\ipykernel\\__main__.py:332: VisibleDeprecationWarning: boolean index did not match indexed array along dimension 0; dimension is 39 but corresponding boolean dimension is 12\n",
      "C:\\Users\\Shahwaiz\\Anaconda2\\lib\\site-packages\\ipykernel\\__main__.py:332: VisibleDeprecationWarning: boolean index did not match indexed array along dimension 0; dimension is 39 but corresponding boolean dimension is 27\n",
      "C:\\Users\\Shahwaiz\\Anaconda2\\lib\\site-packages\\ipykernel\\__main__.py:332: VisibleDeprecationWarning: boolean index did not match indexed array along dimension 0; dimension is 30 but corresponding boolean dimension is 10\n",
      "C:\\Users\\Shahwaiz\\Anaconda2\\lib\\site-packages\\ipykernel\\__main__.py:332: VisibleDeprecationWarning: boolean index did not match indexed array along dimension 0; dimension is 30 but corresponding boolean dimension is 20\n",
      "C:\\Users\\Shahwaiz\\Anaconda2\\lib\\site-packages\\ipykernel\\__main__.py:332: VisibleDeprecationWarning: boolean index did not match indexed array along dimension 0; dimension is 43 but corresponding boolean dimension is 13\n",
      "C:\\Users\\Shahwaiz\\Anaconda2\\lib\\site-packages\\ipykernel\\__main__.py:332: VisibleDeprecationWarning: boolean index did not match indexed array along dimension 0; dimension is 43 but corresponding boolean dimension is 30\n",
      "C:\\Users\\Shahwaiz\\Anaconda2\\lib\\site-packages\\ipykernel\\__main__.py:332: VisibleDeprecationWarning: boolean index did not match indexed array along dimension 0; dimension is 10 but corresponding boolean dimension is 4\n",
      "C:\\Users\\Shahwaiz\\Anaconda2\\lib\\site-packages\\ipykernel\\__main__.py:332: VisibleDeprecationWarning: boolean index did not match indexed array along dimension 0; dimension is 10 but corresponding boolean dimension is 6\n",
      "C:\\Users\\Shahwaiz\\Anaconda2\\lib\\site-packages\\ipykernel\\__main__.py:332: VisibleDeprecationWarning: boolean index did not match indexed array along dimension 0; dimension is 61 but corresponding boolean dimension is 21\n",
      "C:\\Users\\Shahwaiz\\Anaconda2\\lib\\site-packages\\ipykernel\\__main__.py:332: VisibleDeprecationWarning: boolean index did not match indexed array along dimension 0; dimension is 61 but corresponding boolean dimension is 40\n",
      "C:\\Users\\Shahwaiz\\Anaconda2\\lib\\site-packages\\ipykernel\\__main__.py:332: VisibleDeprecationWarning: boolean index did not match indexed array along dimension 0; dimension is 13 but corresponding boolean dimension is 4\n",
      "C:\\Users\\Shahwaiz\\Anaconda2\\lib\\site-packages\\ipykernel\\__main__.py:332: VisibleDeprecationWarning: boolean index did not match indexed array along dimension 0; dimension is 13 but corresponding boolean dimension is 9\n",
      "C:\\Users\\Shahwaiz\\Anaconda2\\lib\\site-packages\\ipykernel\\__main__.py:332: VisibleDeprecationWarning: boolean index did not match indexed array along dimension 0; dimension is 9 but corresponding boolean dimension is 3\n",
      "C:\\Users\\Shahwaiz\\Anaconda2\\lib\\site-packages\\ipykernel\\__main__.py:332: VisibleDeprecationWarning: boolean index did not match indexed array along dimension 0; dimension is 9 but corresponding boolean dimension is 6\n",
      "C:\\Users\\Shahwaiz\\Anaconda2\\lib\\site-packages\\ipykernel\\__main__.py:332: VisibleDeprecationWarning: boolean index did not match indexed array along dimension 0; dimension is 48 but corresponding boolean dimension is 17\n",
      "C:\\Users\\Shahwaiz\\Anaconda2\\lib\\site-packages\\ipykernel\\__main__.py:332: VisibleDeprecationWarning: boolean index did not match indexed array along dimension 0; dimension is 48 but corresponding boolean dimension is 31\n",
      "C:\\Users\\Shahwaiz\\Anaconda2\\lib\\site-packages\\ipykernel\\__main__.py:332: VisibleDeprecationWarning: boolean index did not match indexed array along dimension 0; dimension is 17 but corresponding boolean dimension is 7\n",
      "C:\\Users\\Shahwaiz\\Anaconda2\\lib\\site-packages\\ipykernel\\__main__.py:332: VisibleDeprecationWarning: boolean index did not match indexed array along dimension 0; dimension is 17 but corresponding boolean dimension is 10\n",
      "C:\\Users\\Shahwaiz\\Anaconda2\\lib\\site-packages\\ipykernel\\__main__.py:332: VisibleDeprecationWarning: boolean index did not match indexed array along dimension 0; dimension is 40 but corresponding boolean dimension is 14\n",
      "C:\\Users\\Shahwaiz\\Anaconda2\\lib\\site-packages\\ipykernel\\__main__.py:332: VisibleDeprecationWarning: boolean index did not match indexed array along dimension 0; dimension is 40 but corresponding boolean dimension is 26\n"
     ]
    },
    {
     "name": "stdout",
     "output_type": "stream",
     "text": [
      "yes\n",
      "yes\n",
      "yes\n",
      "yes\n",
      "yes\n",
      "yes\n",
      "yes\n",
      "yes\n",
      "yes\n",
      "yes\n",
      "0.666666666667\n",
      "10\n"
     ]
    },
    {
     "name": "stderr",
     "output_type": "stream",
     "text": [
      "C:\\Users\\Shahwaiz\\Anaconda2\\lib\\site-packages\\ipykernel\\__main__.py:332: VisibleDeprecationWarning: boolean index did not match indexed array along dimension 0; dimension is 29 but corresponding boolean dimension is 12\n",
      "C:\\Users\\Shahwaiz\\Anaconda2\\lib\\site-packages\\ipykernel\\__main__.py:332: VisibleDeprecationWarning: boolean index did not match indexed array along dimension 0; dimension is 29 but corresponding boolean dimension is 17\n",
      "C:\\Users\\Shahwaiz\\Anaconda2\\lib\\site-packages\\ipykernel\\__main__.py:332: VisibleDeprecationWarning: boolean index did not match indexed array along dimension 0; dimension is 14 but corresponding boolean dimension is 6\n",
      "C:\\Users\\Shahwaiz\\Anaconda2\\lib\\site-packages\\ipykernel\\__main__.py:332: VisibleDeprecationWarning: boolean index did not match indexed array along dimension 0; dimension is 14 but corresponding boolean dimension is 8\n",
      "C:\\Users\\Shahwaiz\\Anaconda2\\lib\\site-packages\\ipykernel\\__main__.py:332: VisibleDeprecationWarning: boolean index did not match indexed array along dimension 0; dimension is 8 but corresponding boolean dimension is 3\n",
      "C:\\Users\\Shahwaiz\\Anaconda2\\lib\\site-packages\\ipykernel\\__main__.py:332: VisibleDeprecationWarning: boolean index did not match indexed array along dimension 0; dimension is 8 but corresponding boolean dimension is 5\n",
      "C:\\Users\\Shahwaiz\\Anaconda2\\lib\\site-packages\\ipykernel\\__main__.py:332: VisibleDeprecationWarning: boolean index did not match indexed array along dimension 0; dimension is 64 but corresponding boolean dimension is 20\n",
      "C:\\Users\\Shahwaiz\\Anaconda2\\lib\\site-packages\\ipykernel\\__main__.py:332: VisibleDeprecationWarning: boolean index did not match indexed array along dimension 0; dimension is 64 but corresponding boolean dimension is 44\n",
      "C:\\Users\\Shahwaiz\\Anaconda2\\lib\\site-packages\\ipykernel\\__main__.py:332: VisibleDeprecationWarning: boolean index did not match indexed array along dimension 0; dimension is 44 but corresponding boolean dimension is 14\n",
      "C:\\Users\\Shahwaiz\\Anaconda2\\lib\\site-packages\\ipykernel\\__main__.py:332: VisibleDeprecationWarning: boolean index did not match indexed array along dimension 0; dimension is 44 but corresponding boolean dimension is 30\n",
      "C:\\Users\\Shahwaiz\\Anaconda2\\lib\\site-packages\\ipykernel\\__main__.py:332: VisibleDeprecationWarning: boolean index did not match indexed array along dimension 0; dimension is 42 but corresponding boolean dimension is 14\n",
      "C:\\Users\\Shahwaiz\\Anaconda2\\lib\\site-packages\\ipykernel\\__main__.py:332: VisibleDeprecationWarning: boolean index did not match indexed array along dimension 0; dimension is 42 but corresponding boolean dimension is 28\n",
      "C:\\Users\\Shahwaiz\\Anaconda2\\lib\\site-packages\\ipykernel\\__main__.py:332: VisibleDeprecationWarning: boolean index did not match indexed array along dimension 0; dimension is 14 but corresponding boolean dimension is 7\n",
      "C:\\Users\\Shahwaiz\\Anaconda2\\lib\\site-packages\\ipykernel\\__main__.py:332: VisibleDeprecationWarning: boolean index did not match indexed array along dimension 0; dimension is 97 but corresponding boolean dimension is 30\n",
      "C:\\Users\\Shahwaiz\\Anaconda2\\lib\\site-packages\\ipykernel\\__main__.py:332: VisibleDeprecationWarning: boolean index did not match indexed array along dimension 0; dimension is 97 but corresponding boolean dimension is 67\n",
      "C:\\Users\\Shahwaiz\\Anaconda2\\lib\\site-packages\\ipykernel\\__main__.py:332: VisibleDeprecationWarning: boolean index did not match indexed array along dimension 0; dimension is 30 but corresponding boolean dimension is 12\n",
      "C:\\Users\\Shahwaiz\\Anaconda2\\lib\\site-packages\\ipykernel\\__main__.py:332: VisibleDeprecationWarning: boolean index did not match indexed array along dimension 0; dimension is 30 but corresponding boolean dimension is 18\n",
      "C:\\Users\\Shahwaiz\\Anaconda2\\lib\\site-packages\\ipykernel\\__main__.py:332: VisibleDeprecationWarning: boolean index did not match indexed array along dimension 0; dimension is 27 but corresponding boolean dimension is 12\n",
      "C:\\Users\\Shahwaiz\\Anaconda2\\lib\\site-packages\\ipykernel\\__main__.py:332: VisibleDeprecationWarning: boolean index did not match indexed array along dimension 0; dimension is 27 but corresponding boolean dimension is 15\n",
      "C:\\Users\\Shahwaiz\\Anaconda2\\lib\\site-packages\\ipykernel\\__main__.py:332: VisibleDeprecationWarning: boolean index did not match indexed array along dimension 0; dimension is 26 but corresponding boolean dimension is 11\n",
      "C:\\Users\\Shahwaiz\\Anaconda2\\lib\\site-packages\\ipykernel\\__main__.py:332: VisibleDeprecationWarning: boolean index did not match indexed array along dimension 0; dimension is 26 but corresponding boolean dimension is 15\n",
      "C:\\Users\\Shahwaiz\\Anaconda2\\lib\\site-packages\\ipykernel\\__main__.py:332: VisibleDeprecationWarning: boolean index did not match indexed array along dimension 0; dimension is 24 but corresponding boolean dimension is 10\n",
      "C:\\Users\\Shahwaiz\\Anaconda2\\lib\\site-packages\\ipykernel\\__main__.py:332: VisibleDeprecationWarning: boolean index did not match indexed array along dimension 0; dimension is 24 but corresponding boolean dimension is 14\n",
      "C:\\Users\\Shahwaiz\\Anaconda2\\lib\\site-packages\\ipykernel\\__main__.py:332: VisibleDeprecationWarning: boolean index did not match indexed array along dimension 0; dimension is 23 but corresponding boolean dimension is 9\n",
      "C:\\Users\\Shahwaiz\\Anaconda2\\lib\\site-packages\\ipykernel\\__main__.py:332: VisibleDeprecationWarning: boolean index did not match indexed array along dimension 0; dimension is 23 but corresponding boolean dimension is 14\n",
      "C:\\Users\\Shahwaiz\\Anaconda2\\lib\\site-packages\\ipykernel\\__main__.py:332: VisibleDeprecationWarning: boolean index did not match indexed array along dimension 0; dimension is 15 but corresponding boolean dimension is 5\n",
      "C:\\Users\\Shahwaiz\\Anaconda2\\lib\\site-packages\\ipykernel\\__main__.py:332: VisibleDeprecationWarning: boolean index did not match indexed array along dimension 0; dimension is 15 but corresponding boolean dimension is 10\n",
      "C:\\Users\\Shahwaiz\\Anaconda2\\lib\\site-packages\\ipykernel\\__main__.py:332: VisibleDeprecationWarning: boolean index did not match indexed array along dimension 0; dimension is 71 but corresponding boolean dimension is 24\n",
      "C:\\Users\\Shahwaiz\\Anaconda2\\lib\\site-packages\\ipykernel\\__main__.py:332: VisibleDeprecationWarning: boolean index did not match indexed array along dimension 0; dimension is 71 but corresponding boolean dimension is 47\n",
      "C:\\Users\\Shahwaiz\\Anaconda2\\lib\\site-packages\\ipykernel\\__main__.py:332: VisibleDeprecationWarning: boolean index did not match indexed array along dimension 0; dimension is 20 but corresponding boolean dimension is 9\n",
      "C:\\Users\\Shahwaiz\\Anaconda2\\lib\\site-packages\\ipykernel\\__main__.py:332: VisibleDeprecationWarning: boolean index did not match indexed array along dimension 0; dimension is 20 but corresponding boolean dimension is 11\n",
      "C:\\Users\\Shahwaiz\\Anaconda2\\lib\\site-packages\\ipykernel\\__main__.py:332: VisibleDeprecationWarning: boolean index did not match indexed array along dimension 0; dimension is 11 but corresponding boolean dimension is 4\n",
      "C:\\Users\\Shahwaiz\\Anaconda2\\lib\\site-packages\\ipykernel\\__main__.py:332: VisibleDeprecationWarning: boolean index did not match indexed array along dimension 0; dimension is 11 but corresponding boolean dimension is 7\n",
      "C:\\Users\\Shahwaiz\\Anaconda2\\lib\\site-packages\\ipykernel\\__main__.py:332: VisibleDeprecationWarning: boolean index did not match indexed array along dimension 0; dimension is 92 but corresponding boolean dimension is 31\n",
      "C:\\Users\\Shahwaiz\\Anaconda2\\lib\\site-packages\\ipykernel\\__main__.py:332: VisibleDeprecationWarning: boolean index did not match indexed array along dimension 0; dimension is 92 but corresponding boolean dimension is 61\n",
      "C:\\Users\\Shahwaiz\\Anaconda2\\lib\\site-packages\\ipykernel\\__main__.py:332: VisibleDeprecationWarning: boolean index did not match indexed array along dimension 0; dimension is 88 but corresponding boolean dimension is 28\n",
      "C:\\Users\\Shahwaiz\\Anaconda2\\lib\\site-packages\\ipykernel\\__main__.py:332: VisibleDeprecationWarning: boolean index did not match indexed array along dimension 0; dimension is 88 but corresponding boolean dimension is 60\n",
      "C:\\Users\\Shahwaiz\\Anaconda2\\lib\\site-packages\\ipykernel\\__main__.py:332: VisibleDeprecationWarning: boolean index did not match indexed array along dimension 0; dimension is 83 but corresponding boolean dimension is 26\n",
      "C:\\Users\\Shahwaiz\\Anaconda2\\lib\\site-packages\\ipykernel\\__main__.py:332: VisibleDeprecationWarning: boolean index did not match indexed array along dimension 0; dimension is 83 but corresponding boolean dimension is 57\n",
      "C:\\Users\\Shahwaiz\\Anaconda2\\lib\\site-packages\\ipykernel\\__main__.py:332: VisibleDeprecationWarning: boolean index did not match indexed array along dimension 0; dimension is 28 but corresponding boolean dimension is 10\n",
      "C:\\Users\\Shahwaiz\\Anaconda2\\lib\\site-packages\\ipykernel\\__main__.py:332: VisibleDeprecationWarning: boolean index did not match indexed array along dimension 0; dimension is 28 but corresponding boolean dimension is 18\n",
      "C:\\Users\\Shahwaiz\\Anaconda2\\lib\\site-packages\\ipykernel\\__main__.py:332: VisibleDeprecationWarning: boolean index did not match indexed array along dimension 0; dimension is 27 but corresponding boolean dimension is 9\n",
      "C:\\Users\\Shahwaiz\\Anaconda2\\lib\\site-packages\\ipykernel\\__main__.py:332: VisibleDeprecationWarning: boolean index did not match indexed array along dimension 0; dimension is 27 but corresponding boolean dimension is 18\n",
      "C:\\Users\\Shahwaiz\\Anaconda2\\lib\\site-packages\\ipykernel\\__main__.py:332: VisibleDeprecationWarning: boolean index did not match indexed array along dimension 0; dimension is 38 but corresponding boolean dimension is 13\n",
      "C:\\Users\\Shahwaiz\\Anaconda2\\lib\\site-packages\\ipykernel\\__main__.py:332: VisibleDeprecationWarning: boolean index did not match indexed array along dimension 0; dimension is 38 but corresponding boolean dimension is 25\n",
      "C:\\Users\\Shahwaiz\\Anaconda2\\lib\\site-packages\\ipykernel\\__main__.py:332: VisibleDeprecationWarning: boolean index did not match indexed array along dimension 0; dimension is 66 but corresponding boolean dimension is 21\n",
      "C:\\Users\\Shahwaiz\\Anaconda2\\lib\\site-packages\\ipykernel\\__main__.py:332: VisibleDeprecationWarning: boolean index did not match indexed array along dimension 0; dimension is 66 but corresponding boolean dimension is 45\n",
      "C:\\Users\\Shahwaiz\\Anaconda2\\lib\\site-packages\\ipykernel\\__main__.py:332: VisibleDeprecationWarning: boolean index did not match indexed array along dimension 0; dimension is 12 but corresponding boolean dimension is 7\n",
      "C:\\Users\\Shahwaiz\\Anaconda2\\lib\\site-packages\\ipykernel\\__main__.py:332: VisibleDeprecationWarning: boolean index did not match indexed array along dimension 0; dimension is 12 but corresponding boolean dimension is 5\n"
     ]
    }
   ],
   "source": [
    "\n",
    "from nose.tools import assert_greater_equal\n",
    "cnt=0\n",
    "arr=[]\n",
    "for i in range(10):\n",
    "    feat=[0,1,2,3]\n",
    "    dt=DecisionTree(0.70,5)\n",
    "\n",
    "    #for i in range(100):\n",
    "    dt.train(Xtrain[:,feat],Ytrain)\n",
    "\n",
    "    pclasses=dt.predict(Xtest[:,feat])\n",
    "    acc = np.sum(pclasses==Ytest)/float(Ytest.shape[0])\n",
    "    arr.append(acc)\n",
    "    if(acc>.52):\n",
    "        cnt+=1\n",
    "        print \"yes\"\n",
    "print acc\n",
    "print cnt\n",
    "#assert_greater_equal(acc, 0.90)"
   ]
  },
  {
   "cell_type": "code",
   "execution_count": 85,
   "metadata": {
    "collapsed": false
   },
   "outputs": [
    {
     "name": "stdout",
     "output_type": "stream",
     "text": [
      "0.666666666667\n",
      "10\n",
      "[0.75555555555555554, 0.66666666666666663, 0.66666666666666663, 0.66666666666666663, 0.66666666666666663, 0.68888888888888888, 0.77777777777777779, 0.66666666666666663, 0.68888888888888888, 0.66666666666666663]\n"
     ]
    }
   ],
   "source": [
    "print acc\n",
    "print cnt\n",
    "print arr"
   ]
  },
  {
   "cell_type": "code",
   "execution_count": 56,
   "metadata": {
    "collapsed": false
   },
   "outputs": [
    {
     "name": "stdout",
     "output_type": "stream",
     "text": [
      "149\n",
      "5.35 0.69680962033\n"
     ]
    },
    {
     "name": "stderr",
     "output_type": "stream",
     "text": [
      "C:\\Users\\Shahwaiz\\Anaconda2\\lib\\site-packages\\ipykernel\\__main__.py:332: VisibleDeprecationWarning: boolean index did not match indexed array along dimension 0; dimension is 149 but corresponding boolean dimension is 49\n",
      "C:\\Users\\Shahwaiz\\Anaconda2\\lib\\site-packages\\ipykernel\\__main__.py:332: VisibleDeprecationWarning: boolean index did not match indexed array along dimension 0; dimension is 149 but corresponding boolean dimension is 100\n"
     ]
    }
   ],
   "source": [
    "print len(Y)\n",
    "feat=[0,1]\n",
    "dt=DecisionTree(0.95,5,2)\n",
    "feat=[0,1]\n",
    "dt.classes=np.unique(Y)\n",
    "dt.nclasses=len(np.unique(Y))\n",
    "split,mingain,Xlidx,Xridx=dt.evaluate_numerical_attribute(X[:,0],Y)\n",
    "print split,mingain\n",
    "# You should get following result:, see the example on book page 490-491, Data Mining and Analysis...\n",
    "# Split=5.45, H(DY)=0.577004250316,P(DY)=0.342281879195,H(DN)=0.290715865467,P(DN)=0.657718120805,gain=0.388707191825"
   ]
  },
  {
   "cell_type": "code",
   "execution_count": null,
   "metadata": {
    "collapsed": true
   },
   "outputs": [],
   "source": []
  },
  {
   "cell_type": "code",
   "execution_count": 10,
   "metadata": {
    "collapsed": false,
    "deletable": true,
    "editable": true,
    "scrolled": true,
    "slideshow": {
     "slide_type": "-"
    }
   },
   "outputs": [],
   "source": [
    "import pandas as pd\n",
    "import tools as t # set of tools for plotting, data splitting, etc.."
   ]
  },
  {
   "cell_type": "code",
   "execution_count": 48,
   "metadata": {
    "collapsed": false,
    "deletable": true,
    "editable": true,
    "scrolled": true,
    "slideshow": {
     "slide_type": "slide"
    }
   },
   "outputs": [
    {
     "name": "stdout",
     "output_type": "stream",
     "text": [
      "       SepalLength  SepalWidth  PetalLength  PetalWidth\n",
      "count   149.000000  149.000000   149.000000  149.000000\n",
      "mean      5.848322    3.051007     3.774497    1.205369\n",
      "std       0.828594    0.433499     1.759651    0.761292\n",
      "min       4.300000    2.000000     1.000000    0.100000\n",
      "25%       5.100000    2.800000     1.600000    0.300000\n",
      "50%       5.800000    3.000000     4.400000    1.300000\n",
      "75%       6.400000    3.300000     5.100000    1.800000\n",
      "max       7.900000    4.400000     6.900000    2.500000\n"
     ]
    }
   ],
   "source": [
    "#load the data set\n",
    "data=pd.read_csv('./iris.data')\n",
    "data.columns=['SepalLength','SepalWidth','PetalLength','PetalWidth','Class']\n",
    "print data.describe()"
   ]
  },
  {
   "cell_type": "code",
   "execution_count": 49,
   "metadata": {
    "collapsed": false,
    "deletable": true,
    "editable": true,
    "scrolled": true,
    "slideshow": {
     "slide_type": "slide"
    }
   },
   "outputs": [
    {
     "name": "stdout",
     "output_type": "stream",
     "text": [
      " Data Set Dimensions= (149L, 4L)  True Class labels dimensions (149L,)\n"
     ]
    }
   ],
   "source": [
    "# Get your data in matrix\n",
    "X=np.asarray(data[['SepalLength','SepalWidth','PetalLength','PetalWidth']].dropna())\n",
    "Y=np.asarray(data['Class'].dropna())\n",
    "print \" Data Set Dimensions=\", X.shape, \" True Class labels dimensions\", Y.shape   \n",
    "#Data Set Dimensions= (149, 4)  True Class labels dimensions (149,)"
   ]
  },
  {
   "cell_type": "code",
   "execution_count": 50,
   "metadata": {
    "collapsed": false,
    "deletable": true,
    "editable": true,
    "scrolled": true
   },
   "outputs": [
    {
     "name": "stdout",
     "output_type": "stream",
     "text": [
      "['Iris-setosa' 'Iris-setosa' 'Iris-setosa' 'Iris-setosa' 'Iris-setosa'\n",
      " 'Iris-setosa' 'Iris-setosa' 'Iris-setosa' 'Iris-setosa' 'Iris-setosa'\n",
      " 'Iris-setosa' 'Iris-setosa' 'Iris-setosa' 'Iris-setosa' 'Iris-setosa'\n",
      " 'Iris-setosa' 'Iris-setosa' 'Iris-setosa' 'Iris-setosa' 'Iris-setosa'\n",
      " 'Iris-setosa' 'Iris-setosa' 'Iris-setosa' 'Iris-setosa' 'Iris-setosa'\n",
      " 'Iris-setosa' 'Iris-setosa' 'Iris-setosa' 'Iris-setosa' 'Iris-setosa'\n",
      " 'Iris-setosa' 'Iris-setosa' 'Iris-setosa' 'Iris-setosa' 'Iris-setosa'\n",
      " 'Iris-setosa' 'Iris-setosa' 'Iris-setosa' 'Iris-setosa' 'Iris-setosa'\n",
      " 'Iris-setosa' 'Iris-setosa' 'Iris-setosa' 'Iris-setosa' 'Iris-setosa'\n",
      " 'Iris-setosa' 'Iris-setosa' 'Iris-setosa' 'Iris-setosa' 'Iris-versicolor'\n",
      " 'Iris-versicolor' 'Iris-versicolor' 'Iris-versicolor' 'Iris-versicolor'\n",
      " 'Iris-versicolor' 'Iris-versicolor' 'Iris-versicolor' 'Iris-versicolor'\n",
      " 'Iris-versicolor' 'Iris-versicolor' 'Iris-versicolor' 'Iris-versicolor'\n",
      " 'Iris-versicolor' 'Iris-versicolor' 'Iris-versicolor' 'Iris-versicolor'\n",
      " 'Iris-versicolor' 'Iris-versicolor' 'Iris-versicolor' 'Iris-versicolor'\n",
      " 'Iris-versicolor' 'Iris-versicolor' 'Iris-versicolor' 'Iris-versicolor'\n",
      " 'Iris-versicolor' 'Iris-versicolor' 'Iris-versicolor' 'Iris-versicolor'\n",
      " 'Iris-versicolor' 'Iris-versicolor' 'Iris-versicolor' 'Iris-versicolor'\n",
      " 'Iris-versicolor' 'Iris-versicolor' 'Iris-versicolor' 'Iris-versicolor'\n",
      " 'Iris-versicolor' 'Iris-versicolor' 'Iris-versicolor' 'Iris-versicolor'\n",
      " 'Iris-versicolor' 'Iris-versicolor' 'Iris-versicolor' 'Iris-versicolor'\n",
      " 'Iris-versicolor' 'Iris-versicolor' 'Iris-versicolor' 'Iris-versicolor'\n",
      " 'Iris-versicolor' 'Iris-virginica' 'Iris-virginica' 'Iris-virginica'\n",
      " 'Iris-virginica' 'Iris-virginica' 'Iris-virginica' 'Iris-virginica'\n",
      " 'Iris-virginica' 'Iris-virginica' 'Iris-virginica' 'Iris-virginica'\n",
      " 'Iris-virginica' 'Iris-virginica' 'Iris-virginica' 'Iris-virginica'\n",
      " 'Iris-virginica' 'Iris-virginica' 'Iris-virginica' 'Iris-virginica'\n",
      " 'Iris-virginica' 'Iris-virginica' 'Iris-virginica' 'Iris-virginica'\n",
      " 'Iris-virginica' 'Iris-virginica' 'Iris-virginica' 'Iris-virginica'\n",
      " 'Iris-virginica' 'Iris-virginica' 'Iris-virginica' 'Iris-virginica'\n",
      " 'Iris-virginica' 'Iris-virginica' 'Iris-virginica' 'Iris-virginica'\n",
      " 'Iris-virginica' 'Iris-virginica' 'Iris-virginica' 'Iris-virginica'\n",
      " 'Iris-virginica' 'Iris-virginica' 'Iris-virginica' 'Iris-virginica'\n",
      " 'Iris-virginica' 'Iris-virginica' 'Iris-virginica' 'Iris-virginica'\n",
      " 'Iris-virginica' 'Iris-virginica' 'Iris-virginica']\n"
     ]
    }
   ],
   "source": [
    "print Y"
   ]
  },
  {
   "cell_type": "code",
   "execution_count": 51,
   "metadata": {
    "collapsed": false,
    "deletable": true,
    "editable": true,
    "scrolled": true
   },
   "outputs": [
    {
     "name": "stdout",
     "output_type": "stream",
     "text": [
      "['Iris-setosa' 'Iris-setosa' 'Iris-setosa' 'Iris-setosa' 'Iris-setosa'\n",
      " 'Iris-setosa' 'Iris-setosa' 'Iris-setosa' 'Iris-setosa' 'Iris-setosa'\n",
      " 'Iris-setosa' 'Iris-setosa' 'Iris-setosa' 'Iris-setosa' 'Iris-setosa'\n",
      " 'Iris-setosa' 'Iris-setosa' 'Iris-setosa' 'Iris-setosa' 'Iris-setosa'\n",
      " 'Iris-setosa' 'Iris-setosa' 'Iris-setosa' 'Iris-setosa' 'Iris-setosa'\n",
      " 'Iris-setosa' 'Iris-setosa' 'Iris-setosa' 'Iris-setosa' 'Iris-setosa'\n",
      " 'Iris-setosa' 'Iris-setosa' 'Iris-setosa' 'Iris-setosa' 'Iris-setosa'\n",
      " 'Iris-setosa' 'Iris-setosa' 'Iris-setosa' 'Iris-setosa' 'Iris-setosa'\n",
      " 'Iris-setosa' 'Iris-setosa' 'Iris-setosa' 'Iris-setosa' 'Iris-setosa'\n",
      " 'Iris-setosa' 'Iris-setosa' 'Iris-setosa' 'Iris-setosa' 'Iris-versicolor'\n",
      " 'Iris-versicolor' 'Iris-versicolor' 'Iris-versicolor' 'Iris-versicolor'\n",
      " 'Iris-versicolor' 'Iris-versicolor' 'Iris-versicolor' 'Iris-versicolor'\n",
      " 'Iris-versicolor' 'Iris-versicolor' 'Iris-versicolor' 'Iris-versicolor'\n",
      " 'Iris-versicolor' 'Iris-versicolor' 'Iris-versicolor' 'Iris-versicolor'\n",
      " 'Iris-versicolor' 'Iris-versicolor' 'Iris-versicolor' 'Iris-versicolor'\n",
      " 'Iris-versicolor' 'Iris-versicolor' 'Iris-versicolor' 'Iris-versicolor'\n",
      " 'Iris-versicolor' 'Iris-versicolor' 'Iris-versicolor' 'Iris-versicolor'\n",
      " 'Iris-versicolor' 'Iris-versicolor' 'Iris-versicolor' 'Iris-versicolor'\n",
      " 'Iris-versicolor' 'Iris-versicolor' 'Iris-versicolor' 'Iris-versicolor'\n",
      " 'Iris-versicolor' 'Iris-versicolor' 'Iris-versicolor' 'Iris-versicolor'\n",
      " 'Iris-versicolor' 'Iris-versicolor' 'Iris-versicolor' 'Iris-versicolor'\n",
      " 'Iris-versicolor' 'Iris-versicolor' 'Iris-versicolor' 'Iris-versicolor'\n",
      " 'Iris-versicolor' 'Iris-versicolor' 'Iris-versicolor' 'Iris-versicolor'\n",
      " 'Iris-versicolor' 'Iris-versicolor' 'Iris-versicolor' 'Iris-versicolor'\n",
      " 'Iris-versicolor' 'Iris-versicolor' 'Iris-versicolor' 'Iris-versicolor'\n",
      " 'Iris-versicolor' 'Iris-versicolor' 'Iris-versicolor' 'Iris-versicolor'\n",
      " 'Iris-versicolor' 'Iris-versicolor' 'Iris-versicolor' 'Iris-versicolor'\n",
      " 'Iris-versicolor' 'Iris-versicolor' 'Iris-versicolor' 'Iris-versicolor'\n",
      " 'Iris-versicolor' 'Iris-versicolor' 'Iris-versicolor' 'Iris-versicolor'\n",
      " 'Iris-versicolor' 'Iris-versicolor' 'Iris-versicolor' 'Iris-versicolor'\n",
      " 'Iris-versicolor' 'Iris-versicolor' 'Iris-versicolor' 'Iris-versicolor'\n",
      " 'Iris-versicolor' 'Iris-versicolor' 'Iris-versicolor' 'Iris-versicolor'\n",
      " 'Iris-versicolor' 'Iris-versicolor' 'Iris-versicolor' 'Iris-versicolor'\n",
      " 'Iris-versicolor' 'Iris-versicolor' 'Iris-versicolor' 'Iris-versicolor'\n",
      " 'Iris-versicolor' 'Iris-versicolor' 'Iris-versicolor'] 149 ['Iris-setosa' 'Iris-versicolor']\n"
     ]
    }
   ],
   "source": [
    "Y[Y=='Iris-virginica']='Iris-versicolor'\n",
    "print Y, len(Y), np.unique(Y)"
   ]
  },
  {
   "cell_type": "markdown",
   "metadata": {
    "deletable": true,
    "editable": true
   },
   "source": [
    "### Debugging Tip\n",
    "You can import pdb and call its function set_trace (i.e pdb.set_trace()) any where in your code to stop the execution of your code and inspect it line by line by using pdf. Otherwise, you can use Pycharm GUI debugger."
   ]
  },
  {
   "cell_type": "code",
   "execution_count": 15,
   "metadata": {
    "collapsed": false,
    "deletable": true,
    "editable": true
   },
   "outputs": [],
   "source": [
    "\n",
    "# import pdb \n",
    "# pdb.set_trace()"
   ]
  },
  {
   "cell_type": "code",
   "execution_count": 16,
   "metadata": {
    "collapsed": false,
    "deletable": true,
    "editable": true
   },
   "outputs": [
    {
     "data": {
      "text/plain": [
       "7"
      ]
     },
     "execution_count": 16,
     "metadata": {},
     "output_type": "execute_result"
    }
   ],
   "source": [
    "np.sum((X[:,0]<=5.45) & (Y=='Iris-versicolor'))\n",
    "#7"
   ]
  },
  {
   "cell_type": "code",
   "execution_count": 17,
   "metadata": {
    "collapsed": false,
    "deletable": true,
    "editable": true
   },
   "outputs": [
    {
     "name": "stdout",
     "output_type": "stream",
     "text": [
      "['4.9', '4.7', '4.6', '5.0', '5.4', '4.6', '5.0', '4.4', '4.9', '5.4', '4.8', '4.8', '4.3', '5.8', '5.7', '5.4', '5.1', '5.7', '5.1', '5.4', '5.1', '4.6', '5.1', '4.8', '5.0', '5.0', '5.2', '5.2', '4.7', '4.8', '5.4', '5.2', '5.5', '4.9', '5.0', '5.5', '4.9', '4.4', '5.1', '5.0', '4.5', '4.4', '5.0', '5.1', '4.8', '5.1', '4.6', '5.3', '5.0', '7.0', '6.4', '6.9', '5.5', '6.5', '5.7', '6.3', '4.9', '6.6', '5.2', '5.0', '5.9', '6.0', '6.1', '5.6', '6.7', '5.6', '5.8', '6.2', '5.6', '5.9', '6.1', '6.3', '6.1', '6.4', '6.6', '6.8', '6.7', '6.0', '5.7', '5.5', '5.5', '5.8', '6.0', '5.4', '6.0', '6.7', '6.3', '5.6', '5.5', '5.5', '6.1', '5.8', '5.0', '5.6', '5.7', '5.7', '6.2', '5.1', '5.7', '6.3', '5.8', '7.1', '6.3', '6.5', '7.6', '4.9', '7.3', '6.7', '7.2', '6.5', '6.4', '6.8', '5.7', '5.8', '6.4', '6.5', '7.7', '7.7', '6.0', '6.9', '5.6', '7.7', '6.3', '6.7', '7.2', '6.2', '6.1', '6.4', '7.2', '7.4', '7.9', '6.4', '6.3', '6.1', '7.7', '6.3', '6.4', '6.0', '6.9', '6.7', '6.9', '5.8', '6.8', '6.7', '6.7', '6.3', '6.5', '6.2', '5.9']\n"
     ]
    }
   ],
   "source": [
    "print ['{:0.5}'.format(p) for p in X[:,0]]"
   ]
  },
  {
   "cell_type": "code",
   "execution_count": 18,
   "metadata": {
    "collapsed": false
   },
   "outputs": [
    {
     "name": "stdout",
     "output_type": "stream",
     "text": [
      "149\n"
     ]
    }
   ],
   "source": [
    "print X[:,0].shape[0]"
   ]
  },
  {
   "cell_type": "code",
   "execution_count": 19,
   "metadata": {
    "collapsed": false,
    "deletable": true,
    "editable": true,
    "scrolled": false
   },
   "outputs": [
    {
     "name": "stdout",
     "output_type": "stream",
     "text": [
      "149\n",
      "5.15 0.308676574231\n"
     ]
    },
    {
     "name": "stderr",
     "output_type": "stream",
     "text": [
      "C:\\Users\\Shahwaiz\\Anaconda2\\lib\\site-packages\\ipykernel\\__main__.py:332: VisibleDeprecationWarning: boolean index did not match indexed array along dimension 0; dimension is 149 but corresponding boolean dimension is 49\n",
      "C:\\Users\\Shahwaiz\\Anaconda2\\lib\\site-packages\\ipykernel\\__main__.py:332: VisibleDeprecationWarning: boolean index did not match indexed array along dimension 0; dimension is 149 but corresponding boolean dimension is 100\n"
     ]
    }
   ],
   "source": [
    "print len(Y)\n",
    "feat=[0,1]\n",
    "dt=DecisionTree(0.95,5,2)\n",
    "feat=[0,1]\n",
    "dt.classes=np.unique(Y)\n",
    "dt.nclasses=len(np.unique(Y))\n",
    "split,mingain,Xlidx,Xridx=dt.evaluate_numerical_attribute(X[:,0],Y)\n",
    "print split,mingain\n",
    "# You should get following result:, see the example on book page 490-491, Data Mining and Analysis...\n",
    "# Split=5.45, H(DY)=0.577004250316,P(DY)=0.342281879195,H(DN)=0.290715865467,P(DN)=0.657718120805,gain=0.388707191825"
   ]
  },
  {
   "cell_type": "code",
   "execution_count": 20,
   "metadata": {
    "collapsed": false,
    "deletable": true,
    "editable": true
   },
   "outputs": [
    {
     "name": "stderr",
     "output_type": "stream",
     "text": [
      "C:\\Users\\Shahwaiz\\Anaconda2\\lib\\site-packages\\ipykernel\\__main__.py:332: VisibleDeprecationWarning: boolean index did not match indexed array along dimension 0; dimension is 149 but corresponding boolean dimension is 49\n",
      "C:\\Users\\Shahwaiz\\Anaconda2\\lib\\site-packages\\ipykernel\\__main__.py:332: VisibleDeprecationWarning: boolean index did not match indexed array along dimension 0; dimension is 149 but corresponding boolean dimension is 100\n"
     ]
    }
   ],
   "source": [
    "dt.classes=np.unique(Y)\n",
    "dt.nclasses=len(np.unique(Y))\n",
    "split,mingain,Xlidx,Xridx=dt.evaluate_numerical_attribute(X[:,0],Y)"
   ]
  },
  {
   "cell_type": "code",
   "execution_count": 21,
   "metadata": {
    "collapsed": false
   },
   "outputs": [
    {
     "name": "stdout",
     "output_type": "stream",
     "text": [
      "['Iris-setosa' 'Iris-versicolor']\n"
     ]
    }
   ],
   "source": [
    "print np.unique(Y)"
   ]
  },
  {
   "cell_type": "code",
   "execution_count": 22,
   "metadata": {
    "collapsed": false,
    "deletable": false,
    "editable": true,
    "nbgrader": {
     "checksum": "d3e8e586dd07a46aa77945942d370783",
     "grade": true,
     "grade_id": "split_gain",
     "locked": true,
     "points": 5,
     "solution": false
    }
   },
   "outputs": [
    {
     "ename": "AssertionError",
     "evalue": "5.3499999999999996 != 5.45",
     "output_type": "error",
     "traceback": [
      "\u001b[0;31m---------------------------------------------------------------------------\u001b[0m",
      "\u001b[0;31mAssertionError\u001b[0m                            Traceback (most recent call last)",
      "\u001b[0;32m<ipython-input-22-446a4f37b4a1>\u001b[0m in \u001b[0;36m<module>\u001b[0;34m()\u001b[0m\n\u001b[1;32m      1\u001b[0m \u001b[1;32mfrom\u001b[0m \u001b[0mnose\u001b[0m\u001b[1;33m.\u001b[0m\u001b[0mtools\u001b[0m \u001b[1;32mimport\u001b[0m \u001b[0massert_almost_equal\u001b[0m\u001b[1;33m,\u001b[0m \u001b[0massert_equal\u001b[0m\u001b[1;33m\u001b[0m\u001b[0m\n\u001b[1;32m      2\u001b[0m \u001b[1;33m\u001b[0m\u001b[0m\n\u001b[0;32m----> 3\u001b[0;31m \u001b[0massert_equal\u001b[0m\u001b[1;33m(\u001b[0m\u001b[0msplit\u001b[0m\u001b[1;33m,\u001b[0m \u001b[1;36m5.45\u001b[0m\u001b[1;33m)\u001b[0m\u001b[1;33m\u001b[0m\u001b[0m\n\u001b[0m\u001b[1;32m      4\u001b[0m \u001b[0massert_almost_equal\u001b[0m\u001b[1;33m(\u001b[0m\u001b[0mmingain\u001b[0m\u001b[1;33m,\u001b[0m \u001b[1;36m0.38\u001b[0m\u001b[1;33m,\u001b[0m \u001b[0mplaces\u001b[0m\u001b[1;33m=\u001b[0m\u001b[1;36m1\u001b[0m\u001b[1;33m)\u001b[0m\u001b[1;33m\u001b[0m\u001b[0m\n",
      "\u001b[0;32mC:\\Users\\Shahwaiz\\Anaconda2\\lib\\unittest\\case.pyc\u001b[0m in \u001b[0;36massertEqual\u001b[0;34m(self, first, second, msg)\u001b[0m\n\u001b[1;32m    511\u001b[0m         \"\"\"\n\u001b[1;32m    512\u001b[0m         \u001b[0massertion_func\u001b[0m \u001b[1;33m=\u001b[0m \u001b[0mself\u001b[0m\u001b[1;33m.\u001b[0m\u001b[0m_getAssertEqualityFunc\u001b[0m\u001b[1;33m(\u001b[0m\u001b[0mfirst\u001b[0m\u001b[1;33m,\u001b[0m \u001b[0msecond\u001b[0m\u001b[1;33m)\u001b[0m\u001b[1;33m\u001b[0m\u001b[0m\n\u001b[0;32m--> 513\u001b[0;31m         \u001b[0massertion_func\u001b[0m\u001b[1;33m(\u001b[0m\u001b[0mfirst\u001b[0m\u001b[1;33m,\u001b[0m \u001b[0msecond\u001b[0m\u001b[1;33m,\u001b[0m \u001b[0mmsg\u001b[0m\u001b[1;33m=\u001b[0m\u001b[0mmsg\u001b[0m\u001b[1;33m)\u001b[0m\u001b[1;33m\u001b[0m\u001b[0m\n\u001b[0m\u001b[1;32m    514\u001b[0m \u001b[1;33m\u001b[0m\u001b[0m\n\u001b[1;32m    515\u001b[0m     \u001b[1;32mdef\u001b[0m \u001b[0massertNotEqual\u001b[0m\u001b[1;33m(\u001b[0m\u001b[0mself\u001b[0m\u001b[1;33m,\u001b[0m \u001b[0mfirst\u001b[0m\u001b[1;33m,\u001b[0m \u001b[0msecond\u001b[0m\u001b[1;33m,\u001b[0m \u001b[0mmsg\u001b[0m\u001b[1;33m=\u001b[0m\u001b[0mNone\u001b[0m\u001b[1;33m)\u001b[0m\u001b[1;33m:\u001b[0m\u001b[1;33m\u001b[0m\u001b[0m\n",
      "\u001b[0;32mC:\\Users\\Shahwaiz\\Anaconda2\\lib\\unittest\\case.pyc\u001b[0m in \u001b[0;36m_baseAssertEqual\u001b[0;34m(self, first, second, msg)\u001b[0m\n\u001b[1;32m    504\u001b[0m             \u001b[0mstandardMsg\u001b[0m \u001b[1;33m=\u001b[0m \u001b[1;34m'%s != %s'\u001b[0m \u001b[1;33m%\u001b[0m \u001b[1;33m(\u001b[0m\u001b[0msafe_repr\u001b[0m\u001b[1;33m(\u001b[0m\u001b[0mfirst\u001b[0m\u001b[1;33m)\u001b[0m\u001b[1;33m,\u001b[0m \u001b[0msafe_repr\u001b[0m\u001b[1;33m(\u001b[0m\u001b[0msecond\u001b[0m\u001b[1;33m)\u001b[0m\u001b[1;33m)\u001b[0m\u001b[1;33m\u001b[0m\u001b[0m\n\u001b[1;32m    505\u001b[0m             \u001b[0mmsg\u001b[0m \u001b[1;33m=\u001b[0m \u001b[0mself\u001b[0m\u001b[1;33m.\u001b[0m\u001b[0m_formatMessage\u001b[0m\u001b[1;33m(\u001b[0m\u001b[0mmsg\u001b[0m\u001b[1;33m,\u001b[0m \u001b[0mstandardMsg\u001b[0m\u001b[1;33m)\u001b[0m\u001b[1;33m\u001b[0m\u001b[0m\n\u001b[0;32m--> 506\u001b[0;31m             \u001b[1;32mraise\u001b[0m \u001b[0mself\u001b[0m\u001b[1;33m.\u001b[0m\u001b[0mfailureException\u001b[0m\u001b[1;33m(\u001b[0m\u001b[0mmsg\u001b[0m\u001b[1;33m)\u001b[0m\u001b[1;33m\u001b[0m\u001b[0m\n\u001b[0m\u001b[1;32m    507\u001b[0m \u001b[1;33m\u001b[0m\u001b[0m\n\u001b[1;32m    508\u001b[0m     \u001b[1;32mdef\u001b[0m \u001b[0massertEqual\u001b[0m\u001b[1;33m(\u001b[0m\u001b[0mself\u001b[0m\u001b[1;33m,\u001b[0m \u001b[0mfirst\u001b[0m\u001b[1;33m,\u001b[0m \u001b[0msecond\u001b[0m\u001b[1;33m,\u001b[0m \u001b[0mmsg\u001b[0m\u001b[1;33m=\u001b[0m\u001b[0mNone\u001b[0m\u001b[1;33m)\u001b[0m\u001b[1;33m:\u001b[0m\u001b[1;33m\u001b[0m\u001b[0m\n",
      "\u001b[0;31mAssertionError\u001b[0m: 5.3499999999999996 != 5.45"
     ]
    }
   ],
   "source": [
    "from nose.tools import assert_almost_equal, assert_equal\n",
    "\n",
    "assert_equal(split, 5.45)\n",
    "assert_almost_equal(mingain, 0.38, places=1)"
   ]
  },
  {
   "cell_type": "code",
   "execution_count": null,
   "metadata": {
    "collapsed": false
   },
   "outputs": [],
   "source": []
  },
  {
   "cell_type": "code",
   "execution_count": 23,
   "metadata": {
    "collapsed": false
   },
   "outputs": [
    {
     "name": "stdout",
     "output_type": "stream",
     "text": [
      "['Iris-setosa' 'Iris-versicolor']\n"
     ]
    }
   ],
   "source": [
    "print np.unique(Y)"
   ]
  },
  {
   "cell_type": "code",
   "execution_count": 59,
   "metadata": {
    "collapsed": false,
    "deletable": true,
    "editable": true,
    "scrolled": false
   },
   "outputs": [
    {
     "name": "stdout",
     "output_type": "stream",
     "text": [
      "149\n",
      "None\n",
      "<__main__.Node instance at 0x000000000BA219C8>\n"
     ]
    },
    {
     "name": "stderr",
     "output_type": "stream",
     "text": [
      "C:\\Users\\Shahwaiz\\Anaconda2\\lib\\site-packages\\ipykernel\\__main__.py:332: VisibleDeprecationWarning: boolean index did not match indexed array along dimension 0; dimension is 149 but corresponding boolean dimension is 49\n",
      "C:\\Users\\Shahwaiz\\Anaconda2\\lib\\site-packages\\ipykernel\\__main__.py:332: VisibleDeprecationWarning: boolean index did not match indexed array along dimension 0; dimension is 149 but corresponding boolean dimension is 100\n",
      "C:\\Users\\Shahwaiz\\Anaconda2\\lib\\site-packages\\ipykernel\\__main__.py:332: VisibleDeprecationWarning: boolean index did not match indexed array along dimension 0; dimension is 58 but corresponding boolean dimension is 23\n",
      "C:\\Users\\Shahwaiz\\Anaconda2\\lib\\site-packages\\ipykernel\\__main__.py:332: VisibleDeprecationWarning: boolean index did not match indexed array along dimension 0; dimension is 58 but corresponding boolean dimension is 35\n",
      "C:\\Users\\Shahwaiz\\Anaconda2\\lib\\site-packages\\ipykernel\\__main__.py:332: VisibleDeprecationWarning: boolean index did not match indexed array along dimension 0; dimension is 24 but corresponding boolean dimension is 12\n",
      "C:\\Users\\Shahwaiz\\Anaconda2\\lib\\site-packages\\ipykernel\\__main__.py:332: VisibleDeprecationWarning: boolean index did not match indexed array along dimension 0; dimension is 8 but corresponding boolean dimension is 4\n",
      "C:\\Users\\Shahwaiz\\Anaconda2\\lib\\site-packages\\ipykernel\\__main__.py:332: VisibleDeprecationWarning: boolean index did not match indexed array along dimension 0; dimension is 16 but corresponding boolean dimension is 8\n",
      "C:\\Users\\Shahwaiz\\Anaconda2\\lib\\site-packages\\ipykernel\\__main__.py:332: VisibleDeprecationWarning: boolean index did not match indexed array along dimension 0; dimension is 7 but corresponding boolean dimension is 1\n",
      "C:\\Users\\Shahwaiz\\Anaconda2\\lib\\site-packages\\ipykernel\\__main__.py:332: VisibleDeprecationWarning: boolean index did not match indexed array along dimension 0; dimension is 7 but corresponding boolean dimension is 6\n",
      "C:\\Users\\Shahwaiz\\Anaconda2\\lib\\site-packages\\ipykernel\\__main__.py:332: VisibleDeprecationWarning: boolean index did not match indexed array along dimension 0; dimension is 6 but corresponding boolean dimension is 1\n",
      "C:\\Users\\Shahwaiz\\Anaconda2\\lib\\site-packages\\ipykernel\\__main__.py:332: VisibleDeprecationWarning: boolean index did not match indexed array along dimension 0; dimension is 6 but corresponding boolean dimension is 5\n"
     ]
    }
   ],
   "source": [
    "Y[Y=='Iris-virginica']='Iris-versicolor'\n",
    "print len(Y)\n",
    "feat=[0,1]\n",
    "dt=DecisionTree(0.95,5)\n",
    "print dt.root\n",
    "#print X[:,feat].T[0]\n",
    "dt.train(X[:,feat],Y)\n",
    "#dt.root=None \n",
    "print dt.root\n",
    "# g,s,xl,xr=dt.evaluate_numerical_attribute(X[:,2],Y)\n",
    "#print g, s, xl, xr\n",
    "#print Y"
   ]
  },
  {
   "cell_type": "code",
   "execution_count": 60,
   "metadata": {
    "collapsed": false,
    "deletable": true,
    "editable": true,
    "scrolled": false
   },
   "outputs": [
    {
     "name": "stdout",
     "output_type": "stream",
     "text": [
      "HERE\n",
      "\n",
      "    C(class=Iris-versicolor,Purity=0.714285714286)\n",
      "I(Fidx=-1,Score=0.520989952246,Split=[0, 5.5499999999999998])\n",
      "        C(class=Iris-versicolor,Purity=0.676470588235)\n",
      "    I(Fidx=-1,Score=0.351474479032,Split=[0, 5.4500000000000002])\n",
      "                C(class=Iris-setosa,Purity=0.777777777778)\n",
      "            I(Fidx=-1,Score=0.288189249873,Split=[0, 5.3499999999999996])\n",
      "                        C(class=Iris-versicolor,Purity=0.8)\n",
      "                    I(Fidx=-1,Score=-0.0186134468351,Split=[0, 5.3000000000000007])\n",
      "                        C(class=Iris-versicolor,Purity=1.0)\n",
      "                I(Fidx=-1,Score=-0.0154868175378,Split=[0, 5.3000000000000007])\n",
      "                    C(class=Iris-versicolor,Purity=1.0)\n",
      "        I(Fidx=-1,Score=-0.0124778331352,Split=[0, 5.25])\n",
      "                C(class=Iris-versicolor,Purity=0.75)\n",
      "            I(Fidx=-1,Score=-0.0130851127128,Split=[0, 5.8000000000000007])\n",
      "                C(class=Iris-setosa,Purity=0.75)\n"
     ]
    },
    {
     "data": {
      "text/plain": [
       "'\\nC(class=Iris-versicolor,Purity=1.0)\\nI(Fidx=0,Score=1.12259768057e-14,Split=2.45)\\n    C(class=Iris-setosa,Purity=1.0)\\n'"
      ]
     },
     "execution_count": 60,
     "metadata": {},
     "output_type": "execute_result"
    }
   ],
   "source": [
    "print dt\n",
    "\n",
    "\n",
    "#Node::klasslabel\n",
    "#self.purity=purityp\n",
    "#self.exthreshold=exthreshold\n",
    "#self.maxdepth=maxdepth\n",
    "        \n",
    "\"\"\"\n",
    "C(class=Iris-versicolor,Purity=1.0)\n",
    "I(Fidx=0,Score=1.12259768057e-14,Split=2.45)\n",
    "    C(class=Iris-setosa,Purity=1.0)\n",
    "\"\"\"\n"
   ]
  },
  {
   "cell_type": "code",
   "execution_count": 61,
   "metadata": {
    "collapsed": false,
    "deletable": true,
    "editable": true,
    "scrolled": true
   },
   "outputs": [
    {
     "name": "stdout",
     "output_type": "stream",
     "text": [
      "7\n",
      "['Iris-setosa' 'Iris-versicolor']\n"
     ]
    }
   ],
   "source": [
    "print dt.find_depth()\n",
    "print np.unique(Y)"
   ]
  },
  {
   "cell_type": "code",
   "execution_count": 62,
   "metadata": {
    "collapsed": false,
    "deletable": true,
    "editable": true,
    "scrolled": true
   },
   "outputs": [
    {
     "name": "stdout",
     "output_type": "stream",
     "text": [
      " Plotting the Decision Surface of Training Set... \n"
     ]
    },
    {
     "data": {
      "image/png": "[encoded data removed]",
      "text/plain": [
       "<matplotlib.figure.Figure at 0xb9e7b38>"
      ]
     },
     "metadata": {},
     "output_type": "display_data"
    }
   ],
   "source": [
    "# %pdb\n",
    "print \" Plotting the Decision Surface of Training Set... \"\n",
    "t.plot_decision_regions(X[:,feat],Y,clf=dt, res=0.1, cycle_marker=True, legend=1)"
   ]
  },
  {
   "cell_type": "code",
   "execution_count": 52,
   "metadata": {
    "collapsed": false,
    "deletable": true,
    "editable": true,
    "scrolled": true,
    "slideshow": {
     "slide_type": "-"
    }
   },
   "outputs": [
    {
     "name": "stdout",
     "output_type": "stream",
     "text": [
      " Training Data Set Dimensions= (104L, 4L) Training True Class labels dimensions (104L,)\n",
      " Test Data Set Dimensions= (45L, 4L) Test True Class labels dimensions (104L,)\n"
     ]
    }
   ],
   "source": [
    "# Split your data into training and test-set... \n",
    "# see the documentation of split_data in tools for further information...\n",
    "Xtrain,Ytrain,Xtest,Ytest=t.split_data(X,Y)\n",
    "\n",
    "print \" Training Data Set Dimensions=\", Xtrain.shape, \"Training True Class labels dimensions\", Ytrain.shape   \n",
    "print \" Test Data Set Dimensions=\", Xtest.shape, \"Test True Class labels dimensions\", Ytrain.shape   \n",
    "##\n",
    "#Training Data Set Dimensions= (104, 4) Training True Class labels dimensions (104,)\n",
    "#Test Data Set Dimensions= (45, 4) Test True Class labels dimensions (104,)\n"
   ]
  },
  {
   "cell_type": "code",
   "execution_count": 29,
   "metadata": {
    "collapsed": false
   },
   "outputs": [
    {
     "name": "stdout",
     "output_type": "stream",
     "text": [
      "['Iris-setosa' 'Iris-setosa' 'Iris-setosa' 'Iris-setosa' 'Iris-setosa'\n",
      " 'Iris-setosa' 'Iris-setosa' 'Iris-setosa' 'Iris-setosa' 'Iris-setosa'\n",
      " 'Iris-setosa' 'Iris-setosa' 'Iris-setosa' 'Iris-setosa' 'Iris-setosa'\n",
      " 'Iris-setosa' 'Iris-setosa' 'Iris-setosa' 'Iris-setosa' 'Iris-setosa'\n",
      " 'Iris-setosa' 'Iris-setosa' 'Iris-setosa' 'Iris-setosa' 'Iris-setosa'\n",
      " 'Iris-setosa' 'Iris-setosa' 'Iris-setosa' 'Iris-setosa' 'Iris-setosa'\n",
      " 'Iris-setosa' 'Iris-setosa' 'Iris-setosa' 'Iris-setosa' 'Iris-versicolor'\n",
      " 'Iris-versicolor' 'Iris-versicolor' 'Iris-versicolor' 'Iris-versicolor'\n",
      " 'Iris-versicolor' 'Iris-versicolor' 'Iris-versicolor' 'Iris-versicolor'\n",
      " 'Iris-versicolor' 'Iris-versicolor' 'Iris-versicolor' 'Iris-versicolor'\n",
      " 'Iris-versicolor' 'Iris-versicolor' 'Iris-versicolor' 'Iris-versicolor'\n",
      " 'Iris-versicolor' 'Iris-versicolor' 'Iris-versicolor' 'Iris-versicolor'\n",
      " 'Iris-versicolor' 'Iris-versicolor' 'Iris-versicolor' 'Iris-versicolor'\n",
      " 'Iris-versicolor' 'Iris-versicolor' 'Iris-versicolor' 'Iris-versicolor'\n",
      " 'Iris-versicolor' 'Iris-versicolor' 'Iris-versicolor' 'Iris-versicolor'\n",
      " 'Iris-versicolor' 'Iris-versicolor' 'Iris-versicolor' 'Iris-versicolor'\n",
      " 'Iris-versicolor' 'Iris-versicolor' 'Iris-versicolor' 'Iris-versicolor'\n",
      " 'Iris-versicolor' 'Iris-versicolor' 'Iris-versicolor' 'Iris-versicolor'\n",
      " 'Iris-versicolor' 'Iris-versicolor' 'Iris-versicolor' 'Iris-versicolor'\n",
      " 'Iris-versicolor' 'Iris-versicolor' 'Iris-versicolor' 'Iris-versicolor'\n",
      " 'Iris-versicolor' 'Iris-versicolor' 'Iris-versicolor' 'Iris-versicolor'\n",
      " 'Iris-versicolor' 'Iris-versicolor' 'Iris-versicolor' 'Iris-versicolor'\n",
      " 'Iris-versicolor' 'Iris-versicolor' 'Iris-versicolor' 'Iris-versicolor'\n",
      " 'Iris-versicolor' 'Iris-versicolor' 'Iris-versicolor' 'Iris-versicolor'\n",
      " 'Iris-versicolor']\n"
     ]
    }
   ],
   "source": [
    "print Ytrain"
   ]
  },
  {
   "cell_type": "code",
   "execution_count": 64,
   "metadata": {
    "collapsed": false,
    "deletable": true,
    "editable": true,
    "scrolled": false,
    "slideshow": {
     "slide_type": "slide"
    }
   },
   "outputs": [
    {
     "name": "stderr",
     "output_type": "stream",
     "text": [
      "C:\\Users\\Shahwaiz\\Anaconda2\\lib\\site-packages\\ipykernel\\__main__.py:332: VisibleDeprecationWarning: boolean index did not match indexed array along dimension 0; dimension is 104 but corresponding boolean dimension is 34\n",
      "C:\\Users\\Shahwaiz\\Anaconda2\\lib\\site-packages\\ipykernel\\__main__.py:332: VisibleDeprecationWarning: boolean index did not match indexed array along dimension 0; dimension is 104 but corresponding boolean dimension is 70\n",
      "C:\\Users\\Shahwaiz\\Anaconda2\\lib\\site-packages\\ipykernel\\__main__.py:332: VisibleDeprecationWarning: boolean index did not match indexed array along dimension 0; dimension is 31 but corresponding boolean dimension is 8\n",
      "C:\\Users\\Shahwaiz\\Anaconda2\\lib\\site-packages\\ipykernel\\__main__.py:332: VisibleDeprecationWarning: boolean index did not match indexed array along dimension 0; dimension is 31 but corresponding boolean dimension is 23\n",
      "C:\\Users\\Shahwaiz\\Anaconda2\\lib\\site-packages\\ipykernel\\__main__.py:332: VisibleDeprecationWarning: boolean index did not match indexed array along dimension 0; dimension is 10 but corresponding boolean dimension is 4\n",
      "C:\\Users\\Shahwaiz\\Anaconda2\\lib\\site-packages\\ipykernel\\__main__.py:332: VisibleDeprecationWarning: boolean index did not match indexed array along dimension 0; dimension is 10 but corresponding boolean dimension is 6\n",
      "C:\\Users\\Shahwaiz\\Anaconda2\\lib\\site-packages\\ipykernel\\__main__.py:332: VisibleDeprecationWarning: boolean index did not match indexed array along dimension 0; dimension is 6 but corresponding boolean dimension is 3\n",
      "C:\\Users\\Shahwaiz\\Anaconda2\\lib\\site-packages\\ipykernel\\__main__.py:332: VisibleDeprecationWarning: boolean index did not match indexed array along dimension 0; dimension is 21 but corresponding boolean dimension is 4\n",
      "C:\\Users\\Shahwaiz\\Anaconda2\\lib\\site-packages\\ipykernel\\__main__.py:332: VisibleDeprecationWarning: boolean index did not match indexed array along dimension 0; dimension is 21 but corresponding boolean dimension is 17\n",
      "C:\\Users\\Shahwaiz\\Anaconda2\\lib\\site-packages\\ipykernel\\__main__.py:332: VisibleDeprecationWarning: boolean index did not match indexed array along dimension 0; dimension is 20 but corresponding boolean dimension is 4\n",
      "C:\\Users\\Shahwaiz\\Anaconda2\\lib\\site-packages\\ipykernel\\__main__.py:332: VisibleDeprecationWarning: boolean index did not match indexed array along dimension 0; dimension is 20 but corresponding boolean dimension is 16\n",
      "C:\\Users\\Shahwaiz\\Anaconda2\\lib\\site-packages\\ipykernel\\__main__.py:332: VisibleDeprecationWarning: boolean index did not match indexed array along dimension 0; dimension is 17 but corresponding boolean dimension is 4\n",
      "C:\\Users\\Shahwaiz\\Anaconda2\\lib\\site-packages\\ipykernel\\__main__.py:332: VisibleDeprecationWarning: boolean index did not match indexed array along dimension 0; dimension is 17 but corresponding boolean dimension is 13\n",
      "C:\\Users\\Shahwaiz\\Anaconda2\\lib\\site-packages\\ipykernel\\__main__.py:332: VisibleDeprecationWarning: boolean index did not match indexed array along dimension 0; dimension is 13 but corresponding boolean dimension is 3\n",
      "C:\\Users\\Shahwaiz\\Anaconda2\\lib\\site-packages\\ipykernel\\__main__.py:332: VisibleDeprecationWarning: boolean index did not match indexed array along dimension 0; dimension is 13 but corresponding boolean dimension is 10\n"
     ]
    }
   ],
   "source": [
    "# Lets train a Decision Tree Classifier on Petal Length and Width\n",
    "feat=[2,3]\n",
    "dt=DecisionTree(0.95,5)\n",
    "dt.train(Xtrain[:,feat],Ytrain)"
   ]
  },
  {
   "cell_type": "code",
   "execution_count": 65,
   "metadata": {
    "collapsed": false,
    "deletable": true,
    "editable": true,
    "scrolled": true,
    "slideshow": {
     "slide_type": "slide"
    }
   },
   "outputs": [],
   "source": [
    "#Lets test it on the set of unseen examples...\n",
    "#print Xtest[:,feat]\n",
    "pclasses=dt.predict(Xtest[:,feat])"
   ]
  },
  {
   "cell_type": "code",
   "execution_count": 66,
   "metadata": {
    "collapsed": false,
    "deletable": true,
    "editable": true,
    "scrolled": false
   },
   "outputs": [
    {
     "name": "stdout",
     "output_type": "stream",
     "text": [
      "['Iris-versicolor', 'Iris-versicolor', 'Iris-versicolor', 'Iris-versicolor', 'Iris-versicolor', 'Iris-versicolor', 'Iris-versicolor', 'Iris-versicolor', 'Iris-versicolor', 'Iris-versicolor', 'Iris-versicolor', 'Iris-versicolor', 'Iris-versicolor', 'Iris-versicolor', 'Iris-versicolor', 'Iris-versicolor', 'Iris-versicolor', 'Iris-versicolor', 'Iris-versicolor', 'Iris-versicolor', 'Iris-versicolor', 'Iris-versicolor', 'Iris-versicolor', 'Iris-versicolor', 'Iris-versicolor', 'Iris-versicolor', 'Iris-versicolor', 'Iris-versicolor', 'Iris-versicolor', 'Iris-versicolor', 'Iris-versicolor', 'Iris-versicolor', 'Iris-versicolor', 'Iris-versicolor', 'Iris-versicolor', 'Iris-versicolor', 'Iris-versicolor', 'Iris-versicolor', 'Iris-versicolor', 'Iris-versicolor', 'Iris-versicolor', 'Iris-versicolor', 'Iris-versicolor', 'Iris-versicolor', 'Iris-versicolor']\n"
     ]
    },
    {
     "data": {
      "text/plain": [
       "\"\\n['Iris-versicolor', 'Iris-setosa', 'Iris-setosa', 'Iris-setosa', 'Iris-setosa', 'Iris-setosa', 'Iris-setosa', \\n 'Iris-setosa', 'Iris-setosa', 'Iris-setosa', 'Iris-setosa', 'Iris-setosa', 'Iris-setosa', 'Iris-setosa', \\n 'Iris-setosa', 'Iris-versicolor', 'Iris-versicolor', 'Iris-versicolor', 'Iris-versicolor', 'Iris-versicolor', \\n 'Iris-versicolor', 'Iris-versicolor', 'Iris-versicolor', 'Iris-versicolor', 'Iris-versicolor', 'Iris-versicolor',\\n 'Iris-versicolor', 'Iris-versicolor', 'Iris-versicolor', 'Iris-versicolor', 'Iris-versicolor', 'Iris-versicolor',\\n 'Iris-versicolor', 'Iris-versicolor', 'Iris-versicolor', 'Iris-versicolor', 'Iris-versicolor', 'Iris-versicolor',\\n 'Iris-versicolor', 'Iris-versicolor', 'Iris-versicolor', 'Iris-versicolor', 'Iris-versicolor', 'Iris-setosa', \\n 'Iris-versicolor']\\n\""
      ]
     },
     "execution_count": 66,
     "metadata": {},
     "output_type": "execute_result"
    }
   ],
   "source": [
    "print pclasses\n",
    "\n",
    "\"\"\"\n",
    "['Iris-versicolor', 'Iris-setosa', 'Iris-setosa', 'Iris-setosa', 'Iris-setosa', 'Iris-setosa', 'Iris-setosa', \n",
    " 'Iris-setosa', 'Iris-setosa', 'Iris-setosa', 'Iris-setosa', 'Iris-setosa', 'Iris-setosa', 'Iris-setosa', \n",
    " 'Iris-setosa', 'Iris-versicolor', 'Iris-versicolor', 'Iris-versicolor', 'Iris-versicolor', 'Iris-versicolor', \n",
    " 'Iris-versicolor', 'Iris-versicolor', 'Iris-versicolor', 'Iris-versicolor', 'Iris-versicolor', 'Iris-versicolor',\n",
    " 'Iris-versicolor', 'Iris-versicolor', 'Iris-versicolor', 'Iris-versicolor', 'Iris-versicolor', 'Iris-versicolor',\n",
    " 'Iris-versicolor', 'Iris-versicolor', 'Iris-versicolor', 'Iris-versicolor', 'Iris-versicolor', 'Iris-versicolor',\n",
    " 'Iris-versicolor', 'Iris-versicolor', 'Iris-versicolor', 'Iris-versicolor', 'Iris-versicolor', 'Iris-setosa', \n",
    " 'Iris-versicolor']\n",
    "\"\"\""
   ]
  },
  {
   "cell_type": "markdown",
   "metadata": {
    "deletable": true,
    "editable": true,
    "slideshow": {
     "slide_type": "slide"
    }
   },
   "source": [
    "Lets see how good we are doing...\n",
    "=================="
   ]
  },
  {
   "cell_type": "code",
   "execution_count": 67,
   "metadata": {
    "collapsed": false
   },
   "outputs": [
    {
     "name": "stdout",
     "output_type": "stream",
     "text": [
      "['Iris-setosa' 'Iris-setosa' 'Iris-setosa' 'Iris-setosa' 'Iris-setosa'\n",
      " 'Iris-setosa' 'Iris-setosa' 'Iris-setosa' 'Iris-setosa' 'Iris-setosa'\n",
      " 'Iris-setosa' 'Iris-setosa' 'Iris-setosa' 'Iris-setosa' 'Iris-setosa'\n",
      " 'Iris-versicolor' 'Iris-versicolor' 'Iris-versicolor' 'Iris-versicolor'\n",
      " 'Iris-versicolor' 'Iris-versicolor' 'Iris-versicolor' 'Iris-versicolor'\n",
      " 'Iris-versicolor' 'Iris-versicolor' 'Iris-versicolor' 'Iris-versicolor'\n",
      " 'Iris-versicolor' 'Iris-versicolor' 'Iris-versicolor' 'Iris-versicolor'\n",
      " 'Iris-versicolor' 'Iris-versicolor' 'Iris-versicolor' 'Iris-versicolor'\n",
      " 'Iris-versicolor' 'Iris-versicolor' 'Iris-versicolor' 'Iris-versicolor'\n",
      " 'Iris-versicolor' 'Iris-versicolor' 'Iris-versicolor' 'Iris-versicolor'\n",
      " 'Iris-versicolor' 'Iris-versicolor']\n"
     ]
    }
   ],
   "source": [
    "print Ytest"
   ]
  },
  {
   "cell_type": "code",
   "execution_count": 68,
   "metadata": {
    "collapsed": false
   },
   "outputs": [
    {
     "name": "stdout",
     "output_type": "stream",
     "text": [
      "[False False False False False False False False False False False False\n",
      " False False False  True  True  True  True  True  True  True  True  True\n",
      "  True  True  True  True  True  True  True  True  True  True  True  True\n",
      "  True  True  True  True  True  True  True  True  True]\n"
     ]
    }
   ],
   "source": [
    "print pclasses==Ytest\n"
   ]
  },
  {
   "cell_type": "code",
   "execution_count": 69,
   "metadata": {
    "collapsed": false,
    "deletable": true,
    "editable": true,
    "scrolled": true,
    "slideshow": {
     "slide_type": "slide"
    }
   },
   "outputs": [
    {
     "name": "stdout",
     "output_type": "stream",
     "text": [
      "30\n",
      "Accuracy =  0.666666666667\n"
     ]
    }
   ],
   "source": [
    "#Lets see how good we are doing, by finding the accuracy on the test set..\n",
    "print np.sum(pclasses==Ytest)\n",
    "print \"Accuracy = \", np.sum(pclasses==Ytest)/float(Ytest.shape[0])"
   ]
  },
  {
   "cell_type": "code",
   "execution_count": 71,
   "metadata": {
    "collapsed": false,
    "deletable": true,
    "editable": true,
    "scrolled": true,
    "slideshow": {
     "slide_type": "slide"
    }
   },
   "outputs": [
    {
     "name": "stdout",
     "output_type": "stream",
     "text": [
      " Plotting the Decision Surface of Training Set... \n"
     ]
    },
    {
     "data": {
      "image/png": "[encoded data removed]",
      "text/plain": [
       "<matplotlib.figure.Figure at 0xba00208>"
      ]
     },
     "metadata": {},
     "output_type": "display_data"
    }
   ],
   "source": [
    "#Lets plot the decision surface\n",
    "print \" Plotting the Decision Surface of Training Set... \"\n",
    "t.plot_decision_regions(Xtrain[:,feat],Ytrain,clf=dt, res=0.02, cycle_marker=True, legend=1)"
   ]
  },
  {
   "cell_type": "code",
   "execution_count": 72,
   "metadata": {
    "collapsed": false,
    "deletable": true,
    "editable": true,
    "scrolled": true,
    "slideshow": {
     "slide_type": "slide"
    }
   },
   "outputs": [
    {
     "name": "stdout",
     "output_type": "stream",
     "text": [
      " Plotting the Decision Surface of Test Set... \n"
     ]
    },
    {
     "data": {
      "image/png": "[encoded data removed]",
      "text/plain": [
       "<matplotlib.figure.Figure at 0xb7a0748>"
      ]
     },
     "metadata": {},
     "output_type": "display_data"
    }
   ],
   "source": [
    "print \" Plotting the Decision Surface of Test Set... \"\n",
    "t.plot_decision_regions(Xtest[:,feat],Ytest,clf=dt, res=0.02, cycle_marker=True, legend=1)"
   ]
  },
  {
   "cell_type": "code",
   "execution_count": 73,
   "metadata": {
    "collapsed": false,
    "deletable": false,
    "editable": true,
    "nbgrader": {
     "checksum": "a67690827399cc59eead882a1cc823fc",
     "grade": true,
     "grade_id": "two_features",
     "locked": true,
     "points": 5,
     "solution": false
    }
   },
   "outputs": [
    {
     "name": "stdout",
     "output_type": "stream",
     "text": [
      "0.666666666667\n"
     ]
    },
    {
     "name": "stderr",
     "output_type": "stream",
     "text": [
      "C:\\Users\\Shahwaiz\\Anaconda2\\lib\\site-packages\\ipykernel\\__main__.py:332: VisibleDeprecationWarning: boolean index did not match indexed array along dimension 0; dimension is 104 but corresponding boolean dimension is 34\n",
      "C:\\Users\\Shahwaiz\\Anaconda2\\lib\\site-packages\\ipykernel\\__main__.py:332: VisibleDeprecationWarning: boolean index did not match indexed array along dimension 0; dimension is 104 but corresponding boolean dimension is 70\n",
      "C:\\Users\\Shahwaiz\\Anaconda2\\lib\\site-packages\\ipykernel\\__main__.py:332: VisibleDeprecationWarning: boolean index did not match indexed array along dimension 0; dimension is 41 but corresponding boolean dimension is 15\n",
      "C:\\Users\\Shahwaiz\\Anaconda2\\lib\\site-packages\\ipykernel\\__main__.py:332: VisibleDeprecationWarning: boolean index did not match indexed array along dimension 0; dimension is 41 but corresponding boolean dimension is 26\n",
      "C:\\Users\\Shahwaiz\\Anaconda2\\lib\\site-packages\\ipykernel\\__main__.py:332: VisibleDeprecationWarning: boolean index did not match indexed array along dimension 0; dimension is 30 but corresponding boolean dimension is 12\n",
      "C:\\Users\\Shahwaiz\\Anaconda2\\lib\\site-packages\\ipykernel\\__main__.py:332: VisibleDeprecationWarning: boolean index did not match indexed array along dimension 0; dimension is 30 but corresponding boolean dimension is 18\n",
      "C:\\Users\\Shahwaiz\\Anaconda2\\lib\\site-packages\\ipykernel\\__main__.py:332: VisibleDeprecationWarning: boolean index did not match indexed array along dimension 0; dimension is 20 but corresponding boolean dimension is 9\n",
      "C:\\Users\\Shahwaiz\\Anaconda2\\lib\\site-packages\\ipykernel\\__main__.py:332: VisibleDeprecationWarning: boolean index did not match indexed array along dimension 0; dimension is 20 but corresponding boolean dimension is 11\n",
      "C:\\Users\\Shahwaiz\\Anaconda2\\lib\\site-packages\\ipykernel\\__main__.py:332: VisibleDeprecationWarning: boolean index did not match indexed array along dimension 0; dimension is 13 but corresponding boolean dimension is 7\n",
      "C:\\Users\\Shahwaiz\\Anaconda2\\lib\\site-packages\\ipykernel\\__main__.py:332: VisibleDeprecationWarning: boolean index did not match indexed array along dimension 0; dimension is 13 but corresponding boolean dimension is 6\n",
      "C:\\Users\\Shahwaiz\\Anaconda2\\lib\\site-packages\\ipykernel\\__main__.py:332: VisibleDeprecationWarning: boolean index did not match indexed array along dimension 0; dimension is 6 but corresponding boolean dimension is 4\n",
      "C:\\Users\\Shahwaiz\\Anaconda2\\lib\\site-packages\\ipykernel\\__main__.py:332: VisibleDeprecationWarning: boolean index did not match indexed array along dimension 0; dimension is 6 but corresponding boolean dimension is 2\n"
     ]
    }
   ],
   "source": [
    "from nose.tools import assert_greater_equal\n",
    "feat=[0,1]\n",
    "dt=DecisionTree(0.70,5)\n",
    "dt.train(Xtrain[:,feat],Ytrain)\n",
    "pclasses=dt.predict(Xtest[:,feat])\n",
    "acc = np.sum(pclasses==Ytest)/float(Ytest.shape[0])\n",
    "print acc\n",
    "#assert_greater_equal(acc, 0.90)"
   ]
  },
  {
   "cell_type": "markdown",
   "metadata": {
    "deletable": true,
    "editable": true
   },
   "source": [
    "# Lets Train on all four features...."
   ]
  },
  {
   "cell_type": "code",
   "execution_count": 39,
   "metadata": {
    "collapsed": false,
    "deletable": true,
    "editable": true,
    "scrolled": true
   },
   "outputs": [
    {
     "name": "stdout",
     "output_type": "stream",
     "text": [
      "30\n",
      "Accuracy =  0.666666666667\n"
     ]
    },
    {
     "name": "stderr",
     "output_type": "stream",
     "text": [
      "C:\\Users\\Shahwaiz\\Anaconda2\\lib\\site-packages\\ipykernel\\__main__.py:332: VisibleDeprecationWarning: boolean index did not match indexed array along dimension 0; dimension is 104 but corresponding boolean dimension is 34\n",
      "C:\\Users\\Shahwaiz\\Anaconda2\\lib\\site-packages\\ipykernel\\__main__.py:332: VisibleDeprecationWarning: boolean index did not match indexed array along dimension 0; dimension is 104 but corresponding boolean dimension is 70\n",
      "C:\\Users\\Shahwaiz\\Anaconda2\\lib\\site-packages\\ipykernel\\__main__.py:332: VisibleDeprecationWarning: boolean index did not match indexed array along dimension 0; dimension is 58 but corresponding boolean dimension is 14\n",
      "C:\\Users\\Shahwaiz\\Anaconda2\\lib\\site-packages\\ipykernel\\__main__.py:332: VisibleDeprecationWarning: boolean index did not match indexed array along dimension 0; dimension is 58 but corresponding boolean dimension is 44\n",
      "C:\\Users\\Shahwaiz\\Anaconda2\\lib\\site-packages\\ipykernel\\__main__.py:332: VisibleDeprecationWarning: boolean index did not match indexed array along dimension 0; dimension is 8 but corresponding boolean dimension is 2\n",
      "C:\\Users\\Shahwaiz\\Anaconda2\\lib\\site-packages\\ipykernel\\__main__.py:332: VisibleDeprecationWarning: boolean index did not match indexed array along dimension 0; dimension is 8 but corresponding boolean dimension is 6\n",
      "C:\\Users\\Shahwaiz\\Anaconda2\\lib\\site-packages\\ipykernel\\__main__.py:332: VisibleDeprecationWarning: boolean index did not match indexed array along dimension 0; dimension is 6 but corresponding boolean dimension is 1\n",
      "C:\\Users\\Shahwaiz\\Anaconda2\\lib\\site-packages\\ipykernel\\__main__.py:332: VisibleDeprecationWarning: boolean index did not match indexed array along dimension 0; dimension is 6 but corresponding boolean dimension is 5\n",
      "C:\\Users\\Shahwaiz\\Anaconda2\\lib\\site-packages\\ipykernel\\__main__.py:332: VisibleDeprecationWarning: boolean index did not match indexed array along dimension 0; dimension is 50 but corresponding boolean dimension is 12\n",
      "C:\\Users\\Shahwaiz\\Anaconda2\\lib\\site-packages\\ipykernel\\__main__.py:332: VisibleDeprecationWarning: boolean index did not match indexed array along dimension 0; dimension is 50 but corresponding boolean dimension is 38\n",
      "C:\\Users\\Shahwaiz\\Anaconda2\\lib\\site-packages\\ipykernel\\__main__.py:332: VisibleDeprecationWarning: boolean index did not match indexed array along dimension 0; dimension is 11 but corresponding boolean dimension is 1\n",
      "C:\\Users\\Shahwaiz\\Anaconda2\\lib\\site-packages\\ipykernel\\__main__.py:332: VisibleDeprecationWarning: boolean index did not match indexed array along dimension 0; dimension is 11 but corresponding boolean dimension is 10\n",
      "C:\\Users\\Shahwaiz\\Anaconda2\\lib\\site-packages\\ipykernel\\__main__.py:332: VisibleDeprecationWarning: boolean index did not match indexed array along dimension 0; dimension is 10 but corresponding boolean dimension is 1\n",
      "C:\\Users\\Shahwaiz\\Anaconda2\\lib\\site-packages\\ipykernel\\__main__.py:332: VisibleDeprecationWarning: boolean index did not match indexed array along dimension 0; dimension is 10 but corresponding boolean dimension is 9\n",
      "C:\\Users\\Shahwaiz\\Anaconda2\\lib\\site-packages\\ipykernel\\__main__.py:332: VisibleDeprecationWarning: boolean index did not match indexed array along dimension 0; dimension is 9 but corresponding boolean dimension is 1\n",
      "C:\\Users\\Shahwaiz\\Anaconda2\\lib\\site-packages\\ipykernel\\__main__.py:332: VisibleDeprecationWarning: boolean index did not match indexed array along dimension 0; dimension is 9 but corresponding boolean dimension is 8\n"
     ]
    }
   ],
   "source": [
    "#Lets Train on all four features....\n",
    "\n",
    "# Lets train a Decision Tree Classifier on Petal Length and Width\n",
    "feat=[0, 1, 2, 3]\n",
    "dt=DecisionTree(0.95,5)\n",
    "dt.train(Xtrain[:,feat],Ytrain)\n",
    "pclasses=dt.predict(Xtest[:,feat])\n",
    "#Lets see how good we are doing, by finding the accuracy on the test set..\n",
    "print np.sum(pclasses==Ytest)\n",
    "print \"Accuracy = \", np.sum(pclasses==Ytest)/float(Ytest.shape[0])\n",
    "#45\n",
    "#Accuracy =  1.0\n",
    "\n",
    "#"
   ]
  },
  {
   "cell_type": "markdown",
   "metadata": {
    "deletable": true,
    "editable": true
   },
   "source": [
    "# Lets Train on all four features and for all three classes...."
   ]
  },
  {
   "cell_type": "code",
   "execution_count": 40,
   "metadata": {
    "collapsed": false,
    "deletable": true,
    "editable": true,
    "scrolled": true
   },
   "outputs": [
    {
     "name": "stdout",
     "output_type": "stream",
     "text": [
      " Data Set Dimensions= (149L, 4L)  True Class labels dimensions (149L,)\n"
     ]
    }
   ],
   "source": [
    "X=np.asarray(data[['SepalLength','SepalWidth','PetalLength','PetalWidth']].dropna())\n",
    "Y=np.asarray(data['Class'].dropna())\n",
    "print \" Data Set Dimensions=\", X.shape, \" True Class labels dimensions\", Y.shape\n",
    "#Data Set Dimensions= (149, 4)  True Class labels dimensions (149,)"
   ]
  },
  {
   "cell_type": "code",
   "execution_count": 41,
   "metadata": {
    "collapsed": false,
    "deletable": true,
    "editable": true,
    "scrolled": true
   },
   "outputs": [
    {
     "name": "stdout",
     "output_type": "stream",
     "text": [
      " Training Data Set Dimensions= (104L, 4L) Training True Class labels dimensions (104L,)\n",
      " Test Data Set Dimensions= (45L, 4L) Test True Class labels dimensions (104L,)\n"
     ]
    }
   ],
   "source": [
    "# Split your data into training and test-set... \n",
    "# see the documentation of split_data in tools for further information...\n",
    "Xtrain,Ytrain,Xtest,Ytest=t.split_data(X,Y)\n",
    "\n",
    "print \" Training Data Set Dimensions=\", Xtrain.shape, \"Training True Class labels dimensions\", Ytrain.shape   \n",
    "print \" Test Data Set Dimensions=\", Xtest.shape, \"Test True Class labels dimensions\", Ytrain.shape   \n",
    "#Training Data Set Dimensions= (104, 4) Training True Class labels dimensions (104,)\n",
    "#Test Data Set Dimensions= (45, 4) Test True Class labels dimensions (104,)"
   ]
  },
  {
   "cell_type": "code",
   "execution_count": 42,
   "metadata": {
    "collapsed": false,
    "deletable": true,
    "editable": true,
    "scrolled": true
   },
   "outputs": [
    {
     "name": "stdout",
     "output_type": "stream",
     "text": [
      "26\n",
      "Accuracy =  0.577777777778\n"
     ]
    },
    {
     "name": "stderr",
     "output_type": "stream",
     "text": [
      "C:\\Users\\Shahwaiz\\Anaconda2\\lib\\site-packages\\ipykernel\\__main__.py:332: VisibleDeprecationWarning: boolean index did not match indexed array along dimension 0; dimension is 104 but corresponding boolean dimension is 34\n",
      "C:\\Users\\Shahwaiz\\Anaconda2\\lib\\site-packages\\ipykernel\\__main__.py:332: VisibleDeprecationWarning: boolean index did not match indexed array along dimension 0; dimension is 104 but corresponding boolean dimension is 35\n",
      "C:\\Users\\Shahwaiz\\Anaconda2\\lib\\site-packages\\ipykernel\\__main__.py:332: VisibleDeprecationWarning: boolean index did not match indexed array along dimension 0; dimension is 102 but corresponding boolean dimension is 34\n",
      "C:\\Users\\Shahwaiz\\Anaconda2\\lib\\site-packages\\ipykernel\\__main__.py:332: VisibleDeprecationWarning: boolean index did not match indexed array along dimension 0; dimension is 102 but corresponding boolean dimension is 33\n",
      "C:\\Users\\Shahwaiz\\Anaconda2\\lib\\site-packages\\ipykernel\\__main__.py:332: VisibleDeprecationWarning: boolean index did not match indexed array along dimension 0; dimension is 102 but corresponding boolean dimension is 35\n",
      "C:\\Users\\Shahwaiz\\Anaconda2\\lib\\site-packages\\ipykernel\\__main__.py:332: VisibleDeprecationWarning: boolean index did not match indexed array along dimension 0; dimension is 34 but corresponding boolean dimension is 14\n",
      "C:\\Users\\Shahwaiz\\Anaconda2\\lib\\site-packages\\ipykernel\\__main__.py:332: VisibleDeprecationWarning: boolean index did not match indexed array along dimension 0; dimension is 34 but corresponding boolean dimension is 12\n",
      "C:\\Users\\Shahwaiz\\Anaconda2\\lib\\site-packages\\ipykernel\\__main__.py:332: VisibleDeprecationWarning: boolean index did not match indexed array along dimension 0; dimension is 34 but corresponding boolean dimension is 8\n",
      "C:\\Users\\Shahwaiz\\Anaconda2\\lib\\site-packages\\ipykernel\\__main__.py:332: VisibleDeprecationWarning: boolean index did not match indexed array along dimension 0; dimension is 33 but corresponding boolean dimension is 14\n",
      "C:\\Users\\Shahwaiz\\Anaconda2\\lib\\site-packages\\ipykernel\\__main__.py:332: VisibleDeprecationWarning: boolean index did not match indexed array along dimension 0; dimension is 33 but corresponding boolean dimension is 11\n",
      "C:\\Users\\Shahwaiz\\Anaconda2\\lib\\site-packages\\ipykernel\\__main__.py:332: VisibleDeprecationWarning: boolean index did not match indexed array along dimension 0; dimension is 33 but corresponding boolean dimension is 8\n",
      "C:\\Users\\Shahwaiz\\Anaconda2\\lib\\site-packages\\ipykernel\\__main__.py:332: VisibleDeprecationWarning: boolean index did not match indexed array along dimension 0; dimension is 32 but corresponding boolean dimension is 14\n",
      "C:\\Users\\Shahwaiz\\Anaconda2\\lib\\site-packages\\ipykernel\\__main__.py:332: VisibleDeprecationWarning: boolean index did not match indexed array along dimension 0; dimension is 32 but corresponding boolean dimension is 10\n",
      "C:\\Users\\Shahwaiz\\Anaconda2\\lib\\site-packages\\ipykernel\\__main__.py:332: VisibleDeprecationWarning: boolean index did not match indexed array along dimension 0; dimension is 32 but corresponding boolean dimension is 8\n",
      "C:\\Users\\Shahwaiz\\Anaconda2\\lib\\site-packages\\ipykernel\\__main__.py:332: VisibleDeprecationWarning: boolean index did not match indexed array along dimension 0; dimension is 14 but corresponding boolean dimension is 4\n",
      "C:\\Users\\Shahwaiz\\Anaconda2\\lib\\site-packages\\ipykernel\\__main__.py:332: VisibleDeprecationWarning: boolean index did not match indexed array along dimension 0; dimension is 14 but corresponding boolean dimension is 7\n",
      "C:\\Users\\Shahwaiz\\Anaconda2\\lib\\site-packages\\ipykernel\\__main__.py:332: VisibleDeprecationWarning: boolean index did not match indexed array along dimension 0; dimension is 14 but corresponding boolean dimension is 3\n"
     ]
    }
   ],
   "source": [
    "\n",
    "feat=[0, 1, 2, 3]\n",
    "dt=DecisionTree(0.95,5)\n",
    "dt.root=None\n",
    "dt.train(Xtrain[:,feat],Ytrain)\n",
    "pclasses=dt.predict(Xtest[:,feat])\n",
    "#Lets see how good we are doing, by finding the accuracy on the test set..\n",
    "print np.sum(pclasses==Ytest)\n",
    "print \"Accuracy = \", np.sum(pclasses==Ytest)/float(Ytest.shape[0])\n",
    "\n",
    "#45\n",
    "#Accuracy =  1.0"
   ]
  },
  {
   "cell_type": "code",
   "execution_count": 185,
   "metadata": {
    "collapsed": false,
    "deletable": false,
    "editable": true,
    "nbgrader": {
     "checksum": "972ca9bb1ffa85dd250fb9b790bca865",
     "grade": true,
     "grade_id": "all_features",
     "locked": true,
     "points": 5,
     "solution": false
    }
   },
   "outputs": [
    {
     "name": "stdout",
     "output_type": "stream",
     "text": [
      "X.shape:: (104L, 4L)\n"
     ]
    },
    {
     "name": "stderr",
     "output_type": "stream",
     "text": [
      "C:\\Users\\Shahwaiz\\Anaconda2\\lib\\site-packages\\ipykernel\\__main__.py:270: VisibleDeprecationWarning: boolean index did not match indexed array along dimension 0; dimension is 104 but corresponding boolean dimension is 34\n",
      "C:\\Users\\Shahwaiz\\Anaconda2\\lib\\site-packages\\ipykernel\\__main__.py:270: VisibleDeprecationWarning: boolean index did not match indexed array along dimension 0; dimension is 104 but corresponding boolean dimension is 35\n",
      "C:\\Users\\Shahwaiz\\Anaconda2\\lib\\site-packages\\ipykernel\\__main__.py:270: VisibleDeprecationWarning: boolean index did not match indexed array along dimension 0; dimension is 59 but corresponding boolean dimension is 16\n",
      "C:\\Users\\Shahwaiz\\Anaconda2\\lib\\site-packages\\ipykernel\\__main__.py:270: VisibleDeprecationWarning: boolean index did not match indexed array along dimension 0; dimension is 59 but corresponding boolean dimension is 23\n",
      "C:\\Users\\Shahwaiz\\Anaconda2\\lib\\site-packages\\ipykernel\\__main__.py:270: VisibleDeprecationWarning: boolean index did not match indexed array along dimension 0; dimension is 59 but corresponding boolean dimension is 20\n",
      "C:\\Users\\Shahwaiz\\Anaconda2\\lib\\site-packages\\ipykernel\\__main__.py:270: VisibleDeprecationWarning: boolean index did not match indexed array along dimension 0; dimension is 34 but corresponding boolean dimension is 13\n",
      "C:\\Users\\Shahwaiz\\Anaconda2\\lib\\site-packages\\ipykernel\\__main__.py:270: VisibleDeprecationWarning: boolean index did not match indexed array along dimension 0; dimension is 34 but corresponding boolean dimension is 11\n",
      "C:\\Users\\Shahwaiz\\Anaconda2\\lib\\site-packages\\ipykernel\\__main__.py:270: VisibleDeprecationWarning: boolean index did not match indexed array along dimension 0; dimension is 34 but corresponding boolean dimension is 10\n",
      "C:\\Users\\Shahwaiz\\Anaconda2\\lib\\site-packages\\ipykernel\\__main__.py:270: VisibleDeprecationWarning: boolean index did not match indexed array along dimension 0; dimension is 13 but corresponding boolean dimension is 5\n",
      "C:\\Users\\Shahwaiz\\Anaconda2\\lib\\site-packages\\ipykernel\\__main__.py:270: VisibleDeprecationWarning: boolean index did not match indexed array along dimension 0; dimension is 13 but corresponding boolean dimension is 4\n",
      "C:\\Users\\Shahwaiz\\Anaconda2\\lib\\site-packages\\ipykernel\\__main__.py:270: VisibleDeprecationWarning: boolean index did not match indexed array along dimension 0; dimension is 8 but corresponding boolean dimension is 4\n",
      "C:\\Users\\Shahwaiz\\Anaconda2\\lib\\site-packages\\ipykernel\\__main__.py:270: VisibleDeprecationWarning: boolean index did not match indexed array along dimension 0; dimension is 8 but corresponding boolean dimension is 1\n",
      "C:\\Users\\Shahwaiz\\Anaconda2\\lib\\site-packages\\ipykernel\\__main__.py:270: VisibleDeprecationWarning: boolean index did not match indexed array along dimension 0; dimension is 8 but corresponding boolean dimension is 3\n",
      "C:\\Users\\Shahwaiz\\Anaconda2\\lib\\site-packages\\ipykernel\\__main__.py:270: VisibleDeprecationWarning: boolean index did not match indexed array along dimension 0; dimension is 21 but corresponding boolean dimension is 8\n",
      "C:\\Users\\Shahwaiz\\Anaconda2\\lib\\site-packages\\ipykernel\\__main__.py:270: VisibleDeprecationWarning: boolean index did not match indexed array along dimension 0; dimension is 21 but corresponding boolean dimension is 7\n",
      "C:\\Users\\Shahwaiz\\Anaconda2\\lib\\site-packages\\ipykernel\\__main__.py:270: VisibleDeprecationWarning: boolean index did not match indexed array along dimension 0; dimension is 21 but corresponding boolean dimension is 6\n",
      "C:\\Users\\Shahwaiz\\Anaconda2\\lib\\site-packages\\ipykernel\\__main__.py:270: VisibleDeprecationWarning: boolean index did not match indexed array along dimension 0; dimension is 13 but corresponding boolean dimension is 6\n",
      "C:\\Users\\Shahwaiz\\Anaconda2\\lib\\site-packages\\ipykernel\\__main__.py:270: VisibleDeprecationWarning: boolean index did not match indexed array along dimension 0; dimension is 13 but corresponding boolean dimension is 3\n",
      "C:\\Users\\Shahwaiz\\Anaconda2\\lib\\site-packages\\ipykernel\\__main__.py:270: VisibleDeprecationWarning: boolean index did not match indexed array along dimension 0; dimension is 7 but corresponding boolean dimension is 1\n",
      "C:\\Users\\Shahwaiz\\Anaconda2\\lib\\site-packages\\ipykernel\\__main__.py:270: VisibleDeprecationWarning: boolean index did not match indexed array along dimension 0; dimension is 7 but corresponding boolean dimension is 3\n"
     ]
    },
    {
     "ename": "AssertionError",
     "evalue": "0.51111111111111107 not greater than or equal to 0.9",
     "output_type": "error",
     "traceback": [
      "\u001b[0;31m---------------------------------------------------------------------------\u001b[0m",
      "\u001b[0;31mAssertionError\u001b[0m                            Traceback (most recent call last)",
      "\u001b[0;32m<ipython-input-185-0a6b47dc5ba1>\u001b[0m in \u001b[0;36m<module>\u001b[0;34m()\u001b[0m\n\u001b[1;32m      7\u001b[0m \u001b[1;31m#Lets see how good we are doing, by finding the accuracy on the test set..\u001b[0m\u001b[1;33m\u001b[0m\u001b[1;33m\u001b[0m\u001b[0m\n\u001b[1;32m      8\u001b[0m \u001b[0macc\u001b[0m \u001b[1;33m=\u001b[0m \u001b[0mnp\u001b[0m\u001b[1;33m.\u001b[0m\u001b[0msum\u001b[0m\u001b[1;33m(\u001b[0m\u001b[0mpclasses\u001b[0m\u001b[1;33m==\u001b[0m\u001b[0mYtest\u001b[0m\u001b[1;33m)\u001b[0m\u001b[1;33m/\u001b[0m\u001b[0mfloat\u001b[0m\u001b[1;33m(\u001b[0m\u001b[0mYtest\u001b[0m\u001b[1;33m.\u001b[0m\u001b[0mshape\u001b[0m\u001b[1;33m[\u001b[0m\u001b[1;36m0\u001b[0m\u001b[1;33m]\u001b[0m\u001b[1;33m)\u001b[0m\u001b[1;33m\u001b[0m\u001b[0m\n\u001b[0;32m----> 9\u001b[0;31m \u001b[0massert_greater_equal\u001b[0m\u001b[1;33m(\u001b[0m\u001b[0macc\u001b[0m\u001b[1;33m,\u001b[0m \u001b[1;36m0.90\u001b[0m\u001b[1;33m)\u001b[0m\u001b[1;33m\u001b[0m\u001b[0m\n\u001b[0m",
      "\u001b[0;32mC:\\Users\\Shahwaiz\\Anaconda2\\lib\\unittest\\case.pyc\u001b[0m in \u001b[0;36massertGreaterEqual\u001b[0;34m(self, a, b, msg)\u001b[0m\n\u001b[1;32m    946\u001b[0m         \u001b[1;32mif\u001b[0m \u001b[1;32mnot\u001b[0m \u001b[0ma\u001b[0m \u001b[1;33m>=\u001b[0m \u001b[0mb\u001b[0m\u001b[1;33m:\u001b[0m\u001b[1;33m\u001b[0m\u001b[0m\n\u001b[1;32m    947\u001b[0m             \u001b[0mstandardMsg\u001b[0m \u001b[1;33m=\u001b[0m \u001b[1;34m'%s not greater than or equal to %s'\u001b[0m \u001b[1;33m%\u001b[0m \u001b[1;33m(\u001b[0m\u001b[0msafe_repr\u001b[0m\u001b[1;33m(\u001b[0m\u001b[0ma\u001b[0m\u001b[1;33m)\u001b[0m\u001b[1;33m,\u001b[0m \u001b[0msafe_repr\u001b[0m\u001b[1;33m(\u001b[0m\u001b[0mb\u001b[0m\u001b[1;33m)\u001b[0m\u001b[1;33m)\u001b[0m\u001b[1;33m\u001b[0m\u001b[0m\n\u001b[0;32m--> 948\u001b[0;31m             \u001b[0mself\u001b[0m\u001b[1;33m.\u001b[0m\u001b[0mfail\u001b[0m\u001b[1;33m(\u001b[0m\u001b[0mself\u001b[0m\u001b[1;33m.\u001b[0m\u001b[0m_formatMessage\u001b[0m\u001b[1;33m(\u001b[0m\u001b[0mmsg\u001b[0m\u001b[1;33m,\u001b[0m \u001b[0mstandardMsg\u001b[0m\u001b[1;33m)\u001b[0m\u001b[1;33m)\u001b[0m\u001b[1;33m\u001b[0m\u001b[0m\n\u001b[0m\u001b[1;32m    949\u001b[0m \u001b[1;33m\u001b[0m\u001b[0m\n\u001b[1;32m    950\u001b[0m     \u001b[1;32mdef\u001b[0m \u001b[0massertIsNone\u001b[0m\u001b[1;33m(\u001b[0m\u001b[0mself\u001b[0m\u001b[1;33m,\u001b[0m \u001b[0mobj\u001b[0m\u001b[1;33m,\u001b[0m \u001b[0mmsg\u001b[0m\u001b[1;33m=\u001b[0m\u001b[0mNone\u001b[0m\u001b[1;33m)\u001b[0m\u001b[1;33m:\u001b[0m\u001b[1;33m\u001b[0m\u001b[0m\n",
      "\u001b[0;32mC:\\Users\\Shahwaiz\\Anaconda2\\lib\\unittest\\case.pyc\u001b[0m in \u001b[0;36mfail\u001b[0;34m(self, msg)\u001b[0m\n\u001b[1;32m    408\u001b[0m     \u001b[1;32mdef\u001b[0m \u001b[0mfail\u001b[0m\u001b[1;33m(\u001b[0m\u001b[0mself\u001b[0m\u001b[1;33m,\u001b[0m \u001b[0mmsg\u001b[0m\u001b[1;33m=\u001b[0m\u001b[0mNone\u001b[0m\u001b[1;33m)\u001b[0m\u001b[1;33m:\u001b[0m\u001b[1;33m\u001b[0m\u001b[0m\n\u001b[1;32m    409\u001b[0m         \u001b[1;34m\"\"\"Fail immediately, with the given message.\"\"\"\u001b[0m\u001b[1;33m\u001b[0m\u001b[0m\n\u001b[0;32m--> 410\u001b[0;31m         \u001b[1;32mraise\u001b[0m \u001b[0mself\u001b[0m\u001b[1;33m.\u001b[0m\u001b[0mfailureException\u001b[0m\u001b[1;33m(\u001b[0m\u001b[0mmsg\u001b[0m\u001b[1;33m)\u001b[0m\u001b[1;33m\u001b[0m\u001b[0m\n\u001b[0m\u001b[1;32m    411\u001b[0m \u001b[1;33m\u001b[0m\u001b[0m\n\u001b[1;32m    412\u001b[0m     \u001b[1;32mdef\u001b[0m \u001b[0massertFalse\u001b[0m\u001b[1;33m(\u001b[0m\u001b[0mself\u001b[0m\u001b[1;33m,\u001b[0m \u001b[0mexpr\u001b[0m\u001b[1;33m,\u001b[0m \u001b[0mmsg\u001b[0m\u001b[1;33m=\u001b[0m\u001b[0mNone\u001b[0m\u001b[1;33m)\u001b[0m\u001b[1;33m:\u001b[0m\u001b[1;33m\u001b[0m\u001b[0m\n",
      "\u001b[0;31mAssertionError\u001b[0m: 0.51111111111111107 not greater than or equal to 0.9"
     ]
    }
   ],
   "source": [
    "from nose.tools import assert_greater_equal\n",
    "\n",
    "feat=[0, 1, 2, 3]\n",
    "dt=DecisionTree(0.95,5)\n",
    "dt.train(Xtrain[:,feat],Ytrain)\n",
    "pclasses=dt.predict(Xtest[:,feat])\n",
    "#Lets see how good we are doing, by finding the accuracy on the test set..\n",
    "acc = np.sum(pclasses==Ytest)/float(Ytest.shape[0])\n",
    "assert_greater_equal(acc, 0.90)\n"
   ]
  },
  {
   "cell_type": "markdown",
   "metadata": {
    "deletable": true,
    "editable": true,
    "slideshow": {
     "slide_type": "slide"
    }
   },
   "source": [
    "What can you conclude ?\n",
    "====================\n",
    "Please write your observation....\n",
    "\n"
   ]
  },
  {
   "cell_type": "markdown",
   "metadata": {
    "deletable": true,
    "editable": true
   },
   "source": [
    "# Cross-Validation\n",
    "\n",
    "Until now we have been splitting the dataset into a training and test set rather randomly and were reporting a rather artifical performance. Now we are going to test our system exhaustively by making use of k-fold [cross validation](http://en.wikipedia.org/wiki/Cross-validation_%28statistics%29). \n",
    "\n",
    "Now go and tune your hyper-parameters (purity, exthreshold) to opitmize the performance."
   ]
  },
  {
   "cell_type": "code",
   "execution_count": 63,
   "metadata": {
    "collapsed": false,
    "deletable": true,
    "editable": true
   },
   "outputs": [
    {
     "name": "stdout",
     "output_type": "stream",
     "text": [
      "Generating CV data for 2 classes\n",
      "[Info] Fold 1 Accuracy = 0.540540540541\n",
      "[Info] Fold 2 Accuracy = 0.675675675676\n",
      "[Info] Fold 3 Accuracy = 1.0\n",
      "[Info] Fold 4 Accuracy = 0.972972972973\n",
      "[0.54054054054054057, 0.67567567567567566, 1.0, 0.97297297297297303] \n",
      "Purity=0.85, Nexample-threshold=5.0, Mean Accuracy =0.797297297297\n",
      "[Info] Fold 1 Accuracy = 0.675675675676\n",
      "[Info] Fold 2 Accuracy = 0.837837837838\n",
      "[Info] Fold 3 Accuracy = 0.648648648649\n",
      "[Info] Fold 4 Accuracy = 0.675675675676\n",
      "[0.67567567567567566, 0.83783783783783783, 0.64864864864864868, 0.67567567567567566] \n",
      "Purity=0.85, Nexample-threshold=6.0, Mean Accuracy =0.709459459459\n"
     ]
    },
    {
     "name": "stderr",
     "output_type": "stream",
     "text": [
      "C:\\Users\\Shahwaiz\\Anaconda2\\lib\\site-packages\\ipykernel\\__main__.py:332: VisibleDeprecationWarning: boolean index did not match indexed array along dimension 0; dimension is 112 but corresponding boolean dimension is 37\n",
      "C:\\Users\\Shahwaiz\\Anaconda2\\lib\\site-packages\\ipykernel\\__main__.py:332: VisibleDeprecationWarning: boolean index did not match indexed array along dimension 0; dimension is 112 but corresponding boolean dimension is 75\n",
      "C:\\Users\\Shahwaiz\\Anaconda2\\lib\\site-packages\\ipykernel\\__main__.py:332: VisibleDeprecationWarning: boolean index did not match indexed array along dimension 0; dimension is 47 but corresponding boolean dimension is 16\n",
      "C:\\Users\\Shahwaiz\\Anaconda2\\lib\\site-packages\\ipykernel\\__main__.py:332: VisibleDeprecationWarning: boolean index did not match indexed array along dimension 0; dimension is 47 but corresponding boolean dimension is 31\n",
      "C:\\Users\\Shahwaiz\\Anaconda2\\lib\\site-packages\\ipykernel\\__main__.py:332: VisibleDeprecationWarning: boolean index did not match indexed array along dimension 0; dimension is 16 but corresponding boolean dimension is 4\n",
      "C:\\Users\\Shahwaiz\\Anaconda2\\lib\\site-packages\\ipykernel\\__main__.py:332: VisibleDeprecationWarning: boolean index did not match indexed array along dimension 0; dimension is 16 but corresponding boolean dimension is 12\n",
      "C:\\Users\\Shahwaiz\\Anaconda2\\lib\\site-packages\\ipykernel\\__main__.py:332: VisibleDeprecationWarning: boolean index did not match indexed array along dimension 0; dimension is 12 but corresponding boolean dimension is 4\n",
      "C:\\Users\\Shahwaiz\\Anaconda2\\lib\\site-packages\\ipykernel\\__main__.py:332: VisibleDeprecationWarning: boolean index did not match indexed array along dimension 0; dimension is 12 but corresponding boolean dimension is 8\n",
      "C:\\Users\\Shahwaiz\\Anaconda2\\lib\\site-packages\\ipykernel\\__main__.py:332: VisibleDeprecationWarning: boolean index did not match indexed array along dimension 0; dimension is 7 but corresponding boolean dimension is 2\n",
      "C:\\Users\\Shahwaiz\\Anaconda2\\lib\\site-packages\\ipykernel\\__main__.py:332: VisibleDeprecationWarning: boolean index did not match indexed array along dimension 0; dimension is 7 but corresponding boolean dimension is 5\n",
      "C:\\Users\\Shahwaiz\\Anaconda2\\lib\\site-packages\\ipykernel\\__main__.py:332: VisibleDeprecationWarning: boolean index did not match indexed array along dimension 0; dimension is 31 but corresponding boolean dimension is 12\n",
      "C:\\Users\\Shahwaiz\\Anaconda2\\lib\\site-packages\\ipykernel\\__main__.py:332: VisibleDeprecationWarning: boolean index did not match indexed array along dimension 0; dimension is 31 but corresponding boolean dimension is 19\n",
      "C:\\Users\\Shahwaiz\\Anaconda2\\lib\\site-packages\\ipykernel\\__main__.py:332: VisibleDeprecationWarning: boolean index did not match indexed array along dimension 0; dimension is 18 but corresponding boolean dimension is 7\n",
      "C:\\Users\\Shahwaiz\\Anaconda2\\lib\\site-packages\\ipykernel\\__main__.py:332: VisibleDeprecationWarning: boolean index did not match indexed array along dimension 0; dimension is 18 but corresponding boolean dimension is 11\n",
      "C:\\Users\\Shahwaiz\\Anaconda2\\lib\\site-packages\\ipykernel\\__main__.py:332: VisibleDeprecationWarning: boolean index did not match indexed array along dimension 0; dimension is 16 but corresponding boolean dimension is 6\n",
      "C:\\Users\\Shahwaiz\\Anaconda2\\lib\\site-packages\\ipykernel\\__main__.py:332: VisibleDeprecationWarning: boolean index did not match indexed array along dimension 0; dimension is 16 but corresponding boolean dimension is 10\n",
      "C:\\Users\\Shahwaiz\\Anaconda2\\lib\\site-packages\\ipykernel\\__main__.py:332: VisibleDeprecationWarning: boolean index did not match indexed array along dimension 0; dimension is 12 but corresponding boolean dimension is 5\n",
      "C:\\Users\\Shahwaiz\\Anaconda2\\lib\\site-packages\\ipykernel\\__main__.py:332: VisibleDeprecationWarning: boolean index did not match indexed array along dimension 0; dimension is 12 but corresponding boolean dimension is 7\n",
      "C:\\Users\\Shahwaiz\\Anaconda2\\lib\\site-packages\\ipykernel\\__main__.py:332: VisibleDeprecationWarning: boolean index did not match indexed array along dimension 0; dimension is 44 but corresponding boolean dimension is 18\n",
      "C:\\Users\\Shahwaiz\\Anaconda2\\lib\\site-packages\\ipykernel\\__main__.py:332: VisibleDeprecationWarning: boolean index did not match indexed array along dimension 0; dimension is 44 but corresponding boolean dimension is 26\n",
      "C:\\Users\\Shahwaiz\\Anaconda2\\lib\\site-packages\\ipykernel\\__main__.py:332: VisibleDeprecationWarning: boolean index did not match indexed array along dimension 0; dimension is 19 but corresponding boolean dimension is 6\n",
      "C:\\Users\\Shahwaiz\\Anaconda2\\lib\\site-packages\\ipykernel\\__main__.py:332: VisibleDeprecationWarning: boolean index did not match indexed array along dimension 0; dimension is 19 but corresponding boolean dimension is 13\n",
      "C:\\Users\\Shahwaiz\\Anaconda2\\lib\\site-packages\\ipykernel\\__main__.py:332: VisibleDeprecationWarning: boolean index did not match indexed array along dimension 0; dimension is 15 but corresponding boolean dimension is 5\n",
      "C:\\Users\\Shahwaiz\\Anaconda2\\lib\\site-packages\\ipykernel\\__main__.py:332: VisibleDeprecationWarning: boolean index did not match indexed array along dimension 0; dimension is 15 but corresponding boolean dimension is 10\n",
      "C:\\Users\\Shahwaiz\\Anaconda2\\lib\\site-packages\\ipykernel\\__main__.py:332: VisibleDeprecationWarning: boolean index did not match indexed array along dimension 0; dimension is 10 but corresponding boolean dimension is 4\n",
      "C:\\Users\\Shahwaiz\\Anaconda2\\lib\\site-packages\\ipykernel\\__main__.py:332: VisibleDeprecationWarning: boolean index did not match indexed array along dimension 0; dimension is 10 but corresponding boolean dimension is 6\n",
      "C:\\Users\\Shahwaiz\\Anaconda2\\lib\\site-packages\\ipykernel\\__main__.py:332: VisibleDeprecationWarning: boolean index did not match indexed array along dimension 0; dimension is 6 but corresponding boolean dimension is 2\n",
      "C:\\Users\\Shahwaiz\\Anaconda2\\lib\\site-packages\\ipykernel\\__main__.py:332: VisibleDeprecationWarning: boolean index did not match indexed array along dimension 0; dimension is 6 but corresponding boolean dimension is 4\n",
      "C:\\Users\\Shahwaiz\\Anaconda2\\lib\\site-packages\\ipykernel\\__main__.py:332: VisibleDeprecationWarning: boolean index did not match indexed array along dimension 0; dimension is 41 but corresponding boolean dimension is 11\n",
      "C:\\Users\\Shahwaiz\\Anaconda2\\lib\\site-packages\\ipykernel\\__main__.py:332: VisibleDeprecationWarning: boolean index did not match indexed array along dimension 0; dimension is 41 but corresponding boolean dimension is 30\n",
      "C:\\Users\\Shahwaiz\\Anaconda2\\lib\\site-packages\\ipykernel\\__main__.py:332: VisibleDeprecationWarning: boolean index did not match indexed array along dimension 0; dimension is 40 but corresponding boolean dimension is 11\n",
      "C:\\Users\\Shahwaiz\\Anaconda2\\lib\\site-packages\\ipykernel\\__main__.py:332: VisibleDeprecationWarning: boolean index did not match indexed array along dimension 0; dimension is 40 but corresponding boolean dimension is 29\n",
      "C:\\Users\\Shahwaiz\\Anaconda2\\lib\\site-packages\\ipykernel\\__main__.py:332: VisibleDeprecationWarning: boolean index did not match indexed array along dimension 0; dimension is 11 but corresponding boolean dimension is 6\n",
      "C:\\Users\\Shahwaiz\\Anaconda2\\lib\\site-packages\\ipykernel\\__main__.py:332: VisibleDeprecationWarning: boolean index did not match indexed array along dimension 0; dimension is 11 but corresponding boolean dimension is 5\n",
      "C:\\Users\\Shahwaiz\\Anaconda2\\lib\\site-packages\\ipykernel\\__main__.py:332: VisibleDeprecationWarning: boolean index did not match indexed array along dimension 0; dimension is 29 but corresponding boolean dimension is 5\n",
      "C:\\Users\\Shahwaiz\\Anaconda2\\lib\\site-packages\\ipykernel\\__main__.py:332: VisibleDeprecationWarning: boolean index did not match indexed array along dimension 0; dimension is 29 but corresponding boolean dimension is 24\n",
      "C:\\Users\\Shahwaiz\\Anaconda2\\lib\\site-packages\\ipykernel\\__main__.py:332: VisibleDeprecationWarning: boolean index did not match indexed array along dimension 0; dimension is 12 but corresponding boolean dimension is 2\n",
      "C:\\Users\\Shahwaiz\\Anaconda2\\lib\\site-packages\\ipykernel\\__main__.py:332: VisibleDeprecationWarning: boolean index did not match indexed array along dimension 0; dimension is 12 but corresponding boolean dimension is 10\n",
      "C:\\Users\\Shahwaiz\\Anaconda2\\lib\\site-packages\\ipykernel\\__main__.py:332: VisibleDeprecationWarning: boolean index did not match indexed array along dimension 0; dimension is 8 but corresponding boolean dimension is 2\n",
      "C:\\Users\\Shahwaiz\\Anaconda2\\lib\\site-packages\\ipykernel\\__main__.py:332: VisibleDeprecationWarning: boolean index did not match indexed array along dimension 0; dimension is 8 but corresponding boolean dimension is 6\n",
      "C:\\Users\\Shahwaiz\\Anaconda2\\lib\\site-packages\\ipykernel\\__main__.py:332: VisibleDeprecationWarning: boolean index did not match indexed array along dimension 0; dimension is 38 but corresponding boolean dimension is 11\n",
      "C:\\Users\\Shahwaiz\\Anaconda2\\lib\\site-packages\\ipykernel\\__main__.py:332: VisibleDeprecationWarning: boolean index did not match indexed array along dimension 0; dimension is 38 but corresponding boolean dimension is 27\n",
      "C:\\Users\\Shahwaiz\\Anaconda2\\lib\\site-packages\\ipykernel\\__main__.py:332: VisibleDeprecationWarning: boolean index did not match indexed array along dimension 0; dimension is 27 but corresponding boolean dimension is 6\n",
      "C:\\Users\\Shahwaiz\\Anaconda2\\lib\\site-packages\\ipykernel\\__main__.py:332: VisibleDeprecationWarning: boolean index did not match indexed array along dimension 0; dimension is 27 but corresponding boolean dimension is 21\n",
      "C:\\Users\\Shahwaiz\\Anaconda2\\lib\\site-packages\\ipykernel\\__main__.py:332: VisibleDeprecationWarning: boolean index did not match indexed array along dimension 0; dimension is 21 but corresponding boolean dimension is 4\n",
      "C:\\Users\\Shahwaiz\\Anaconda2\\lib\\site-packages\\ipykernel\\__main__.py:332: VisibleDeprecationWarning: boolean index did not match indexed array along dimension 0; dimension is 21 but corresponding boolean dimension is 17\n",
      "C:\\Users\\Shahwaiz\\Anaconda2\\lib\\site-packages\\ipykernel\\__main__.py:332: VisibleDeprecationWarning: boolean index did not match indexed array along dimension 0; dimension is 12 but corresponding boolean dimension is 3\n",
      "C:\\Users\\Shahwaiz\\Anaconda2\\lib\\site-packages\\ipykernel\\__main__.py:332: VisibleDeprecationWarning: boolean index did not match indexed array along dimension 0; dimension is 12 but corresponding boolean dimension is 9\n",
      "C:\\Users\\Shahwaiz\\Anaconda2\\lib\\site-packages\\ipykernel\\__main__.py:332: VisibleDeprecationWarning: boolean index did not match indexed array along dimension 0; dimension is 74 but corresponding boolean dimension is 26\n",
      "C:\\Users\\Shahwaiz\\Anaconda2\\lib\\site-packages\\ipykernel\\__main__.py:332: VisibleDeprecationWarning: boolean index did not match indexed array along dimension 0; dimension is 74 but corresponding boolean dimension is 48\n",
      "C:\\Users\\Shahwaiz\\Anaconda2\\lib\\site-packages\\ipykernel\\__main__.py:332: VisibleDeprecationWarning: boolean index did not match indexed array along dimension 0; dimension is 26 but corresponding boolean dimension is 7\n",
      "C:\\Users\\Shahwaiz\\Anaconda2\\lib\\site-packages\\ipykernel\\__main__.py:332: VisibleDeprecationWarning: boolean index did not match indexed array along dimension 0; dimension is 26 but corresponding boolean dimension is 19\n",
      "C:\\Users\\Shahwaiz\\Anaconda2\\lib\\site-packages\\ipykernel\\__main__.py:332: VisibleDeprecationWarning: boolean index did not match indexed array along dimension 0; dimension is 22 but corresponding boolean dimension is 5\n",
      "C:\\Users\\Shahwaiz\\Anaconda2\\lib\\site-packages\\ipykernel\\__main__.py:332: VisibleDeprecationWarning: boolean index did not match indexed array along dimension 0; dimension is 22 but corresponding boolean dimension is 17\n",
      "C:\\Users\\Shahwaiz\\Anaconda2\\lib\\site-packages\\ipykernel\\__main__.py:332: VisibleDeprecationWarning: boolean index did not match indexed array along dimension 0; dimension is 17 but corresponding boolean dimension is 4\n",
      "C:\\Users\\Shahwaiz\\Anaconda2\\lib\\site-packages\\ipykernel\\__main__.py:332: VisibleDeprecationWarning: boolean index did not match indexed array along dimension 0; dimension is 17 but corresponding boolean dimension is 13\n",
      "C:\\Users\\Shahwaiz\\Anaconda2\\lib\\site-packages\\ipykernel\\__main__.py:332: VisibleDeprecationWarning: boolean index did not match indexed array along dimension 0; dimension is 40 but corresponding boolean dimension is 13\n",
      "C:\\Users\\Shahwaiz\\Anaconda2\\lib\\site-packages\\ipykernel\\__main__.py:332: VisibleDeprecationWarning: boolean index did not match indexed array along dimension 0; dimension is 40 but corresponding boolean dimension is 27\n",
      "C:\\Users\\Shahwaiz\\Anaconda2\\lib\\site-packages\\ipykernel\\__main__.py:332: VisibleDeprecationWarning: boolean index did not match indexed array along dimension 0; dimension is 15 but corresponding boolean dimension is 6\n",
      "C:\\Users\\Shahwaiz\\Anaconda2\\lib\\site-packages\\ipykernel\\__main__.py:332: VisibleDeprecationWarning: boolean index did not match indexed array along dimension 0; dimension is 15 but corresponding boolean dimension is 9\n",
      "C:\\Users\\Shahwaiz\\Anaconda2\\lib\\site-packages\\ipykernel\\__main__.py:332: VisibleDeprecationWarning: boolean index did not match indexed array along dimension 0; dimension is 8 but corresponding boolean dimension is 5\n",
      "C:\\Users\\Shahwaiz\\Anaconda2\\lib\\site-packages\\ipykernel\\__main__.py:332: VisibleDeprecationWarning: boolean index did not match indexed array along dimension 0; dimension is 8 but corresponding boolean dimension is 3\n",
      "C:\\Users\\Shahwaiz\\Anaconda2\\lib\\site-packages\\ipykernel\\__main__.py:332: VisibleDeprecationWarning: boolean index did not match indexed array along dimension 0; dimension is 25 but corresponding boolean dimension is 7\n",
      "C:\\Users\\Shahwaiz\\Anaconda2\\lib\\site-packages\\ipykernel\\__main__.py:332: VisibleDeprecationWarning: boolean index did not match indexed array along dimension 0; dimension is 25 but corresponding boolean dimension is 18\n",
      "C:\\Users\\Shahwaiz\\Anaconda2\\lib\\site-packages\\ipykernel\\__main__.py:332: VisibleDeprecationWarning: boolean index did not match indexed array along dimension 0; dimension is 18 but corresponding boolean dimension is 6\n",
      "C:\\Users\\Shahwaiz\\Anaconda2\\lib\\site-packages\\ipykernel\\__main__.py:332: VisibleDeprecationWarning: boolean index did not match indexed array along dimension 0; dimension is 18 but corresponding boolean dimension is 12\n",
      "C:\\Users\\Shahwaiz\\Anaconda2\\lib\\site-packages\\ipykernel\\__main__.py:332: VisibleDeprecationWarning: boolean index did not match indexed array along dimension 0; dimension is 11 but corresponding boolean dimension is 4\n",
      "C:\\Users\\Shahwaiz\\Anaconda2\\lib\\site-packages\\ipykernel\\__main__.py:332: VisibleDeprecationWarning: boolean index did not match indexed array along dimension 0; dimension is 11 but corresponding boolean dimension is 7\n",
      "C:\\Users\\Shahwaiz\\Anaconda2\\lib\\site-packages\\ipykernel\\__main__.py:332: VisibleDeprecationWarning: boolean index did not match indexed array along dimension 0; dimension is 7 but corresponding boolean dimension is 3\n",
      "C:\\Users\\Shahwaiz\\Anaconda2\\lib\\site-packages\\ipykernel\\__main__.py:332: VisibleDeprecationWarning: boolean index did not match indexed array along dimension 0; dimension is 7 but corresponding boolean dimension is 4\n",
      "C:\\Users\\Shahwaiz\\Anaconda2\\lib\\site-packages\\ipykernel\\__main__.py:332: VisibleDeprecationWarning: boolean index did not match indexed array along dimension 0; dimension is 32 but corresponding boolean dimension is 10\n",
      "C:\\Users\\Shahwaiz\\Anaconda2\\lib\\site-packages\\ipykernel\\__main__.py:332: VisibleDeprecationWarning: boolean index did not match indexed array along dimension 0; dimension is 32 but corresponding boolean dimension is 22\n",
      "C:\\Users\\Shahwaiz\\Anaconda2\\lib\\site-packages\\ipykernel\\__main__.py:332: VisibleDeprecationWarning: boolean index did not match indexed array along dimension 0; dimension is 28 but corresponding boolean dimension is 9\n",
      "C:\\Users\\Shahwaiz\\Anaconda2\\lib\\site-packages\\ipykernel\\__main__.py:332: VisibleDeprecationWarning: boolean index did not match indexed array along dimension 0; dimension is 28 but corresponding boolean dimension is 19\n",
      "C:\\Users\\Shahwaiz\\Anaconda2\\lib\\site-packages\\ipykernel\\__main__.py:332: VisibleDeprecationWarning: boolean index did not match indexed array along dimension 0; dimension is 20 but corresponding boolean dimension is 7\n",
      "C:\\Users\\Shahwaiz\\Anaconda2\\lib\\site-packages\\ipykernel\\__main__.py:332: VisibleDeprecationWarning: boolean index did not match indexed array along dimension 0; dimension is 20 but corresponding boolean dimension is 13\n",
      "C:\\Users\\Shahwaiz\\Anaconda2\\lib\\site-packages\\ipykernel\\__main__.py:332: VisibleDeprecationWarning: boolean index did not match indexed array along dimension 0; dimension is 17 but corresponding boolean dimension is 7\n",
      "C:\\Users\\Shahwaiz\\Anaconda2\\lib\\site-packages\\ipykernel\\__main__.py:332: VisibleDeprecationWarning: boolean index did not match indexed array along dimension 0; dimension is 17 but corresponding boolean dimension is 10\n",
      "C:\\Users\\Shahwaiz\\Anaconda2\\lib\\site-packages\\ipykernel\\__main__.py:332: VisibleDeprecationWarning: boolean index did not match indexed array along dimension 0; dimension is 110 but corresponding boolean dimension is 36\n",
      "C:\\Users\\Shahwaiz\\Anaconda2\\lib\\site-packages\\ipykernel\\__main__.py:332: VisibleDeprecationWarning: boolean index did not match indexed array along dimension 0; dimension is 110 but corresponding boolean dimension is 74\n",
      "C:\\Users\\Shahwaiz\\Anaconda2\\lib\\site-packages\\ipykernel\\__main__.py:332: VisibleDeprecationWarning: boolean index did not match indexed array along dimension 0; dimension is 13 but corresponding boolean dimension is 4\n",
      "C:\\Users\\Shahwaiz\\Anaconda2\\lib\\site-packages\\ipykernel\\__main__.py:332: VisibleDeprecationWarning: boolean index did not match indexed array along dimension 0; dimension is 13 but corresponding boolean dimension is 9\n",
      "C:\\Users\\Shahwaiz\\Anaconda2\\lib\\site-packages\\ipykernel\\__main__.py:332: VisibleDeprecationWarning: boolean index did not match indexed array along dimension 0; dimension is 9 but corresponding boolean dimension is 3\n",
      "C:\\Users\\Shahwaiz\\Anaconda2\\lib\\site-packages\\ipykernel\\__main__.py:332: VisibleDeprecationWarning: boolean index did not match indexed array along dimension 0; dimension is 9 but corresponding boolean dimension is 6\n",
      "C:\\Users\\Shahwaiz\\Anaconda2\\lib\\site-packages\\ipykernel\\__main__.py:332: VisibleDeprecationWarning: boolean index did not match indexed array along dimension 0; dimension is 27 but corresponding boolean dimension is 9\n",
      "C:\\Users\\Shahwaiz\\Anaconda2\\lib\\site-packages\\ipykernel\\__main__.py:332: VisibleDeprecationWarning: boolean index did not match indexed array along dimension 0; dimension is 27 but corresponding boolean dimension is 18\n",
      "C:\\Users\\Shahwaiz\\Anaconda2\\lib\\site-packages\\ipykernel\\__main__.py:332: VisibleDeprecationWarning: boolean index did not match indexed array along dimension 0; dimension is 11 but corresponding boolean dimension is 3\n",
      "C:\\Users\\Shahwaiz\\Anaconda2\\lib\\site-packages\\ipykernel\\__main__.py:332: VisibleDeprecationWarning: boolean index did not match indexed array along dimension 0; dimension is 11 but corresponding boolean dimension is 8\n",
      "C:\\Users\\Shahwaiz\\Anaconda2\\lib\\site-packages\\ipykernel\\__main__.py:332: VisibleDeprecationWarning: boolean index did not match indexed array along dimension 0; dimension is 107 but corresponding boolean dimension is 36\n",
      "C:\\Users\\Shahwaiz\\Anaconda2\\lib\\site-packages\\ipykernel\\__main__.py:332: VisibleDeprecationWarning: boolean index did not match indexed array along dimension 0; dimension is 107 but corresponding boolean dimension is 71\n",
      "C:\\Users\\Shahwaiz\\Anaconda2\\lib\\site-packages\\ipykernel\\__main__.py:332: VisibleDeprecationWarning: boolean index did not match indexed array along dimension 0; dimension is 103 but corresponding boolean dimension is 35\n",
      "C:\\Users\\Shahwaiz\\Anaconda2\\lib\\site-packages\\ipykernel\\__main__.py:332: VisibleDeprecationWarning: boolean index did not match indexed array along dimension 0; dimension is 103 but corresponding boolean dimension is 68\n",
      "C:\\Users\\Shahwaiz\\Anaconda2\\lib\\site-packages\\ipykernel\\__main__.py:332: VisibleDeprecationWarning: boolean index did not match indexed array along dimension 0; dimension is 30 but corresponding boolean dimension is 6\n",
      "C:\\Users\\Shahwaiz\\Anaconda2\\lib\\site-packages\\ipykernel\\__main__.py:332: VisibleDeprecationWarning: boolean index did not match indexed array along dimension 0; dimension is 30 but corresponding boolean dimension is 24\n",
      "C:\\Users\\Shahwaiz\\Anaconda2\\lib\\site-packages\\ipykernel\\__main__.py:332: VisibleDeprecationWarning: boolean index did not match indexed array along dimension 0; dimension is 24 but corresponding boolean dimension is 4\n",
      "C:\\Users\\Shahwaiz\\Anaconda2\\lib\\site-packages\\ipykernel\\__main__.py:332: VisibleDeprecationWarning: boolean index did not match indexed array along dimension 0; dimension is 24 but corresponding boolean dimension is 20\n",
      "C:\\Users\\Shahwaiz\\Anaconda2\\lib\\site-packages\\ipykernel\\__main__.py:332: VisibleDeprecationWarning: boolean index did not match indexed array along dimension 0; dimension is 23 but corresponding boolean dimension is 11\n",
      "C:\\Users\\Shahwaiz\\Anaconda2\\lib\\site-packages\\ipykernel\\__main__.py:332: VisibleDeprecationWarning: boolean index did not match indexed array along dimension 0; dimension is 23 but corresponding boolean dimension is 12\n",
      "C:\\Users\\Shahwaiz\\Anaconda2\\lib\\site-packages\\ipykernel\\__main__.py:332: VisibleDeprecationWarning: boolean index did not match indexed array along dimension 0; dimension is 12 but corresponding boolean dimension is 6\n",
      "C:\\Users\\Shahwaiz\\Anaconda2\\lib\\site-packages\\ipykernel\\__main__.py:332: VisibleDeprecationWarning: boolean index did not match indexed array along dimension 0; dimension is 89 but corresponding boolean dimension is 26\n",
      "C:\\Users\\Shahwaiz\\Anaconda2\\lib\\site-packages\\ipykernel\\__main__.py:332: VisibleDeprecationWarning: boolean index did not match indexed array along dimension 0; dimension is 89 but corresponding boolean dimension is 63\n",
      "C:\\Users\\Shahwaiz\\Anaconda2\\lib\\site-packages\\ipykernel\\__main__.py:332: VisibleDeprecationWarning: boolean index did not match indexed array along dimension 0; dimension is 27 but corresponding boolean dimension is 13\n",
      "C:\\Users\\Shahwaiz\\Anaconda2\\lib\\site-packages\\ipykernel\\__main__.py:332: VisibleDeprecationWarning: boolean index did not match indexed array along dimension 0; dimension is 27 but corresponding boolean dimension is 14\n",
      "C:\\Users\\Shahwaiz\\Anaconda2\\lib\\site-packages\\ipykernel\\__main__.py:332: VisibleDeprecationWarning: boolean index did not match indexed array along dimension 0; dimension is 26 but corresponding boolean dimension is 13\n",
      "C:\\Users\\Shahwaiz\\Anaconda2\\lib\\site-packages\\ipykernel\\__main__.py:332: VisibleDeprecationWarning: boolean index did not match indexed array along dimension 0; dimension is 16 but corresponding boolean dimension is 9\n",
      "C:\\Users\\Shahwaiz\\Anaconda2\\lib\\site-packages\\ipykernel\\__main__.py:332: VisibleDeprecationWarning: boolean index did not match indexed array along dimension 0; dimension is 16 but corresponding boolean dimension is 7\n",
      "C:\\Users\\Shahwaiz\\Anaconda2\\lib\\site-packages\\ipykernel\\__main__.py:332: VisibleDeprecationWarning: boolean index did not match indexed array along dimension 0; dimension is 9 but corresponding boolean dimension is 5\n",
      "C:\\Users\\Shahwaiz\\Anaconda2\\lib\\site-packages\\ipykernel\\__main__.py:332: VisibleDeprecationWarning: boolean index did not match indexed array along dimension 0; dimension is 9 but corresponding boolean dimension is 4\n",
      "C:\\Users\\Shahwaiz\\Anaconda2\\lib\\site-packages\\ipykernel\\__main__.py:332: VisibleDeprecationWarning: boolean index did not match indexed array along dimension 0; dimension is 57 but corresponding boolean dimension is 16\n",
      "C:\\Users\\Shahwaiz\\Anaconda2\\lib\\site-packages\\ipykernel\\__main__.py:332: VisibleDeprecationWarning: boolean index did not match indexed array along dimension 0; dimension is 57 but corresponding boolean dimension is 41\n",
      "C:\\Users\\Shahwaiz\\Anaconda2\\lib\\site-packages\\ipykernel\\__main__.py:332: VisibleDeprecationWarning: boolean index did not match indexed array along dimension 0; dimension is 18 but corresponding boolean dimension is 5\n",
      "C:\\Users\\Shahwaiz\\Anaconda2\\lib\\site-packages\\ipykernel\\__main__.py:332: VisibleDeprecationWarning: boolean index did not match indexed array along dimension 0; dimension is 18 but corresponding boolean dimension is 13\n",
      "C:\\Users\\Shahwaiz\\Anaconda2\\lib\\site-packages\\ipykernel\\__main__.py:332: VisibleDeprecationWarning: boolean index did not match indexed array along dimension 0; dimension is 39 but corresponding boolean dimension is 11\n",
      "C:\\Users\\Shahwaiz\\Anaconda2\\lib\\site-packages\\ipykernel\\__main__.py:332: VisibleDeprecationWarning: boolean index did not match indexed array along dimension 0; dimension is 39 but corresponding boolean dimension is 28\n",
      "C:\\Users\\Shahwaiz\\Anaconda2\\lib\\site-packages\\ipykernel\\__main__.py:332: VisibleDeprecationWarning: boolean index did not match indexed array along dimension 0; dimension is 37 but corresponding boolean dimension is 11\n",
      "C:\\Users\\Shahwaiz\\Anaconda2\\lib\\site-packages\\ipykernel\\__main__.py:332: VisibleDeprecationWarning: boolean index did not match indexed array along dimension 0; dimension is 37 but corresponding boolean dimension is 26\n",
      "C:\\Users\\Shahwaiz\\Anaconda2\\lib\\site-packages\\ipykernel\\__main__.py:332: VisibleDeprecationWarning: boolean index did not match indexed array along dimension 0; dimension is 36 but corresponding boolean dimension is 11\n",
      "C:\\Users\\Shahwaiz\\Anaconda2\\lib\\site-packages\\ipykernel\\__main__.py:332: VisibleDeprecationWarning: boolean index did not match indexed array along dimension 0; dimension is 36 but corresponding boolean dimension is 25\n",
      "C:\\Users\\Shahwaiz\\Anaconda2\\lib\\site-packages\\ipykernel\\__main__.py:332: VisibleDeprecationWarning: boolean index did not match indexed array along dimension 0; dimension is 33 but corresponding boolean dimension is 9\n",
      "C:\\Users\\Shahwaiz\\Anaconda2\\lib\\site-packages\\ipykernel\\__main__.py:332: VisibleDeprecationWarning: boolean index did not match indexed array along dimension 0; dimension is 33 but corresponding boolean dimension is 24\n",
      "C:\\Users\\Shahwaiz\\Anaconda2\\lib\\site-packages\\ipykernel\\__main__.py:332: VisibleDeprecationWarning: boolean index did not match indexed array along dimension 0; dimension is 39 but corresponding boolean dimension is 14\n",
      "C:\\Users\\Shahwaiz\\Anaconda2\\lib\\site-packages\\ipykernel\\__main__.py:332: VisibleDeprecationWarning: boolean index did not match indexed array along dimension 0; dimension is 39 but corresponding boolean dimension is 25\n",
      "C:\\Users\\Shahwaiz\\Anaconda2\\lib\\site-packages\\ipykernel\\__main__.py:332: VisibleDeprecationWarning: boolean index did not match indexed array along dimension 0; dimension is 38 but corresponding boolean dimension is 13\n",
      "C:\\Users\\Shahwaiz\\Anaconda2\\lib\\site-packages\\ipykernel\\__main__.py:332: VisibleDeprecationWarning: boolean index did not match indexed array along dimension 0; dimension is 38 but corresponding boolean dimension is 25\n",
      "C:\\Users\\Shahwaiz\\Anaconda2\\lib\\site-packages\\ipykernel\\__main__.py:332: VisibleDeprecationWarning: boolean index did not match indexed array along dimension 0; dimension is 13 but corresponding boolean dimension is 5\n",
      "C:\\Users\\Shahwaiz\\Anaconda2\\lib\\site-packages\\ipykernel\\__main__.py:332: VisibleDeprecationWarning: boolean index did not match indexed array along dimension 0; dimension is 13 but corresponding boolean dimension is 8\n",
      "C:\\Users\\Shahwaiz\\Anaconda2\\lib\\site-packages\\ipykernel\\__main__.py:332: VisibleDeprecationWarning: boolean index did not match indexed array along dimension 0; dimension is 25 but corresponding boolean dimension is 8\n",
      "C:\\Users\\Shahwaiz\\Anaconda2\\lib\\site-packages\\ipykernel\\__main__.py:332: VisibleDeprecationWarning: boolean index did not match indexed array along dimension 0; dimension is 25 but corresponding boolean dimension is 17\n",
      "C:\\Users\\Shahwaiz\\Anaconda2\\lib\\site-packages\\ipykernel\\__main__.py:332: VisibleDeprecationWarning: boolean index did not match indexed array along dimension 0; dimension is 17 but corresponding boolean dimension is 5\n",
      "C:\\Users\\Shahwaiz\\Anaconda2\\lib\\site-packages\\ipykernel\\__main__.py:332: VisibleDeprecationWarning: boolean index did not match indexed array along dimension 0; dimension is 17 but corresponding boolean dimension is 12\n",
      "C:\\Users\\Shahwaiz\\Anaconda2\\lib\\site-packages\\ipykernel\\__main__.py:332: VisibleDeprecationWarning: boolean index did not match indexed array along dimension 0; dimension is 39 but corresponding boolean dimension is 10\n",
      "C:\\Users\\Shahwaiz\\Anaconda2\\lib\\site-packages\\ipykernel\\__main__.py:332: VisibleDeprecationWarning: boolean index did not match indexed array along dimension 0; dimension is 39 but corresponding boolean dimension is 29\n",
      "C:\\Users\\Shahwaiz\\Anaconda2\\lib\\site-packages\\ipykernel\\__main__.py:332: VisibleDeprecationWarning: boolean index did not match indexed array along dimension 0; dimension is 10 but corresponding boolean dimension is 2\n",
      "C:\\Users\\Shahwaiz\\Anaconda2\\lib\\site-packages\\ipykernel\\__main__.py:332: VisibleDeprecationWarning: boolean index did not match indexed array along dimension 0; dimension is 10 but corresponding boolean dimension is 8\n",
      "C:\\Users\\Shahwaiz\\Anaconda2\\lib\\site-packages\\ipykernel\\__main__.py:332: VisibleDeprecationWarning: boolean index did not match indexed array along dimension 0; dimension is 29 but corresponding boolean dimension is 8\n",
      "C:\\Users\\Shahwaiz\\Anaconda2\\lib\\site-packages\\ipykernel\\__main__.py:332: VisibleDeprecationWarning: boolean index did not match indexed array along dimension 0; dimension is 29 but corresponding boolean dimension is 21\n",
      "C:\\Users\\Shahwaiz\\Anaconda2\\lib\\site-packages\\ipykernel\\__main__.py:332: VisibleDeprecationWarning: boolean index did not match indexed array along dimension 0; dimension is 21 but corresponding boolean dimension is 6\n",
      "C:\\Users\\Shahwaiz\\Anaconda2\\lib\\site-packages\\ipykernel\\__main__.py:332: VisibleDeprecationWarning: boolean index did not match indexed array along dimension 0; dimension is 21 but corresponding boolean dimension is 15\n",
      "C:\\Users\\Shahwaiz\\Anaconda2\\lib\\site-packages\\ipykernel\\__main__.py:332: VisibleDeprecationWarning: boolean index did not match indexed array along dimension 0; dimension is 14 but corresponding boolean dimension is 4\n",
      "C:\\Users\\Shahwaiz\\Anaconda2\\lib\\site-packages\\ipykernel\\__main__.py:332: VisibleDeprecationWarning: boolean index did not match indexed array along dimension 0; dimension is 14 but corresponding boolean dimension is 10\n",
      "C:\\Users\\Shahwaiz\\Anaconda2\\lib\\site-packages\\ipykernel\\__main__.py:332: VisibleDeprecationWarning: boolean index did not match indexed array along dimension 0; dimension is 39 but corresponding boolean dimension is 15\n",
      "C:\\Users\\Shahwaiz\\Anaconda2\\lib\\site-packages\\ipykernel\\__main__.py:332: VisibleDeprecationWarning: boolean index did not match indexed array along dimension 0; dimension is 39 but corresponding boolean dimension is 24\n",
      "C:\\Users\\Shahwaiz\\Anaconda2\\lib\\site-packages\\ipykernel\\__main__.py:332: VisibleDeprecationWarning: boolean index did not match indexed array along dimension 0; dimension is 15 but corresponding boolean dimension is 7\n",
      "C:\\Users\\Shahwaiz\\Anaconda2\\lib\\site-packages\\ipykernel\\__main__.py:332: VisibleDeprecationWarning: boolean index did not match indexed array along dimension 0; dimension is 15 but corresponding boolean dimension is 8\n",
      "C:\\Users\\Shahwaiz\\Anaconda2\\lib\\site-packages\\ipykernel\\__main__.py:332: VisibleDeprecationWarning: boolean index did not match indexed array along dimension 0; dimension is 24 but corresponding boolean dimension is 8\n",
      "C:\\Users\\Shahwaiz\\Anaconda2\\lib\\site-packages\\ipykernel\\__main__.py:332: VisibleDeprecationWarning: boolean index did not match indexed array along dimension 0; dimension is 24 but corresponding boolean dimension is 16\n",
      "C:\\Users\\Shahwaiz\\Anaconda2\\lib\\site-packages\\ipykernel\\__main__.py:332: VisibleDeprecationWarning: boolean index did not match indexed array along dimension 0; dimension is 73 but corresponding boolean dimension is 22\n",
      "C:\\Users\\Shahwaiz\\Anaconda2\\lib\\site-packages\\ipykernel\\__main__.py:332: VisibleDeprecationWarning: boolean index did not match indexed array along dimension 0; dimension is 73 but corresponding boolean dimension is 51\n",
      "C:\\Users\\Shahwaiz\\Anaconda2\\lib\\site-packages\\ipykernel\\__main__.py:332: VisibleDeprecationWarning: boolean index did not match indexed array along dimension 0; dimension is 20 but corresponding boolean dimension is 5\n",
      "C:\\Users\\Shahwaiz\\Anaconda2\\lib\\site-packages\\ipykernel\\__main__.py:332: VisibleDeprecationWarning: boolean index did not match indexed array along dimension 0; dimension is 20 but corresponding boolean dimension is 15\n",
      "C:\\Users\\Shahwaiz\\Anaconda2\\lib\\site-packages\\ipykernel\\__main__.py:332: VisibleDeprecationWarning: boolean index did not match indexed array along dimension 0; dimension is 45 but corresponding boolean dimension is 15\n",
      "C:\\Users\\Shahwaiz\\Anaconda2\\lib\\site-packages\\ipykernel\\__main__.py:332: VisibleDeprecationWarning: boolean index did not match indexed array along dimension 0; dimension is 45 but corresponding boolean dimension is 30\n",
      "C:\\Users\\Shahwaiz\\Anaconda2\\lib\\site-packages\\ipykernel\\__main__.py:332: VisibleDeprecationWarning: boolean index did not match indexed array along dimension 0; dimension is 39 but corresponding boolean dimension is 13\n",
      "C:\\Users\\Shahwaiz\\Anaconda2\\lib\\site-packages\\ipykernel\\__main__.py:332: VisibleDeprecationWarning: boolean index did not match indexed array along dimension 0; dimension is 39 but corresponding boolean dimension is 26\n",
      "C:\\Users\\Shahwaiz\\Anaconda2\\lib\\site-packages\\ipykernel\\__main__.py:332: VisibleDeprecationWarning: boolean index did not match indexed array along dimension 0; dimension is 13 but corresponding boolean dimension is 3\n",
      "C:\\Users\\Shahwaiz\\Anaconda2\\lib\\site-packages\\ipykernel\\__main__.py:332: VisibleDeprecationWarning: boolean index did not match indexed array along dimension 0; dimension is 13 but corresponding boolean dimension is 10\n",
      "C:\\Users\\Shahwaiz\\Anaconda2\\lib\\site-packages\\ipykernel\\__main__.py:332: VisibleDeprecationWarning: boolean index did not match indexed array along dimension 0; dimension is 26 but corresponding boolean dimension is 10\n",
      "C:\\Users\\Shahwaiz\\Anaconda2\\lib\\site-packages\\ipykernel\\__main__.py:332: VisibleDeprecationWarning: boolean index did not match indexed array along dimension 0; dimension is 26 but corresponding boolean dimension is 16\n",
      "C:\\Users\\Shahwaiz\\Anaconda2\\lib\\site-packages\\ipykernel\\__main__.py:332: VisibleDeprecationWarning: boolean index did not match indexed array along dimension 0; dimension is 22 but corresponding boolean dimension is 8\n",
      "C:\\Users\\Shahwaiz\\Anaconda2\\lib\\site-packages\\ipykernel\\__main__.py:332: VisibleDeprecationWarning: boolean index did not match indexed array along dimension 0; dimension is 22 but corresponding boolean dimension is 14\n",
      "C:\\Users\\Shahwaiz\\Anaconda2\\lib\\site-packages\\ipykernel\\__main__.py:332: VisibleDeprecationWarning: boolean index did not match indexed array along dimension 0; dimension is 16 but corresponding boolean dimension is 8\n",
      "C:\\Users\\Shahwaiz\\Anaconda2\\lib\\site-packages\\ipykernel\\__main__.py:332: VisibleDeprecationWarning: boolean index did not match indexed array along dimension 0; dimension is 106 but corresponding boolean dimension is 36\n",
      "C:\\Users\\Shahwaiz\\Anaconda2\\lib\\site-packages\\ipykernel\\__main__.py:332: VisibleDeprecationWarning: boolean index did not match indexed array along dimension 0; dimension is 106 but corresponding boolean dimension is 70\n",
      "C:\\Users\\Shahwaiz\\Anaconda2\\lib\\site-packages\\ipykernel\\__main__.py:332: VisibleDeprecationWarning: boolean index did not match indexed array along dimension 0; dimension is 102 but corresponding boolean dimension is 34\n",
      "C:\\Users\\Shahwaiz\\Anaconda2\\lib\\site-packages\\ipykernel\\__main__.py:332: VisibleDeprecationWarning: boolean index did not match indexed array along dimension 0; dimension is 102 but corresponding boolean dimension is 68\n",
      "C:\\Users\\Shahwaiz\\Anaconda2\\lib\\site-packages\\ipykernel\\__main__.py:332: VisibleDeprecationWarning: boolean index did not match indexed array along dimension 0; dimension is 94 but corresponding boolean dimension is 31\n",
      "C:\\Users\\Shahwaiz\\Anaconda2\\lib\\site-packages\\ipykernel\\__main__.py:332: VisibleDeprecationWarning: boolean index did not match indexed array along dimension 0; dimension is 94 but corresponding boolean dimension is 63\n",
      "C:\\Users\\Shahwaiz\\Anaconda2\\lib\\site-packages\\ipykernel\\__main__.py:332: VisibleDeprecationWarning: boolean index did not match indexed array along dimension 0; dimension is 27 but corresponding boolean dimension is 8\n",
      "C:\\Users\\Shahwaiz\\Anaconda2\\lib\\site-packages\\ipykernel\\__main__.py:332: VisibleDeprecationWarning: boolean index did not match indexed array along dimension 0; dimension is 27 but corresponding boolean dimension is 19\n",
      "C:\\Users\\Shahwaiz\\Anaconda2\\lib\\site-packages\\ipykernel\\__main__.py:332: VisibleDeprecationWarning: boolean index did not match indexed array along dimension 0; dimension is 106 but corresponding boolean dimension is 35\n",
      "C:\\Users\\Shahwaiz\\Anaconda2\\lib\\site-packages\\ipykernel\\__main__.py:332: VisibleDeprecationWarning: boolean index did not match indexed array along dimension 0; dimension is 106 but corresponding boolean dimension is 71\n",
      "C:\\Users\\Shahwaiz\\Anaconda2\\lib\\site-packages\\ipykernel\\__main__.py:332: VisibleDeprecationWarning: boolean index did not match indexed array along dimension 0; dimension is 40 but corresponding boolean dimension is 14\n",
      "C:\\Users\\Shahwaiz\\Anaconda2\\lib\\site-packages\\ipykernel\\__main__.py:332: VisibleDeprecationWarning: boolean index did not match indexed array along dimension 0; dimension is 40 but corresponding boolean dimension is 26\n",
      "C:\\Users\\Shahwaiz\\Anaconda2\\lib\\site-packages\\ipykernel\\__main__.py:332: VisibleDeprecationWarning: boolean index did not match indexed array along dimension 0; dimension is 14 but corresponding boolean dimension is 3\n",
      "C:\\Users\\Shahwaiz\\Anaconda2\\lib\\site-packages\\ipykernel\\__main__.py:332: VisibleDeprecationWarning: boolean index did not match indexed array along dimension 0; dimension is 14 but corresponding boolean dimension is 11\n",
      "C:\\Users\\Shahwaiz\\Anaconda2\\lib\\site-packages\\ipykernel\\__main__.py:332: VisibleDeprecationWarning: boolean index did not match indexed array along dimension 0; dimension is 11 but corresponding boolean dimension is 2\n",
      "C:\\Users\\Shahwaiz\\Anaconda2\\lib\\site-packages\\ipykernel\\__main__.py:332: VisibleDeprecationWarning: boolean index did not match indexed array along dimension 0; dimension is 11 but corresponding boolean dimension is 9\n",
      "C:\\Users\\Shahwaiz\\Anaconda2\\lib\\site-packages\\ipykernel\\__main__.py:332: VisibleDeprecationWarning: boolean index did not match indexed array along dimension 0; dimension is 26 but corresponding boolean dimension is 11\n",
      "C:\\Users\\Shahwaiz\\Anaconda2\\lib\\site-packages\\ipykernel\\__main__.py:332: VisibleDeprecationWarning: boolean index did not match indexed array along dimension 0; dimension is 26 but corresponding boolean dimension is 15\n",
      "C:\\Users\\Shahwaiz\\Anaconda2\\lib\\site-packages\\ipykernel\\__main__.py:332: VisibleDeprecationWarning: boolean index did not match indexed array along dimension 0; dimension is 14 but corresponding boolean dimension is 6\n",
      "C:\\Users\\Shahwaiz\\Anaconda2\\lib\\site-packages\\ipykernel\\__main__.py:332: VisibleDeprecationWarning: boolean index did not match indexed array along dimension 0; dimension is 14 but corresponding boolean dimension is 8\n",
      "C:\\Users\\Shahwaiz\\Anaconda2\\lib\\site-packages\\ipykernel\\__main__.py:332: VisibleDeprecationWarning: boolean index did not match indexed array along dimension 0; dimension is 32 but corresponding boolean dimension is 12\n",
      "C:\\Users\\Shahwaiz\\Anaconda2\\lib\\site-packages\\ipykernel\\__main__.py:332: VisibleDeprecationWarning: boolean index did not match indexed array along dimension 0; dimension is 32 but corresponding boolean dimension is 20\n",
      "C:\\Users\\Shahwaiz\\Anaconda2\\lib\\site-packages\\ipykernel\\__main__.py:332: VisibleDeprecationWarning: boolean index did not match indexed array along dimension 0; dimension is 20 but corresponding boolean dimension is 9\n",
      "C:\\Users\\Shahwaiz\\Anaconda2\\lib\\site-packages\\ipykernel\\__main__.py:332: VisibleDeprecationWarning: boolean index did not match indexed array along dimension 0; dimension is 20 but corresponding boolean dimension is 11\n"
     ]
    },
    {
     "name": "stdout",
     "output_type": "stream",
     "text": [
      "[Info] Fold 1 Accuracy = 0.810810810811\n",
      "[Info] Fold 2 Accuracy = 0.675675675676\n",
      "[Info] Fold 3 Accuracy = 0.675675675676\n",
      "[Info] Fold 4 Accuracy = 0.675675675676\n",
      "[0.81081081081081086, 0.67567567567567566, 0.67567567567567566, 0.67567567567567566] \n",
      "Purity=0.85, Nexample-threshold=7.0, Mean Accuracy =0.709459459459\n",
      "[Info] Fold 1 Accuracy = 0.810810810811\n",
      "[Info] Fold 2 Accuracy = 0.351351351351\n",
      "[Info] Fold 3 Accuracy = 0.675675675676\n",
      "[Info] Fold 4 Accuracy = 0.675675675676\n",
      "[0.81081081081081086, 0.35135135135135137, 0.67567567567567566, 0.67567567567567566] \n",
      "Purity=0.85, Nexample-threshold=8.0, Mean Accuracy =0.628378378378\n"
     ]
    },
    {
     "name": "stderr",
     "output_type": "stream",
     "text": [
      "C:\\Users\\Shahwaiz\\Anaconda2\\lib\\site-packages\\ipykernel\\__main__.py:332: VisibleDeprecationWarning: boolean index did not match indexed array along dimension 0; dimension is 80 but corresponding boolean dimension is 25\n",
      "C:\\Users\\Shahwaiz\\Anaconda2\\lib\\site-packages\\ipykernel\\__main__.py:332: VisibleDeprecationWarning: boolean index did not match indexed array along dimension 0; dimension is 80 but corresponding boolean dimension is 55\n",
      "C:\\Users\\Shahwaiz\\Anaconda2\\lib\\site-packages\\ipykernel\\__main__.py:332: VisibleDeprecationWarning: boolean index did not match indexed array along dimension 0; dimension is 28 but corresponding boolean dimension is 6\n",
      "C:\\Users\\Shahwaiz\\Anaconda2\\lib\\site-packages\\ipykernel\\__main__.py:332: VisibleDeprecationWarning: boolean index did not match indexed array along dimension 0; dimension is 28 but corresponding boolean dimension is 22\n",
      "C:\\Users\\Shahwaiz\\Anaconda2\\lib\\site-packages\\ipykernel\\__main__.py:332: VisibleDeprecationWarning: boolean index did not match indexed array along dimension 0; dimension is 22 but corresponding boolean dimension is 4\n",
      "C:\\Users\\Shahwaiz\\Anaconda2\\lib\\site-packages\\ipykernel\\__main__.py:332: VisibleDeprecationWarning: boolean index did not match indexed array along dimension 0; dimension is 22 but corresponding boolean dimension is 18\n",
      "C:\\Users\\Shahwaiz\\Anaconda2\\lib\\site-packages\\ipykernel\\__main__.py:332: VisibleDeprecationWarning: boolean index did not match indexed array along dimension 0; dimension is 109 but corresponding boolean dimension is 37\n",
      "C:\\Users\\Shahwaiz\\Anaconda2\\lib\\site-packages\\ipykernel\\__main__.py:332: VisibleDeprecationWarning: boolean index did not match indexed array along dimension 0; dimension is 109 but corresponding boolean dimension is 72\n",
      "C:\\Users\\Shahwaiz\\Anaconda2\\lib\\site-packages\\ipykernel\\__main__.py:332: VisibleDeprecationWarning: boolean index did not match indexed array along dimension 0; dimension is 15 but corresponding boolean dimension is 3\n",
      "C:\\Users\\Shahwaiz\\Anaconda2\\lib\\site-packages\\ipykernel\\__main__.py:332: VisibleDeprecationWarning: boolean index did not match indexed array along dimension 0; dimension is 15 but corresponding boolean dimension is 12\n",
      "C:\\Users\\Shahwaiz\\Anaconda2\\lib\\site-packages\\ipykernel\\__main__.py:332: VisibleDeprecationWarning: boolean index did not match indexed array along dimension 0; dimension is 92 but corresponding boolean dimension is 33\n",
      "C:\\Users\\Shahwaiz\\Anaconda2\\lib\\site-packages\\ipykernel\\__main__.py:332: VisibleDeprecationWarning: boolean index did not match indexed array along dimension 0; dimension is 92 but corresponding boolean dimension is 59\n",
      "C:\\Users\\Shahwaiz\\Anaconda2\\lib\\site-packages\\ipykernel\\__main__.py:332: VisibleDeprecationWarning: boolean index did not match indexed array along dimension 0; dimension is 36 but corresponding boolean dimension is 12\n",
      "C:\\Users\\Shahwaiz\\Anaconda2\\lib\\site-packages\\ipykernel\\__main__.py:332: VisibleDeprecationWarning: boolean index did not match indexed array along dimension 0; dimension is 36 but corresponding boolean dimension is 24\n",
      "C:\\Users\\Shahwaiz\\Anaconda2\\lib\\site-packages\\ipykernel\\__main__.py:332: VisibleDeprecationWarning: boolean index did not match indexed array along dimension 0; dimension is 43 but corresponding boolean dimension is 17\n",
      "C:\\Users\\Shahwaiz\\Anaconda2\\lib\\site-packages\\ipykernel\\__main__.py:332: VisibleDeprecationWarning: boolean index did not match indexed array along dimension 0; dimension is 43 but corresponding boolean dimension is 26\n",
      "C:\\Users\\Shahwaiz\\Anaconda2\\lib\\site-packages\\ipykernel\\__main__.py:332: VisibleDeprecationWarning: boolean index did not match indexed array along dimension 0; dimension is 36 but corresponding boolean dimension is 13\n",
      "C:\\Users\\Shahwaiz\\Anaconda2\\lib\\site-packages\\ipykernel\\__main__.py:332: VisibleDeprecationWarning: boolean index did not match indexed array along dimension 0; dimension is 36 but corresponding boolean dimension is 23\n",
      "C:\\Users\\Shahwaiz\\Anaconda2\\lib\\site-packages\\ipykernel\\__main__.py:332: VisibleDeprecationWarning: boolean index did not match indexed array along dimension 0; dimension is 35 but corresponding boolean dimension is 13\n",
      "C:\\Users\\Shahwaiz\\Anaconda2\\lib\\site-packages\\ipykernel\\__main__.py:332: VisibleDeprecationWarning: boolean index did not match indexed array along dimension 0; dimension is 35 but corresponding boolean dimension is 22\n",
      "C:\\Users\\Shahwaiz\\Anaconda2\\lib\\site-packages\\ipykernel\\__main__.py:332: VisibleDeprecationWarning: boolean index did not match indexed array along dimension 0; dimension is 34 but corresponding boolean dimension is 13\n",
      "C:\\Users\\Shahwaiz\\Anaconda2\\lib\\site-packages\\ipykernel\\__main__.py:332: VisibleDeprecationWarning: boolean index did not match indexed array along dimension 0; dimension is 34 but corresponding boolean dimension is 21\n",
      "C:\\Users\\Shahwaiz\\Anaconda2\\lib\\site-packages\\ipykernel\\__main__.py:332: VisibleDeprecationWarning: boolean index did not match indexed array along dimension 0; dimension is 26 but corresponding boolean dimension is 9\n",
      "C:\\Users\\Shahwaiz\\Anaconda2\\lib\\site-packages\\ipykernel\\__main__.py:332: VisibleDeprecationWarning: boolean index did not match indexed array along dimension 0; dimension is 26 but corresponding boolean dimension is 17\n",
      "C:\\Users\\Shahwaiz\\Anaconda2\\lib\\site-packages\\ipykernel\\__main__.py:332: VisibleDeprecationWarning: boolean index did not match indexed array along dimension 0; dimension is 22 but corresponding boolean dimension is 7\n",
      "C:\\Users\\Shahwaiz\\Anaconda2\\lib\\site-packages\\ipykernel\\__main__.py:332: VisibleDeprecationWarning: boolean index did not match indexed array along dimension 0; dimension is 22 but corresponding boolean dimension is 15\n",
      "C:\\Users\\Shahwaiz\\Anaconda2\\lib\\site-packages\\ipykernel\\__main__.py:332: VisibleDeprecationWarning: boolean index did not match indexed array along dimension 0; dimension is 104 but corresponding boolean dimension is 34\n",
      "C:\\Users\\Shahwaiz\\Anaconda2\\lib\\site-packages\\ipykernel\\__main__.py:332: VisibleDeprecationWarning: boolean index did not match indexed array along dimension 0; dimension is 104 but corresponding boolean dimension is 70\n",
      "C:\\Users\\Shahwaiz\\Anaconda2\\lib\\site-packages\\ipykernel\\__main__.py:332: VisibleDeprecationWarning: boolean index did not match indexed array along dimension 0; dimension is 90 but corresponding boolean dimension is 30\n",
      "C:\\Users\\Shahwaiz\\Anaconda2\\lib\\site-packages\\ipykernel\\__main__.py:332: VisibleDeprecationWarning: boolean index did not match indexed array along dimension 0; dimension is 90 but corresponding boolean dimension is 60\n",
      "C:\\Users\\Shahwaiz\\Anaconda2\\lib\\site-packages\\ipykernel\\__main__.py:332: VisibleDeprecationWarning: boolean index did not match indexed array along dimension 0; dimension is 78 but corresponding boolean dimension is 26\n",
      "C:\\Users\\Shahwaiz\\Anaconda2\\lib\\site-packages\\ipykernel\\__main__.py:332: VisibleDeprecationWarning: boolean index did not match indexed array along dimension 0; dimension is 78 but corresponding boolean dimension is 52\n",
      "C:\\Users\\Shahwaiz\\Anaconda2\\lib\\site-packages\\ipykernel\\__main__.py:332: VisibleDeprecationWarning: boolean index did not match indexed array along dimension 0; dimension is 15 but corresponding boolean dimension is 4\n",
      "C:\\Users\\Shahwaiz\\Anaconda2\\lib\\site-packages\\ipykernel\\__main__.py:332: VisibleDeprecationWarning: boolean index did not match indexed array along dimension 0; dimension is 15 but corresponding boolean dimension is 11\n",
      "C:\\Users\\Shahwaiz\\Anaconda2\\lib\\site-packages\\ipykernel\\__main__.py:332: VisibleDeprecationWarning: boolean index did not match indexed array along dimension 0; dimension is 105 but corresponding boolean dimension is 33\n",
      "C:\\Users\\Shahwaiz\\Anaconda2\\lib\\site-packages\\ipykernel\\__main__.py:332: VisibleDeprecationWarning: boolean index did not match indexed array along dimension 0; dimension is 105 but corresponding boolean dimension is 72\n",
      "C:\\Users\\Shahwaiz\\Anaconda2\\lib\\site-packages\\ipykernel\\__main__.py:332: VisibleDeprecationWarning: boolean index did not match indexed array along dimension 0; dimension is 87 but corresponding boolean dimension is 26\n",
      "C:\\Users\\Shahwaiz\\Anaconda2\\lib\\site-packages\\ipykernel\\__main__.py:332: VisibleDeprecationWarning: boolean index did not match indexed array along dimension 0; dimension is 87 but corresponding boolean dimension is 61\n",
      "C:\\Users\\Shahwaiz\\Anaconda2\\lib\\site-packages\\ipykernel\\__main__.py:332: VisibleDeprecationWarning: boolean index did not match indexed array along dimension 0; dimension is 77 but corresponding boolean dimension is 23\n",
      "C:\\Users\\Shahwaiz\\Anaconda2\\lib\\site-packages\\ipykernel\\__main__.py:332: VisibleDeprecationWarning: boolean index did not match indexed array along dimension 0; dimension is 77 but corresponding boolean dimension is 54\n"
     ]
    },
    {
     "name": "stdout",
     "output_type": "stream",
     "text": [
      "[Info] Fold 1 Accuracy = 0.648648648649\n",
      "[Info] Fold 2 Accuracy = 0.72972972973\n",
      "[Info] Fold 3 Accuracy = 0.837837837838\n",
      "[Info] Fold 4 Accuracy = 0.72972972973\n",
      "[0.64864864864864868, 0.72972972972972971, 0.83783783783783783, 0.72972972972972971] \n",
      "Purity=0.85, Nexample-threshold=9.0, Mean Accuracy =0.736486486486\n",
      "[Info] Fold 1 Accuracy = 0.675675675676\n",
      "[Info] Fold 2 Accuracy = 0.783783783784\n",
      "[Info] Fold 3 Accuracy = 0.756756756757\n"
     ]
    },
    {
     "name": "stderr",
     "output_type": "stream",
     "text": [
      "C:\\Users\\Shahwaiz\\Anaconda2\\lib\\site-packages\\ipykernel\\__main__.py:332: VisibleDeprecationWarning: boolean index did not match indexed array along dimension 0; dimension is 101 but corresponding boolean dimension is 34\n",
      "C:\\Users\\Shahwaiz\\Anaconda2\\lib\\site-packages\\ipykernel\\__main__.py:332: VisibleDeprecationWarning: boolean index did not match indexed array along dimension 0; dimension is 101 but corresponding boolean dimension is 67\n",
      "C:\\Users\\Shahwaiz\\Anaconda2\\lib\\site-packages\\ipykernel\\__main__.py:332: VisibleDeprecationWarning: boolean index did not match indexed array along dimension 0; dimension is 95 but corresponding boolean dimension is 30\n",
      "C:\\Users\\Shahwaiz\\Anaconda2\\lib\\site-packages\\ipykernel\\__main__.py:332: VisibleDeprecationWarning: boolean index did not match indexed array along dimension 0; dimension is 95 but corresponding boolean dimension is 65\n",
      "C:\\Users\\Shahwaiz\\Anaconda2\\lib\\site-packages\\ipykernel\\__main__.py:332: VisibleDeprecationWarning: boolean index did not match indexed array along dimension 0; dimension is 73 but corresponding boolean dimension is 25\n",
      "C:\\Users\\Shahwaiz\\Anaconda2\\lib\\site-packages\\ipykernel\\__main__.py:332: VisibleDeprecationWarning: boolean index did not match indexed array along dimension 0; dimension is 73 but corresponding boolean dimension is 48\n",
      "C:\\Users\\Shahwaiz\\Anaconda2\\lib\\site-packages\\ipykernel\\__main__.py:332: VisibleDeprecationWarning: boolean index did not match indexed array along dimension 0; dimension is 27 but corresponding boolean dimension is 10\n",
      "C:\\Users\\Shahwaiz\\Anaconda2\\lib\\site-packages\\ipykernel\\__main__.py:332: VisibleDeprecationWarning: boolean index did not match indexed array along dimension 0; dimension is 27 but corresponding boolean dimension is 17\n",
      "C:\\Users\\Shahwaiz\\Anaconda2\\lib\\site-packages\\ipykernel\\__main__.py:332: VisibleDeprecationWarning: boolean index did not match indexed array along dimension 0; dimension is 18 but corresponding boolean dimension is 9\n",
      "C:\\Users\\Shahwaiz\\Anaconda2\\lib\\site-packages\\ipykernel\\__main__.py:332: VisibleDeprecationWarning: boolean index did not match indexed array along dimension 0; dimension is 40 but corresponding boolean dimension is 10\n",
      "C:\\Users\\Shahwaiz\\Anaconda2\\lib\\site-packages\\ipykernel\\__main__.py:332: VisibleDeprecationWarning: boolean index did not match indexed array along dimension 0; dimension is 40 but corresponding boolean dimension is 30\n",
      "C:\\Users\\Shahwaiz\\Anaconda2\\lib\\site-packages\\ipykernel\\__main__.py:332: VisibleDeprecationWarning: boolean index did not match indexed array along dimension 0; dimension is 30 but corresponding boolean dimension is 8\n",
      "C:\\Users\\Shahwaiz\\Anaconda2\\lib\\site-packages\\ipykernel\\__main__.py:332: VisibleDeprecationWarning: boolean index did not match indexed array along dimension 0; dimension is 30 but corresponding boolean dimension is 22\n",
      "C:\\Users\\Shahwaiz\\Anaconda2\\lib\\site-packages\\ipykernel\\__main__.py:332: VisibleDeprecationWarning: boolean index did not match indexed array along dimension 0; dimension is 21 but corresponding boolean dimension is 5\n",
      "C:\\Users\\Shahwaiz\\Anaconda2\\lib\\site-packages\\ipykernel\\__main__.py:332: VisibleDeprecationWarning: boolean index did not match indexed array along dimension 0; dimension is 21 but corresponding boolean dimension is 16\n",
      "C:\\Users\\Shahwaiz\\Anaconda2\\lib\\site-packages\\ipykernel\\__main__.py:332: VisibleDeprecationWarning: boolean index did not match indexed array along dimension 0; dimension is 16 but corresponding boolean dimension is 5\n",
      "C:\\Users\\Shahwaiz\\Anaconda2\\lib\\site-packages\\ipykernel\\__main__.py:332: VisibleDeprecationWarning: boolean index did not match indexed array along dimension 0; dimension is 16 but corresponding boolean dimension is 11\n",
      "C:\\Users\\Shahwaiz\\Anaconda2\\lib\\site-packages\\ipykernel\\__main__.py:332: VisibleDeprecationWarning: boolean index did not match indexed array along dimension 0; dimension is 37 but corresponding boolean dimension is 13\n",
      "C:\\Users\\Shahwaiz\\Anaconda2\\lib\\site-packages\\ipykernel\\__main__.py:332: VisibleDeprecationWarning: boolean index did not match indexed array along dimension 0; dimension is 37 but corresponding boolean dimension is 24\n",
      "C:\\Users\\Shahwaiz\\Anaconda2\\lib\\site-packages\\ipykernel\\__main__.py:332: VisibleDeprecationWarning: boolean index did not match indexed array along dimension 0; dimension is 22 but corresponding boolean dimension is 6\n",
      "C:\\Users\\Shahwaiz\\Anaconda2\\lib\\site-packages\\ipykernel\\__main__.py:332: VisibleDeprecationWarning: boolean index did not match indexed array along dimension 0; dimension is 22 but corresponding boolean dimension is 16\n",
      "C:\\Users\\Shahwaiz\\Anaconda2\\lib\\site-packages\\ipykernel\\__main__.py:332: VisibleDeprecationWarning: boolean index did not match indexed array along dimension 0; dimension is 75 but corresponding boolean dimension is 24\n",
      "C:\\Users\\Shahwaiz\\Anaconda2\\lib\\site-packages\\ipykernel\\__main__.py:332: VisibleDeprecationWarning: boolean index did not match indexed array along dimension 0; dimension is 75 but corresponding boolean dimension is 51\n",
      "C:\\Users\\Shahwaiz\\Anaconda2\\lib\\site-packages\\ipykernel\\__main__.py:332: VisibleDeprecationWarning: boolean index did not match indexed array along dimension 0; dimension is 20 but corresponding boolean dimension is 6\n",
      "C:\\Users\\Shahwaiz\\Anaconda2\\lib\\site-packages\\ipykernel\\__main__.py:332: VisibleDeprecationWarning: boolean index did not match indexed array along dimension 0; dimension is 20 but corresponding boolean dimension is 14\n",
      "C:\\Users\\Shahwaiz\\Anaconda2\\lib\\site-packages\\ipykernel\\__main__.py:332: VisibleDeprecationWarning: boolean index did not match indexed array along dimension 0; dimension is 19 but corresponding boolean dimension is 5\n",
      "C:\\Users\\Shahwaiz\\Anaconda2\\lib\\site-packages\\ipykernel\\__main__.py:332: VisibleDeprecationWarning: boolean index did not match indexed array along dimension 0; dimension is 19 but corresponding boolean dimension is 14\n",
      "C:\\Users\\Shahwaiz\\Anaconda2\\lib\\site-packages\\ipykernel\\__main__.py:332: VisibleDeprecationWarning: boolean index did not match indexed array along dimension 0; dimension is 55 but corresponding boolean dimension is 18\n",
      "C:\\Users\\Shahwaiz\\Anaconda2\\lib\\site-packages\\ipykernel\\__main__.py:332: VisibleDeprecationWarning: boolean index did not match indexed array along dimension 0; dimension is 55 but corresponding boolean dimension is 37\n",
      "C:\\Users\\Shahwaiz\\Anaconda2\\lib\\site-packages\\ipykernel\\__main__.py:332: VisibleDeprecationWarning: boolean index did not match indexed array along dimension 0; dimension is 13 but corresponding boolean dimension is 6\n",
      "C:\\Users\\Shahwaiz\\Anaconda2\\lib\\site-packages\\ipykernel\\__main__.py:332: VisibleDeprecationWarning: boolean index did not match indexed array along dimension 0; dimension is 13 but corresponding boolean dimension is 7\n",
      "C:\\Users\\Shahwaiz\\Anaconda2\\lib\\site-packages\\ipykernel\\__main__.py:332: VisibleDeprecationWarning: boolean index did not match indexed array along dimension 0; dimension is 35 but corresponding boolean dimension is 9\n",
      "C:\\Users\\Shahwaiz\\Anaconda2\\lib\\site-packages\\ipykernel\\__main__.py:332: VisibleDeprecationWarning: boolean index did not match indexed array along dimension 0; dimension is 35 but corresponding boolean dimension is 26\n",
      "C:\\Users\\Shahwaiz\\Anaconda2\\lib\\site-packages\\ipykernel\\__main__.py:332: VisibleDeprecationWarning: boolean index did not match indexed array along dimension 0; dimension is 18 but corresponding boolean dimension is 3\n",
      "C:\\Users\\Shahwaiz\\Anaconda2\\lib\\site-packages\\ipykernel\\__main__.py:332: VisibleDeprecationWarning: boolean index did not match indexed array along dimension 0; dimension is 18 but corresponding boolean dimension is 15\n",
      "C:\\Users\\Shahwaiz\\Anaconda2\\lib\\site-packages\\ipykernel\\__main__.py:332: VisibleDeprecationWarning: boolean index did not match indexed array along dimension 0; dimension is 46 but corresponding boolean dimension is 12\n",
      "C:\\Users\\Shahwaiz\\Anaconda2\\lib\\site-packages\\ipykernel\\__main__.py:332: VisibleDeprecationWarning: boolean index did not match indexed array along dimension 0; dimension is 46 but corresponding boolean dimension is 34\n",
      "C:\\Users\\Shahwaiz\\Anaconda2\\lib\\site-packages\\ipykernel\\__main__.py:332: VisibleDeprecationWarning: boolean index did not match indexed array along dimension 0; dimension is 33 but corresponding boolean dimension is 6\n",
      "C:\\Users\\Shahwaiz\\Anaconda2\\lib\\site-packages\\ipykernel\\__main__.py:332: VisibleDeprecationWarning: boolean index did not match indexed array along dimension 0; dimension is 33 but corresponding boolean dimension is 27\n",
      "C:\\Users\\Shahwaiz\\Anaconda2\\lib\\site-packages\\ipykernel\\__main__.py:332: VisibleDeprecationWarning: boolean index did not match indexed array along dimension 0; dimension is 66 but corresponding boolean dimension is 25\n",
      "C:\\Users\\Shahwaiz\\Anaconda2\\lib\\site-packages\\ipykernel\\__main__.py:332: VisibleDeprecationWarning: boolean index did not match indexed array along dimension 0; dimension is 66 but corresponding boolean dimension is 41\n",
      "C:\\Users\\Shahwaiz\\Anaconda2\\lib\\site-packages\\ipykernel\\__main__.py:332: VisibleDeprecationWarning: boolean index did not match indexed array along dimension 0; dimension is 17 but corresponding boolean dimension is 6\n",
      "C:\\Users\\Shahwaiz\\Anaconda2\\lib\\site-packages\\ipykernel\\__main__.py:332: VisibleDeprecationWarning: boolean index did not match indexed array along dimension 0; dimension is 17 but corresponding boolean dimension is 11\n",
      "C:\\Users\\Shahwaiz\\Anaconda2\\lib\\site-packages\\ipykernel\\__main__.py:332: VisibleDeprecationWarning: boolean index did not match indexed array along dimension 0; dimension is 24 but corresponding boolean dimension is 7\n",
      "C:\\Users\\Shahwaiz\\Anaconda2\\lib\\site-packages\\ipykernel\\__main__.py:332: VisibleDeprecationWarning: boolean index did not match indexed array along dimension 0; dimension is 24 but corresponding boolean dimension is 17\n",
      "C:\\Users\\Shahwaiz\\Anaconda2\\lib\\site-packages\\ipykernel\\__main__.py:332: VisibleDeprecationWarning: boolean index did not match indexed array along dimension 0; dimension is 108 but corresponding boolean dimension is 37\n",
      "C:\\Users\\Shahwaiz\\Anaconda2\\lib\\site-packages\\ipykernel\\__main__.py:332: VisibleDeprecationWarning: boolean index did not match indexed array along dimension 0; dimension is 108 but corresponding boolean dimension is 71\n",
      "C:\\Users\\Shahwaiz\\Anaconda2\\lib\\site-packages\\ipykernel\\__main__.py:332: VisibleDeprecationWarning: boolean index did not match indexed array along dimension 0; dimension is 79 but corresponding boolean dimension is 29\n",
      "C:\\Users\\Shahwaiz\\Anaconda2\\lib\\site-packages\\ipykernel\\__main__.py:332: VisibleDeprecationWarning: boolean index did not match indexed array along dimension 0; dimension is 79 but corresponding boolean dimension is 50\n",
      "C:\\Users\\Shahwaiz\\Anaconda2\\lib\\site-packages\\ipykernel\\__main__.py:332: VisibleDeprecationWarning: boolean index did not match indexed array along dimension 0; dimension is 75 but corresponding boolean dimension is 28\n",
      "C:\\Users\\Shahwaiz\\Anaconda2\\lib\\site-packages\\ipykernel\\__main__.py:332: VisibleDeprecationWarning: boolean index did not match indexed array along dimension 0; dimension is 75 but corresponding boolean dimension is 47\n",
      "C:\\Users\\Shahwaiz\\Anaconda2\\lib\\site-packages\\ipykernel\\__main__.py:332: VisibleDeprecationWarning: boolean index did not match indexed array along dimension 0; dimension is 30 but corresponding boolean dimension is 9\n",
      "C:\\Users\\Shahwaiz\\Anaconda2\\lib\\site-packages\\ipykernel\\__main__.py:332: VisibleDeprecationWarning: boolean index did not match indexed array along dimension 0; dimension is 30 but corresponding boolean dimension is 21\n"
     ]
    },
    {
     "name": "stdout",
     "output_type": "stream",
     "text": [
      "[Info] Fold 4 Accuracy = 0.675675675676\n",
      "[0.67567567567567566, 0.78378378378378377, 0.7567567567567568, 0.67567567567567566] \n",
      "Purity=0.85, Nexample-threshold=10.0, Mean Accuracy =0.722972972973\n",
      "[Info] Fold 1 Accuracy = 0.810810810811\n",
      "[Info] Fold 2 Accuracy = 0.972972972973\n",
      "[Info] Fold 3 Accuracy = 0.675675675676\n"
     ]
    },
    {
     "name": "stderr",
     "output_type": "stream",
     "text": [
      "C:\\Users\\Shahwaiz\\Anaconda2\\lib\\site-packages\\ipykernel\\__main__.py:332: VisibleDeprecationWarning: boolean index did not match indexed array along dimension 0; dimension is 37 but corresponding boolean dimension is 10\n",
      "C:\\Users\\Shahwaiz\\Anaconda2\\lib\\site-packages\\ipykernel\\__main__.py:332: VisibleDeprecationWarning: boolean index did not match indexed array along dimension 0; dimension is 37 but corresponding boolean dimension is 27\n",
      "C:\\Users\\Shahwaiz\\Anaconda2\\lib\\site-packages\\ipykernel\\__main__.py:332: VisibleDeprecationWarning: boolean index did not match indexed array along dimension 0; dimension is 19 but corresponding boolean dimension is 7\n",
      "C:\\Users\\Shahwaiz\\Anaconda2\\lib\\site-packages\\ipykernel\\__main__.py:332: VisibleDeprecationWarning: boolean index did not match indexed array along dimension 0; dimension is 19 but corresponding boolean dimension is 12\n",
      "C:\\Users\\Shahwaiz\\Anaconda2\\lib\\site-packages\\ipykernel\\__main__.py:332: VisibleDeprecationWarning: boolean index did not match indexed array along dimension 0; dimension is 14 but corresponding boolean dimension is 7\n",
      "C:\\Users\\Shahwaiz\\Anaconda2\\lib\\site-packages\\ipykernel\\__main__.py:332: VisibleDeprecationWarning: boolean index did not match indexed array along dimension 0; dimension is 75 but corresponding boolean dimension is 27\n",
      "C:\\Users\\Shahwaiz\\Anaconda2\\lib\\site-packages\\ipykernel\\__main__.py:332: VisibleDeprecationWarning: boolean index did not match indexed array along dimension 0; dimension is 75 but corresponding boolean dimension is 48\n",
      "C:\\Users\\Shahwaiz\\Anaconda2\\lib\\site-packages\\ipykernel\\__main__.py:332: VisibleDeprecationWarning: boolean index did not match indexed array along dimension 0; dimension is 74 but corresponding boolean dimension is 27\n",
      "C:\\Users\\Shahwaiz\\Anaconda2\\lib\\site-packages\\ipykernel\\__main__.py:332: VisibleDeprecationWarning: boolean index did not match indexed array along dimension 0; dimension is 74 but corresponding boolean dimension is 47\n",
      "C:\\Users\\Shahwaiz\\Anaconda2\\lib\\site-packages\\ipykernel\\__main__.py:332: VisibleDeprecationWarning: boolean index did not match indexed array along dimension 0; dimension is 73 but corresponding boolean dimension is 27\n",
      "C:\\Users\\Shahwaiz\\Anaconda2\\lib\\site-packages\\ipykernel\\__main__.py:332: VisibleDeprecationWarning: boolean index did not match indexed array along dimension 0; dimension is 73 but corresponding boolean dimension is 46\n",
      "C:\\Users\\Shahwaiz\\Anaconda2\\lib\\site-packages\\ipykernel\\__main__.py:332: VisibleDeprecationWarning: boolean index did not match indexed array along dimension 0; dimension is 34 but corresponding boolean dimension is 14\n",
      "C:\\Users\\Shahwaiz\\Anaconda2\\lib\\site-packages\\ipykernel\\__main__.py:332: VisibleDeprecationWarning: boolean index did not match indexed array along dimension 0; dimension is 34 but corresponding boolean dimension is 20\n",
      "C:\\Users\\Shahwaiz\\Anaconda2\\lib\\site-packages\\ipykernel\\__main__.py:332: VisibleDeprecationWarning: boolean index did not match indexed array along dimension 0; dimension is 14 but corresponding boolean dimension is 5\n",
      "C:\\Users\\Shahwaiz\\Anaconda2\\lib\\site-packages\\ipykernel\\__main__.py:332: VisibleDeprecationWarning: boolean index did not match indexed array along dimension 0; dimension is 14 but corresponding boolean dimension is 9\n",
      "C:\\Users\\Shahwaiz\\Anaconda2\\lib\\site-packages\\ipykernel\\__main__.py:332: VisibleDeprecationWarning: boolean index did not match indexed array along dimension 0; dimension is 23 but corresponding boolean dimension is 9\n",
      "C:\\Users\\Shahwaiz\\Anaconda2\\lib\\site-packages\\ipykernel\\__main__.py:332: VisibleDeprecationWarning: boolean index did not match indexed array along dimension 0; dimension is 23 but corresponding boolean dimension is 14\n",
      "C:\\Users\\Shahwaiz\\Anaconda2\\lib\\site-packages\\ipykernel\\__main__.py:332: VisibleDeprecationWarning: boolean index did not match indexed array along dimension 0; dimension is 89 but corresponding boolean dimension is 28\n",
      "C:\\Users\\Shahwaiz\\Anaconda2\\lib\\site-packages\\ipykernel\\__main__.py:332: VisibleDeprecationWarning: boolean index did not match indexed array along dimension 0; dimension is 89 but corresponding boolean dimension is 61\n",
      "C:\\Users\\Shahwaiz\\Anaconda2\\lib\\site-packages\\ipykernel\\__main__.py:332: VisibleDeprecationWarning: boolean index did not match indexed array along dimension 0; dimension is 13 but corresponding boolean dimension is 2\n",
      "C:\\Users\\Shahwaiz\\Anaconda2\\lib\\site-packages\\ipykernel\\__main__.py:332: VisibleDeprecationWarning: boolean index did not match indexed array along dimension 0; dimension is 13 but corresponding boolean dimension is 11\n",
      "C:\\Users\\Shahwaiz\\Anaconda2\\lib\\site-packages\\ipykernel\\__main__.py:332: VisibleDeprecationWarning: boolean index did not match indexed array along dimension 0; dimension is 61 but corresponding boolean dimension is 22\n",
      "C:\\Users\\Shahwaiz\\Anaconda2\\lib\\site-packages\\ipykernel\\__main__.py:332: VisibleDeprecationWarning: boolean index did not match indexed array along dimension 0; dimension is 61 but corresponding boolean dimension is 39\n",
      "C:\\Users\\Shahwaiz\\Anaconda2\\lib\\site-packages\\ipykernel\\__main__.py:332: VisibleDeprecationWarning: boolean index did not match indexed array along dimension 0; dimension is 57 but corresponding boolean dimension is 21\n",
      "C:\\Users\\Shahwaiz\\Anaconda2\\lib\\site-packages\\ipykernel\\__main__.py:332: VisibleDeprecationWarning: boolean index did not match indexed array along dimension 0; dimension is 57 but corresponding boolean dimension is 36\n",
      "C:\\Users\\Shahwaiz\\Anaconda2\\lib\\site-packages\\ipykernel\\__main__.py:332: VisibleDeprecationWarning: boolean index did not match indexed array along dimension 0; dimension is 17 but corresponding boolean dimension is 8\n",
      "C:\\Users\\Shahwaiz\\Anaconda2\\lib\\site-packages\\ipykernel\\__main__.py:332: VisibleDeprecationWarning: boolean index did not match indexed array along dimension 0; dimension is 17 but corresponding boolean dimension is 9\n",
      "C:\\Users\\Shahwaiz\\Anaconda2\\lib\\site-packages\\ipykernel\\__main__.py:332: VisibleDeprecationWarning: boolean index did not match indexed array along dimension 0; dimension is 51 but corresponding boolean dimension is 16\n",
      "C:\\Users\\Shahwaiz\\Anaconda2\\lib\\site-packages\\ipykernel\\__main__.py:332: VisibleDeprecationWarning: boolean index did not match indexed array along dimension 0; dimension is 51 but corresponding boolean dimension is 35\n",
      "C:\\Users\\Shahwaiz\\Anaconda2\\lib\\site-packages\\ipykernel\\__main__.py:332: VisibleDeprecationWarning: boolean index did not match indexed array along dimension 0; dimension is 35 but corresponding boolean dimension is 11\n",
      "C:\\Users\\Shahwaiz\\Anaconda2\\lib\\site-packages\\ipykernel\\__main__.py:332: VisibleDeprecationWarning: boolean index did not match indexed array along dimension 0; dimension is 35 but corresponding boolean dimension is 24\n",
      "C:\\Users\\Shahwaiz\\Anaconda2\\lib\\site-packages\\ipykernel\\__main__.py:332: VisibleDeprecationWarning: boolean index did not match indexed array along dimension 0; dimension is 33 but corresponding boolean dimension is 10\n",
      "C:\\Users\\Shahwaiz\\Anaconda2\\lib\\site-packages\\ipykernel\\__main__.py:332: VisibleDeprecationWarning: boolean index did not match indexed array along dimension 0; dimension is 33 but corresponding boolean dimension is 23\n",
      "C:\\Users\\Shahwaiz\\Anaconda2\\lib\\site-packages\\ipykernel\\__main__.py:332: VisibleDeprecationWarning: boolean index did not match indexed array along dimension 0; dimension is 23 but corresponding boolean dimension is 8\n",
      "C:\\Users\\Shahwaiz\\Anaconda2\\lib\\site-packages\\ipykernel\\__main__.py:332: VisibleDeprecationWarning: boolean index did not match indexed array along dimension 0; dimension is 23 but corresponding boolean dimension is 15\n",
      "C:\\Users\\Shahwaiz\\Anaconda2\\lib\\site-packages\\ipykernel\\__main__.py:332: VisibleDeprecationWarning: boolean index did not match indexed array along dimension 0; dimension is 34 but corresponding boolean dimension is 11\n",
      "C:\\Users\\Shahwaiz\\Anaconda2\\lib\\site-packages\\ipykernel\\__main__.py:332: VisibleDeprecationWarning: boolean index did not match indexed array along dimension 0; dimension is 34 but corresponding boolean dimension is 23\n",
      "C:\\Users\\Shahwaiz\\Anaconda2\\lib\\site-packages\\ipykernel\\__main__.py:332: VisibleDeprecationWarning: boolean index did not match indexed array along dimension 0; dimension is 29 but corresponding boolean dimension is 10\n",
      "C:\\Users\\Shahwaiz\\Anaconda2\\lib\\site-packages\\ipykernel\\__main__.py:332: VisibleDeprecationWarning: boolean index did not match indexed array along dimension 0; dimension is 29 but corresponding boolean dimension is 19\n",
      "C:\\Users\\Shahwaiz\\Anaconda2\\lib\\site-packages\\ipykernel\\__main__.py:332: VisibleDeprecationWarning: boolean index did not match indexed array along dimension 0; dimension is 71 but corresponding boolean dimension is 22\n",
      "C:\\Users\\Shahwaiz\\Anaconda2\\lib\\site-packages\\ipykernel\\__main__.py:332: VisibleDeprecationWarning: boolean index did not match indexed array along dimension 0; dimension is 71 but corresponding boolean dimension is 49\n",
      "C:\\Users\\Shahwaiz\\Anaconda2\\lib\\site-packages\\ipykernel\\__main__.py:332: VisibleDeprecationWarning: boolean index did not match indexed array along dimension 0; dimension is 25 but corresponding boolean dimension is 11\n",
      "C:\\Users\\Shahwaiz\\Anaconda2\\lib\\site-packages\\ipykernel\\__main__.py:332: VisibleDeprecationWarning: boolean index did not match indexed array along dimension 0; dimension is 25 but corresponding boolean dimension is 14\n",
      "C:\\Users\\Shahwaiz\\Anaconda2\\lib\\site-packages\\ipykernel\\__main__.py:332: VisibleDeprecationWarning: boolean index did not match indexed array along dimension 0; dimension is 19 but corresponding boolean dimension is 10\n",
      "C:\\Users\\Shahwaiz\\Anaconda2\\lib\\site-packages\\ipykernel\\__main__.py:332: VisibleDeprecationWarning: boolean index did not match indexed array along dimension 0; dimension is 19 but corresponding boolean dimension is 9\n",
      "C:\\Users\\Shahwaiz\\Anaconda2\\lib\\site-packages\\ipykernel\\__main__.py:332: VisibleDeprecationWarning: boolean index did not match indexed array along dimension 0; dimension is 42 but corresponding boolean dimension is 15\n",
      "C:\\Users\\Shahwaiz\\Anaconda2\\lib\\site-packages\\ipykernel\\__main__.py:332: VisibleDeprecationWarning: boolean index did not match indexed array along dimension 0; dimension is 42 but corresponding boolean dimension is 27\n",
      "C:\\Users\\Shahwaiz\\Anaconda2\\lib\\site-packages\\ipykernel\\__main__.py:332: VisibleDeprecationWarning: boolean index did not match indexed array along dimension 0; dimension is 33 but corresponding boolean dimension is 12\n",
      "C:\\Users\\Shahwaiz\\Anaconda2\\lib\\site-packages\\ipykernel\\__main__.py:332: VisibleDeprecationWarning: boolean index did not match indexed array along dimension 0; dimension is 33 but corresponding boolean dimension is 21\n",
      "C:\\Users\\Shahwaiz\\Anaconda2\\lib\\site-packages\\ipykernel\\__main__.py:332: VisibleDeprecationWarning: boolean index did not match indexed array along dimension 0; dimension is 70 but corresponding boolean dimension is 22\n",
      "C:\\Users\\Shahwaiz\\Anaconda2\\lib\\site-packages\\ipykernel\\__main__.py:332: VisibleDeprecationWarning: boolean index did not match indexed array along dimension 0; dimension is 70 but corresponding boolean dimension is 48\n"
     ]
    },
    {
     "name": "stdout",
     "output_type": "stream",
     "text": [
      "[Info] Fold 4 Accuracy = 0.675675675676\n",
      "[0.81081081081081086, 0.97297297297297303, 0.67567567567567566, 0.67567567567567566] \n",
      "Purity=0.85, Nexample-threshold=11.0, Mean Accuracy =0.783783783784\n",
      "[Info] Fold 1 Accuracy = 0.756756756757\n",
      "[Info] Fold 2 Accuracy = 0.945945945946\n",
      "[Info] Fold 3 Accuracy = 0.891891891892\n",
      "[Info] Fold 4 Accuracy = 0.675675675676\n",
      "[0.7567567567567568, 0.94594594594594594, 0.89189189189189189, 0.67567567567567566] \n",
      "Purity=0.85, Nexample-threshold=12.0, Mean Accuracy =0.817567567568\n"
     ]
    },
    {
     "name": "stderr",
     "output_type": "stream",
     "text": [
      "C:\\Users\\Shahwaiz\\Anaconda2\\lib\\site-packages\\ipykernel\\__main__.py:332: VisibleDeprecationWarning: boolean index did not match indexed array along dimension 0; dimension is 48 but corresponding boolean dimension is 14\n",
      "C:\\Users\\Shahwaiz\\Anaconda2\\lib\\site-packages\\ipykernel\\__main__.py:332: VisibleDeprecationWarning: boolean index did not match indexed array along dimension 0; dimension is 48 but corresponding boolean dimension is 34\n",
      "C:\\Users\\Shahwaiz\\Anaconda2\\lib\\site-packages\\ipykernel\\__main__.py:332: VisibleDeprecationWarning: boolean index did not match indexed array along dimension 0; dimension is 32 but corresponding boolean dimension is 9\n",
      "C:\\Users\\Shahwaiz\\Anaconda2\\lib\\site-packages\\ipykernel\\__main__.py:332: VisibleDeprecationWarning: boolean index did not match indexed array along dimension 0; dimension is 32 but corresponding boolean dimension is 23\n",
      "C:\\Users\\Shahwaiz\\Anaconda2\\lib\\site-packages\\ipykernel\\__main__.py:332: VisibleDeprecationWarning: boolean index did not match indexed array along dimension 0; dimension is 111 but corresponding boolean dimension is 37\n",
      "C:\\Users\\Shahwaiz\\Anaconda2\\lib\\site-packages\\ipykernel\\__main__.py:332: VisibleDeprecationWarning: boolean index did not match indexed array along dimension 0; dimension is 111 but corresponding boolean dimension is 74\n",
      "C:\\Users\\Shahwaiz\\Anaconda2\\lib\\site-packages\\ipykernel\\__main__.py:332: VisibleDeprecationWarning: boolean index did not match indexed array along dimension 0; dimension is 45 but corresponding boolean dimension is 11\n",
      "C:\\Users\\Shahwaiz\\Anaconda2\\lib\\site-packages\\ipykernel\\__main__.py:332: VisibleDeprecationWarning: boolean index did not match indexed array along dimension 0; dimension is 45 but corresponding boolean dimension is 34\n",
      "C:\\Users\\Shahwaiz\\Anaconda2\\lib\\site-packages\\ipykernel\\__main__.py:332: VisibleDeprecationWarning: boolean index did not match indexed array along dimension 0; dimension is 43 but corresponding boolean dimension is 10\n",
      "C:\\Users\\Shahwaiz\\Anaconda2\\lib\\site-packages\\ipykernel\\__main__.py:332: VisibleDeprecationWarning: boolean index did not match indexed array along dimension 0; dimension is 43 but corresponding boolean dimension is 33\n",
      "C:\\Users\\Shahwaiz\\Anaconda2\\lib\\site-packages\\ipykernel\\__main__.py:332: VisibleDeprecationWarning: boolean index did not match indexed array along dimension 0; dimension is 33 but corresponding boolean dimension is 7\n",
      "C:\\Users\\Shahwaiz\\Anaconda2\\lib\\site-packages\\ipykernel\\__main__.py:332: VisibleDeprecationWarning: boolean index did not match indexed array along dimension 0; dimension is 33 but corresponding boolean dimension is 26\n",
      "C:\\Users\\Shahwaiz\\Anaconda2\\lib\\site-packages\\ipykernel\\__main__.py:332: VisibleDeprecationWarning: boolean index did not match indexed array along dimension 0; dimension is 25 but corresponding boolean dimension is 5\n",
      "C:\\Users\\Shahwaiz\\Anaconda2\\lib\\site-packages\\ipykernel\\__main__.py:332: VisibleDeprecationWarning: boolean index did not match indexed array along dimension 0; dimension is 25 but corresponding boolean dimension is 20\n",
      "C:\\Users\\Shahwaiz\\Anaconda2\\lib\\site-packages\\ipykernel\\__main__.py:332: VisibleDeprecationWarning: boolean index did not match indexed array along dimension 0; dimension is 60 but corresponding boolean dimension is 17\n",
      "C:\\Users\\Shahwaiz\\Anaconda2\\lib\\site-packages\\ipykernel\\__main__.py:332: VisibleDeprecationWarning: boolean index did not match indexed array along dimension 0; dimension is 60 but corresponding boolean dimension is 43\n",
      "C:\\Users\\Shahwaiz\\Anaconda2\\lib\\site-packages\\ipykernel\\__main__.py:332: VisibleDeprecationWarning: boolean index did not match indexed array along dimension 0; dimension is 46 but corresponding boolean dimension is 16\n",
      "C:\\Users\\Shahwaiz\\Anaconda2\\lib\\site-packages\\ipykernel\\__main__.py:332: VisibleDeprecationWarning: boolean index did not match indexed array along dimension 0; dimension is 46 but corresponding boolean dimension is 30\n",
      "C:\\Users\\Shahwaiz\\Anaconda2\\lib\\site-packages\\ipykernel\\__main__.py:332: VisibleDeprecationWarning: boolean index did not match indexed array along dimension 0; dimension is 35 but corresponding boolean dimension is 12\n",
      "C:\\Users\\Shahwaiz\\Anaconda2\\lib\\site-packages\\ipykernel\\__main__.py:332: VisibleDeprecationWarning: boolean index did not match indexed array along dimension 0; dimension is 35 but corresponding boolean dimension is 23\n",
      "C:\\Users\\Shahwaiz\\Anaconda2\\lib\\site-packages\\ipykernel\\__main__.py:332: VisibleDeprecationWarning: boolean index did not match indexed array along dimension 0; dimension is 77 but corresponding boolean dimension is 25\n",
      "C:\\Users\\Shahwaiz\\Anaconda2\\lib\\site-packages\\ipykernel\\__main__.py:332: VisibleDeprecationWarning: boolean index did not match indexed array along dimension 0; dimension is 77 but corresponding boolean dimension is 52\n",
      "C:\\Users\\Shahwaiz\\Anaconda2\\lib\\site-packages\\ipykernel\\__main__.py:332: VisibleDeprecationWarning: boolean index did not match indexed array along dimension 0; dimension is 18 but corresponding boolean dimension is 8\n",
      "C:\\Users\\Shahwaiz\\Anaconda2\\lib\\site-packages\\ipykernel\\__main__.py:332: VisibleDeprecationWarning: boolean index did not match indexed array along dimension 0; dimension is 18 but corresponding boolean dimension is 10\n",
      "C:\\Users\\Shahwaiz\\Anaconda2\\lib\\site-packages\\ipykernel\\__main__.py:332: VisibleDeprecationWarning: boolean index did not match indexed array along dimension 0; dimension is 51 but corresponding boolean dimension is 14\n",
      "C:\\Users\\Shahwaiz\\Anaconda2\\lib\\site-packages\\ipykernel\\__main__.py:332: VisibleDeprecationWarning: boolean index did not match indexed array along dimension 0; dimension is 51 but corresponding boolean dimension is 37\n",
      "C:\\Users\\Shahwaiz\\Anaconda2\\lib\\site-packages\\ipykernel\\__main__.py:332: VisibleDeprecationWarning: boolean index did not match indexed array along dimension 0; dimension is 33 but corresponding boolean dimension is 5\n",
      "C:\\Users\\Shahwaiz\\Anaconda2\\lib\\site-packages\\ipykernel\\__main__.py:332: VisibleDeprecationWarning: boolean index did not match indexed array along dimension 0; dimension is 33 but corresponding boolean dimension is 28\n",
      "C:\\Users\\Shahwaiz\\Anaconda2\\lib\\site-packages\\ipykernel\\__main__.py:332: VisibleDeprecationWarning: boolean index did not match indexed array along dimension 0; dimension is 28 but corresponding boolean dimension is 5\n",
      "C:\\Users\\Shahwaiz\\Anaconda2\\lib\\site-packages\\ipykernel\\__main__.py:332: VisibleDeprecationWarning: boolean index did not match indexed array along dimension 0; dimension is 28 but corresponding boolean dimension is 23\n",
      "C:\\Users\\Shahwaiz\\Anaconda2\\lib\\site-packages\\ipykernel\\__main__.py:332: VisibleDeprecationWarning: boolean index did not match indexed array along dimension 0; dimension is 58 but corresponding boolean dimension is 20\n",
      "C:\\Users\\Shahwaiz\\Anaconda2\\lib\\site-packages\\ipykernel\\__main__.py:332: VisibleDeprecationWarning: boolean index did not match indexed array along dimension 0; dimension is 58 but corresponding boolean dimension is 38\n",
      "C:\\Users\\Shahwaiz\\Anaconda2\\lib\\site-packages\\ipykernel\\__main__.py:332: VisibleDeprecationWarning: boolean index did not match indexed array along dimension 0; dimension is 21 but corresponding boolean dimension is 10\n",
      "C:\\Users\\Shahwaiz\\Anaconda2\\lib\\site-packages\\ipykernel\\__main__.py:332: VisibleDeprecationWarning: boolean index did not match indexed array along dimension 0; dimension is 21 but corresponding boolean dimension is 11\n",
      "C:\\Users\\Shahwaiz\\Anaconda2\\lib\\site-packages\\ipykernel\\__main__.py:332: VisibleDeprecationWarning: boolean index did not match indexed array along dimension 0; dimension is 25 but corresponding boolean dimension is 10\n",
      "C:\\Users\\Shahwaiz\\Anaconda2\\lib\\site-packages\\ipykernel\\__main__.py:332: VisibleDeprecationWarning: boolean index did not match indexed array along dimension 0; dimension is 25 but corresponding boolean dimension is 15\n",
      "C:\\Users\\Shahwaiz\\Anaconda2\\lib\\site-packages\\ipykernel\\__main__.py:332: VisibleDeprecationWarning: boolean index did not match indexed array along dimension 0; dimension is 111 but corresponding boolean dimension is 36\n",
      "C:\\Users\\Shahwaiz\\Anaconda2\\lib\\site-packages\\ipykernel\\__main__.py:332: VisibleDeprecationWarning: boolean index did not match indexed array along dimension 0; dimension is 111 but corresponding boolean dimension is 75\n",
      "C:\\Users\\Shahwaiz\\Anaconda2\\lib\\site-packages\\ipykernel\\__main__.py:332: VisibleDeprecationWarning: boolean index did not match indexed array along dimension 0; dimension is 31 but corresponding boolean dimension is 13\n",
      "C:\\Users\\Shahwaiz\\Anaconda2\\lib\\site-packages\\ipykernel\\__main__.py:332: VisibleDeprecationWarning: boolean index did not match indexed array along dimension 0; dimension is 31 but corresponding boolean dimension is 18\n",
      "C:\\Users\\Shahwaiz\\Anaconda2\\lib\\site-packages\\ipykernel\\__main__.py:332: VisibleDeprecationWarning: boolean index did not match indexed array along dimension 0; dimension is 80 but corresponding boolean dimension is 23\n",
      "C:\\Users\\Shahwaiz\\Anaconda2\\lib\\site-packages\\ipykernel\\__main__.py:332: VisibleDeprecationWarning: boolean index did not match indexed array along dimension 0; dimension is 80 but corresponding boolean dimension is 57\n",
      "C:\\Users\\Shahwaiz\\Anaconda2\\lib\\site-packages\\ipykernel\\__main__.py:332: VisibleDeprecationWarning: boolean index did not match indexed array along dimension 0; dimension is 58 but corresponding boolean dimension is 17\n",
      "C:\\Users\\Shahwaiz\\Anaconda2\\lib\\site-packages\\ipykernel\\__main__.py:332: VisibleDeprecationWarning: boolean index did not match indexed array along dimension 0; dimension is 58 but corresponding boolean dimension is 41\n",
      "C:\\Users\\Shahwaiz\\Anaconda2\\lib\\site-packages\\ipykernel\\__main__.py:332: VisibleDeprecationWarning: boolean index did not match indexed array along dimension 0; dimension is 25 but corresponding boolean dimension is 6\n",
      "C:\\Users\\Shahwaiz\\Anaconda2\\lib\\site-packages\\ipykernel\\__main__.py:332: VisibleDeprecationWarning: boolean index did not match indexed array along dimension 0; dimension is 25 but corresponding boolean dimension is 19\n"
     ]
    },
    {
     "name": "stdout",
     "output_type": "stream",
     "text": [
      "[Info] Fold 1 Accuracy = 0.783783783784\n",
      "[Info] Fold 2 Accuracy = 0.945945945946\n",
      "[Info] Fold 3 Accuracy = 0.675675675676\n",
      "[Info] Fold 4 Accuracy = 1.0\n",
      "[0.78378378378378377, 0.94594594594594594, 0.67567567567567566, 1.0] \n",
      "Purity=0.85, Nexample-threshold=13.0, Mean Accuracy =0.851351351351\n",
      "[Info] Fold 1 Accuracy = 0.675675675676\n",
      "[Info] Fold 2 Accuracy = 0.675675675676\n",
      "[Info] Fold 3 Accuracy = 0.783783783784\n"
     ]
    },
    {
     "name": "stderr",
     "output_type": "stream",
     "text": [
      "C:\\Users\\Shahwaiz\\Anaconda2\\lib\\site-packages\\ipykernel\\__main__.py:332: VisibleDeprecationWarning: boolean index did not match indexed array along dimension 0; dimension is 28 but corresponding boolean dimension is 10\n",
      "C:\\Users\\Shahwaiz\\Anaconda2\\lib\\site-packages\\ipykernel\\__main__.py:332: VisibleDeprecationWarning: boolean index did not match indexed array along dimension 0; dimension is 28 but corresponding boolean dimension is 18\n",
      "C:\\Users\\Shahwaiz\\Anaconda2\\lib\\site-packages\\ipykernel\\__main__.py:332: VisibleDeprecationWarning: boolean index did not match indexed array along dimension 0; dimension is 25 but corresponding boolean dimension is 9\n",
      "C:\\Users\\Shahwaiz\\Anaconda2\\lib\\site-packages\\ipykernel\\__main__.py:332: VisibleDeprecationWarning: boolean index did not match indexed array along dimension 0; dimension is 25 but corresponding boolean dimension is 16\n",
      "C:\\Users\\Shahwaiz\\Anaconda2\\lib\\site-packages\\ipykernel\\__main__.py:332: VisibleDeprecationWarning: boolean index did not match indexed array along dimension 0; dimension is 21 but corresponding boolean dimension is 8\n",
      "C:\\Users\\Shahwaiz\\Anaconda2\\lib\\site-packages\\ipykernel\\__main__.py:332: VisibleDeprecationWarning: boolean index did not match indexed array along dimension 0; dimension is 21 but corresponding boolean dimension is 13\n",
      "C:\\Users\\Shahwaiz\\Anaconda2\\lib\\site-packages\\ipykernel\\__main__.py:332: VisibleDeprecationWarning: boolean index did not match indexed array along dimension 0; dimension is 31 but corresponding boolean dimension is 9\n",
      "C:\\Users\\Shahwaiz\\Anaconda2\\lib\\site-packages\\ipykernel\\__main__.py:332: VisibleDeprecationWarning: boolean index did not match indexed array along dimension 0; dimension is 31 but corresponding boolean dimension is 22\n",
      "C:\\Users\\Shahwaiz\\Anaconda2\\lib\\site-packages\\ipykernel\\__main__.py:332: VisibleDeprecationWarning: boolean index did not match indexed array along dimension 0; dimension is 26 but corresponding boolean dimension is 8\n",
      "C:\\Users\\Shahwaiz\\Anaconda2\\lib\\site-packages\\ipykernel\\__main__.py:332: VisibleDeprecationWarning: boolean index did not match indexed array along dimension 0; dimension is 26 but corresponding boolean dimension is 18\n",
      "C:\\Users\\Shahwaiz\\Anaconda2\\lib\\site-packages\\ipykernel\\__main__.py:332: VisibleDeprecationWarning: boolean index did not match indexed array along dimension 0; dimension is 38 but corresponding boolean dimension is 8\n",
      "C:\\Users\\Shahwaiz\\Anaconda2\\lib\\site-packages\\ipykernel\\__main__.py:332: VisibleDeprecationWarning: boolean index did not match indexed array along dimension 0; dimension is 38 but corresponding boolean dimension is 30\n",
      "C:\\Users\\Shahwaiz\\Anaconda2\\lib\\site-packages\\ipykernel\\__main__.py:332: VisibleDeprecationWarning: boolean index did not match indexed array along dimension 0; dimension is 36 but corresponding boolean dimension is 8\n",
      "C:\\Users\\Shahwaiz\\Anaconda2\\lib\\site-packages\\ipykernel\\__main__.py:332: VisibleDeprecationWarning: boolean index did not match indexed array along dimension 0; dimension is 36 but corresponding boolean dimension is 28\n",
      "C:\\Users\\Shahwaiz\\Anaconda2\\lib\\site-packages\\ipykernel\\__main__.py:332: VisibleDeprecationWarning: boolean index did not match indexed array along dimension 0; dimension is 35 but corresponding boolean dimension is 8\n",
      "C:\\Users\\Shahwaiz\\Anaconda2\\lib\\site-packages\\ipykernel\\__main__.py:332: VisibleDeprecationWarning: boolean index did not match indexed array along dimension 0; dimension is 35 but corresponding boolean dimension is 27\n",
      "C:\\Users\\Shahwaiz\\Anaconda2\\lib\\site-packages\\ipykernel\\__main__.py:332: VisibleDeprecationWarning: boolean index did not match indexed array along dimension 0; dimension is 34 but corresponding boolean dimension is 8\n",
      "C:\\Users\\Shahwaiz\\Anaconda2\\lib\\site-packages\\ipykernel\\__main__.py:332: VisibleDeprecationWarning: boolean index did not match indexed array along dimension 0; dimension is 34 but corresponding boolean dimension is 26\n",
      "C:\\Users\\Shahwaiz\\Anaconda2\\lib\\site-packages\\ipykernel\\__main__.py:332: VisibleDeprecationWarning: boolean index did not match indexed array along dimension 0; dimension is 23 but corresponding boolean dimension is 7\n",
      "C:\\Users\\Shahwaiz\\Anaconda2\\lib\\site-packages\\ipykernel\\__main__.py:332: VisibleDeprecationWarning: boolean index did not match indexed array along dimension 0; dimension is 23 but corresponding boolean dimension is 16\n",
      "C:\\Users\\Shahwaiz\\Anaconda2\\lib\\site-packages\\ipykernel\\__main__.py:332: VisibleDeprecationWarning: boolean index did not match indexed array along dimension 0; dimension is 89 but corresponding boolean dimension is 30\n",
      "C:\\Users\\Shahwaiz\\Anaconda2\\lib\\site-packages\\ipykernel\\__main__.py:332: VisibleDeprecationWarning: boolean index did not match indexed array along dimension 0; dimension is 89 but corresponding boolean dimension is 59\n",
      "C:\\Users\\Shahwaiz\\Anaconda2\\lib\\site-packages\\ipykernel\\__main__.py:332: VisibleDeprecationWarning: boolean index did not match indexed array along dimension 0; dimension is 59 but corresponding boolean dimension is 22\n",
      "C:\\Users\\Shahwaiz\\Anaconda2\\lib\\site-packages\\ipykernel\\__main__.py:332: VisibleDeprecationWarning: boolean index did not match indexed array along dimension 0; dimension is 59 but corresponding boolean dimension is 37\n",
      "C:\\Users\\Shahwaiz\\Anaconda2\\lib\\site-packages\\ipykernel\\__main__.py:332: VisibleDeprecationWarning: boolean index did not match indexed array along dimension 0; dimension is 34 but corresponding boolean dimension is 12\n",
      "C:\\Users\\Shahwaiz\\Anaconda2\\lib\\site-packages\\ipykernel\\__main__.py:332: VisibleDeprecationWarning: boolean index did not match indexed array along dimension 0; dimension is 34 but corresponding boolean dimension is 22\n",
      "C:\\Users\\Shahwaiz\\Anaconda2\\lib\\site-packages\\ipykernel\\__main__.py:332: VisibleDeprecationWarning: boolean index did not match indexed array along dimension 0; dimension is 19 but corresponding boolean dimension is 8\n",
      "C:\\Users\\Shahwaiz\\Anaconda2\\lib\\site-packages\\ipykernel\\__main__.py:332: VisibleDeprecationWarning: boolean index did not match indexed array along dimension 0; dimension is 19 but corresponding boolean dimension is 11\n",
      "C:\\Users\\Shahwaiz\\Anaconda2\\lib\\site-packages\\ipykernel\\__main__.py:332: VisibleDeprecationWarning: boolean index did not match indexed array along dimension 0; dimension is 103 but corresponding boolean dimension is 34\n",
      "C:\\Users\\Shahwaiz\\Anaconda2\\lib\\site-packages\\ipykernel\\__main__.py:332: VisibleDeprecationWarning: boolean index did not match indexed array along dimension 0; dimension is 103 but corresponding boolean dimension is 69\n",
      "C:\\Users\\Shahwaiz\\Anaconda2\\lib\\site-packages\\ipykernel\\__main__.py:332: VisibleDeprecationWarning: boolean index did not match indexed array along dimension 0; dimension is 44 but corresponding boolean dimension is 14\n",
      "C:\\Users\\Shahwaiz\\Anaconda2\\lib\\site-packages\\ipykernel\\__main__.py:332: VisibleDeprecationWarning: boolean index did not match indexed array along dimension 0; dimension is 44 but corresponding boolean dimension is 30\n",
      "C:\\Users\\Shahwaiz\\Anaconda2\\lib\\site-packages\\ipykernel\\__main__.py:332: VisibleDeprecationWarning: boolean index did not match indexed array along dimension 0; dimension is 30 but corresponding boolean dimension is 10\n",
      "C:\\Users\\Shahwaiz\\Anaconda2\\lib\\site-packages\\ipykernel\\__main__.py:332: VisibleDeprecationWarning: boolean index did not match indexed array along dimension 0; dimension is 30 but corresponding boolean dimension is 20\n",
      "C:\\Users\\Shahwaiz\\Anaconda2\\lib\\site-packages\\ipykernel\\__main__.py:332: VisibleDeprecationWarning: boolean index did not match indexed array along dimension 0; dimension is 59 but corresponding boolean dimension is 20\n",
      "C:\\Users\\Shahwaiz\\Anaconda2\\lib\\site-packages\\ipykernel\\__main__.py:332: VisibleDeprecationWarning: boolean index did not match indexed array along dimension 0; dimension is 59 but corresponding boolean dimension is 39\n",
      "C:\\Users\\Shahwaiz\\Anaconda2\\lib\\site-packages\\ipykernel\\__main__.py:332: VisibleDeprecationWarning: boolean index did not match indexed array along dimension 0; dimension is 34 but corresponding boolean dimension is 9\n",
      "C:\\Users\\Shahwaiz\\Anaconda2\\lib\\site-packages\\ipykernel\\__main__.py:332: VisibleDeprecationWarning: boolean index did not match indexed array along dimension 0; dimension is 34 but corresponding boolean dimension is 25\n",
      "C:\\Users\\Shahwaiz\\Anaconda2\\lib\\site-packages\\ipykernel\\__main__.py:332: VisibleDeprecationWarning: boolean index did not match indexed array along dimension 0; dimension is 19 but corresponding boolean dimension is 3\n",
      "C:\\Users\\Shahwaiz\\Anaconda2\\lib\\site-packages\\ipykernel\\__main__.py:332: VisibleDeprecationWarning: boolean index did not match indexed array along dimension 0; dimension is 19 but corresponding boolean dimension is 16\n",
      "C:\\Users\\Shahwaiz\\Anaconda2\\lib\\site-packages\\ipykernel\\__main__.py:332: VisibleDeprecationWarning: boolean index did not match indexed array along dimension 0; dimension is 62 but corresponding boolean dimension is 22\n",
      "C:\\Users\\Shahwaiz\\Anaconda2\\lib\\site-packages\\ipykernel\\__main__.py:332: VisibleDeprecationWarning: boolean index did not match indexed array along dimension 0; dimension is 62 but corresponding boolean dimension is 40\n",
      "C:\\Users\\Shahwaiz\\Anaconda2\\lib\\site-packages\\ipykernel\\__main__.py:332: VisibleDeprecationWarning: boolean index did not match indexed array along dimension 0; dimension is 24 but corresponding boolean dimension is 13\n",
      "C:\\Users\\Shahwaiz\\Anaconda2\\lib\\site-packages\\ipykernel\\__main__.py:332: VisibleDeprecationWarning: boolean index did not match indexed array along dimension 0; dimension is 24 but corresponding boolean dimension is 11\n",
      "C:\\Users\\Shahwaiz\\Anaconda2\\lib\\site-packages\\ipykernel\\__main__.py:332: VisibleDeprecationWarning: boolean index did not match indexed array along dimension 0; dimension is 38 but corresponding boolean dimension is 9\n",
      "C:\\Users\\Shahwaiz\\Anaconda2\\lib\\site-packages\\ipykernel\\__main__.py:332: VisibleDeprecationWarning: boolean index did not match indexed array along dimension 0; dimension is 38 but corresponding boolean dimension is 29\n",
      "C:\\Users\\Shahwaiz\\Anaconda2\\lib\\site-packages\\ipykernel\\__main__.py:332: VisibleDeprecationWarning: boolean index did not match indexed array along dimension 0; dimension is 30 but corresponding boolean dimension is 7\n",
      "C:\\Users\\Shahwaiz\\Anaconda2\\lib\\site-packages\\ipykernel\\__main__.py:332: VisibleDeprecationWarning: boolean index did not match indexed array along dimension 0; dimension is 30 but corresponding boolean dimension is 23\n",
      "C:\\Users\\Shahwaiz\\Anaconda2\\lib\\site-packages\\ipykernel\\__main__.py:332: VisibleDeprecationWarning: boolean index did not match indexed array along dimension 0; dimension is 53 but corresponding boolean dimension is 21\n",
      "C:\\Users\\Shahwaiz\\Anaconda2\\lib\\site-packages\\ipykernel\\__main__.py:332: VisibleDeprecationWarning: boolean index did not match indexed array along dimension 0; dimension is 53 but corresponding boolean dimension is 32\n",
      "C:\\Users\\Shahwaiz\\Anaconda2\\lib\\site-packages\\ipykernel\\__main__.py:332: VisibleDeprecationWarning: boolean index did not match indexed array along dimension 0; dimension is 35 but corresponding boolean dimension is 14\n",
      "C:\\Users\\Shahwaiz\\Anaconda2\\lib\\site-packages\\ipykernel\\__main__.py:332: VisibleDeprecationWarning: boolean index did not match indexed array along dimension 0; dimension is 35 but corresponding boolean dimension is 21\n",
      "C:\\Users\\Shahwaiz\\Anaconda2\\lib\\site-packages\\ipykernel\\__main__.py:332: VisibleDeprecationWarning: boolean index did not match indexed array along dimension 0; dimension is 20 but corresponding boolean dimension is 8\n"
     ]
    },
    {
     "name": "stdout",
     "output_type": "stream",
     "text": [
      "[Info] Fold 4 Accuracy = 0.675675675676\n",
      "[0.67567567567567566, 0.67567567567567566, 0.78378378378378377, 0.67567567567567566] \n",
      "Purity=0.85, Nexample-threshold=14.0, Mean Accuracy =0.702702702703\n",
      "[Info] Fold 1 Accuracy = 0.540540540541\n",
      "[Info] Fold 2 Accuracy = 0.945945945946\n",
      "[Info] Fold 3 Accuracy = 0.351351351351\n"
     ]
    },
    {
     "name": "stderr",
     "output_type": "stream",
     "text": [
      "C:\\Users\\Shahwaiz\\Anaconda2\\lib\\site-packages\\ipykernel\\__main__.py:332: VisibleDeprecationWarning: boolean index did not match indexed array along dimension 0; dimension is 20 but corresponding boolean dimension is 12\n",
      "C:\\Users\\Shahwaiz\\Anaconda2\\lib\\site-packages\\ipykernel\\__main__.py:332: VisibleDeprecationWarning: boolean index did not match indexed array along dimension 0; dimension is 35 but corresponding boolean dimension is 15\n",
      "C:\\Users\\Shahwaiz\\Anaconda2\\lib\\site-packages\\ipykernel\\__main__.py:332: VisibleDeprecationWarning: boolean index did not match indexed array along dimension 0; dimension is 35 but corresponding boolean dimension is 20\n",
      "C:\\Users\\Shahwaiz\\Anaconda2\\lib\\site-packages\\ipykernel\\__main__.py:332: VisibleDeprecationWarning: boolean index did not match indexed array along dimension 0; dimension is 77 but corresponding boolean dimension is 22\n",
      "C:\\Users\\Shahwaiz\\Anaconda2\\lib\\site-packages\\ipykernel\\__main__.py:332: VisibleDeprecationWarning: boolean index did not match indexed array along dimension 0; dimension is 77 but corresponding boolean dimension is 55\n",
      "C:\\Users\\Shahwaiz\\Anaconda2\\lib\\site-packages\\ipykernel\\__main__.py:332: VisibleDeprecationWarning: boolean index did not match indexed array along dimension 0; dimension is 61 but corresponding boolean dimension is 16\n",
      "C:\\Users\\Shahwaiz\\Anaconda2\\lib\\site-packages\\ipykernel\\__main__.py:332: VisibleDeprecationWarning: boolean index did not match indexed array along dimension 0; dimension is 61 but corresponding boolean dimension is 45\n",
      "C:\\Users\\Shahwaiz\\Anaconda2\\lib\\site-packages\\ipykernel\\__main__.py:332: VisibleDeprecationWarning: boolean index did not match indexed array along dimension 0; dimension is 39 but corresponding boolean dimension is 8\n",
      "C:\\Users\\Shahwaiz\\Anaconda2\\lib\\site-packages\\ipykernel\\__main__.py:332: VisibleDeprecationWarning: boolean index did not match indexed array along dimension 0; dimension is 39 but corresponding boolean dimension is 31\n",
      "C:\\Users\\Shahwaiz\\Anaconda2\\lib\\site-packages\\ipykernel\\__main__.py:332: VisibleDeprecationWarning: boolean index did not match indexed array along dimension 0; dimension is 36 but corresponding boolean dimension is 14\n",
      "C:\\Users\\Shahwaiz\\Anaconda2\\lib\\site-packages\\ipykernel\\__main__.py:332: VisibleDeprecationWarning: boolean index did not match indexed array along dimension 0; dimension is 36 but corresponding boolean dimension is 22\n",
      "C:\\Users\\Shahwaiz\\Anaconda2\\lib\\site-packages\\ipykernel\\__main__.py:332: VisibleDeprecationWarning: boolean index did not match indexed array along dimension 0; dimension is 33 but corresponding boolean dimension is 13\n",
      "C:\\Users\\Shahwaiz\\Anaconda2\\lib\\site-packages\\ipykernel\\__main__.py:332: VisibleDeprecationWarning: boolean index did not match indexed array along dimension 0; dimension is 33 but corresponding boolean dimension is 20\n",
      "C:\\Users\\Shahwaiz\\Anaconda2\\lib\\site-packages\\ipykernel\\__main__.py:332: VisibleDeprecationWarning: boolean index did not match indexed array along dimension 0; dimension is 57 but corresponding boolean dimension is 18\n",
      "C:\\Users\\Shahwaiz\\Anaconda2\\lib\\site-packages\\ipykernel\\__main__.py:332: VisibleDeprecationWarning: boolean index did not match indexed array along dimension 0; dimension is 57 but corresponding boolean dimension is 39\n",
      "C:\\Users\\Shahwaiz\\Anaconda2\\lib\\site-packages\\ipykernel\\__main__.py:332: VisibleDeprecationWarning: boolean index did not match indexed array along dimension 0; dimension is 55 but corresponding boolean dimension is 17\n",
      "C:\\Users\\Shahwaiz\\Anaconda2\\lib\\site-packages\\ipykernel\\__main__.py:332: VisibleDeprecationWarning: boolean index did not match indexed array along dimension 0; dimension is 55 but corresponding boolean dimension is 38\n",
      "C:\\Users\\Shahwaiz\\Anaconda2\\lib\\site-packages\\ipykernel\\__main__.py:332: VisibleDeprecationWarning: boolean index did not match indexed array along dimension 0; dimension is 39 but corresponding boolean dimension is 16\n",
      "C:\\Users\\Shahwaiz\\Anaconda2\\lib\\site-packages\\ipykernel\\__main__.py:332: VisibleDeprecationWarning: boolean index did not match indexed array along dimension 0; dimension is 39 but corresponding boolean dimension is 23\n",
      "C:\\Users\\Shahwaiz\\Anaconda2\\lib\\site-packages\\ipykernel\\__main__.py:332: VisibleDeprecationWarning: boolean index did not match indexed array along dimension 0; dimension is 34 but corresponding boolean dimension is 15\n",
      "C:\\Users\\Shahwaiz\\Anaconda2\\lib\\site-packages\\ipykernel\\__main__.py:332: VisibleDeprecationWarning: boolean index did not match indexed array along dimension 0; dimension is 34 but corresponding boolean dimension is 19\n",
      "C:\\Users\\Shahwaiz\\Anaconda2\\lib\\site-packages\\ipykernel\\__main__.py:332: VisibleDeprecationWarning: boolean index did not match indexed array along dimension 0; dimension is 102 but corresponding boolean dimension is 32\n",
      "C:\\Users\\Shahwaiz\\Anaconda2\\lib\\site-packages\\ipykernel\\__main__.py:332: VisibleDeprecationWarning: boolean index did not match indexed array along dimension 0; dimension is 102 but corresponding boolean dimension is 70\n",
      "C:\\Users\\Shahwaiz\\Anaconda2\\lib\\site-packages\\ipykernel\\__main__.py:332: VisibleDeprecationWarning: boolean index did not match indexed array along dimension 0; dimension is 33 but corresponding boolean dimension is 11\n",
      "C:\\Users\\Shahwaiz\\Anaconda2\\lib\\site-packages\\ipykernel\\__main__.py:332: VisibleDeprecationWarning: boolean index did not match indexed array along dimension 0; dimension is 33 but corresponding boolean dimension is 22\n",
      "C:\\Users\\Shahwaiz\\Anaconda2\\lib\\site-packages\\ipykernel\\__main__.py:332: VisibleDeprecationWarning: boolean index did not match indexed array along dimension 0; dimension is 69 but corresponding boolean dimension is 21\n",
      "C:\\Users\\Shahwaiz\\Anaconda2\\lib\\site-packages\\ipykernel\\__main__.py:332: VisibleDeprecationWarning: boolean index did not match indexed array along dimension 0; dimension is 69 but corresponding boolean dimension is 48\n",
      "C:\\Users\\Shahwaiz\\Anaconda2\\lib\\site-packages\\ipykernel\\__main__.py:332: VisibleDeprecationWarning: boolean index did not match indexed array along dimension 0; dimension is 64 but corresponding boolean dimension is 20\n",
      "C:\\Users\\Shahwaiz\\Anaconda2\\lib\\site-packages\\ipykernel\\__main__.py:332: VisibleDeprecationWarning: boolean index did not match indexed array along dimension 0; dimension is 64 but corresponding boolean dimension is 44\n",
      "C:\\Users\\Shahwaiz\\Anaconda2\\lib\\site-packages\\ipykernel\\__main__.py:332: VisibleDeprecationWarning: boolean index did not match indexed array along dimension 0; dimension is 21 but corresponding boolean dimension is 9\n",
      "C:\\Users\\Shahwaiz\\Anaconda2\\lib\\site-packages\\ipykernel\\__main__.py:332: VisibleDeprecationWarning: boolean index did not match indexed array along dimension 0; dimension is 21 but corresponding boolean dimension is 12\n",
      "C:\\Users\\Shahwaiz\\Anaconda2\\lib\\site-packages\\ipykernel\\__main__.py:332: VisibleDeprecationWarning: boolean index did not match indexed array along dimension 0; dimension is 43 but corresponding boolean dimension is 11\n",
      "C:\\Users\\Shahwaiz\\Anaconda2\\lib\\site-packages\\ipykernel\\__main__.py:332: VisibleDeprecationWarning: boolean index did not match indexed array along dimension 0; dimension is 43 but corresponding boolean dimension is 32\n",
      "C:\\Users\\Shahwaiz\\Anaconda2\\lib\\site-packages\\ipykernel\\__main__.py:332: VisibleDeprecationWarning: boolean index did not match indexed array along dimension 0; dimension is 109 but corresponding boolean dimension is 35\n",
      "C:\\Users\\Shahwaiz\\Anaconda2\\lib\\site-packages\\ipykernel\\__main__.py:332: VisibleDeprecationWarning: boolean index did not match indexed array along dimension 0; dimension is 109 but corresponding boolean dimension is 74\n",
      "C:\\Users\\Shahwaiz\\Anaconda2\\lib\\site-packages\\ipykernel\\__main__.py:332: VisibleDeprecationWarning: boolean index did not match indexed array along dimension 0; dimension is 108 but corresponding boolean dimension is 34\n",
      "C:\\Users\\Shahwaiz\\Anaconda2\\lib\\site-packages\\ipykernel\\__main__.py:332: VisibleDeprecationWarning: boolean index did not match indexed array along dimension 0; dimension is 108 but corresponding boolean dimension is 74\n",
      "C:\\Users\\Shahwaiz\\Anaconda2\\lib\\site-packages\\ipykernel\\__main__.py:332: VisibleDeprecationWarning: boolean index did not match indexed array along dimension 0; dimension is 23 but corresponding boolean dimension is 4\n",
      "C:\\Users\\Shahwaiz\\Anaconda2\\lib\\site-packages\\ipykernel\\__main__.py:332: VisibleDeprecationWarning: boolean index did not match indexed array along dimension 0; dimension is 23 but corresponding boolean dimension is 19\n"
     ]
    },
    {
     "name": "stdout",
     "output_type": "stream",
     "text": [
      "[Info] Fold 4 Accuracy = 0.675675675676\n",
      "[0.54054054054054057, 0.94594594594594594, 0.35135135135135137, 0.67567567567567566] \n",
      "Purity=0.85, Nexample-threshold=15.0, Mean Accuracy =0.628378378378\n",
      "[Info] Fold 1 Accuracy = 0.648648648649\n",
      "[Info] Fold 2 Accuracy = 0.675675675676\n",
      "[Info] Fold 3 Accuracy = 0.648648648649\n",
      "[Info] Fold 4 Accuracy = 0.72972972973\n",
      "[0.64864864864864868, 0.67567567567567566, 0.64864864864864868, 0.72972972972972971] \n",
      "Purity=0.85, Nexample-threshold=16.0, Mean Accuracy =0.675675675676\n",
      "[Info] Fold 1 Accuracy = 0.648648648649\n"
     ]
    },
    {
     "name": "stderr",
     "output_type": "stream",
     "text": [
      "C:\\Users\\Shahwaiz\\Anaconda2\\lib\\site-packages\\ipykernel\\__main__.py:332: VisibleDeprecationWarning: boolean index did not match indexed array along dimension 0; dimension is 77 but corresponding boolean dimension is 29\n",
      "C:\\Users\\Shahwaiz\\Anaconda2\\lib\\site-packages\\ipykernel\\__main__.py:332: VisibleDeprecationWarning: boolean index did not match indexed array along dimension 0; dimension is 77 but corresponding boolean dimension is 48\n",
      "C:\\Users\\Shahwaiz\\Anaconda2\\lib\\site-packages\\ipykernel\\__main__.py:332: VisibleDeprecationWarning: boolean index did not match indexed array along dimension 0; dimension is 72 but corresponding boolean dimension is 27\n",
      "C:\\Users\\Shahwaiz\\Anaconda2\\lib\\site-packages\\ipykernel\\__main__.py:332: VisibleDeprecationWarning: boolean index did not match indexed array along dimension 0; dimension is 72 but corresponding boolean dimension is 45\n",
      "C:\\Users\\Shahwaiz\\Anaconda2\\lib\\site-packages\\ipykernel\\__main__.py:332: VisibleDeprecationWarning: boolean index did not match indexed array along dimension 0; dimension is 27 but corresponding boolean dimension is 11\n",
      "C:\\Users\\Shahwaiz\\Anaconda2\\lib\\site-packages\\ipykernel\\__main__.py:332: VisibleDeprecationWarning: boolean index did not match indexed array along dimension 0; dimension is 27 but corresponding boolean dimension is 16\n",
      "C:\\Users\\Shahwaiz\\Anaconda2\\lib\\site-packages\\ipykernel\\__main__.py:332: VisibleDeprecationWarning: boolean index did not match indexed array along dimension 0; dimension is 48 but corresponding boolean dimension is 16\n",
      "C:\\Users\\Shahwaiz\\Anaconda2\\lib\\site-packages\\ipykernel\\__main__.py:332: VisibleDeprecationWarning: boolean index did not match indexed array along dimension 0; dimension is 48 but corresponding boolean dimension is 32\n",
      "C:\\Users\\Shahwaiz\\Anaconda2\\lib\\site-packages\\ipykernel\\__main__.py:332: VisibleDeprecationWarning: boolean index did not match indexed array along dimension 0; dimension is 24 but corresponding boolean dimension is 6\n",
      "C:\\Users\\Shahwaiz\\Anaconda2\\lib\\site-packages\\ipykernel\\__main__.py:332: VisibleDeprecationWarning: boolean index did not match indexed array along dimension 0; dimension is 24 but corresponding boolean dimension is 18\n",
      "C:\\Users\\Shahwaiz\\Anaconda2\\lib\\site-packages\\ipykernel\\__main__.py:332: VisibleDeprecationWarning: boolean index did not match indexed array along dimension 0; dimension is 73 but corresponding boolean dimension is 24\n",
      "C:\\Users\\Shahwaiz\\Anaconda2\\lib\\site-packages\\ipykernel\\__main__.py:332: VisibleDeprecationWarning: boolean index did not match indexed array along dimension 0; dimension is 73 but corresponding boolean dimension is 49\n",
      "C:\\Users\\Shahwaiz\\Anaconda2\\lib\\site-packages\\ipykernel\\__main__.py:332: VisibleDeprecationWarning: boolean index did not match indexed array along dimension 0; dimension is 61 but corresponding boolean dimension is 20\n",
      "C:\\Users\\Shahwaiz\\Anaconda2\\lib\\site-packages\\ipykernel\\__main__.py:332: VisibleDeprecationWarning: boolean index did not match indexed array along dimension 0; dimension is 61 but corresponding boolean dimension is 41\n",
      "C:\\Users\\Shahwaiz\\Anaconda2\\lib\\site-packages\\ipykernel\\__main__.py:332: VisibleDeprecationWarning: boolean index did not match indexed array along dimension 0; dimension is 46 but corresponding boolean dimension is 13\n",
      "C:\\Users\\Shahwaiz\\Anaconda2\\lib\\site-packages\\ipykernel\\__main__.py:332: VisibleDeprecationWarning: boolean index did not match indexed array along dimension 0; dimension is 46 but corresponding boolean dimension is 33\n",
      "C:\\Users\\Shahwaiz\\Anaconda2\\lib\\site-packages\\ipykernel\\__main__.py:332: VisibleDeprecationWarning: boolean index did not match indexed array along dimension 0; dimension is 32 but corresponding boolean dimension is 11\n",
      "C:\\Users\\Shahwaiz\\Anaconda2\\lib\\site-packages\\ipykernel\\__main__.py:332: VisibleDeprecationWarning: boolean index did not match indexed array along dimension 0; dimension is 32 but corresponding boolean dimension is 21\n",
      "C:\\Users\\Shahwaiz\\Anaconda2\\lib\\site-packages\\ipykernel\\__main__.py:332: VisibleDeprecationWarning: boolean index did not match indexed array along dimension 0; dimension is 22 but corresponding boolean dimension is 9\n",
      "C:\\Users\\Shahwaiz\\Anaconda2\\lib\\site-packages\\ipykernel\\__main__.py:332: VisibleDeprecationWarning: boolean index did not match indexed array along dimension 0; dimension is 22 but corresponding boolean dimension is 13\n",
      "C:\\Users\\Shahwaiz\\Anaconda2\\lib\\site-packages\\ipykernel\\__main__.py:332: VisibleDeprecationWarning: boolean index did not match indexed array along dimension 0; dimension is 73 but corresponding boolean dimension is 23\n",
      "C:\\Users\\Shahwaiz\\Anaconda2\\lib\\site-packages\\ipykernel\\__main__.py:332: VisibleDeprecationWarning: boolean index did not match indexed array along dimension 0; dimension is 73 but corresponding boolean dimension is 50\n",
      "C:\\Users\\Shahwaiz\\Anaconda2\\lib\\site-packages\\ipykernel\\__main__.py:332: VisibleDeprecationWarning: boolean index did not match indexed array along dimension 0; dimension is 45 but corresponding boolean dimension is 13\n",
      "C:\\Users\\Shahwaiz\\Anaconda2\\lib\\site-packages\\ipykernel\\__main__.py:332: VisibleDeprecationWarning: boolean index did not match indexed array along dimension 0; dimension is 45 but corresponding boolean dimension is 32\n",
      "C:\\Users\\Shahwaiz\\Anaconda2\\lib\\site-packages\\ipykernel\\__main__.py:332: VisibleDeprecationWarning: boolean index did not match indexed array along dimension 0; dimension is 23 but corresponding boolean dimension is 6\n",
      "C:\\Users\\Shahwaiz\\Anaconda2\\lib\\site-packages\\ipykernel\\__main__.py:332: VisibleDeprecationWarning: boolean index did not match indexed array along dimension 0; dimension is 23 but corresponding boolean dimension is 17\n",
      "C:\\Users\\Shahwaiz\\Anaconda2\\lib\\site-packages\\ipykernel\\__main__.py:332: VisibleDeprecationWarning: boolean index did not match indexed array along dimension 0; dimension is 97 but corresponding boolean dimension is 32\n",
      "C:\\Users\\Shahwaiz\\Anaconda2\\lib\\site-packages\\ipykernel\\__main__.py:332: VisibleDeprecationWarning: boolean index did not match indexed array along dimension 0; dimension is 97 but corresponding boolean dimension is 65\n",
      "C:\\Users\\Shahwaiz\\Anaconda2\\lib\\site-packages\\ipykernel\\__main__.py:332: VisibleDeprecationWarning: boolean index did not match indexed array along dimension 0; dimension is 36 but corresponding boolean dimension is 10\n",
      "C:\\Users\\Shahwaiz\\Anaconda2\\lib\\site-packages\\ipykernel\\__main__.py:332: VisibleDeprecationWarning: boolean index did not match indexed array along dimension 0; dimension is 36 but corresponding boolean dimension is 26\n",
      "C:\\Users\\Shahwaiz\\Anaconda2\\lib\\site-packages\\ipykernel\\__main__.py:332: VisibleDeprecationWarning: boolean index did not match indexed array along dimension 0; dimension is 58 but corresponding boolean dimension is 22\n",
      "C:\\Users\\Shahwaiz\\Anaconda2\\lib\\site-packages\\ipykernel\\__main__.py:332: VisibleDeprecationWarning: boolean index did not match indexed array along dimension 0; dimension is 58 but corresponding boolean dimension is 36\n",
      "C:\\Users\\Shahwaiz\\Anaconda2\\lib\\site-packages\\ipykernel\\__main__.py:332: VisibleDeprecationWarning: boolean index did not match indexed array along dimension 0; dimension is 56 but corresponding boolean dimension is 20\n",
      "C:\\Users\\Shahwaiz\\Anaconda2\\lib\\site-packages\\ipykernel\\__main__.py:332: VisibleDeprecationWarning: boolean index did not match indexed array along dimension 0; dimension is 56 but corresponding boolean dimension is 36\n",
      "C:\\Users\\Shahwaiz\\Anaconda2\\lib\\site-packages\\ipykernel\\__main__.py:332: VisibleDeprecationWarning: boolean index did not match indexed array along dimension 0; dimension is 31 but corresponding boolean dimension is 11\n",
      "C:\\Users\\Shahwaiz\\Anaconda2\\lib\\site-packages\\ipykernel\\__main__.py:332: VisibleDeprecationWarning: boolean index did not match indexed array along dimension 0; dimension is 31 but corresponding boolean dimension is 20\n",
      "C:\\Users\\Shahwaiz\\Anaconda2\\lib\\site-packages\\ipykernel\\__main__.py:332: VisibleDeprecationWarning: boolean index did not match indexed array along dimension 0; dimension is 49 but corresponding boolean dimension is 15\n",
      "C:\\Users\\Shahwaiz\\Anaconda2\\lib\\site-packages\\ipykernel\\__main__.py:332: VisibleDeprecationWarning: boolean index did not match indexed array along dimension 0; dimension is 49 but corresponding boolean dimension is 34\n"
     ]
    },
    {
     "name": "stdout",
     "output_type": "stream",
     "text": [
      "[Info] Fold 2 Accuracy = 0.675675675676\n",
      "[Info] Fold 3 Accuracy = 0.675675675676\n",
      "[Info] Fold 4 Accuracy = 0.675675675676\n",
      "[0.64864864864864868, 0.67567567567567566, 0.67567567567567566, 0.67567567567567566] \n",
      "Purity=0.85, Nexample-threshold=17.0, Mean Accuracy =0.668918918919\n",
      "[Info] Fold 1 Accuracy = 0.675675675676\n",
      "[Info] Fold 2 Accuracy = 0.648648648649\n",
      "[Info] Fold 3 Accuracy = 0.675675675676\n"
     ]
    },
    {
     "name": "stderr",
     "output_type": "stream",
     "text": [
      "C:\\Users\\Shahwaiz\\Anaconda2\\lib\\site-packages\\ipykernel\\__main__.py:332: VisibleDeprecationWarning: boolean index did not match indexed array along dimension 0; dimension is 40 but corresponding boolean dimension is 12\n",
      "C:\\Users\\Shahwaiz\\Anaconda2\\lib\\site-packages\\ipykernel\\__main__.py:332: VisibleDeprecationWarning: boolean index did not match indexed array along dimension 0; dimension is 40 but corresponding boolean dimension is 28\n",
      "C:\\Users\\Shahwaiz\\Anaconda2\\lib\\site-packages\\ipykernel\\__main__.py:332: VisibleDeprecationWarning: boolean index did not match indexed array along dimension 0; dimension is 105 but corresponding boolean dimension is 36\n",
      "C:\\Users\\Shahwaiz\\Anaconda2\\lib\\site-packages\\ipykernel\\__main__.py:332: VisibleDeprecationWarning: boolean index did not match indexed array along dimension 0; dimension is 105 but corresponding boolean dimension is 69\n",
      "C:\\Users\\Shahwaiz\\Anaconda2\\lib\\site-packages\\ipykernel\\__main__.py:332: VisibleDeprecationWarning: boolean index did not match indexed array along dimension 0; dimension is 68 but corresponding boolean dimension is 23\n",
      "C:\\Users\\Shahwaiz\\Anaconda2\\lib\\site-packages\\ipykernel\\__main__.py:332: VisibleDeprecationWarning: boolean index did not match indexed array along dimension 0; dimension is 68 but corresponding boolean dimension is 45\n",
      "C:\\Users\\Shahwaiz\\Anaconda2\\lib\\site-packages\\ipykernel\\__main__.py:332: VisibleDeprecationWarning: boolean index did not match indexed array along dimension 0; dimension is 86 but corresponding boolean dimension is 26\n",
      "C:\\Users\\Shahwaiz\\Anaconda2\\lib\\site-packages\\ipykernel\\__main__.py:332: VisibleDeprecationWarning: boolean index did not match indexed array along dimension 0; dimension is 86 but corresponding boolean dimension is 60\n",
      "C:\\Users\\Shahwaiz\\Anaconda2\\lib\\site-packages\\ipykernel\\__main__.py:332: VisibleDeprecationWarning: boolean index did not match indexed array along dimension 0; dimension is 81 but corresponding boolean dimension is 23\n",
      "C:\\Users\\Shahwaiz\\Anaconda2\\lib\\site-packages\\ipykernel\\__main__.py:332: VisibleDeprecationWarning: boolean index did not match indexed array along dimension 0; dimension is 81 but corresponding boolean dimension is 58\n",
      "C:\\Users\\Shahwaiz\\Anaconda2\\lib\\site-packages\\ipykernel\\__main__.py:332: VisibleDeprecationWarning: boolean index did not match indexed array along dimension 0; dimension is 23 but corresponding boolean dimension is 5\n",
      "C:\\Users\\Shahwaiz\\Anaconda2\\lib\\site-packages\\ipykernel\\__main__.py:332: VisibleDeprecationWarning: boolean index did not match indexed array along dimension 0; dimension is 23 but corresponding boolean dimension is 18\n",
      "C:\\Users\\Shahwaiz\\Anaconda2\\lib\\site-packages\\ipykernel\\__main__.py:332: VisibleDeprecationWarning: boolean index did not match indexed array along dimension 0; dimension is 20 but corresponding boolean dimension is 4\n",
      "C:\\Users\\Shahwaiz\\Anaconda2\\lib\\site-packages\\ipykernel\\__main__.py:332: VisibleDeprecationWarning: boolean index did not match indexed array along dimension 0; dimension is 20 but corresponding boolean dimension is 16\n",
      "C:\\Users\\Shahwaiz\\Anaconda2\\lib\\site-packages\\ipykernel\\__main__.py:332: VisibleDeprecationWarning: boolean index did not match indexed array along dimension 0; dimension is 94 but corresponding boolean dimension is 30\n",
      "C:\\Users\\Shahwaiz\\Anaconda2\\lib\\site-packages\\ipykernel\\__main__.py:332: VisibleDeprecationWarning: boolean index did not match indexed array along dimension 0; dimension is 94 but corresponding boolean dimension is 64\n",
      "C:\\Users\\Shahwaiz\\Anaconda2\\lib\\site-packages\\ipykernel\\__main__.py:332: VisibleDeprecationWarning: boolean index did not match indexed array along dimension 0; dimension is 90 but corresponding boolean dimension is 29\n",
      "C:\\Users\\Shahwaiz\\Anaconda2\\lib\\site-packages\\ipykernel\\__main__.py:332: VisibleDeprecationWarning: boolean index did not match indexed array along dimension 0; dimension is 90 but corresponding boolean dimension is 61\n",
      "C:\\Users\\Shahwaiz\\Anaconda2\\lib\\site-packages\\ipykernel\\__main__.py:332: VisibleDeprecationWarning: boolean index did not match indexed array along dimension 0; dimension is 68 but corresponding boolean dimension is 24\n",
      "C:\\Users\\Shahwaiz\\Anaconda2\\lib\\site-packages\\ipykernel\\__main__.py:332: VisibleDeprecationWarning: boolean index did not match indexed array along dimension 0; dimension is 68 but corresponding boolean dimension is 44\n",
      "C:\\Users\\Shahwaiz\\Anaconda2\\lib\\site-packages\\ipykernel\\__main__.py:332: VisibleDeprecationWarning: boolean index did not match indexed array along dimension 0; dimension is 107 but corresponding boolean dimension is 34\n",
      "C:\\Users\\Shahwaiz\\Anaconda2\\lib\\site-packages\\ipykernel\\__main__.py:332: VisibleDeprecationWarning: boolean index did not match indexed array along dimension 0; dimension is 107 but corresponding boolean dimension is 73\n",
      "C:\\Users\\Shahwaiz\\Anaconda2\\lib\\site-packages\\ipykernel\\__main__.py:332: VisibleDeprecationWarning: boolean index did not match indexed array along dimension 0; dimension is 43 but corresponding boolean dimension is 13\n",
      "C:\\Users\\Shahwaiz\\Anaconda2\\lib\\site-packages\\ipykernel\\__main__.py:332: VisibleDeprecationWarning: boolean index did not match indexed array along dimension 0; dimension is 43 but corresponding boolean dimension is 30\n",
      "C:\\Users\\Shahwaiz\\Anaconda2\\lib\\site-packages\\ipykernel\\__main__.py:332: VisibleDeprecationWarning: boolean index did not match indexed array along dimension 0; dimension is 28 but corresponding boolean dimension is 8\n",
      "C:\\Users\\Shahwaiz\\Anaconda2\\lib\\site-packages\\ipykernel\\__main__.py:332: VisibleDeprecationWarning: boolean index did not match indexed array along dimension 0; dimension is 28 but corresponding boolean dimension is 20\n",
      "C:\\Users\\Shahwaiz\\Anaconda2\\lib\\site-packages\\ipykernel\\__main__.py:332: VisibleDeprecationWarning: boolean index did not match indexed array along dimension 0; dimension is 89 but corresponding boolean dimension is 29\n",
      "C:\\Users\\Shahwaiz\\Anaconda2\\lib\\site-packages\\ipykernel\\__main__.py:332: VisibleDeprecationWarning: boolean index did not match indexed array along dimension 0; dimension is 89 but corresponding boolean dimension is 60\n",
      "C:\\Users\\Shahwaiz\\Anaconda2\\lib\\site-packages\\ipykernel\\__main__.py:332: VisibleDeprecationWarning: boolean index did not match indexed array along dimension 0; dimension is 31 but corresponding boolean dimension is 7\n",
      "C:\\Users\\Shahwaiz\\Anaconda2\\lib\\site-packages\\ipykernel\\__main__.py:332: VisibleDeprecationWarning: boolean index did not match indexed array along dimension 0; dimension is 31 but corresponding boolean dimension is 24\n",
      "C:\\Users\\Shahwaiz\\Anaconda2\\lib\\site-packages\\ipykernel\\__main__.py:332: VisibleDeprecationWarning: boolean index did not match indexed array along dimension 0; dimension is 27 but corresponding boolean dimension is 7\n",
      "C:\\Users\\Shahwaiz\\Anaconda2\\lib\\site-packages\\ipykernel\\__main__.py:332: VisibleDeprecationWarning: boolean index did not match indexed array along dimension 0; dimension is 27 but corresponding boolean dimension is 20\n",
      "C:\\Users\\Shahwaiz\\Anaconda2\\lib\\site-packages\\ipykernel\\__main__.py:332: VisibleDeprecationWarning: boolean index did not match indexed array along dimension 0; dimension is 41 but corresponding boolean dimension is 13\n",
      "C:\\Users\\Shahwaiz\\Anaconda2\\lib\\site-packages\\ipykernel\\__main__.py:332: VisibleDeprecationWarning: boolean index did not match indexed array along dimension 0; dimension is 41 but corresponding boolean dimension is 28\n",
      "C:\\Users\\Shahwaiz\\Anaconda2\\lib\\site-packages\\ipykernel\\__main__.py:332: VisibleDeprecationWarning: boolean index did not match indexed array along dimension 0; dimension is 58 but corresponding boolean dimension is 18\n",
      "C:\\Users\\Shahwaiz\\Anaconda2\\lib\\site-packages\\ipykernel\\__main__.py:332: VisibleDeprecationWarning: boolean index did not match indexed array along dimension 0; dimension is 58 but corresponding boolean dimension is 40\n",
      "C:\\Users\\Shahwaiz\\Anaconda2\\lib\\site-packages\\ipykernel\\__main__.py:332: VisibleDeprecationWarning: boolean index did not match indexed array along dimension 0; dimension is 40 but corresponding boolean dimension is 15\n",
      "C:\\Users\\Shahwaiz\\Anaconda2\\lib\\site-packages\\ipykernel\\__main__.py:332: VisibleDeprecationWarning: boolean index did not match indexed array along dimension 0; dimension is 40 but corresponding boolean dimension is 25\n",
      "C:\\Users\\Shahwaiz\\Anaconda2\\lib\\site-packages\\ipykernel\\__main__.py:332: VisibleDeprecationWarning: boolean index did not match indexed array along dimension 0; dimension is 54 but corresponding boolean dimension is 19\n",
      "C:\\Users\\Shahwaiz\\Anaconda2\\lib\\site-packages\\ipykernel\\__main__.py:332: VisibleDeprecationWarning: boolean index did not match indexed array along dimension 0; dimension is 54 but corresponding boolean dimension is 35\n",
      "C:\\Users\\Shahwaiz\\Anaconda2\\lib\\site-packages\\ipykernel\\__main__.py:332: VisibleDeprecationWarning: boolean index did not match indexed array along dimension 0; dimension is 27 but corresponding boolean dimension is 5\n",
      "C:\\Users\\Shahwaiz\\Anaconda2\\lib\\site-packages\\ipykernel\\__main__.py:332: VisibleDeprecationWarning: boolean index did not match indexed array along dimension 0; dimension is 27 but corresponding boolean dimension is 22\n",
      "C:\\Users\\Shahwaiz\\Anaconda2\\lib\\site-packages\\ipykernel\\__main__.py:332: VisibleDeprecationWarning: boolean index did not match indexed array along dimension 0; dimension is 77 but corresponding boolean dimension is 28\n",
      "C:\\Users\\Shahwaiz\\Anaconda2\\lib\\site-packages\\ipykernel\\__main__.py:332: VisibleDeprecationWarning: boolean index did not match indexed array along dimension 0; dimension is 77 but corresponding boolean dimension is 49\n",
      "C:\\Users\\Shahwaiz\\Anaconda2\\lib\\site-packages\\ipykernel\\__main__.py:332: VisibleDeprecationWarning: boolean index did not match indexed array along dimension 0; dimension is 54 but corresponding boolean dimension is 16\n",
      "C:\\Users\\Shahwaiz\\Anaconda2\\lib\\site-packages\\ipykernel\\__main__.py:332: VisibleDeprecationWarning: boolean index did not match indexed array along dimension 0; dimension is 54 but corresponding boolean dimension is 38\n"
     ]
    },
    {
     "name": "stdout",
     "output_type": "stream",
     "text": [
      "[Info] Fold 4 Accuracy = 0.675675675676\n",
      "[0.67567567567567566, 0.64864864864864868, 0.67567567567567566, 0.67567567567567566] \n",
      "Purity=0.85, Nexample-threshold=18.0, Mean Accuracy =0.668918918919\n",
      "[Info] Fold 1 Accuracy = 0.891891891892\n",
      "[Info] Fold 2 Accuracy = 0.72972972973\n",
      "[Info] Fold 3 Accuracy = 0.675675675676\n",
      "[Info] Fold 4 Accuracy = 0.594594594595\n",
      "[0.89189189189189189, 0.72972972972972971, 0.67567567567567566, 0.59459459459459463] \n",
      "Purity=0.85, Nexample-threshold=19.0, Mean Accuracy =0.722972972973\n",
      "[Info] Fold 1 Accuracy = 0.72972972973\n",
      "[Info] Fold 2 Accuracy = 0.675675675676\n",
      "[Info] Fold 3 Accuracy = 0.675675675676\n"
     ]
    },
    {
     "name": "stderr",
     "output_type": "stream",
     "text": [
      "C:\\Users\\Shahwaiz\\Anaconda2\\lib\\site-packages\\ipykernel\\__main__.py:332: VisibleDeprecationWarning: boolean index did not match indexed array along dimension 0; dimension is 86 but corresponding boolean dimension is 29\n",
      "C:\\Users\\Shahwaiz\\Anaconda2\\lib\\site-packages\\ipykernel\\__main__.py:332: VisibleDeprecationWarning: boolean index did not match indexed array along dimension 0; dimension is 86 but corresponding boolean dimension is 57\n",
      "C:\\Users\\Shahwaiz\\Anaconda2\\lib\\site-packages\\ipykernel\\__main__.py:332: VisibleDeprecationWarning: boolean index did not match indexed array along dimension 0; dimension is 30 but corresponding boolean dimension is 14\n",
      "C:\\Users\\Shahwaiz\\Anaconda2\\lib\\site-packages\\ipykernel\\__main__.py:332: VisibleDeprecationWarning: boolean index did not match indexed array along dimension 0; dimension is 30 but corresponding boolean dimension is 16\n",
      "C:\\Users\\Shahwaiz\\Anaconda2\\lib\\site-packages\\ipykernel\\__main__.py:332: VisibleDeprecationWarning: boolean index did not match indexed array along dimension 0; dimension is 29 but corresponding boolean dimension is 13\n",
      "C:\\Users\\Shahwaiz\\Anaconda2\\lib\\site-packages\\ipykernel\\__main__.py:332: VisibleDeprecationWarning: boolean index did not match indexed array along dimension 0; dimension is 29 but corresponding boolean dimension is 16\n",
      "C:\\Users\\Shahwaiz\\Anaconda2\\lib\\site-packages\\ipykernel\\__main__.py:332: VisibleDeprecationWarning: boolean index did not match indexed array along dimension 0; dimension is 56 but corresponding boolean dimension is 15\n",
      "C:\\Users\\Shahwaiz\\Anaconda2\\lib\\site-packages\\ipykernel\\__main__.py:332: VisibleDeprecationWarning: boolean index did not match indexed array along dimension 0; dimension is 56 but corresponding boolean dimension is 41\n",
      "C:\\Users\\Shahwaiz\\Anaconda2\\lib\\site-packages\\ipykernel\\__main__.py:332: VisibleDeprecationWarning: boolean index did not match indexed array along dimension 0; dimension is 55 but corresponding boolean dimension is 15\n",
      "C:\\Users\\Shahwaiz\\Anaconda2\\lib\\site-packages\\ipykernel\\__main__.py:332: VisibleDeprecationWarning: boolean index did not match indexed array along dimension 0; dimension is 55 but corresponding boolean dimension is 40\n",
      "C:\\Users\\Shahwaiz\\Anaconda2\\lib\\site-packages\\ipykernel\\__main__.py:332: VisibleDeprecationWarning: boolean index did not match indexed array along dimension 0; dimension is 98 but corresponding boolean dimension is 33\n",
      "C:\\Users\\Shahwaiz\\Anaconda2\\lib\\site-packages\\ipykernel\\__main__.py:332: VisibleDeprecationWarning: boolean index did not match indexed array along dimension 0; dimension is 98 but corresponding boolean dimension is 65\n",
      "C:\\Users\\Shahwaiz\\Anaconda2\\lib\\site-packages\\ipykernel\\__main__.py:332: VisibleDeprecationWarning: boolean index did not match indexed array along dimension 0; dimension is 68 but corresponding boolean dimension is 25\n",
      "C:\\Users\\Shahwaiz\\Anaconda2\\lib\\site-packages\\ipykernel\\__main__.py:332: VisibleDeprecationWarning: boolean index did not match indexed array along dimension 0; dimension is 68 but corresponding boolean dimension is 43\n",
      "C:\\Users\\Shahwaiz\\Anaconda2\\lib\\site-packages\\ipykernel\\__main__.py:332: VisibleDeprecationWarning: boolean index did not match indexed array along dimension 0; dimension is 43 but corresponding boolean dimension is 18\n",
      "C:\\Users\\Shahwaiz\\Anaconda2\\lib\\site-packages\\ipykernel\\__main__.py:332: VisibleDeprecationWarning: boolean index did not match indexed array along dimension 0; dimension is 43 but corresponding boolean dimension is 25\n",
      "C:\\Users\\Shahwaiz\\Anaconda2\\lib\\site-packages\\ipykernel\\__main__.py:332: VisibleDeprecationWarning: boolean index did not match indexed array along dimension 0; dimension is 41 but corresponding boolean dimension is 18\n",
      "C:\\Users\\Shahwaiz\\Anaconda2\\lib\\site-packages\\ipykernel\\__main__.py:332: VisibleDeprecationWarning: boolean index did not match indexed array along dimension 0; dimension is 41 but corresponding boolean dimension is 23\n",
      "C:\\Users\\Shahwaiz\\Anaconda2\\lib\\site-packages\\ipykernel\\__main__.py:332: VisibleDeprecationWarning: boolean index did not match indexed array along dimension 0; dimension is 36 but corresponding boolean dimension is 16\n",
      "C:\\Users\\Shahwaiz\\Anaconda2\\lib\\site-packages\\ipykernel\\__main__.py:332: VisibleDeprecationWarning: boolean index did not match indexed array along dimension 0; dimension is 36 but corresponding boolean dimension is 20\n",
      "C:\\Users\\Shahwaiz\\Anaconda2\\lib\\site-packages\\ipykernel\\__main__.py:332: VisibleDeprecationWarning: boolean index did not match indexed array along dimension 0; dimension is 67 but corresponding boolean dimension is 21\n",
      "C:\\Users\\Shahwaiz\\Anaconda2\\lib\\site-packages\\ipykernel\\__main__.py:332: VisibleDeprecationWarning: boolean index did not match indexed array along dimension 0; dimension is 67 but corresponding boolean dimension is 46\n",
      "C:\\Users\\Shahwaiz\\Anaconda2\\lib\\site-packages\\ipykernel\\__main__.py:332: VisibleDeprecationWarning: boolean index did not match indexed array along dimension 0; dimension is 24 but corresponding boolean dimension is 9\n",
      "C:\\Users\\Shahwaiz\\Anaconda2\\lib\\site-packages\\ipykernel\\__main__.py:332: VisibleDeprecationWarning: boolean index did not match indexed array along dimension 0; dimension is 24 but corresponding boolean dimension is 15\n",
      "C:\\Users\\Shahwaiz\\Anaconda2\\lib\\site-packages\\ipykernel\\__main__.py:332: VisibleDeprecationWarning: boolean index did not match indexed array along dimension 0; dimension is 80 but corresponding boolean dimension is 27\n",
      "C:\\Users\\Shahwaiz\\Anaconda2\\lib\\site-packages\\ipykernel\\__main__.py:332: VisibleDeprecationWarning: boolean index did not match indexed array along dimension 0; dimension is 80 but corresponding boolean dimension is 53\n",
      "C:\\Users\\Shahwaiz\\Anaconda2\\lib\\site-packages\\ipykernel\\__main__.py:332: VisibleDeprecationWarning: boolean index did not match indexed array along dimension 0; dimension is 49 but corresponding boolean dimension is 18\n",
      "C:\\Users\\Shahwaiz\\Anaconda2\\lib\\site-packages\\ipykernel\\__main__.py:332: VisibleDeprecationWarning: boolean index did not match indexed array along dimension 0; dimension is 49 but corresponding boolean dimension is 31\n",
      "C:\\Users\\Shahwaiz\\Anaconda2\\lib\\site-packages\\ipykernel\\__main__.py:332: VisibleDeprecationWarning: boolean index did not match indexed array along dimension 0; dimension is 47 but corresponding boolean dimension is 18\n",
      "C:\\Users\\Shahwaiz\\Anaconda2\\lib\\site-packages\\ipykernel\\__main__.py:332: VisibleDeprecationWarning: boolean index did not match indexed array along dimension 0; dimension is 47 but corresponding boolean dimension is 29\n",
      "C:\\Users\\Shahwaiz\\Anaconda2\\lib\\site-packages\\ipykernel\\__main__.py:332: VisibleDeprecationWarning: boolean index did not match indexed array along dimension 0; dimension is 30 but corresponding boolean dimension is 12\n",
      "C:\\Users\\Shahwaiz\\Anaconda2\\lib\\site-packages\\ipykernel\\__main__.py:332: VisibleDeprecationWarning: boolean index did not match indexed array along dimension 0; dimension is 30 but corresponding boolean dimension is 18\n",
      "C:\\Users\\Shahwaiz\\Anaconda2\\lib\\site-packages\\ipykernel\\__main__.py:332: VisibleDeprecationWarning: boolean index did not match indexed array along dimension 0; dimension is 42 but corresponding boolean dimension is 19\n",
      "C:\\Users\\Shahwaiz\\Anaconda2\\lib\\site-packages\\ipykernel\\__main__.py:332: VisibleDeprecationWarning: boolean index did not match indexed array along dimension 0; dimension is 42 but corresponding boolean dimension is 23\n",
      "C:\\Users\\Shahwaiz\\Anaconda2\\lib\\site-packages\\ipykernel\\__main__.py:332: VisibleDeprecationWarning: boolean index did not match indexed array along dimension 0; dimension is 41 but corresponding boolean dimension is 19\n",
      "C:\\Users\\Shahwaiz\\Anaconda2\\lib\\site-packages\\ipykernel\\__main__.py:332: VisibleDeprecationWarning: boolean index did not match indexed array along dimension 0; dimension is 41 but corresponding boolean dimension is 22\n",
      "C:\\Users\\Shahwaiz\\Anaconda2\\lib\\site-packages\\ipykernel\\__main__.py:332: VisibleDeprecationWarning: boolean index did not match indexed array along dimension 0; dimension is 39 but corresponding boolean dimension is 17\n",
      "C:\\Users\\Shahwaiz\\Anaconda2\\lib\\site-packages\\ipykernel\\__main__.py:332: VisibleDeprecationWarning: boolean index did not match indexed array along dimension 0; dimension is 39 but corresponding boolean dimension is 22\n",
      "C:\\Users\\Shahwaiz\\Anaconda2\\lib\\site-packages\\ipykernel\\__main__.py:332: VisibleDeprecationWarning: boolean index did not match indexed array along dimension 0; dimension is 22 but corresponding boolean dimension is 12\n",
      "C:\\Users\\Shahwaiz\\Anaconda2\\lib\\site-packages\\ipykernel\\__main__.py:332: VisibleDeprecationWarning: boolean index did not match indexed array along dimension 0; dimension is 22 but corresponding boolean dimension is 10\n",
      "C:\\Users\\Shahwaiz\\Anaconda2\\lib\\site-packages\\ipykernel\\__main__.py:332: VisibleDeprecationWarning: boolean index did not match indexed array along dimension 0; dimension is 70 but corresponding boolean dimension is 18\n",
      "C:\\Users\\Shahwaiz\\Anaconda2\\lib\\site-packages\\ipykernel\\__main__.py:332: VisibleDeprecationWarning: boolean index did not match indexed array along dimension 0; dimension is 70 but corresponding boolean dimension is 52\n",
      "C:\\Users\\Shahwaiz\\Anaconda2\\lib\\site-packages\\ipykernel\\__main__.py:332: VisibleDeprecationWarning: boolean index did not match indexed array along dimension 0; dimension is 49 but corresponding boolean dimension is 12\n",
      "C:\\Users\\Shahwaiz\\Anaconda2\\lib\\site-packages\\ipykernel\\__main__.py:332: VisibleDeprecationWarning: boolean index did not match indexed array along dimension 0; dimension is 49 but corresponding boolean dimension is 37\n"
     ]
    },
    {
     "name": "stdout",
     "output_type": "stream",
     "text": [
      "[Info] Fold 4 Accuracy = 0.810810810811\n",
      "[0.72972972972972971, 0.67567567567567566, 0.67567567567567566, 0.81081081081081086] \n",
      "Purity=0.85, Nexample-threshold=20.0, Mean Accuracy =0.722972972973\n",
      "[Info] Fold 1 Accuracy = 0.540540540541\n",
      "[Info] Fold 2 Accuracy = 0.675675675676\n",
      "[Info] Fold 3 Accuracy = 0.783783783784\n",
      "[Info] Fold 4 Accuracy = 0.648648648649\n",
      "[0.54054054054054057, 0.67567567567567566, 0.78378378378378377, 0.64864864864864868] \n",
      "Purity=0.85, Nexample-threshold=21.0, Mean Accuracy =0.662162162162\n"
     ]
    },
    {
     "name": "stderr",
     "output_type": "stream",
     "text": [
      "C:\\Users\\Shahwaiz\\Anaconda2\\lib\\site-packages\\ipykernel\\__main__.py:332: VisibleDeprecationWarning: boolean index did not match indexed array along dimension 0; dimension is 56 but corresponding boolean dimension is 18\n",
      "C:\\Users\\Shahwaiz\\Anaconda2\\lib\\site-packages\\ipykernel\\__main__.py:332: VisibleDeprecationWarning: boolean index did not match indexed array along dimension 0; dimension is 56 but corresponding boolean dimension is 38\n",
      "C:\\Users\\Shahwaiz\\Anaconda2\\lib\\site-packages\\ipykernel\\__main__.py:332: VisibleDeprecationWarning: boolean index did not match indexed array along dimension 0; dimension is 46 but corresponding boolean dimension is 14\n",
      "C:\\Users\\Shahwaiz\\Anaconda2\\lib\\site-packages\\ipykernel\\__main__.py:332: VisibleDeprecationWarning: boolean index did not match indexed array along dimension 0; dimension is 46 but corresponding boolean dimension is 32\n",
      "C:\\Users\\Shahwaiz\\Anaconda2\\lib\\site-packages\\ipykernel\\__main__.py:332: VisibleDeprecationWarning: boolean index did not match indexed array along dimension 0; dimension is 105 but corresponding boolean dimension is 37\n",
      "C:\\Users\\Shahwaiz\\Anaconda2\\lib\\site-packages\\ipykernel\\__main__.py:332: VisibleDeprecationWarning: boolean index did not match indexed array along dimension 0; dimension is 105 but corresponding boolean dimension is 68\n",
      "C:\\Users\\Shahwaiz\\Anaconda2\\lib\\site-packages\\ipykernel\\__main__.py:332: VisibleDeprecationWarning: boolean index did not match indexed array along dimension 0; dimension is 82 but corresponding boolean dimension is 28\n",
      "C:\\Users\\Shahwaiz\\Anaconda2\\lib\\site-packages\\ipykernel\\__main__.py:332: VisibleDeprecationWarning: boolean index did not match indexed array along dimension 0; dimension is 82 but corresponding boolean dimension is 54\n",
      "C:\\Users\\Shahwaiz\\Anaconda2\\lib\\site-packages\\ipykernel\\__main__.py:332: VisibleDeprecationWarning: boolean index did not match indexed array along dimension 0; dimension is 75 but corresponding boolean dimension is 26\n",
      "C:\\Users\\Shahwaiz\\Anaconda2\\lib\\site-packages\\ipykernel\\__main__.py:332: VisibleDeprecationWarning: boolean index did not match indexed array along dimension 0; dimension is 75 but corresponding boolean dimension is 49\n",
      "C:\\Users\\Shahwaiz\\Anaconda2\\lib\\site-packages\\ipykernel\\__main__.py:332: VisibleDeprecationWarning: boolean index did not match indexed array along dimension 0; dimension is 49 but corresponding boolean dimension is 17\n",
      "C:\\Users\\Shahwaiz\\Anaconda2\\lib\\site-packages\\ipykernel\\__main__.py:332: VisibleDeprecationWarning: boolean index did not match indexed array along dimension 0; dimension is 49 but corresponding boolean dimension is 32\n",
      "C:\\Users\\Shahwaiz\\Anaconda2\\lib\\site-packages\\ipykernel\\__main__.py:332: VisibleDeprecationWarning: boolean index did not match indexed array along dimension 0; dimension is 42 but corresponding boolean dimension is 16\n",
      "C:\\Users\\Shahwaiz\\Anaconda2\\lib\\site-packages\\ipykernel\\__main__.py:332: VisibleDeprecationWarning: boolean index did not match indexed array along dimension 0; dimension is 42 but corresponding boolean dimension is 26\n",
      "C:\\Users\\Shahwaiz\\Anaconda2\\lib\\site-packages\\ipykernel\\__main__.py:332: VisibleDeprecationWarning: boolean index did not match indexed array along dimension 0; dimension is 70 but corresponding boolean dimension is 21\n",
      "C:\\Users\\Shahwaiz\\Anaconda2\\lib\\site-packages\\ipykernel\\__main__.py:332: VisibleDeprecationWarning: boolean index did not match indexed array along dimension 0; dimension is 70 but corresponding boolean dimension is 49\n",
      "C:\\Users\\Shahwaiz\\Anaconda2\\lib\\site-packages\\ipykernel\\__main__.py:332: VisibleDeprecationWarning: boolean index did not match indexed array along dimension 0; dimension is 50 but corresponding boolean dimension is 13\n",
      "C:\\Users\\Shahwaiz\\Anaconda2\\lib\\site-packages\\ipykernel\\__main__.py:332: VisibleDeprecationWarning: boolean index did not match indexed array along dimension 0; dimension is 50 but corresponding boolean dimension is 37\n",
      "C:\\Users\\Shahwaiz\\Anaconda2\\lib\\site-packages\\ipykernel\\__main__.py:332: VisibleDeprecationWarning: boolean index did not match indexed array along dimension 0; dimension is 41 but corresponding boolean dimension is 12\n",
      "C:\\Users\\Shahwaiz\\Anaconda2\\lib\\site-packages\\ipykernel\\__main__.py:332: VisibleDeprecationWarning: boolean index did not match indexed array along dimension 0; dimension is 41 but corresponding boolean dimension is 29\n",
      "C:\\Users\\Shahwaiz\\Anaconda2\\lib\\site-packages\\ipykernel\\__main__.py:332: VisibleDeprecationWarning: boolean index did not match indexed array along dimension 0; dimension is 39 but corresponding boolean dimension is 12\n",
      "C:\\Users\\Shahwaiz\\Anaconda2\\lib\\site-packages\\ipykernel\\__main__.py:332: VisibleDeprecationWarning: boolean index did not match indexed array along dimension 0; dimension is 39 but corresponding boolean dimension is 27\n",
      "C:\\Users\\Shahwaiz\\Anaconda2\\lib\\site-packages\\ipykernel\\__main__.py:332: VisibleDeprecationWarning: boolean index did not match indexed array along dimension 0; dimension is 51 but corresponding boolean dimension is 19\n",
      "C:\\Users\\Shahwaiz\\Anaconda2\\lib\\site-packages\\ipykernel\\__main__.py:332: VisibleDeprecationWarning: boolean index did not match indexed array along dimension 0; dimension is 51 but corresponding boolean dimension is 32\n",
      "C:\\Users\\Shahwaiz\\Anaconda2\\lib\\site-packages\\ipykernel\\__main__.py:332: VisibleDeprecationWarning: boolean index did not match indexed array along dimension 0; dimension is 37 but corresponding boolean dimension is 14\n",
      "C:\\Users\\Shahwaiz\\Anaconda2\\lib\\site-packages\\ipykernel\\__main__.py:332: VisibleDeprecationWarning: boolean index did not match indexed array along dimension 0; dimension is 37 but corresponding boolean dimension is 23\n",
      "C:\\Users\\Shahwaiz\\Anaconda2\\lib\\site-packages\\ipykernel\\__main__.py:332: VisibleDeprecationWarning: boolean index did not match indexed array along dimension 0; dimension is 37 but corresponding boolean dimension is 16\n",
      "C:\\Users\\Shahwaiz\\Anaconda2\\lib\\site-packages\\ipykernel\\__main__.py:332: VisibleDeprecationWarning: boolean index did not match indexed array along dimension 0; dimension is 37 but corresponding boolean dimension is 21\n",
      "C:\\Users\\Shahwaiz\\Anaconda2\\lib\\site-packages\\ipykernel\\__main__.py:332: VisibleDeprecationWarning: boolean index did not match indexed array along dimension 0; dimension is 75 but corresponding boolean dimension is 21\n",
      "C:\\Users\\Shahwaiz\\Anaconda2\\lib\\site-packages\\ipykernel\\__main__.py:332: VisibleDeprecationWarning: boolean index did not match indexed array along dimension 0; dimension is 75 but corresponding boolean dimension is 54\n",
      "C:\\Users\\Shahwaiz\\Anaconda2\\lib\\site-packages\\ipykernel\\__main__.py:332: VisibleDeprecationWarning: boolean index did not match indexed array along dimension 0; dimension is 52 but corresponding boolean dimension is 13\n",
      "C:\\Users\\Shahwaiz\\Anaconda2\\lib\\site-packages\\ipykernel\\__main__.py:332: VisibleDeprecationWarning: boolean index did not match indexed array along dimension 0; dimension is 52 but corresponding boolean dimension is 39\n",
      "C:\\Users\\Shahwaiz\\Anaconda2\\lib\\site-packages\\ipykernel\\__main__.py:332: VisibleDeprecationWarning: boolean index did not match indexed array along dimension 0; dimension is 29 but corresponding boolean dimension is 9\n",
      "C:\\Users\\Shahwaiz\\Anaconda2\\lib\\site-packages\\ipykernel\\__main__.py:332: VisibleDeprecationWarning: boolean index did not match indexed array along dimension 0; dimension is 29 but corresponding boolean dimension is 20\n",
      "C:\\Users\\Shahwaiz\\Anaconda2\\lib\\site-packages\\ipykernel\\__main__.py:332: VisibleDeprecationWarning: boolean index did not match indexed array along dimension 0; dimension is 68 but corresponding boolean dimension is 21\n",
      "C:\\Users\\Shahwaiz\\Anaconda2\\lib\\site-packages\\ipykernel\\__main__.py:332: VisibleDeprecationWarning: boolean index did not match indexed array along dimension 0; dimension is 68 but corresponding boolean dimension is 47\n"
     ]
    },
    {
     "name": "stdout",
     "output_type": "stream",
     "text": [
      "[Info] Fold 1 Accuracy = 0.675675675676\n",
      "[Info] Fold 2 Accuracy = 0.675675675676\n",
      "[Info] Fold 3 Accuracy = 0.675675675676\n",
      "[Info] Fold 4 Accuracy = 0.648648648649\n",
      "[0.67567567567567566, 0.67567567567567566, 0.67567567567567566, 0.64864864864864868] \n",
      "Purity=0.85, Nexample-threshold=22.0, Mean Accuracy =0.668918918919\n",
      "[Info] Fold 1 Accuracy = 0.675675675676\n",
      "[Info] Fold 2 Accuracy = 0.540540540541\n"
     ]
    },
    {
     "name": "stderr",
     "output_type": "stream",
     "text": [
      "C:\\Users\\Shahwaiz\\Anaconda2\\lib\\site-packages\\ipykernel\\__main__.py:332: VisibleDeprecationWarning: boolean index did not match indexed array along dimension 0; dimension is 53 but corresponding boolean dimension is 17\n",
      "C:\\Users\\Shahwaiz\\Anaconda2\\lib\\site-packages\\ipykernel\\__main__.py:332: VisibleDeprecationWarning: boolean index did not match indexed array along dimension 0; dimension is 53 but corresponding boolean dimension is 36\n",
      "C:\\Users\\Shahwaiz\\Anaconda2\\lib\\site-packages\\ipykernel\\__main__.py:332: VisibleDeprecationWarning: boolean index did not match indexed array along dimension 0; dimension is 74 but corresponding boolean dimension is 24\n",
      "C:\\Users\\Shahwaiz\\Anaconda2\\lib\\site-packages\\ipykernel\\__main__.py:332: VisibleDeprecationWarning: boolean index did not match indexed array along dimension 0; dimension is 74 but corresponding boolean dimension is 50\n",
      "C:\\Users\\Shahwaiz\\Anaconda2\\lib\\site-packages\\ipykernel\\__main__.py:332: VisibleDeprecationWarning: boolean index did not match indexed array along dimension 0; dimension is 26 but corresponding boolean dimension is 6\n",
      "C:\\Users\\Shahwaiz\\Anaconda2\\lib\\site-packages\\ipykernel\\__main__.py:332: VisibleDeprecationWarning: boolean index did not match indexed array along dimension 0; dimension is 26 but corresponding boolean dimension is 20\n",
      "C:\\Users\\Shahwaiz\\Anaconda2\\lib\\site-packages\\ipykernel\\__main__.py:332: VisibleDeprecationWarning: boolean index did not match indexed array along dimension 0; dimension is 47 but corresponding boolean dimension is 17\n",
      "C:\\Users\\Shahwaiz\\Anaconda2\\lib\\site-packages\\ipykernel\\__main__.py:332: VisibleDeprecationWarning: boolean index did not match indexed array along dimension 0; dimension is 47 but corresponding boolean dimension is 30\n",
      "C:\\Users\\Shahwaiz\\Anaconda2\\lib\\site-packages\\ipykernel\\__main__.py:332: VisibleDeprecationWarning: boolean index did not match indexed array along dimension 0; dimension is 45 but corresponding boolean dimension is 12\n",
      "C:\\Users\\Shahwaiz\\Anaconda2\\lib\\site-packages\\ipykernel\\__main__.py:332: VisibleDeprecationWarning: boolean index did not match indexed array along dimension 0; dimension is 45 but corresponding boolean dimension is 33\n",
      "C:\\Users\\Shahwaiz\\Anaconda2\\lib\\site-packages\\ipykernel\\__main__.py:332: VisibleDeprecationWarning: boolean index did not match indexed array along dimension 0; dimension is 28 but corresponding boolean dimension is 7\n",
      "C:\\Users\\Shahwaiz\\Anaconda2\\lib\\site-packages\\ipykernel\\__main__.py:332: VisibleDeprecationWarning: boolean index did not match indexed array along dimension 0; dimension is 28 but corresponding boolean dimension is 21\n",
      "C:\\Users\\Shahwaiz\\Anaconda2\\lib\\site-packages\\ipykernel\\__main__.py:332: VisibleDeprecationWarning: boolean index did not match indexed array along dimension 0; dimension is 67 but corresponding boolean dimension is 25\n",
      "C:\\Users\\Shahwaiz\\Anaconda2\\lib\\site-packages\\ipykernel\\__main__.py:332: VisibleDeprecationWarning: boolean index did not match indexed array along dimension 0; dimension is 67 but corresponding boolean dimension is 42\n",
      "C:\\Users\\Shahwaiz\\Anaconda2\\lib\\site-packages\\ipykernel\\__main__.py:332: VisibleDeprecationWarning: boolean index did not match indexed array along dimension 0; dimension is 38 but corresponding boolean dimension is 7\n",
      "C:\\Users\\Shahwaiz\\Anaconda2\\lib\\site-packages\\ipykernel\\__main__.py:332: VisibleDeprecationWarning: boolean index did not match indexed array along dimension 0; dimension is 38 but corresponding boolean dimension is 31\n",
      "C:\\Users\\Shahwaiz\\Anaconda2\\lib\\site-packages\\ipykernel\\__main__.py:332: VisibleDeprecationWarning: boolean index did not match indexed array along dimension 0; dimension is 31 but corresponding boolean dimension is 6\n",
      "C:\\Users\\Shahwaiz\\Anaconda2\\lib\\site-packages\\ipykernel\\__main__.py:332: VisibleDeprecationWarning: boolean index did not match indexed array along dimension 0; dimension is 31 but corresponding boolean dimension is 25\n",
      "C:\\Users\\Shahwaiz\\Anaconda2\\lib\\site-packages\\ipykernel\\__main__.py:332: VisibleDeprecationWarning: boolean index did not match indexed array along dimension 0; dimension is 74 but corresponding boolean dimension is 30\n",
      "C:\\Users\\Shahwaiz\\Anaconda2\\lib\\site-packages\\ipykernel\\__main__.py:332: VisibleDeprecationWarning: boolean index did not match indexed array along dimension 0; dimension is 74 but corresponding boolean dimension is 44\n",
      "C:\\Users\\Shahwaiz\\Anaconda2\\lib\\site-packages\\ipykernel\\__main__.py:332: VisibleDeprecationWarning: boolean index did not match indexed array along dimension 0; dimension is 66 but corresponding boolean dimension is 26\n",
      "C:\\Users\\Shahwaiz\\Anaconda2\\lib\\site-packages\\ipykernel\\__main__.py:332: VisibleDeprecationWarning: boolean index did not match indexed array along dimension 0; dimension is 66 but corresponding boolean dimension is 40\n",
      "C:\\Users\\Shahwaiz\\Anaconda2\\lib\\site-packages\\ipykernel\\__main__.py:332: VisibleDeprecationWarning: boolean index did not match indexed array along dimension 0; dimension is 82 but corresponding boolean dimension is 27\n",
      "C:\\Users\\Shahwaiz\\Anaconda2\\lib\\site-packages\\ipykernel\\__main__.py:332: VisibleDeprecationWarning: boolean index did not match indexed array along dimension 0; dimension is 82 but corresponding boolean dimension is 55\n",
      "C:\\Users\\Shahwaiz\\Anaconda2\\lib\\site-packages\\ipykernel\\__main__.py:332: VisibleDeprecationWarning: boolean index did not match indexed array along dimension 0; dimension is 79 but corresponding boolean dimension is 26\n",
      "C:\\Users\\Shahwaiz\\Anaconda2\\lib\\site-packages\\ipykernel\\__main__.py:332: VisibleDeprecationWarning: boolean index did not match indexed array along dimension 0; dimension is 79 but corresponding boolean dimension is 53\n",
      "C:\\Users\\Shahwaiz\\Anaconda2\\lib\\site-packages\\ipykernel\\__main__.py:332: VisibleDeprecationWarning: boolean index did not match indexed array along dimension 0; dimension is 66 but corresponding boolean dimension is 20\n",
      "C:\\Users\\Shahwaiz\\Anaconda2\\lib\\site-packages\\ipykernel\\__main__.py:332: VisibleDeprecationWarning: boolean index did not match indexed array along dimension 0; dimension is 66 but corresponding boolean dimension is 46\n",
      "C:\\Users\\Shahwaiz\\Anaconda2\\lib\\site-packages\\ipykernel\\__main__.py:332: VisibleDeprecationWarning: boolean index did not match indexed array along dimension 0; dimension is 38 but corresponding boolean dimension is 10\n",
      "C:\\Users\\Shahwaiz\\Anaconda2\\lib\\site-packages\\ipykernel\\__main__.py:332: VisibleDeprecationWarning: boolean index did not match indexed array along dimension 0; dimension is 38 but corresponding boolean dimension is 28\n",
      "C:\\Users\\Shahwaiz\\Anaconda2\\lib\\site-packages\\ipykernel\\__main__.py:332: VisibleDeprecationWarning: boolean index did not match indexed array along dimension 0; dimension is 70 but corresponding boolean dimension is 27\n",
      "C:\\Users\\Shahwaiz\\Anaconda2\\lib\\site-packages\\ipykernel\\__main__.py:332: VisibleDeprecationWarning: boolean index did not match indexed array along dimension 0; dimension is 70 but corresponding boolean dimension is 43\n",
      "C:\\Users\\Shahwaiz\\Anaconda2\\lib\\site-packages\\ipykernel\\__main__.py:332: VisibleDeprecationWarning: boolean index did not match indexed array along dimension 0; dimension is 27 but corresponding boolean dimension is 12\n",
      "C:\\Users\\Shahwaiz\\Anaconda2\\lib\\site-packages\\ipykernel\\__main__.py:332: VisibleDeprecationWarning: boolean index did not match indexed array along dimension 0; dimension is 27 but corresponding boolean dimension is 15\n",
      "C:\\Users\\Shahwaiz\\Anaconda2\\lib\\site-packages\\ipykernel\\__main__.py:332: VisibleDeprecationWarning: boolean index did not match indexed array along dimension 0; dimension is 43 but corresponding boolean dimension is 15\n",
      "C:\\Users\\Shahwaiz\\Anaconda2\\lib\\site-packages\\ipykernel\\__main__.py:332: VisibleDeprecationWarning: boolean index did not match indexed array along dimension 0; dimension is 43 but corresponding boolean dimension is 28\n"
     ]
    },
    {
     "name": "stdout",
     "output_type": "stream",
     "text": [
      "[Info] Fold 3 Accuracy = 0.675675675676\n",
      "[Info] Fold 4 Accuracy = 0.837837837838\n",
      "[0.67567567567567566, 0.54054054054054057, 0.67567567567567566, 0.83783783783783783] \n",
      "Purity=0.85, Nexample-threshold=23.0, Mean Accuracy =0.682432432432\n",
      "[Info] Fold 1 Accuracy = 0.432432432432\n",
      "[Info] Fold 2 Accuracy = 0.162162162162\n",
      "[Info] Fold 3 Accuracy = 0.675675675676\n",
      "[Info] Fold 4 Accuracy = 0.675675675676\n",
      "[0.43243243243243246, 0.16216216216216217, 0.67567567567567566, 0.67567567567567566] \n",
      "Purity=0.85, Nexample-threshold=24.0, Mean Accuracy =0.486486486486\n",
      "[Info] Fold 1 Accuracy = 0.675675675676\n"
     ]
    },
    {
     "name": "stderr",
     "output_type": "stream",
     "text": [
      "C:\\Users\\Shahwaiz\\Anaconda2\\lib\\site-packages\\ipykernel\\__main__.py:332: VisibleDeprecationWarning: boolean index did not match indexed array along dimension 0; dimension is 38 but corresponding boolean dimension is 12\n",
      "C:\\Users\\Shahwaiz\\Anaconda2\\lib\\site-packages\\ipykernel\\__main__.py:332: VisibleDeprecationWarning: boolean index did not match indexed array along dimension 0; dimension is 38 but corresponding boolean dimension is 26\n",
      "C:\\Users\\Shahwaiz\\Anaconda2\\lib\\site-packages\\ipykernel\\__main__.py:332: VisibleDeprecationWarning: boolean index did not match indexed array along dimension 0; dimension is 74 but corresponding boolean dimension is 25\n",
      "C:\\Users\\Shahwaiz\\Anaconda2\\lib\\site-packages\\ipykernel\\__main__.py:332: VisibleDeprecationWarning: boolean index did not match indexed array along dimension 0; dimension is 74 but corresponding boolean dimension is 49\n",
      "C:\\Users\\Shahwaiz\\Anaconda2\\lib\\site-packages\\ipykernel\\__main__.py:332: VisibleDeprecationWarning: boolean index did not match indexed array along dimension 0; dimension is 52 but corresponding boolean dimension is 16\n",
      "C:\\Users\\Shahwaiz\\Anaconda2\\lib\\site-packages\\ipykernel\\__main__.py:332: VisibleDeprecationWarning: boolean index did not match indexed array along dimension 0; dimension is 52 but corresponding boolean dimension is 36\n",
      "C:\\Users\\Shahwaiz\\Anaconda2\\lib\\site-packages\\ipykernel\\__main__.py:332: VisibleDeprecationWarning: boolean index did not match indexed array along dimension 0; dimension is 103 but corresponding boolean dimension is 32\n",
      "C:\\Users\\Shahwaiz\\Anaconda2\\lib\\site-packages\\ipykernel\\__main__.py:332: VisibleDeprecationWarning: boolean index did not match indexed array along dimension 0; dimension is 103 but corresponding boolean dimension is 71\n",
      "C:\\Users\\Shahwaiz\\Anaconda2\\lib\\site-packages\\ipykernel\\__main__.py:332: VisibleDeprecationWarning: boolean index did not match indexed array along dimension 0; dimension is 99 but corresponding boolean dimension is 32\n",
      "C:\\Users\\Shahwaiz\\Anaconda2\\lib\\site-packages\\ipykernel\\__main__.py:332: VisibleDeprecationWarning: boolean index did not match indexed array along dimension 0; dimension is 99 but corresponding boolean dimension is 67\n",
      "C:\\Users\\Shahwaiz\\Anaconda2\\lib\\site-packages\\ipykernel\\__main__.py:332: VisibleDeprecationWarning: boolean index did not match indexed array along dimension 0; dimension is 84 but corresponding boolean dimension is 27\n",
      "C:\\Users\\Shahwaiz\\Anaconda2\\lib\\site-packages\\ipykernel\\__main__.py:332: VisibleDeprecationWarning: boolean index did not match indexed array along dimension 0; dimension is 84 but corresponding boolean dimension is 57\n",
      "C:\\Users\\Shahwaiz\\Anaconda2\\lib\\site-packages\\ipykernel\\__main__.py:332: VisibleDeprecationWarning: boolean index did not match indexed array along dimension 0; dimension is 50 but corresponding boolean dimension is 16\n",
      "C:\\Users\\Shahwaiz\\Anaconda2\\lib\\site-packages\\ipykernel\\__main__.py:332: VisibleDeprecationWarning: boolean index did not match indexed array along dimension 0; dimension is 50 but corresponding boolean dimension is 34\n",
      "C:\\Users\\Shahwaiz\\Anaconda2\\lib\\site-packages\\ipykernel\\__main__.py:332: VisibleDeprecationWarning: boolean index did not match indexed array along dimension 0; dimension is 37 but corresponding boolean dimension is 12\n",
      "C:\\Users\\Shahwaiz\\Anaconda2\\lib\\site-packages\\ipykernel\\__main__.py:332: VisibleDeprecationWarning: boolean index did not match indexed array along dimension 0; dimension is 37 but corresponding boolean dimension is 25\n",
      "C:\\Users\\Shahwaiz\\Anaconda2\\lib\\site-packages\\ipykernel\\__main__.py:332: VisibleDeprecationWarning: boolean index did not match indexed array along dimension 0; dimension is 6 but corresponding boolean dimension is 3\n",
      "C:\\Users\\Shahwaiz\\Anaconda2\\lib\\site-packages\\ipykernel\\__main__.py:332: VisibleDeprecationWarning: boolean index did not match indexed array along dimension 0; dimension is 10 but corresponding boolean dimension is 3\n",
      "C:\\Users\\Shahwaiz\\Anaconda2\\lib\\site-packages\\ipykernel\\__main__.py:332: VisibleDeprecationWarning: boolean index did not match indexed array along dimension 0; dimension is 10 but corresponding boolean dimension is 7\n",
      "C:\\Users\\Shahwaiz\\Anaconda2\\lib\\site-packages\\ipykernel\\__main__.py:332: VisibleDeprecationWarning: boolean index did not match indexed array along dimension 0; dimension is 64 but corresponding boolean dimension is 24\n",
      "C:\\Users\\Shahwaiz\\Anaconda2\\lib\\site-packages\\ipykernel\\__main__.py:332: VisibleDeprecationWarning: boolean index did not match indexed array along dimension 0; dimension is 64 but corresponding boolean dimension is 40\n",
      "C:\\Users\\Shahwaiz\\Anaconda2\\lib\\site-packages\\ipykernel\\__main__.py:332: VisibleDeprecationWarning: boolean index did not match indexed array along dimension 0; dimension is 31 but corresponding boolean dimension is 15\n",
      "C:\\Users\\Shahwaiz\\Anaconda2\\lib\\site-packages\\ipykernel\\__main__.py:332: VisibleDeprecationWarning: boolean index did not match indexed array along dimension 0; dimension is 31 but corresponding boolean dimension is 16\n",
      "C:\\Users\\Shahwaiz\\Anaconda2\\lib\\site-packages\\ipykernel\\__main__.py:332: VisibleDeprecationWarning: boolean index did not match indexed array along dimension 0; dimension is 10 but corresponding boolean dimension is 5\n",
      "C:\\Users\\Shahwaiz\\Anaconda2\\lib\\site-packages\\ipykernel\\__main__.py:332: VisibleDeprecationWarning: boolean index did not match indexed array along dimension 0; dimension is 9 but corresponding boolean dimension is 2\n",
      "C:\\Users\\Shahwaiz\\Anaconda2\\lib\\site-packages\\ipykernel\\__main__.py:332: VisibleDeprecationWarning: boolean index did not match indexed array along dimension 0; dimension is 9 but corresponding boolean dimension is 7\n",
      "C:\\Users\\Shahwaiz\\Anaconda2\\lib\\site-packages\\ipykernel\\__main__.py:332: VisibleDeprecationWarning: boolean index did not match indexed array along dimension 0; dimension is 101 but corresponding boolean dimension is 30\n",
      "C:\\Users\\Shahwaiz\\Anaconda2\\lib\\site-packages\\ipykernel\\__main__.py:332: VisibleDeprecationWarning: boolean index did not match indexed array along dimension 0; dimension is 101 but corresponding boolean dimension is 71\n"
     ]
    },
    {
     "name": "stdout",
     "output_type": "stream",
     "text": [
      "[Info] Fold 2 Accuracy = 0.621621621622\n",
      "[Info] Fold 3 Accuracy = 0.675675675676\n",
      "[Info] Fold 4 Accuracy = 0.675675675676\n",
      "[0.67567567567567566, 0.6216216216216216, 0.67567567567567566, 0.67567567567567566] \n",
      "Purity=0.85, Nexample-threshold=25.0, Mean Accuracy =0.662162162162\n",
      "[Info] Fold 1 Accuracy = 0.702702702703\n",
      "[Info] Fold 2 Accuracy = 0.648648648649\n",
      "[Info] Fold 3 Accuracy = 1.0\n",
      "[Info] Fold 4 Accuracy = 0.891891891892\n",
      "[0.70270270270270274, 0.64864864864864868, 1.0, 0.89189189189189189] \n",
      "Purity=0.86, Nexample-threshold=5.0, Mean Accuracy =0.810810810811\n",
      "[Info] Fold 1 Accuracy = 0.756756756757\n"
     ]
    },
    {
     "name": "stderr",
     "output_type": "stream",
     "text": [
      "C:\\Users\\Shahwaiz\\Anaconda2\\lib\\site-packages\\ipykernel\\__main__.py:332: VisibleDeprecationWarning: boolean index did not match indexed array along dimension 0; dimension is 63 but corresponding boolean dimension is 17\n",
      "C:\\Users\\Shahwaiz\\Anaconda2\\lib\\site-packages\\ipykernel\\__main__.py:332: VisibleDeprecationWarning: boolean index did not match indexed array along dimension 0; dimension is 63 but corresponding boolean dimension is 46\n",
      "C:\\Users\\Shahwaiz\\Anaconda2\\lib\\site-packages\\ipykernel\\__main__.py:332: VisibleDeprecationWarning: boolean index did not match indexed array along dimension 0; dimension is 17 but corresponding boolean dimension is 3\n",
      "C:\\Users\\Shahwaiz\\Anaconda2\\lib\\site-packages\\ipykernel\\__main__.py:332: VisibleDeprecationWarning: boolean index did not match indexed array along dimension 0; dimension is 17 but corresponding boolean dimension is 14\n",
      "C:\\Users\\Shahwaiz\\Anaconda2\\lib\\site-packages\\ipykernel\\__main__.py:332: VisibleDeprecationWarning: boolean index did not match indexed array along dimension 0; dimension is 8 but corresponding boolean dimension is 4\n",
      "C:\\Users\\Shahwaiz\\Anaconda2\\lib\\site-packages\\ipykernel\\__main__.py:332: VisibleDeprecationWarning: boolean index did not match indexed array along dimension 0; dimension is 28 but corresponding boolean dimension is 11\n",
      "C:\\Users\\Shahwaiz\\Anaconda2\\lib\\site-packages\\ipykernel\\__main__.py:332: VisibleDeprecationWarning: boolean index did not match indexed array along dimension 0; dimension is 28 but corresponding boolean dimension is 17\n",
      "C:\\Users\\Shahwaiz\\Anaconda2\\lib\\site-packages\\ipykernel\\__main__.py:332: VisibleDeprecationWarning: boolean index did not match indexed array along dimension 0; dimension is 37 but corresponding boolean dimension is 9\n",
      "C:\\Users\\Shahwaiz\\Anaconda2\\lib\\site-packages\\ipykernel\\__main__.py:332: VisibleDeprecationWarning: boolean index did not match indexed array along dimension 0; dimension is 37 but corresponding boolean dimension is 28\n",
      "C:\\Users\\Shahwaiz\\Anaconda2\\lib\\site-packages\\ipykernel\\__main__.py:332: VisibleDeprecationWarning: boolean index did not match indexed array along dimension 0; dimension is 26 but corresponding boolean dimension is 4\n",
      "C:\\Users\\Shahwaiz\\Anaconda2\\lib\\site-packages\\ipykernel\\__main__.py:332: VisibleDeprecationWarning: boolean index did not match indexed array along dimension 0; dimension is 26 but corresponding boolean dimension is 22\n",
      "C:\\Users\\Shahwaiz\\Anaconda2\\lib\\site-packages\\ipykernel\\__main__.py:332: VisibleDeprecationWarning: boolean index did not match indexed array along dimension 0; dimension is 19 but corresponding boolean dimension is 4\n",
      "C:\\Users\\Shahwaiz\\Anaconda2\\lib\\site-packages\\ipykernel\\__main__.py:332: VisibleDeprecationWarning: boolean index did not match indexed array along dimension 0; dimension is 19 but corresponding boolean dimension is 15\n",
      "C:\\Users\\Shahwaiz\\Anaconda2\\lib\\site-packages\\ipykernel\\__main__.py:332: VisibleDeprecationWarning: boolean index did not match indexed array along dimension 0; dimension is 29 but corresponding boolean dimension is 12\n",
      "C:\\Users\\Shahwaiz\\Anaconda2\\lib\\site-packages\\ipykernel\\__main__.py:332: VisibleDeprecationWarning: boolean index did not match indexed array along dimension 0; dimension is 29 but corresponding boolean dimension is 17\n",
      "C:\\Users\\Shahwaiz\\Anaconda2\\lib\\site-packages\\ipykernel\\__main__.py:332: VisibleDeprecationWarning: boolean index did not match indexed array along dimension 0; dimension is 47 but corresponding boolean dimension is 13\n",
      "C:\\Users\\Shahwaiz\\Anaconda2\\lib\\site-packages\\ipykernel\\__main__.py:332: VisibleDeprecationWarning: boolean index did not match indexed array along dimension 0; dimension is 47 but corresponding boolean dimension is 34\n",
      "C:\\Users\\Shahwaiz\\Anaconda2\\lib\\site-packages\\ipykernel\\__main__.py:332: VisibleDeprecationWarning: boolean index did not match indexed array along dimension 0; dimension is 100 but corresponding boolean dimension is 33\n",
      "C:\\Users\\Shahwaiz\\Anaconda2\\lib\\site-packages\\ipykernel\\__main__.py:332: VisibleDeprecationWarning: boolean index did not match indexed array along dimension 0; dimension is 100 but corresponding boolean dimension is 67\n"
     ]
    },
    {
     "name": "stdout",
     "output_type": "stream",
     "text": [
      "[Info] Fold 2 Accuracy = 0.675675675676\n",
      "[Info] Fold 3 Accuracy = 0.756756756757\n",
      "[Info] Fold 4 Accuracy = 0.675675675676\n",
      "[0.7567567567567568, 0.67567567567567566, 0.7567567567567568, 0.67567567567567566] \n",
      "Purity=0.86, Nexample-threshold=6.0, Mean Accuracy =0.716216216216\n",
      "[Info] Fold 1 Accuracy = 0.675675675676\n",
      "[Info] Fold 2 Accuracy = 0.675675675676\n",
      "[Info] Fold 3 Accuracy = 0.783783783784\n",
      "[Info] Fold 4 Accuracy = 0.675675675676\n",
      "[0.67567567567567566, 0.67567567567567566, 0.78378378378378377, 0.67567567567567566] \n",
      "Purity=0.86, Nexample-threshold=7.0, Mean Accuracy =0.702702702703\n"
     ]
    },
    {
     "name": "stderr",
     "output_type": "stream",
     "text": [
      "C:\\Users\\Shahwaiz\\Anaconda2\\lib\\site-packages\\ipykernel\\__main__.py:332: VisibleDeprecationWarning: boolean index did not match indexed array along dimension 0; dimension is 41 but corresponding boolean dimension is 17\n",
      "C:\\Users\\Shahwaiz\\Anaconda2\\lib\\site-packages\\ipykernel\\__main__.py:332: VisibleDeprecationWarning: boolean index did not match indexed array along dimension 0; dimension is 41 but corresponding boolean dimension is 24\n",
      "C:\\Users\\Shahwaiz\\Anaconda2\\lib\\site-packages\\ipykernel\\__main__.py:332: VisibleDeprecationWarning: boolean index did not match indexed array along dimension 0; dimension is 64 but corresponding boolean dimension is 19\n",
      "C:\\Users\\Shahwaiz\\Anaconda2\\lib\\site-packages\\ipykernel\\__main__.py:332: VisibleDeprecationWarning: boolean index did not match indexed array along dimension 0; dimension is 64 but corresponding boolean dimension is 45\n",
      "C:\\Users\\Shahwaiz\\Anaconda2\\lib\\site-packages\\ipykernel\\__main__.py:332: VisibleDeprecationWarning: boolean index did not match indexed array along dimension 0; dimension is 50 but corresponding boolean dimension is 15\n",
      "C:\\Users\\Shahwaiz\\Anaconda2\\lib\\site-packages\\ipykernel\\__main__.py:332: VisibleDeprecationWarning: boolean index did not match indexed array along dimension 0; dimension is 50 but corresponding boolean dimension is 35\n",
      "C:\\Users\\Shahwaiz\\Anaconda2\\lib\\site-packages\\ipykernel\\__main__.py:332: VisibleDeprecationWarning: boolean index did not match indexed array along dimension 0; dimension is 96 but corresponding boolean dimension is 32\n",
      "C:\\Users\\Shahwaiz\\Anaconda2\\lib\\site-packages\\ipykernel\\__main__.py:332: VisibleDeprecationWarning: boolean index did not match indexed array along dimension 0; dimension is 96 but corresponding boolean dimension is 64\n",
      "C:\\Users\\Shahwaiz\\Anaconda2\\lib\\site-packages\\ipykernel\\__main__.py:332: VisibleDeprecationWarning: boolean index did not match indexed array along dimension 0; dimension is 33 but corresponding boolean dimension is 14\n",
      "C:\\Users\\Shahwaiz\\Anaconda2\\lib\\site-packages\\ipykernel\\__main__.py:332: VisibleDeprecationWarning: boolean index did not match indexed array along dimension 0; dimension is 33 but corresponding boolean dimension is 19\n",
      "C:\\Users\\Shahwaiz\\Anaconda2\\lib\\site-packages\\ipykernel\\__main__.py:332: VisibleDeprecationWarning: boolean index did not match indexed array along dimension 0; dimension is 41 but corresponding boolean dimension is 14\n",
      "C:\\Users\\Shahwaiz\\Anaconda2\\lib\\site-packages\\ipykernel\\__main__.py:332: VisibleDeprecationWarning: boolean index did not match indexed array along dimension 0; dimension is 41 but corresponding boolean dimension is 27\n",
      "C:\\Users\\Shahwaiz\\Anaconda2\\lib\\site-packages\\ipykernel\\__main__.py:332: VisibleDeprecationWarning: boolean index did not match indexed array along dimension 0; dimension is 63 but corresponding boolean dimension is 23\n",
      "C:\\Users\\Shahwaiz\\Anaconda2\\lib\\site-packages\\ipykernel\\__main__.py:332: VisibleDeprecationWarning: boolean index did not match indexed array along dimension 0; dimension is 63 but corresponding boolean dimension is 40\n",
      "C:\\Users\\Shahwaiz\\Anaconda2\\lib\\site-packages\\ipykernel\\__main__.py:332: VisibleDeprecationWarning: boolean index did not match indexed array along dimension 0; dimension is 24 but corresponding boolean dimension is 12\n",
      "C:\\Users\\Shahwaiz\\Anaconda2\\lib\\site-packages\\ipykernel\\__main__.py:332: VisibleDeprecationWarning: boolean index did not match indexed array along dimension 0; dimension is 45 but corresponding boolean dimension is 19\n",
      "C:\\Users\\Shahwaiz\\Anaconda2\\lib\\site-packages\\ipykernel\\__main__.py:332: VisibleDeprecationWarning: boolean index did not match indexed array along dimension 0; dimension is 45 but corresponding boolean dimension is 26\n",
      "C:\\Users\\Shahwaiz\\Anaconda2\\lib\\site-packages\\ipykernel\\__main__.py:332: VisibleDeprecationWarning: boolean index did not match indexed array along dimension 0; dimension is 88 but corresponding boolean dimension is 33\n",
      "C:\\Users\\Shahwaiz\\Anaconda2\\lib\\site-packages\\ipykernel\\__main__.py:332: VisibleDeprecationWarning: boolean index did not match indexed array along dimension 0; dimension is 88 but corresponding boolean dimension is 55\n",
      "C:\\Users\\Shahwaiz\\Anaconda2\\lib\\site-packages\\ipykernel\\__main__.py:332: VisibleDeprecationWarning: boolean index did not match indexed array along dimension 0; dimension is 38 but corresponding boolean dimension is 16\n",
      "C:\\Users\\Shahwaiz\\Anaconda2\\lib\\site-packages\\ipykernel\\__main__.py:332: VisibleDeprecationWarning: boolean index did not match indexed array along dimension 0; dimension is 38 but corresponding boolean dimension is 22\n",
      "C:\\Users\\Shahwaiz\\Anaconda2\\lib\\site-packages\\ipykernel\\__main__.py:332: VisibleDeprecationWarning: boolean index did not match indexed array along dimension 0; dimension is 44 but corresponding boolean dimension is 12\n",
      "C:\\Users\\Shahwaiz\\Anaconda2\\lib\\site-packages\\ipykernel\\__main__.py:332: VisibleDeprecationWarning: boolean index did not match indexed array along dimension 0; dimension is 44 but corresponding boolean dimension is 32\n",
      "C:\\Users\\Shahwaiz\\Anaconda2\\lib\\site-packages\\ipykernel\\__main__.py:332: VisibleDeprecationWarning: boolean index did not match indexed array along dimension 0; dimension is 43 but corresponding boolean dimension is 12\n",
      "C:\\Users\\Shahwaiz\\Anaconda2\\lib\\site-packages\\ipykernel\\__main__.py:332: VisibleDeprecationWarning: boolean index did not match indexed array along dimension 0; dimension is 43 but corresponding boolean dimension is 31\n",
      "C:\\Users\\Shahwaiz\\Anaconda2\\lib\\site-packages\\ipykernel\\__main__.py:332: VisibleDeprecationWarning: boolean index did not match indexed array along dimension 0; dimension is 29 but corresponding boolean dimension is 7\n",
      "C:\\Users\\Shahwaiz\\Anaconda2\\lib\\site-packages\\ipykernel\\__main__.py:332: VisibleDeprecationWarning: boolean index did not match indexed array along dimension 0; dimension is 29 but corresponding boolean dimension is 22\n",
      "C:\\Users\\Shahwaiz\\Anaconda2\\lib\\site-packages\\ipykernel\\__main__.py:332: VisibleDeprecationWarning: boolean index did not match indexed array along dimension 0; dimension is 68 but corresponding boolean dimension is 30\n",
      "C:\\Users\\Shahwaiz\\Anaconda2\\lib\\site-packages\\ipykernel\\__main__.py:332: VisibleDeprecationWarning: boolean index did not match indexed array along dimension 0; dimension is 68 but corresponding boolean dimension is 38\n"
     ]
    },
    {
     "name": "stdout",
     "output_type": "stream",
     "text": [
      "[Info] Fold 1 Accuracy = 0.972972972973\n",
      "[Info] Fold 2 Accuracy = 0.810810810811\n",
      "[Info] Fold 3 Accuracy = 1.0\n",
      "[Info] Fold 4 Accuracy = 0.675675675676\n",
      "[0.97297297297297303, 0.81081081081081086, 1.0, 0.67567567567567566] \n",
      "Purity=0.86, Nexample-threshold=8.0, Mean Accuracy =0.864864864865\n",
      "[Info] Fold 1 Accuracy = 0.891891891892\n",
      "[Info] Fold 2 Accuracy = 0.675675675676\n",
      "[Info] Fold 3 Accuracy = 0.675675675676\n",
      "[Info] Fold 4 Accuracy = 0.675675675676\n",
      "[0.89189189189189189, 0.67567567567567566, 0.67567567567567566, 0.67567567567567566] \n",
      "Purity=0.86, Nexample-threshold=9.0, Mean Accuracy =0.72972972973\n",
      "[Info] Fold 1 Accuracy = 0.621621621622\n"
     ]
    },
    {
     "name": "stderr",
     "output_type": "stream",
     "text": [
      "C:\\Users\\Shahwaiz\\Anaconda2\\lib\\site-packages\\ipykernel\\__main__.py:332: VisibleDeprecationWarning: boolean index did not match indexed array along dimension 0; dimension is 65 but corresponding boolean dimension is 28\n",
      "C:\\Users\\Shahwaiz\\Anaconda2\\lib\\site-packages\\ipykernel\\__main__.py:332: VisibleDeprecationWarning: boolean index did not match indexed array along dimension 0; dimension is 65 but corresponding boolean dimension is 37\n",
      "C:\\Users\\Shahwaiz\\Anaconda2\\lib\\site-packages\\ipykernel\\__main__.py:332: VisibleDeprecationWarning: boolean index did not match indexed array along dimension 0; dimension is 62 but corresponding boolean dimension is 26\n",
      "C:\\Users\\Shahwaiz\\Anaconda2\\lib\\site-packages\\ipykernel\\__main__.py:332: VisibleDeprecationWarning: boolean index did not match indexed array along dimension 0; dimension is 62 but corresponding boolean dimension is 36\n",
      "C:\\Users\\Shahwaiz\\Anaconda2\\lib\\site-packages\\ipykernel\\__main__.py:332: VisibleDeprecationWarning: boolean index did not match indexed array along dimension 0; dimension is 110 but corresponding boolean dimension is 37\n",
      "C:\\Users\\Shahwaiz\\Anaconda2\\lib\\site-packages\\ipykernel\\__main__.py:332: VisibleDeprecationWarning: boolean index did not match indexed array along dimension 0; dimension is 110 but corresponding boolean dimension is 73\n",
      "C:\\Users\\Shahwaiz\\Anaconda2\\lib\\site-packages\\ipykernel\\__main__.py:332: VisibleDeprecationWarning: boolean index did not match indexed array along dimension 0; dimension is 42 but corresponding boolean dimension is 12\n",
      "C:\\Users\\Shahwaiz\\Anaconda2\\lib\\site-packages\\ipykernel\\__main__.py:332: VisibleDeprecationWarning: boolean index did not match indexed array along dimension 0; dimension is 42 but corresponding boolean dimension is 30\n",
      "C:\\Users\\Shahwaiz\\Anaconda2\\lib\\site-packages\\ipykernel\\__main__.py:332: VisibleDeprecationWarning: boolean index did not match indexed array along dimension 0; dimension is 18 but corresponding boolean dimension is 4\n",
      "C:\\Users\\Shahwaiz\\Anaconda2\\lib\\site-packages\\ipykernel\\__main__.py:332: VisibleDeprecationWarning: boolean index did not match indexed array along dimension 0; dimension is 18 but corresponding boolean dimension is 14\n",
      "C:\\Users\\Shahwaiz\\Anaconda2\\lib\\site-packages\\ipykernel\\__main__.py:332: VisibleDeprecationWarning: boolean index did not match indexed array along dimension 0; dimension is 95 but corresponding boolean dimension is 32\n",
      "C:\\Users\\Shahwaiz\\Anaconda2\\lib\\site-packages\\ipykernel\\__main__.py:332: VisibleDeprecationWarning: boolean index did not match indexed array along dimension 0; dimension is 95 but corresponding boolean dimension is 63\n",
      "C:\\Users\\Shahwaiz\\Anaconda2\\lib\\site-packages\\ipykernel\\__main__.py:332: VisibleDeprecationWarning: boolean index did not match indexed array along dimension 0; dimension is 89 but corresponding boolean dimension is 31\n",
      "C:\\Users\\Shahwaiz\\Anaconda2\\lib\\site-packages\\ipykernel\\__main__.py:332: VisibleDeprecationWarning: boolean index did not match indexed array along dimension 0; dimension is 89 but corresponding boolean dimension is 58\n",
      "C:\\Users\\Shahwaiz\\Anaconda2\\lib\\site-packages\\ipykernel\\__main__.py:332: VisibleDeprecationWarning: boolean index did not match indexed array along dimension 0; dimension is 32 but corresponding boolean dimension is 13\n",
      "C:\\Users\\Shahwaiz\\Anaconda2\\lib\\site-packages\\ipykernel\\__main__.py:332: VisibleDeprecationWarning: boolean index did not match indexed array along dimension 0; dimension is 32 but corresponding boolean dimension is 19\n",
      "C:\\Users\\Shahwaiz\\Anaconda2\\lib\\site-packages\\ipykernel\\__main__.py:332: VisibleDeprecationWarning: boolean index did not match indexed array along dimension 0; dimension is 50 but corresponding boolean dimension is 17\n",
      "C:\\Users\\Shahwaiz\\Anaconda2\\lib\\site-packages\\ipykernel\\__main__.py:332: VisibleDeprecationWarning: boolean index did not match indexed array along dimension 0; dimension is 50 but corresponding boolean dimension is 33\n",
      "C:\\Users\\Shahwaiz\\Anaconda2\\lib\\site-packages\\ipykernel\\__main__.py:332: VisibleDeprecationWarning: boolean index did not match indexed array along dimension 0; dimension is 79 but corresponding boolean dimension is 27\n",
      "C:\\Users\\Shahwaiz\\Anaconda2\\lib\\site-packages\\ipykernel\\__main__.py:332: VisibleDeprecationWarning: boolean index did not match indexed array along dimension 0; dimension is 79 but corresponding boolean dimension is 52\n"
     ]
    },
    {
     "name": "stdout",
     "output_type": "stream",
     "text": [
      "[Info] Fold 2 Accuracy = 0.675675675676\n",
      "[Info] Fold 3 Accuracy = 0.918918918919\n",
      "[Info] Fold 4 Accuracy = 0.837837837838\n",
      "[0.6216216216216216, 0.67567567567567566, 0.91891891891891897, 0.83783783783783783] \n",
      "Purity=0.86, Nexample-threshold=10.0, Mean Accuracy =0.763513513514\n",
      "[Info] Fold 1 Accuracy = 0.378378378378\n",
      "[Info] Fold 2 Accuracy = 0.675675675676\n",
      "[Info] Fold 3 Accuracy = 0.648648648649\n"
     ]
    },
    {
     "name": "stderr",
     "output_type": "stream",
     "text": [
      "C:\\Users\\Shahwaiz\\Anaconda2\\lib\\site-packages\\ipykernel\\__main__.py:332: VisibleDeprecationWarning: boolean index did not match indexed array along dimension 0; dimension is 52 but corresponding boolean dimension is 17\n",
      "C:\\Users\\Shahwaiz\\Anaconda2\\lib\\site-packages\\ipykernel\\__main__.py:332: VisibleDeprecationWarning: boolean index did not match indexed array along dimension 0; dimension is 52 but corresponding boolean dimension is 35\n",
      "C:\\Users\\Shahwaiz\\Anaconda2\\lib\\site-packages\\ipykernel\\__main__.py:332: VisibleDeprecationWarning: boolean index did not match indexed array along dimension 0; dimension is 34 but corresponding boolean dimension is 10\n",
      "C:\\Users\\Shahwaiz\\Anaconda2\\lib\\site-packages\\ipykernel\\__main__.py:332: VisibleDeprecationWarning: boolean index did not match indexed array along dimension 0; dimension is 34 but corresponding boolean dimension is 24\n",
      "C:\\Users\\Shahwaiz\\Anaconda2\\lib\\site-packages\\ipykernel\\__main__.py:332: VisibleDeprecationWarning: boolean index did not match indexed array along dimension 0; dimension is 23 but corresponding boolean dimension is 10\n",
      "C:\\Users\\Shahwaiz\\Anaconda2\\lib\\site-packages\\ipykernel\\__main__.py:332: VisibleDeprecationWarning: boolean index did not match indexed array along dimension 0; dimension is 23 but corresponding boolean dimension is 13\n",
      "C:\\Users\\Shahwaiz\\Anaconda2\\lib\\site-packages\\ipykernel\\__main__.py:332: VisibleDeprecationWarning: boolean index did not match indexed array along dimension 0; dimension is 109 but corresponding boolean dimension is 36\n",
      "C:\\Users\\Shahwaiz\\Anaconda2\\lib\\site-packages\\ipykernel\\__main__.py:332: VisibleDeprecationWarning: boolean index did not match indexed array along dimension 0; dimension is 109 but corresponding boolean dimension is 73\n",
      "C:\\Users\\Shahwaiz\\Anaconda2\\lib\\site-packages\\ipykernel\\__main__.py:332: VisibleDeprecationWarning: boolean index did not match indexed array along dimension 0; dimension is 78 but corresponding boolean dimension is 29\n",
      "C:\\Users\\Shahwaiz\\Anaconda2\\lib\\site-packages\\ipykernel\\__main__.py:332: VisibleDeprecationWarning: boolean index did not match indexed array along dimension 0; dimension is 78 but corresponding boolean dimension is 49\n",
      "C:\\Users\\Shahwaiz\\Anaconda2\\lib\\site-packages\\ipykernel\\__main__.py:332: VisibleDeprecationWarning: boolean index did not match indexed array along dimension 0; dimension is 63 but corresponding boolean dimension is 24\n",
      "C:\\Users\\Shahwaiz\\Anaconda2\\lib\\site-packages\\ipykernel\\__main__.py:332: VisibleDeprecationWarning: boolean index did not match indexed array along dimension 0; dimension is 63 but corresponding boolean dimension is 39\n",
      "C:\\Users\\Shahwaiz\\Anaconda2\\lib\\site-packages\\ipykernel\\__main__.py:332: VisibleDeprecationWarning: boolean index did not match indexed array along dimension 0; dimension is 43 but corresponding boolean dimension is 19\n",
      "C:\\Users\\Shahwaiz\\Anaconda2\\lib\\site-packages\\ipykernel\\__main__.py:332: VisibleDeprecationWarning: boolean index did not match indexed array along dimension 0; dimension is 43 but corresponding boolean dimension is 24\n",
      "C:\\Users\\Shahwaiz\\Anaconda2\\lib\\site-packages\\ipykernel\\__main__.py:332: VisibleDeprecationWarning: boolean index did not match indexed array along dimension 0; dimension is 40 but corresponding boolean dimension is 19\n",
      "C:\\Users\\Shahwaiz\\Anaconda2\\lib\\site-packages\\ipykernel\\__main__.py:332: VisibleDeprecationWarning: boolean index did not match indexed array along dimension 0; dimension is 40 but corresponding boolean dimension is 21\n",
      "C:\\Users\\Shahwaiz\\Anaconda2\\lib\\site-packages\\ipykernel\\__main__.py:332: VisibleDeprecationWarning: boolean index did not match indexed array along dimension 0; dimension is 95 but corresponding boolean dimension is 29\n",
      "C:\\Users\\Shahwaiz\\Anaconda2\\lib\\site-packages\\ipykernel\\__main__.py:332: VisibleDeprecationWarning: boolean index did not match indexed array along dimension 0; dimension is 95 but corresponding boolean dimension is 66\n",
      "C:\\Users\\Shahwaiz\\Anaconda2\\lib\\site-packages\\ipykernel\\__main__.py:332: VisibleDeprecationWarning: boolean index did not match indexed array along dimension 0; dimension is 92 but corresponding boolean dimension is 29\n",
      "C:\\Users\\Shahwaiz\\Anaconda2\\lib\\site-packages\\ipykernel\\__main__.py:332: VisibleDeprecationWarning: boolean index did not match indexed array along dimension 0; dimension is 92 but corresponding boolean dimension is 63\n",
      "C:\\Users\\Shahwaiz\\Anaconda2\\lib\\site-packages\\ipykernel\\__main__.py:332: VisibleDeprecationWarning: boolean index did not match indexed array along dimension 0; dimension is 30 but corresponding boolean dimension is 5\n",
      "C:\\Users\\Shahwaiz\\Anaconda2\\lib\\site-packages\\ipykernel\\__main__.py:332: VisibleDeprecationWarning: boolean index did not match indexed array along dimension 0; dimension is 30 but corresponding boolean dimension is 25\n",
      "C:\\Users\\Shahwaiz\\Anaconda2\\lib\\site-packages\\ipykernel\\__main__.py:332: VisibleDeprecationWarning: boolean index did not match indexed array along dimension 0; dimension is 24 but corresponding boolean dimension is 5\n",
      "C:\\Users\\Shahwaiz\\Anaconda2\\lib\\site-packages\\ipykernel\\__main__.py:332: VisibleDeprecationWarning: boolean index did not match indexed array along dimension 0; dimension is 24 but corresponding boolean dimension is 19\n"
     ]
    },
    {
     "name": "stdout",
     "output_type": "stream",
     "text": [
      "[Info] Fold 4 Accuracy = 0.0540540540541\n",
      "[0.3783783783783784, 0.67567567567567566, 0.64864864864864868, 0.054054054054054057] \n",
      "Purity=0.86, Nexample-threshold=11.0, Mean Accuracy =0.439189189189\n",
      "[Info] Fold 1 Accuracy = 0.648648648649\n",
      "[Info] Fold 2 Accuracy = 0.675675675676\n",
      "[Info] Fold 3 Accuracy = 0.702702702703\n",
      "[Info] Fold 4 Accuracy = 0.675675675676\n",
      "[0.64864864864864868, 0.67567567567567566, 0.70270270270270274, 0.67567567567567566] \n",
      "Purity=0.86, Nexample-threshold=12.0, Mean Accuracy =0.675675675676\n",
      "[Info] Fold 1 Accuracy = 0.675675675676\n",
      "[Info] Fold 2 Accuracy = 0.648648648649\n"
     ]
    },
    {
     "name": "stderr",
     "output_type": "stream",
     "text": [
      "C:\\Users\\Shahwaiz\\Anaconda2\\lib\\site-packages\\ipykernel\\__main__.py:332: VisibleDeprecationWarning: boolean index did not match indexed array along dimension 0; dimension is 68 but corresponding boolean dimension is 20\n",
      "C:\\Users\\Shahwaiz\\Anaconda2\\lib\\site-packages\\ipykernel\\__main__.py:332: VisibleDeprecationWarning: boolean index did not match indexed array along dimension 0; dimension is 68 but corresponding boolean dimension is 48\n",
      "C:\\Users\\Shahwaiz\\Anaconda2\\lib\\site-packages\\ipykernel\\__main__.py:332: VisibleDeprecationWarning: boolean index did not match indexed array along dimension 0; dimension is 59 but corresponding boolean dimension is 18\n",
      "C:\\Users\\Shahwaiz\\Anaconda2\\lib\\site-packages\\ipykernel\\__main__.py:332: VisibleDeprecationWarning: boolean index did not match indexed array along dimension 0; dimension is 59 but corresponding boolean dimension is 41\n",
      "C:\\Users\\Shahwaiz\\Anaconda2\\lib\\site-packages\\ipykernel\\__main__.py:332: VisibleDeprecationWarning: boolean index did not match indexed array along dimension 0; dimension is 64 but corresponding boolean dimension is 22\n",
      "C:\\Users\\Shahwaiz\\Anaconda2\\lib\\site-packages\\ipykernel\\__main__.py:332: VisibleDeprecationWarning: boolean index did not match indexed array along dimension 0; dimension is 64 but corresponding boolean dimension is 42\n",
      "C:\\Users\\Shahwaiz\\Anaconda2\\lib\\site-packages\\ipykernel\\__main__.py:332: VisibleDeprecationWarning: boolean index did not match indexed array along dimension 0; dimension is 48 but corresponding boolean dimension is 15\n",
      "C:\\Users\\Shahwaiz\\Anaconda2\\lib\\site-packages\\ipykernel\\__main__.py:332: VisibleDeprecationWarning: boolean index did not match indexed array along dimension 0; dimension is 48 but corresponding boolean dimension is 33\n",
      "C:\\Users\\Shahwaiz\\Anaconda2\\lib\\site-packages\\ipykernel\\__main__.py:332: VisibleDeprecationWarning: boolean index did not match indexed array along dimension 0; dimension is 108 but corresponding boolean dimension is 36\n",
      "C:\\Users\\Shahwaiz\\Anaconda2\\lib\\site-packages\\ipykernel\\__main__.py:332: VisibleDeprecationWarning: boolean index did not match indexed array along dimension 0; dimension is 108 but corresponding boolean dimension is 72\n",
      "C:\\Users\\Shahwaiz\\Anaconda2\\lib\\site-packages\\ipykernel\\__main__.py:332: VisibleDeprecationWarning: boolean index did not match indexed array along dimension 0; dimension is 30 but corresponding boolean dimension is 11\n",
      "C:\\Users\\Shahwaiz\\Anaconda2\\lib\\site-packages\\ipykernel\\__main__.py:332: VisibleDeprecationWarning: boolean index did not match indexed array along dimension 0; dimension is 30 but corresponding boolean dimension is 19\n",
      "C:\\Users\\Shahwaiz\\Anaconda2\\lib\\site-packages\\ipykernel\\__main__.py:332: VisibleDeprecationWarning: boolean index did not match indexed array along dimension 0; dimension is 36 but corresponding boolean dimension is 15\n",
      "C:\\Users\\Shahwaiz\\Anaconda2\\lib\\site-packages\\ipykernel\\__main__.py:332: VisibleDeprecationWarning: boolean index did not match indexed array along dimension 0; dimension is 36 but corresponding boolean dimension is 21\n",
      "C:\\Users\\Shahwaiz\\Anaconda2\\lib\\site-packages\\ipykernel\\__main__.py:332: VisibleDeprecationWarning: boolean index did not match indexed array along dimension 0; dimension is 76 but corresponding boolean dimension is 22\n",
      "C:\\Users\\Shahwaiz\\Anaconda2\\lib\\site-packages\\ipykernel\\__main__.py:332: VisibleDeprecationWarning: boolean index did not match indexed array along dimension 0; dimension is 76 but corresponding boolean dimension is 54\n",
      "C:\\Users\\Shahwaiz\\Anaconda2\\lib\\site-packages\\ipykernel\\__main__.py:332: VisibleDeprecationWarning: boolean index did not match indexed array along dimension 0; dimension is 49 but corresponding boolean dimension is 16\n",
      "C:\\Users\\Shahwaiz\\Anaconda2\\lib\\site-packages\\ipykernel\\__main__.py:332: VisibleDeprecationWarning: boolean index did not match indexed array along dimension 0; dimension is 49 but corresponding boolean dimension is 33\n",
      "C:\\Users\\Shahwaiz\\Anaconda2\\lib\\site-packages\\ipykernel\\__main__.py:332: VisibleDeprecationWarning: boolean index did not match indexed array along dimension 0; dimension is 75 but corresponding boolean dimension is 25\n",
      "C:\\Users\\Shahwaiz\\Anaconda2\\lib\\site-packages\\ipykernel\\__main__.py:332: VisibleDeprecationWarning: boolean index did not match indexed array along dimension 0; dimension is 75 but corresponding boolean dimension is 50\n"
     ]
    },
    {
     "name": "stdout",
     "output_type": "stream",
     "text": [
      "[Info] Fold 3 Accuracy = 0.702702702703\n",
      "[Info] Fold 4 Accuracy = 0.72972972973\n",
      "[0.67567567567567566, 0.64864864864864868, 0.70270270270270274, 0.72972972972972971] \n",
      "Purity=0.86, Nexample-threshold=13.0, Mean Accuracy =0.689189189189\n",
      "[Info] Fold 1 Accuracy = 0.675675675676\n",
      "[Info] Fold 2 Accuracy = 0.675675675676\n",
      "[Info] Fold 3 Accuracy = 0.675675675676\n",
      "[Info] Fold 4 Accuracy = 0.405405405405\n",
      "[0.67567567567567566, 0.67567567567567566, 0.67567567567567566, 0.40540540540540543] \n",
      "Purity=0.86, Nexample-threshold=14.0, Mean Accuracy =0.608108108108\n"
     ]
    },
    {
     "name": "stderr",
     "output_type": "stream",
     "text": [
      "C:\\Users\\Shahwaiz\\Anaconda2\\lib\\site-packages\\ipykernel\\__main__.py:332: VisibleDeprecationWarning: boolean index did not match indexed array along dimension 0; dimension is 29 but corresponding boolean dimension is 11\n",
      "C:\\Users\\Shahwaiz\\Anaconda2\\lib\\site-packages\\ipykernel\\__main__.py:332: VisibleDeprecationWarning: boolean index did not match indexed array along dimension 0; dimension is 29 but corresponding boolean dimension is 18\n",
      "C:\\Users\\Shahwaiz\\Anaconda2\\lib\\site-packages\\ipykernel\\__main__.py:332: VisibleDeprecationWarning: boolean index did not match indexed array along dimension 0; dimension is 32 but corresponding boolean dimension is 7\n",
      "C:\\Users\\Shahwaiz\\Anaconda2\\lib\\site-packages\\ipykernel\\__main__.py:332: VisibleDeprecationWarning: boolean index did not match indexed array along dimension 0; dimension is 32 but corresponding boolean dimension is 25\n",
      "C:\\Users\\Shahwaiz\\Anaconda2\\lib\\site-packages\\ipykernel\\__main__.py:332: VisibleDeprecationWarning: boolean index did not match indexed array along dimension 0; dimension is 80 but corresponding boolean dimension is 30\n",
      "C:\\Users\\Shahwaiz\\Anaconda2\\lib\\site-packages\\ipykernel\\__main__.py:332: VisibleDeprecationWarning: boolean index did not match indexed array along dimension 0; dimension is 80 but corresponding boolean dimension is 50\n",
      "C:\\Users\\Shahwaiz\\Anaconda2\\lib\\site-packages\\ipykernel\\__main__.py:332: VisibleDeprecationWarning: boolean index did not match indexed array along dimension 0; dimension is 73 but corresponding boolean dimension is 26\n",
      "C:\\Users\\Shahwaiz\\Anaconda2\\lib\\site-packages\\ipykernel\\__main__.py:332: VisibleDeprecationWarning: boolean index did not match indexed array along dimension 0; dimension is 73 but corresponding boolean dimension is 47\n",
      "C:\\Users\\Shahwaiz\\Anaconda2\\lib\\site-packages\\ipykernel\\__main__.py:332: VisibleDeprecationWarning: boolean index did not match indexed array along dimension 0; dimension is 40 but corresponding boolean dimension is 16\n",
      "C:\\Users\\Shahwaiz\\Anaconda2\\lib\\site-packages\\ipykernel\\__main__.py:332: VisibleDeprecationWarning: boolean index did not match indexed array along dimension 0; dimension is 40 but corresponding boolean dimension is 24\n",
      "C:\\Users\\Shahwaiz\\Anaconda2\\lib\\site-packages\\ipykernel\\__main__.py:332: VisibleDeprecationWarning: boolean index did not match indexed array along dimension 0; dimension is 72 but corresponding boolean dimension is 21\n",
      "C:\\Users\\Shahwaiz\\Anaconda2\\lib\\site-packages\\ipykernel\\__main__.py:332: VisibleDeprecationWarning: boolean index did not match indexed array along dimension 0; dimension is 72 but corresponding boolean dimension is 51\n",
      "C:\\Users\\Shahwaiz\\Anaconda2\\lib\\site-packages\\ipykernel\\__main__.py:332: VisibleDeprecationWarning: boolean index did not match indexed array along dimension 0; dimension is 85 but corresponding boolean dimension is 29\n",
      "C:\\Users\\Shahwaiz\\Anaconda2\\lib\\site-packages\\ipykernel\\__main__.py:332: VisibleDeprecationWarning: boolean index did not match indexed array along dimension 0; dimension is 85 but corresponding boolean dimension is 56\n",
      "C:\\Users\\Shahwaiz\\Anaconda2\\lib\\site-packages\\ipykernel\\__main__.py:332: VisibleDeprecationWarning: boolean index did not match indexed array along dimension 0; dimension is 99 but corresponding boolean dimension is 33\n",
      "C:\\Users\\Shahwaiz\\Anaconda2\\lib\\site-packages\\ipykernel\\__main__.py:332: VisibleDeprecationWarning: boolean index did not match indexed array along dimension 0; dimension is 99 but corresponding boolean dimension is 66\n",
      "C:\\Users\\Shahwaiz\\Anaconda2\\lib\\site-packages\\ipykernel\\__main__.py:332: VisibleDeprecationWarning: boolean index did not match indexed array along dimension 0; dimension is 108 but corresponding boolean dimension is 35\n",
      "C:\\Users\\Shahwaiz\\Anaconda2\\lib\\site-packages\\ipykernel\\__main__.py:332: VisibleDeprecationWarning: boolean index did not match indexed array along dimension 0; dimension is 108 but corresponding boolean dimension is 73\n",
      "C:\\Users\\Shahwaiz\\Anaconda2\\lib\\site-packages\\ipykernel\\__main__.py:332: VisibleDeprecationWarning: boolean index did not match indexed array along dimension 0; dimension is 37 but corresponding boolean dimension is 15\n",
      "C:\\Users\\Shahwaiz\\Anaconda2\\lib\\site-packages\\ipykernel\\__main__.py:332: VisibleDeprecationWarning: boolean index did not match indexed array along dimension 0; dimension is 37 but corresponding boolean dimension is 22\n",
      "C:\\Users\\Shahwaiz\\Anaconda2\\lib\\site-packages\\ipykernel\\__main__.py:332: VisibleDeprecationWarning: boolean index did not match indexed array along dimension 0; dimension is 20 but corresponding boolean dimension is 10\n",
      "C:\\Users\\Shahwaiz\\Anaconda2\\lib\\site-packages\\ipykernel\\__main__.py:332: VisibleDeprecationWarning: boolean index did not match indexed array along dimension 0; dimension is 71 but corresponding boolean dimension is 20\n",
      "C:\\Users\\Shahwaiz\\Anaconda2\\lib\\site-packages\\ipykernel\\__main__.py:332: VisibleDeprecationWarning: boolean index did not match indexed array along dimension 0; dimension is 71 but corresponding boolean dimension is 51\n",
      "C:\\Users\\Shahwaiz\\Anaconda2\\lib\\site-packages\\ipykernel\\__main__.py:332: VisibleDeprecationWarning: boolean index did not match indexed array along dimension 0; dimension is 53 but corresponding boolean dimension is 11\n",
      "C:\\Users\\Shahwaiz\\Anaconda2\\lib\\site-packages\\ipykernel\\__main__.py:332: VisibleDeprecationWarning: boolean index did not match indexed array along dimension 0; dimension is 53 but corresponding boolean dimension is 42\n",
      "C:\\Users\\Shahwaiz\\Anaconda2\\lib\\site-packages\\ipykernel\\__main__.py:332: VisibleDeprecationWarning: boolean index did not match indexed array along dimension 0; dimension is 35 but corresponding boolean dimension is 7\n",
      "C:\\Users\\Shahwaiz\\Anaconda2\\lib\\site-packages\\ipykernel\\__main__.py:332: VisibleDeprecationWarning: boolean index did not match indexed array along dimension 0; dimension is 35 but corresponding boolean dimension is 28\n"
     ]
    },
    {
     "name": "stdout",
     "output_type": "stream",
     "text": [
      "[Info] Fold 1 Accuracy = 0.702702702703\n",
      "[Info] Fold 2 Accuracy = 0.675675675676\n",
      "[Info] Fold 3 Accuracy = 0.702702702703\n",
      "[Info] Fold 4 Accuracy = 0.675675675676\n",
      "[0.70270270270270274, 0.67567567567567566, 0.70270270270270274, 0.67567567567567566] \n",
      "Purity=0.86, Nexample-threshold=15.0, Mean Accuracy =0.689189189189\n",
      "[Info] Fold 1 Accuracy = 0.621621621622\n",
      "[Info] Fold 2 Accuracy = 0.675675675676\n"
     ]
    },
    {
     "name": "stderr",
     "output_type": "stream",
     "text": [
      "C:\\Users\\Shahwaiz\\Anaconda2\\lib\\site-packages\\ipykernel\\__main__.py:332: VisibleDeprecationWarning: boolean index did not match indexed array along dimension 0; dimension is 76 but corresponding boolean dimension is 25\n",
      "C:\\Users\\Shahwaiz\\Anaconda2\\lib\\site-packages\\ipykernel\\__main__.py:332: VisibleDeprecationWarning: boolean index did not match indexed array along dimension 0; dimension is 76 but corresponding boolean dimension is 51\n",
      "C:\\Users\\Shahwaiz\\Anaconda2\\lib\\site-packages\\ipykernel\\__main__.py:332: VisibleDeprecationWarning: boolean index did not match indexed array along dimension 0; dimension is 53 but corresponding boolean dimension is 15\n",
      "C:\\Users\\Shahwaiz\\Anaconda2\\lib\\site-packages\\ipykernel\\__main__.py:332: VisibleDeprecationWarning: boolean index did not match indexed array along dimension 0; dimension is 53 but corresponding boolean dimension is 38\n",
      "C:\\Users\\Shahwaiz\\Anaconda2\\lib\\site-packages\\ipykernel\\__main__.py:332: VisibleDeprecationWarning: boolean index did not match indexed array along dimension 0; dimension is 104 but corresponding boolean dimension is 32\n",
      "C:\\Users\\Shahwaiz\\Anaconda2\\lib\\site-packages\\ipykernel\\__main__.py:332: VisibleDeprecationWarning: boolean index did not match indexed array along dimension 0; dimension is 104 but corresponding boolean dimension is 72\n",
      "C:\\Users\\Shahwaiz\\Anaconda2\\lib\\site-packages\\ipykernel\\__main__.py:332: VisibleDeprecationWarning: boolean index did not match indexed array along dimension 0; dimension is 45 but corresponding boolean dimension is 16\n",
      "C:\\Users\\Shahwaiz\\Anaconda2\\lib\\site-packages\\ipykernel\\__main__.py:332: VisibleDeprecationWarning: boolean index did not match indexed array along dimension 0; dimension is 45 but corresponding boolean dimension is 29\n",
      "C:\\Users\\Shahwaiz\\Anaconda2\\lib\\site-packages\\ipykernel\\__main__.py:332: VisibleDeprecationWarning: boolean index did not match indexed array along dimension 0; dimension is 97 but corresponding boolean dimension is 31\n",
      "C:\\Users\\Shahwaiz\\Anaconda2\\lib\\site-packages\\ipykernel\\__main__.py:332: VisibleDeprecationWarning: boolean index did not match indexed array along dimension 0; dimension is 97 but corresponding boolean dimension is 66\n",
      "C:\\Users\\Shahwaiz\\Anaconda2\\lib\\site-packages\\ipykernel\\__main__.py:332: VisibleDeprecationWarning: boolean index did not match indexed array along dimension 0; dimension is 96 but corresponding boolean dimension is 31\n",
      "C:\\Users\\Shahwaiz\\Anaconda2\\lib\\site-packages\\ipykernel\\__main__.py:332: VisibleDeprecationWarning: boolean index did not match indexed array along dimension 0; dimension is 96 but corresponding boolean dimension is 65\n",
      "C:\\Users\\Shahwaiz\\Anaconda2\\lib\\site-packages\\ipykernel\\__main__.py:332: VisibleDeprecationWarning: boolean index did not match indexed array along dimension 0; dimension is 28 but corresponding boolean dimension is 13\n",
      "C:\\Users\\Shahwaiz\\Anaconda2\\lib\\site-packages\\ipykernel\\__main__.py:332: VisibleDeprecationWarning: boolean index did not match indexed array along dimension 0; dimension is 28 but corresponding boolean dimension is 15\n",
      "C:\\Users\\Shahwaiz\\Anaconda2\\lib\\site-packages\\ipykernel\\__main__.py:332: VisibleDeprecationWarning: boolean index did not match indexed array along dimension 0; dimension is 80 but corresponding boolean dimension is 26\n",
      "C:\\Users\\Shahwaiz\\Anaconda2\\lib\\site-packages\\ipykernel\\__main__.py:332: VisibleDeprecationWarning: boolean index did not match indexed array along dimension 0; dimension is 80 but corresponding boolean dimension is 54\n"
     ]
    },
    {
     "name": "stdout",
     "output_type": "stream",
     "text": [
      "[Info] Fold 3 Accuracy = 0.675675675676\n",
      "[Info] Fold 4 Accuracy = 0.675675675676\n",
      "[0.6216216216216216, 0.67567567567567566, 0.67567567567567566, 0.67567567567567566] \n",
      "Purity=0.86, Nexample-threshold=16.0, Mean Accuracy =0.662162162162\n",
      "[Info] Fold 1 Accuracy = 0.675675675676\n",
      "[Info] Fold 2 Accuracy = 0.675675675676\n",
      "[Info] Fold 3 Accuracy = 0.675675675676\n",
      "[Info] Fold 4 Accuracy = 0.513513513514\n",
      "[0.67567567567567566, 0.67567567567567566, 0.67567567567567566, 0.51351351351351349] \n",
      "Purity=0.86, Nexample-threshold=17.0, Mean Accuracy =0.635135135135\n"
     ]
    },
    {
     "name": "stderr",
     "output_type": "stream",
     "text": [
      "C:\\Users\\Shahwaiz\\Anaconda2\\lib\\site-packages\\ipykernel\\__main__.py:332: VisibleDeprecationWarning: boolean index did not match indexed array along dimension 0; dimension is 52 but corresponding boolean dimension is 18\n",
      "C:\\Users\\Shahwaiz\\Anaconda2\\lib\\site-packages\\ipykernel\\__main__.py:332: VisibleDeprecationWarning: boolean index did not match indexed array along dimension 0; dimension is 52 but corresponding boolean dimension is 34\n",
      "C:\\Users\\Shahwaiz\\Anaconda2\\lib\\site-packages\\ipykernel\\__main__.py:332: VisibleDeprecationWarning: boolean index did not match indexed array along dimension 0; dimension is 55 but corresponding boolean dimension is 20\n",
      "C:\\Users\\Shahwaiz\\Anaconda2\\lib\\site-packages\\ipykernel\\__main__.py:332: VisibleDeprecationWarning: boolean index did not match indexed array along dimension 0; dimension is 55 but corresponding boolean dimension is 35\n",
      "C:\\Users\\Shahwaiz\\Anaconda2\\lib\\site-packages\\ipykernel\\__main__.py:332: VisibleDeprecationWarning: boolean index did not match indexed array along dimension 0; dimension is 20 but corresponding boolean dimension is 3\n",
      "C:\\Users\\Shahwaiz\\Anaconda2\\lib\\site-packages\\ipykernel\\__main__.py:332: VisibleDeprecationWarning: boolean index did not match indexed array along dimension 0; dimension is 20 but corresponding boolean dimension is 17\n",
      "C:\\Users\\Shahwaiz\\Anaconda2\\lib\\site-packages\\ipykernel\\__main__.py:332: VisibleDeprecationWarning: boolean index did not match indexed array along dimension 0; dimension is 28 but corresponding boolean dimension is 12\n",
      "C:\\Users\\Shahwaiz\\Anaconda2\\lib\\site-packages\\ipykernel\\__main__.py:332: VisibleDeprecationWarning: boolean index did not match indexed array along dimension 0; dimension is 28 but corresponding boolean dimension is 16\n",
      "C:\\Users\\Shahwaiz\\Anaconda2\\lib\\site-packages\\ipykernel\\__main__.py:332: VisibleDeprecationWarning: boolean index did not match indexed array along dimension 0; dimension is 56 but corresponding boolean dimension is 14\n",
      "C:\\Users\\Shahwaiz\\Anaconda2\\lib\\site-packages\\ipykernel\\__main__.py:332: VisibleDeprecationWarning: boolean index did not match indexed array along dimension 0; dimension is 56 but corresponding boolean dimension is 42\n",
      "C:\\Users\\Shahwaiz\\Anaconda2\\lib\\site-packages\\ipykernel\\__main__.py:332: VisibleDeprecationWarning: boolean index did not match indexed array along dimension 0; dimension is 70 but corresponding boolean dimension is 25\n",
      "C:\\Users\\Shahwaiz\\Anaconda2\\lib\\site-packages\\ipykernel\\__main__.py:332: VisibleDeprecationWarning: boolean index did not match indexed array along dimension 0; dimension is 70 but corresponding boolean dimension is 45\n",
      "C:\\Users\\Shahwaiz\\Anaconda2\\lib\\site-packages\\ipykernel\\__main__.py:332: VisibleDeprecationWarning: boolean index did not match indexed array along dimension 0; dimension is 66 but corresponding boolean dimension is 24\n",
      "C:\\Users\\Shahwaiz\\Anaconda2\\lib\\site-packages\\ipykernel\\__main__.py:332: VisibleDeprecationWarning: boolean index did not match indexed array along dimension 0; dimension is 66 but corresponding boolean dimension is 42\n",
      "C:\\Users\\Shahwaiz\\Anaconda2\\lib\\site-packages\\ipykernel\\__main__.py:332: VisibleDeprecationWarning: boolean index did not match indexed array along dimension 0; dimension is 24 but corresponding boolean dimension is 10\n",
      "C:\\Users\\Shahwaiz\\Anaconda2\\lib\\site-packages\\ipykernel\\__main__.py:332: VisibleDeprecationWarning: boolean index did not match indexed array along dimension 0; dimension is 24 but corresponding boolean dimension is 14\n",
      "C:\\Users\\Shahwaiz\\Anaconda2\\lib\\site-packages\\ipykernel\\__main__.py:332: VisibleDeprecationWarning: boolean index did not match indexed array along dimension 0; dimension is 42 but corresponding boolean dimension is 14\n",
      "C:\\Users\\Shahwaiz\\Anaconda2\\lib\\site-packages\\ipykernel\\__main__.py:332: VisibleDeprecationWarning: boolean index did not match indexed array along dimension 0; dimension is 42 but corresponding boolean dimension is 28\n",
      "C:\\Users\\Shahwaiz\\Anaconda2\\lib\\site-packages\\ipykernel\\__main__.py:332: VisibleDeprecationWarning: boolean index did not match indexed array along dimension 0; dimension is 50 but corresponding boolean dimension is 18\n",
      "C:\\Users\\Shahwaiz\\Anaconda2\\lib\\site-packages\\ipykernel\\__main__.py:332: VisibleDeprecationWarning: boolean index did not match indexed array along dimension 0; dimension is 50 but corresponding boolean dimension is 32\n"
     ]
    },
    {
     "name": "stdout",
     "output_type": "stream",
     "text": [
      "[Info] Fold 1 Accuracy = 0.594594594595\n",
      "[Info] Fold 2 Accuracy = 1.0\n",
      "[Info] Fold 3 Accuracy = 0.756756756757\n",
      "[Info] Fold 4 Accuracy = 0.675675675676\n",
      "[0.59459459459459463, 1.0, 0.7567567567567568, 0.67567567567567566] \n",
      "Purity=0.86, Nexample-threshold=18.0, Mean Accuracy =0.756756756757\n",
      "[Info] Fold 1 Accuracy = 0.675675675676\n",
      "[Info] Fold 2 Accuracy = 0.891891891892\n"
     ]
    },
    {
     "name": "stderr",
     "output_type": "stream",
     "text": [
      "C:\\Users\\Shahwaiz\\Anaconda2\\lib\\site-packages\\ipykernel\\__main__.py:332: VisibleDeprecationWarning: boolean index did not match indexed array along dimension 0; dimension is 21 but corresponding boolean dimension is 3\n",
      "C:\\Users\\Shahwaiz\\Anaconda2\\lib\\site-packages\\ipykernel\\__main__.py:332: VisibleDeprecationWarning: boolean index did not match indexed array along dimension 0; dimension is 21 but corresponding boolean dimension is 18\n",
      "C:\\Users\\Shahwaiz\\Anaconda2\\lib\\site-packages\\ipykernel\\__main__.py:332: VisibleDeprecationWarning: boolean index did not match indexed array along dimension 0; dimension is 75 but corresponding boolean dimension is 23\n",
      "C:\\Users\\Shahwaiz\\Anaconda2\\lib\\site-packages\\ipykernel\\__main__.py:332: VisibleDeprecationWarning: boolean index did not match indexed array along dimension 0; dimension is 75 but corresponding boolean dimension is 52\n",
      "C:\\Users\\Shahwaiz\\Anaconda2\\lib\\site-packages\\ipykernel\\__main__.py:332: VisibleDeprecationWarning: boolean index did not match indexed array along dimension 0; dimension is 53 but corresponding boolean dimension is 16\n",
      "C:\\Users\\Shahwaiz\\Anaconda2\\lib\\site-packages\\ipykernel\\__main__.py:332: VisibleDeprecationWarning: boolean index did not match indexed array along dimension 0; dimension is 53 but corresponding boolean dimension is 37\n",
      "C:\\Users\\Shahwaiz\\Anaconda2\\lib\\site-packages\\ipykernel\\__main__.py:332: VisibleDeprecationWarning: boolean index did not match indexed array along dimension 0; dimension is 37 but corresponding boolean dimension is 7\n",
      "C:\\Users\\Shahwaiz\\Anaconda2\\lib\\site-packages\\ipykernel\\__main__.py:332: VisibleDeprecationWarning: boolean index did not match indexed array along dimension 0; dimension is 37 but corresponding boolean dimension is 30\n",
      "C:\\Users\\Shahwaiz\\Anaconda2\\lib\\site-packages\\ipykernel\\__main__.py:332: VisibleDeprecationWarning: boolean index did not match indexed array along dimension 0; dimension is 75 but corresponding boolean dimension is 30\n",
      "C:\\Users\\Shahwaiz\\Anaconda2\\lib\\site-packages\\ipykernel\\__main__.py:332: VisibleDeprecationWarning: boolean index did not match indexed array along dimension 0; dimension is 75 but corresponding boolean dimension is 45\n",
      "C:\\Users\\Shahwaiz\\Anaconda2\\lib\\site-packages\\ipykernel\\__main__.py:332: VisibleDeprecationWarning: boolean index did not match indexed array along dimension 0; dimension is 53 but corresponding boolean dimension is 24\n",
      "C:\\Users\\Shahwaiz\\Anaconda2\\lib\\site-packages\\ipykernel\\__main__.py:332: VisibleDeprecationWarning: boolean index did not match indexed array along dimension 0; dimension is 53 but corresponding boolean dimension is 29\n",
      "C:\\Users\\Shahwaiz\\Anaconda2\\lib\\site-packages\\ipykernel\\__main__.py:332: VisibleDeprecationWarning: boolean index did not match indexed array along dimension 0; dimension is 52 but corresponding boolean dimension is 23\n",
      "C:\\Users\\Shahwaiz\\Anaconda2\\lib\\site-packages\\ipykernel\\__main__.py:332: VisibleDeprecationWarning: boolean index did not match indexed array along dimension 0; dimension is 52 but corresponding boolean dimension is 29\n",
      "C:\\Users\\Shahwaiz\\Anaconda2\\lib\\site-packages\\ipykernel\\__main__.py:332: VisibleDeprecationWarning: boolean index did not match indexed array along dimension 0; dimension is 49 but corresponding boolean dimension is 22\n",
      "C:\\Users\\Shahwaiz\\Anaconda2\\lib\\site-packages\\ipykernel\\__main__.py:332: VisibleDeprecationWarning: boolean index did not match indexed array along dimension 0; dimension is 49 but corresponding boolean dimension is 27\n",
      "C:\\Users\\Shahwaiz\\Anaconda2\\lib\\site-packages\\ipykernel\\__main__.py:332: VisibleDeprecationWarning: boolean index did not match indexed array along dimension 0; dimension is 31 but corresponding boolean dimension is 8\n",
      "C:\\Users\\Shahwaiz\\Anaconda2\\lib\\site-packages\\ipykernel\\__main__.py:332: VisibleDeprecationWarning: boolean index did not match indexed array along dimension 0; dimension is 31 but corresponding boolean dimension is 23\n",
      "C:\\Users\\Shahwaiz\\Anaconda2\\lib\\site-packages\\ipykernel\\__main__.py:332: VisibleDeprecationWarning: boolean index did not match indexed array along dimension 0; dimension is 74 but corresponding boolean dimension is 28\n",
      "C:\\Users\\Shahwaiz\\Anaconda2\\lib\\site-packages\\ipykernel\\__main__.py:332: VisibleDeprecationWarning: boolean index did not match indexed array along dimension 0; dimension is 74 but corresponding boolean dimension is 46\n",
      "C:\\Users\\Shahwaiz\\Anaconda2\\lib\\site-packages\\ipykernel\\__main__.py:332: VisibleDeprecationWarning: boolean index did not match indexed array along dimension 0; dimension is 50 but corresponding boolean dimension is 19\n",
      "C:\\Users\\Shahwaiz\\Anaconda2\\lib\\site-packages\\ipykernel\\__main__.py:332: VisibleDeprecationWarning: boolean index did not match indexed array along dimension 0; dimension is 50 but corresponding boolean dimension is 31\n",
      "C:\\Users\\Shahwaiz\\Anaconda2\\lib\\site-packages\\ipykernel\\__main__.py:332: VisibleDeprecationWarning: boolean index did not match indexed array along dimension 0; dimension is 21 but corresponding boolean dimension is 7\n",
      "C:\\Users\\Shahwaiz\\Anaconda2\\lib\\site-packages\\ipykernel\\__main__.py:332: VisibleDeprecationWarning: boolean index did not match indexed array along dimension 0; dimension is 21 but corresponding boolean dimension is 14\n"
     ]
    },
    {
     "name": "stdout",
     "output_type": "stream",
     "text": [
      "[Info] Fold 3 Accuracy = 0.675675675676\n",
      "[Info] Fold 4 Accuracy = 0.351351351351\n",
      "[0.67567567567567566, 0.89189189189189189, 0.67567567567567566, 0.35135135135135137] \n",
      "Purity=0.86, Nexample-threshold=19.0, Mean Accuracy =0.648648648649\n",
      "[Info] Fold 1 Accuracy = 0.675675675676\n",
      "[Info] Fold 2 Accuracy = 0.675675675676\n",
      "[Info] Fold 3 Accuracy = 0.594594594595\n",
      "[Info] Fold 4 Accuracy = 0.675675675676\n",
      "[0.67567567567567566, 0.67567567567567566, 0.59459459459459463, 0.67567567567567566] \n",
      "Purity=0.86, Nexample-threshold=20.0, Mean Accuracy =0.655405405405\n"
     ]
    },
    {
     "name": "stderr",
     "output_type": "stream",
     "text": [
      "C:\\Users\\Shahwaiz\\Anaconda2\\lib\\site-packages\\ipykernel\\__main__.py:332: VisibleDeprecationWarning: boolean index did not match indexed array along dimension 0; dimension is 104 but corresponding boolean dimension is 36\n",
      "C:\\Users\\Shahwaiz\\Anaconda2\\lib\\site-packages\\ipykernel\\__main__.py:332: VisibleDeprecationWarning: boolean index did not match indexed array along dimension 0; dimension is 104 but corresponding boolean dimension is 68\n",
      "C:\\Users\\Shahwaiz\\Anaconda2\\lib\\site-packages\\ipykernel\\__main__.py:332: VisibleDeprecationWarning: boolean index did not match indexed array along dimension 0; dimension is 99 but corresponding boolean dimension is 36\n",
      "C:\\Users\\Shahwaiz\\Anaconda2\\lib\\site-packages\\ipykernel\\__main__.py:332: VisibleDeprecationWarning: boolean index did not match indexed array along dimension 0; dimension is 99 but corresponding boolean dimension is 63\n",
      "C:\\Users\\Shahwaiz\\Anaconda2\\lib\\site-packages\\ipykernel\\__main__.py:332: VisibleDeprecationWarning: boolean index did not match indexed array along dimension 0; dimension is 44 but corresponding boolean dimension is 16\n",
      "C:\\Users\\Shahwaiz\\Anaconda2\\lib\\site-packages\\ipykernel\\__main__.py:332: VisibleDeprecationWarning: boolean index did not match indexed array along dimension 0; dimension is 44 but corresponding boolean dimension is 28\n",
      "C:\\Users\\Shahwaiz\\Anaconda2\\lib\\site-packages\\ipykernel\\__main__.py:332: VisibleDeprecationWarning: boolean index did not match indexed array along dimension 0; dimension is 36 but corresponding boolean dimension is 9\n",
      "C:\\Users\\Shahwaiz\\Anaconda2\\lib\\site-packages\\ipykernel\\__main__.py:332: VisibleDeprecationWarning: boolean index did not match indexed array along dimension 0; dimension is 36 but corresponding boolean dimension is 27\n",
      "C:\\Users\\Shahwaiz\\Anaconda2\\lib\\site-packages\\ipykernel\\__main__.py:332: VisibleDeprecationWarning: boolean index did not match indexed array along dimension 0; dimension is 69 but corresponding boolean dimension is 27\n",
      "C:\\Users\\Shahwaiz\\Anaconda2\\lib\\site-packages\\ipykernel\\__main__.py:332: VisibleDeprecationWarning: boolean index did not match indexed array along dimension 0; dimension is 69 but corresponding boolean dimension is 42\n",
      "C:\\Users\\Shahwaiz\\Anaconda2\\lib\\site-packages\\ipykernel\\__main__.py:332: VisibleDeprecationWarning: boolean index did not match indexed array along dimension 0; dimension is 60 but corresponding boolean dimension is 21\n",
      "C:\\Users\\Shahwaiz\\Anaconda2\\lib\\site-packages\\ipykernel\\__main__.py:332: VisibleDeprecationWarning: boolean index did not match indexed array along dimension 0; dimension is 60 but corresponding boolean dimension is 39\n",
      "C:\\Users\\Shahwaiz\\Anaconda2\\lib\\site-packages\\ipykernel\\__main__.py:332: VisibleDeprecationWarning: boolean index did not match indexed array along dimension 0; dimension is 32 but corresponding boolean dimension is 8\n",
      "C:\\Users\\Shahwaiz\\Anaconda2\\lib\\site-packages\\ipykernel\\__main__.py:332: VisibleDeprecationWarning: boolean index did not match indexed array along dimension 0; dimension is 32 but corresponding boolean dimension is 24\n",
      "C:\\Users\\Shahwaiz\\Anaconda2\\lib\\site-packages\\ipykernel\\__main__.py:332: VisibleDeprecationWarning: boolean index did not match indexed array along dimension 0; dimension is 95 but corresponding boolean dimension is 33\n",
      "C:\\Users\\Shahwaiz\\Anaconda2\\lib\\site-packages\\ipykernel\\__main__.py:332: VisibleDeprecationWarning: boolean index did not match indexed array along dimension 0; dimension is 95 but corresponding boolean dimension is 62\n",
      "C:\\Users\\Shahwaiz\\Anaconda2\\lib\\site-packages\\ipykernel\\__main__.py:332: VisibleDeprecationWarning: boolean index did not match indexed array along dimension 0; dimension is 61 but corresponding boolean dimension is 21\n",
      "C:\\Users\\Shahwaiz\\Anaconda2\\lib\\site-packages\\ipykernel\\__main__.py:332: VisibleDeprecationWarning: boolean index did not match indexed array along dimension 0; dimension is 61 but corresponding boolean dimension is 40\n",
      "C:\\Users\\Shahwaiz\\Anaconda2\\lib\\site-packages\\ipykernel\\__main__.py:332: VisibleDeprecationWarning: boolean index did not match indexed array along dimension 0; dimension is 32 but corresponding boolean dimension is 14\n",
      "C:\\Users\\Shahwaiz\\Anaconda2\\lib\\site-packages\\ipykernel\\__main__.py:332: VisibleDeprecationWarning: boolean index did not match indexed array along dimension 0; dimension is 32 but corresponding boolean dimension is 18\n",
      "C:\\Users\\Shahwaiz\\Anaconda2\\lib\\site-packages\\ipykernel\\__main__.py:332: VisibleDeprecationWarning: boolean index did not match indexed array along dimension 0; dimension is 51 but corresponding boolean dimension is 15\n",
      "C:\\Users\\Shahwaiz\\Anaconda2\\lib\\site-packages\\ipykernel\\__main__.py:332: VisibleDeprecationWarning: boolean index did not match indexed array along dimension 0; dimension is 51 but corresponding boolean dimension is 36\n",
      "C:\\Users\\Shahwaiz\\Anaconda2\\lib\\site-packages\\ipykernel\\__main__.py:332: VisibleDeprecationWarning: boolean index did not match indexed array along dimension 0; dimension is 84 but corresponding boolean dimension is 30\n",
      "C:\\Users\\Shahwaiz\\Anaconda2\\lib\\site-packages\\ipykernel\\__main__.py:332: VisibleDeprecationWarning: boolean index did not match indexed array along dimension 0; dimension is 84 but corresponding boolean dimension is 54\n",
      "C:\\Users\\Shahwaiz\\Anaconda2\\lib\\site-packages\\ipykernel\\__main__.py:332: VisibleDeprecationWarning: boolean index did not match indexed array along dimension 0; dimension is 49 but corresponding boolean dimension is 11\n",
      "C:\\Users\\Shahwaiz\\Anaconda2\\lib\\site-packages\\ipykernel\\__main__.py:332: VisibleDeprecationWarning: boolean index did not match indexed array along dimension 0; dimension is 49 but corresponding boolean dimension is 38\n",
      "C:\\Users\\Shahwaiz\\Anaconda2\\lib\\site-packages\\ipykernel\\__main__.py:332: VisibleDeprecationWarning: boolean index did not match indexed array along dimension 0; dimension is 48 but corresponding boolean dimension is 11\n",
      "C:\\Users\\Shahwaiz\\Anaconda2\\lib\\site-packages\\ipykernel\\__main__.py:332: VisibleDeprecationWarning: boolean index did not match indexed array along dimension 0; dimension is 48 but corresponding boolean dimension is 37\n"
     ]
    },
    {
     "name": "stdout",
     "output_type": "stream",
     "text": [
      "[Info] Fold 1 Accuracy = 0.675675675676\n",
      "[Info] Fold 2 Accuracy = 0.783783783784\n",
      "[Info] Fold 3 Accuracy = 0.675675675676\n",
      "[Info] Fold 4 Accuracy = 0.675675675676\n",
      "[0.67567567567567566, 0.78378378378378377, 0.67567567567567566, 0.67567567567567566] \n",
      "Purity=0.86, Nexample-threshold=21.0, Mean Accuracy =0.702702702703\n",
      "[Info] Fold 1 Accuracy = 0.594594594595\n",
      "[Info] Fold 2 Accuracy = 0.675675675676\n",
      "[Info] Fold 3 Accuracy = 0.810810810811\n",
      "[Info] Fold 4 Accuracy = 0.675675675676\n",
      "[0.59459459459459463, 0.67567567567567566, 0.81081081081081086, 0.67567567567567566] \n",
      "Purity=0.86, Nexample-threshold=22.0, Mean Accuracy =0.689189189189\n",
      "[Info] Fold 1 Accuracy = 1.0\n"
     ]
    },
    {
     "name": "stderr",
     "output_type": "stream",
     "text": [
      "C:\\Users\\Shahwaiz\\Anaconda2\\lib\\site-packages\\ipykernel\\__main__.py:332: VisibleDeprecationWarning: boolean index did not match indexed array along dimension 0; dimension is 74 but corresponding boolean dimension is 21\n",
      "C:\\Users\\Shahwaiz\\Anaconda2\\lib\\site-packages\\ipykernel\\__main__.py:332: VisibleDeprecationWarning: boolean index did not match indexed array along dimension 0; dimension is 74 but corresponding boolean dimension is 53\n",
      "C:\\Users\\Shahwaiz\\Anaconda2\\lib\\site-packages\\ipykernel\\__main__.py:332: VisibleDeprecationWarning: boolean index did not match indexed array along dimension 0; dimension is 71 but corresponding boolean dimension is 19\n",
      "C:\\Users\\Shahwaiz\\Anaconda2\\lib\\site-packages\\ipykernel\\__main__.py:332: VisibleDeprecationWarning: boolean index did not match indexed array along dimension 0; dimension is 71 but corresponding boolean dimension is 52\n",
      "C:\\Users\\Shahwaiz\\Anaconda2\\lib\\site-packages\\ipykernel\\__main__.py:332: VisibleDeprecationWarning: boolean index did not match indexed array along dimension 0; dimension is 68 but corresponding boolean dimension is 19\n",
      "C:\\Users\\Shahwaiz\\Anaconda2\\lib\\site-packages\\ipykernel\\__main__.py:332: VisibleDeprecationWarning: boolean index did not match indexed array along dimension 0; dimension is 68 but corresponding boolean dimension is 49\n",
      "C:\\Users\\Shahwaiz\\Anaconda2\\lib\\site-packages\\ipykernel\\__main__.py:332: VisibleDeprecationWarning: boolean index did not match indexed array along dimension 0; dimension is 105 but corresponding boolean dimension is 35\n",
      "C:\\Users\\Shahwaiz\\Anaconda2\\lib\\site-packages\\ipykernel\\__main__.py:332: VisibleDeprecationWarning: boolean index did not match indexed array along dimension 0; dimension is 105 but corresponding boolean dimension is 70\n",
      "C:\\Users\\Shahwaiz\\Anaconda2\\lib\\site-packages\\ipykernel\\__main__.py:332: VisibleDeprecationWarning: boolean index did not match indexed array along dimension 0; dimension is 72 but corresponding boolean dimension is 24\n",
      "C:\\Users\\Shahwaiz\\Anaconda2\\lib\\site-packages\\ipykernel\\__main__.py:332: VisibleDeprecationWarning: boolean index did not match indexed array along dimension 0; dimension is 72 but corresponding boolean dimension is 48\n",
      "C:\\Users\\Shahwaiz\\Anaconda2\\lib\\site-packages\\ipykernel\\__main__.py:332: VisibleDeprecationWarning: boolean index did not match indexed array along dimension 0; dimension is 31 but corresponding boolean dimension is 10\n",
      "C:\\Users\\Shahwaiz\\Anaconda2\\lib\\site-packages\\ipykernel\\__main__.py:332: VisibleDeprecationWarning: boolean index did not match indexed array along dimension 0; dimension is 31 but corresponding boolean dimension is 21\n",
      "C:\\Users\\Shahwaiz\\Anaconda2\\lib\\site-packages\\ipykernel\\__main__.py:332: VisibleDeprecationWarning: boolean index did not match indexed array along dimension 0; dimension is 74 but corresponding boolean dimension is 23\n",
      "C:\\Users\\Shahwaiz\\Anaconda2\\lib\\site-packages\\ipykernel\\__main__.py:332: VisibleDeprecationWarning: boolean index did not match indexed array along dimension 0; dimension is 74 but corresponding boolean dimension is 51\n",
      "C:\\Users\\Shahwaiz\\Anaconda2\\lib\\site-packages\\ipykernel\\__main__.py:332: VisibleDeprecationWarning: boolean index did not match indexed array along dimension 0; dimension is 69 but corresponding boolean dimension is 22\n",
      "C:\\Users\\Shahwaiz\\Anaconda2\\lib\\site-packages\\ipykernel\\__main__.py:332: VisibleDeprecationWarning: boolean index did not match indexed array along dimension 0; dimension is 69 but corresponding boolean dimension is 47\n",
      "C:\\Users\\Shahwaiz\\Anaconda2\\lib\\site-packages\\ipykernel\\__main__.py:332: VisibleDeprecationWarning: boolean index did not match indexed array along dimension 0; dimension is 48 but corresponding boolean dimension is 17\n",
      "C:\\Users\\Shahwaiz\\Anaconda2\\lib\\site-packages\\ipykernel\\__main__.py:332: VisibleDeprecationWarning: boolean index did not match indexed array along dimension 0; dimension is 48 but corresponding boolean dimension is 31\n",
      "C:\\Users\\Shahwaiz\\Anaconda2\\lib\\site-packages\\ipykernel\\__main__.py:332: VisibleDeprecationWarning: boolean index did not match indexed array along dimension 0; dimension is 106 but corresponding boolean dimension is 34\n",
      "C:\\Users\\Shahwaiz\\Anaconda2\\lib\\site-packages\\ipykernel\\__main__.py:332: VisibleDeprecationWarning: boolean index did not match indexed array along dimension 0; dimension is 106 but corresponding boolean dimension is 72\n",
      "C:\\Users\\Shahwaiz\\Anaconda2\\lib\\site-packages\\ipykernel\\__main__.py:332: VisibleDeprecationWarning: boolean index did not match indexed array along dimension 0; dimension is 72 but corresponding boolean dimension is 22\n",
      "C:\\Users\\Shahwaiz\\Anaconda2\\lib\\site-packages\\ipykernel\\__main__.py:332: VisibleDeprecationWarning: boolean index did not match indexed array along dimension 0; dimension is 72 but corresponding boolean dimension is 50\n",
      "C:\\Users\\Shahwaiz\\Anaconda2\\lib\\site-packages\\ipykernel\\__main__.py:332: VisibleDeprecationWarning: boolean index did not match indexed array along dimension 0; dimension is 45 but corresponding boolean dimension is 14\n",
      "C:\\Users\\Shahwaiz\\Anaconda2\\lib\\site-packages\\ipykernel\\__main__.py:332: VisibleDeprecationWarning: boolean index did not match indexed array along dimension 0; dimension is 45 but corresponding boolean dimension is 31\n",
      "C:\\Users\\Shahwaiz\\Anaconda2\\lib\\site-packages\\ipykernel\\__main__.py:332: VisibleDeprecationWarning: boolean index did not match indexed array along dimension 0; dimension is 94 but corresponding boolean dimension is 29\n",
      "C:\\Users\\Shahwaiz\\Anaconda2\\lib\\site-packages\\ipykernel\\__main__.py:332: VisibleDeprecationWarning: boolean index did not match indexed array along dimension 0; dimension is 94 but corresponding boolean dimension is 65\n",
      "C:\\Users\\Shahwaiz\\Anaconda2\\lib\\site-packages\\ipykernel\\__main__.py:332: VisibleDeprecationWarning: boolean index did not match indexed array along dimension 0; dimension is 65 but corresponding boolean dimension is 21\n",
      "C:\\Users\\Shahwaiz\\Anaconda2\\lib\\site-packages\\ipykernel\\__main__.py:332: VisibleDeprecationWarning: boolean index did not match indexed array along dimension 0; dimension is 65 but corresponding boolean dimension is 44\n",
      "C:\\Users\\Shahwaiz\\Anaconda2\\lib\\site-packages\\ipykernel\\__main__.py:332: VisibleDeprecationWarning: boolean index did not match indexed array along dimension 0; dimension is 103 but corresponding boolean dimension is 31\n",
      "C:\\Users\\Shahwaiz\\Anaconda2\\lib\\site-packages\\ipykernel\\__main__.py:332: VisibleDeprecationWarning: boolean index did not match indexed array along dimension 0; dimension is 103 but corresponding boolean dimension is 72\n",
      "C:\\Users\\Shahwaiz\\Anaconda2\\lib\\site-packages\\ipykernel\\__main__.py:332: VisibleDeprecationWarning: boolean index did not match indexed array along dimension 0; dimension is 86 but corresponding boolean dimension is 25\n"
     ]
    },
    {
     "name": "stdout",
     "output_type": "stream",
     "text": [
      "[Info] Fold 2 Accuracy = 0.675675675676\n",
      "[Info] Fold 3 Accuracy = 1.0\n",
      "[Info] Fold 4 Accuracy = 0.540540540541\n",
      "[1.0, 0.67567567567567566, 1.0, 0.54054054054054057] \n",
      "Purity=0.86, Nexample-threshold=23.0, Mean Accuracy =0.804054054054\n",
      "[Info] Fold 1 Accuracy = 0.675675675676\n",
      "[Info] Fold 2 Accuracy = 0.621621621622\n",
      "[Info] Fold 3 Accuracy = 0.675675675676\n"
     ]
    },
    {
     "name": "stderr",
     "output_type": "stream",
     "text": [
      "C:\\Users\\Shahwaiz\\Anaconda2\\lib\\site-packages\\ipykernel\\__main__.py:332: VisibleDeprecationWarning: boolean index did not match indexed array along dimension 0; dimension is 86 but corresponding boolean dimension is 61\n",
      "C:\\Users\\Shahwaiz\\Anaconda2\\lib\\site-packages\\ipykernel\\__main__.py:332: VisibleDeprecationWarning: boolean index did not match indexed array along dimension 0; dimension is 60 but corresponding boolean dimension is 19\n",
      "C:\\Users\\Shahwaiz\\Anaconda2\\lib\\site-packages\\ipykernel\\__main__.py:332: VisibleDeprecationWarning: boolean index did not match indexed array along dimension 0; dimension is 60 but corresponding boolean dimension is 41\n",
      "C:\\Users\\Shahwaiz\\Anaconda2\\lib\\site-packages\\ipykernel\\__main__.py:332: VisibleDeprecationWarning: boolean index did not match indexed array along dimension 0; dimension is 73 but corresponding boolean dimension is 21\n",
      "C:\\Users\\Shahwaiz\\Anaconda2\\lib\\site-packages\\ipykernel\\__main__.py:332: VisibleDeprecationWarning: boolean index did not match indexed array along dimension 0; dimension is 73 but corresponding boolean dimension is 52\n",
      "C:\\Users\\Shahwaiz\\Anaconda2\\lib\\site-packages\\ipykernel\\__main__.py:332: VisibleDeprecationWarning: boolean index did not match indexed array along dimension 0; dimension is 59 but corresponding boolean dimension is 16\n",
      "C:\\Users\\Shahwaiz\\Anaconda2\\lib\\site-packages\\ipykernel\\__main__.py:332: VisibleDeprecationWarning: boolean index did not match indexed array along dimension 0; dimension is 59 but corresponding boolean dimension is 43\n",
      "C:\\Users\\Shahwaiz\\Anaconda2\\lib\\site-packages\\ipykernel\\__main__.py:332: VisibleDeprecationWarning: boolean index did not match indexed array along dimension 0; dimension is 34 but corresponding boolean dimension is 7\n",
      "C:\\Users\\Shahwaiz\\Anaconda2\\lib\\site-packages\\ipykernel\\__main__.py:332: VisibleDeprecationWarning: boolean index did not match indexed array along dimension 0; dimension is 34 but corresponding boolean dimension is 27\n",
      "C:\\Users\\Shahwaiz\\Anaconda2\\lib\\site-packages\\ipykernel\\__main__.py:332: VisibleDeprecationWarning: boolean index did not match indexed array along dimension 0; dimension is 25 but corresponding boolean dimension is 4\n",
      "C:\\Users\\Shahwaiz\\Anaconda2\\lib\\site-packages\\ipykernel\\__main__.py:332: VisibleDeprecationWarning: boolean index did not match indexed array along dimension 0; dimension is 25 but corresponding boolean dimension is 21\n",
      "C:\\Users\\Shahwaiz\\Anaconda2\\lib\\site-packages\\ipykernel\\__main__.py:332: VisibleDeprecationWarning: boolean index did not match indexed array along dimension 0; dimension is 76 but corresponding boolean dimension is 23\n",
      "C:\\Users\\Shahwaiz\\Anaconda2\\lib\\site-packages\\ipykernel\\__main__.py:332: VisibleDeprecationWarning: boolean index did not match indexed array along dimension 0; dimension is 76 but corresponding boolean dimension is 53\n",
      "C:\\Users\\Shahwaiz\\Anaconda2\\lib\\site-packages\\ipykernel\\__main__.py:332: VisibleDeprecationWarning: boolean index did not match indexed array along dimension 0; dimension is 46 but corresponding boolean dimension is 17\n",
      "C:\\Users\\Shahwaiz\\Anaconda2\\lib\\site-packages\\ipykernel\\__main__.py:332: VisibleDeprecationWarning: boolean index did not match indexed array along dimension 0; dimension is 46 but corresponding boolean dimension is 29\n",
      "C:\\Users\\Shahwaiz\\Anaconda2\\lib\\site-packages\\ipykernel\\__main__.py:332: VisibleDeprecationWarning: boolean index did not match indexed array along dimension 0; dimension is 80 but corresponding boolean dimension is 29\n",
      "C:\\Users\\Shahwaiz\\Anaconda2\\lib\\site-packages\\ipykernel\\__main__.py:332: VisibleDeprecationWarning: boolean index did not match indexed array along dimension 0; dimension is 80 but corresponding boolean dimension is 51\n",
      "C:\\Users\\Shahwaiz\\Anaconda2\\lib\\site-packages\\ipykernel\\__main__.py:332: VisibleDeprecationWarning: boolean index did not match indexed array along dimension 0; dimension is 76 but corresponding boolean dimension is 26\n",
      "C:\\Users\\Shahwaiz\\Anaconda2\\lib\\site-packages\\ipykernel\\__main__.py:332: VisibleDeprecationWarning: boolean index did not match indexed array along dimension 0; dimension is 76 but corresponding boolean dimension is 50\n",
      "C:\\Users\\Shahwaiz\\Anaconda2\\lib\\site-packages\\ipykernel\\__main__.py:332: VisibleDeprecationWarning: boolean index did not match indexed array along dimension 0; dimension is 77 but corresponding boolean dimension is 24\n",
      "C:\\Users\\Shahwaiz\\Anaconda2\\lib\\site-packages\\ipykernel\\__main__.py:332: VisibleDeprecationWarning: boolean index did not match indexed array along dimension 0; dimension is 77 but corresponding boolean dimension is 53\n",
      "C:\\Users\\Shahwaiz\\Anaconda2\\lib\\site-packages\\ipykernel\\__main__.py:332: VisibleDeprecationWarning: boolean index did not match indexed array along dimension 0; dimension is 107 but corresponding boolean dimension is 37\n",
      "C:\\Users\\Shahwaiz\\Anaconda2\\lib\\site-packages\\ipykernel\\__main__.py:332: VisibleDeprecationWarning: boolean index did not match indexed array along dimension 0; dimension is 107 but corresponding boolean dimension is 70\n",
      "C:\\Users\\Shahwaiz\\Anaconda2\\lib\\site-packages\\ipykernel\\__main__.py:332: VisibleDeprecationWarning: boolean index did not match indexed array along dimension 0; dimension is 62 but corresponding boolean dimension is 18\n",
      "C:\\Users\\Shahwaiz\\Anaconda2\\lib\\site-packages\\ipykernel\\__main__.py:332: VisibleDeprecationWarning: boolean index did not match indexed array along dimension 0; dimension is 62 but corresponding boolean dimension is 44\n"
     ]
    },
    {
     "name": "stdout",
     "output_type": "stream",
     "text": [
      "[Info] Fold 4 Accuracy = 0.675675675676\n",
      "[0.67567567567567566, 0.6216216216216216, 0.67567567567567566, 0.67567567567567566] \n",
      "Purity=0.86, Nexample-threshold=24.0, Mean Accuracy =0.662162162162\n",
      "[Info] Fold 1 Accuracy = 0.972972972973\n",
      "[Info] Fold 2 Accuracy = 0.648648648649\n",
      "[Info] Fold 3 Accuracy = 0.675675675676\n",
      "[Info] Fold 4 Accuracy = 0.702702702703\n",
      "[0.97297297297297303, 0.64864864864864868, 0.67567567567567566, 0.70270270270270274] \n",
      "Purity=0.86, Nexample-threshold=25.0, Mean Accuracy =0.75\n",
      "[Info] Fold 1 Accuracy = 0.702702702703\n",
      "[Info] Fold 2 Accuracy = 0.72972972973\n"
     ]
    },
    {
     "name": "stderr",
     "output_type": "stream",
     "text": [
      "C:\\Users\\Shahwaiz\\Anaconda2\\lib\\site-packages\\ipykernel\\__main__.py:332: VisibleDeprecationWarning: boolean index did not match indexed array along dimension 0; dimension is 35 but corresponding boolean dimension is 10\n",
      "C:\\Users\\Shahwaiz\\Anaconda2\\lib\\site-packages\\ipykernel\\__main__.py:332: VisibleDeprecationWarning: boolean index did not match indexed array along dimension 0; dimension is 35 but corresponding boolean dimension is 25\n",
      "C:\\Users\\Shahwaiz\\Anaconda2\\lib\\site-packages\\ipykernel\\__main__.py:332: VisibleDeprecationWarning: boolean index did not match indexed array along dimension 0; dimension is 6 but corresponding boolean dimension is 1\n",
      "C:\\Users\\Shahwaiz\\Anaconda2\\lib\\site-packages\\ipykernel\\__main__.py:332: VisibleDeprecationWarning: boolean index did not match indexed array along dimension 0; dimension is 6 but corresponding boolean dimension is 5\n",
      "C:\\Users\\Shahwaiz\\Anaconda2\\lib\\site-packages\\ipykernel\\__main__.py:332: VisibleDeprecationWarning: boolean index did not match indexed array along dimension 0; dimension is 77 but corresponding boolean dimension is 26\n",
      "C:\\Users\\Shahwaiz\\Anaconda2\\lib\\site-packages\\ipykernel\\__main__.py:332: VisibleDeprecationWarning: boolean index did not match indexed array along dimension 0; dimension is 77 but corresponding boolean dimension is 51\n",
      "C:\\Users\\Shahwaiz\\Anaconda2\\lib\\site-packages\\ipykernel\\__main__.py:332: VisibleDeprecationWarning: boolean index did not match indexed array along dimension 0; dimension is 38 but corresponding boolean dimension is 14\n",
      "C:\\Users\\Shahwaiz\\Anaconda2\\lib\\site-packages\\ipykernel\\__main__.py:332: VisibleDeprecationWarning: boolean index did not match indexed array along dimension 0; dimension is 38 but corresponding boolean dimension is 24\n",
      "C:\\Users\\Shahwaiz\\Anaconda2\\lib\\site-packages\\ipykernel\\__main__.py:332: VisibleDeprecationWarning: boolean index did not match indexed array along dimension 0; dimension is 7 but corresponding boolean dimension is 1\n",
      "C:\\Users\\Shahwaiz\\Anaconda2\\lib\\site-packages\\ipykernel\\__main__.py:332: VisibleDeprecationWarning: boolean index did not match indexed array along dimension 0; dimension is 7 but corresponding boolean dimension is 6\n",
      "C:\\Users\\Shahwaiz\\Anaconda2\\lib\\site-packages\\ipykernel\\__main__.py:332: VisibleDeprecationWarning: boolean index did not match indexed array along dimension 0; dimension is 62 but corresponding boolean dimension is 21\n",
      "C:\\Users\\Shahwaiz\\Anaconda2\\lib\\site-packages\\ipykernel\\__main__.py:332: VisibleDeprecationWarning: boolean index did not match indexed array along dimension 0; dimension is 62 but corresponding boolean dimension is 41\n",
      "C:\\Users\\Shahwaiz\\Anaconda2\\lib\\site-packages\\ipykernel\\__main__.py:332: VisibleDeprecationWarning: boolean index did not match indexed array along dimension 0; dimension is 94 but corresponding boolean dimension is 34\n",
      "C:\\Users\\Shahwaiz\\Anaconda2\\lib\\site-packages\\ipykernel\\__main__.py:332: VisibleDeprecationWarning: boolean index did not match indexed array along dimension 0; dimension is 94 but corresponding boolean dimension is 60\n"
     ]
    },
    {
     "name": "stdout",
     "output_type": "stream",
     "text": [
      "[Info] Fold 3 Accuracy = 0.756756756757\n",
      "[Info] Fold 4 Accuracy = 0.675675675676\n",
      "[0.70270270270270274, 0.72972972972972971, 0.7567567567567568, 0.67567567567567566] \n",
      "Purity=0.87, Nexample-threshold=5.0, Mean Accuracy =0.716216216216\n",
      "[Info] Fold 1 Accuracy = 0.837837837838\n",
      "[Info] Fold 2 Accuracy = 0.675675675676\n",
      "[Info] Fold 3 Accuracy = 0.756756756757\n",
      "[Info] Fold 4 Accuracy = 0.972972972973\n",
      "[0.83783783783783783, 0.67567567567567566, 0.7567567567567568, 0.97297297297297303] \n",
      "Purity=0.87, Nexample-threshold=6.0, Mean Accuracy =0.810810810811\n",
      "[Info] Fold 1 Accuracy = 0.675675675676\n"
     ]
    },
    {
     "name": "stderr",
     "output_type": "stream",
     "text": [
      "C:\\Users\\Shahwaiz\\Anaconda2\\lib\\site-packages\\ipykernel\\__main__.py:332: VisibleDeprecationWarning: boolean index did not match indexed array along dimension 0; dimension is 16 but corresponding boolean dimension is 3\n",
      "C:\\Users\\Shahwaiz\\Anaconda2\\lib\\site-packages\\ipykernel\\__main__.py:332: VisibleDeprecationWarning: boolean index did not match indexed array along dimension 0; dimension is 16 but corresponding boolean dimension is 13\n",
      "C:\\Users\\Shahwaiz\\Anaconda2\\lib\\site-packages\\ipykernel\\__main__.py:332: VisibleDeprecationWarning: boolean index did not match indexed array along dimension 0; dimension is 86 but corresponding boolean dimension is 27\n",
      "C:\\Users\\Shahwaiz\\Anaconda2\\lib\\site-packages\\ipykernel\\__main__.py:332: VisibleDeprecationWarning: boolean index did not match indexed array along dimension 0; dimension is 86 but corresponding boolean dimension is 59\n"
     ]
    },
    {
     "name": "stdout",
     "output_type": "stream",
     "text": [
      "[Info] Fold 2 Accuracy = 0.864864864865\n",
      "[Info] Fold 3 Accuracy = 0.810810810811\n",
      "[Info] Fold 4 Accuracy = 0.675675675676\n",
      "[0.67567567567567566, 0.86486486486486491, 0.81081081081081086, 0.67567567567567566] \n",
      "Purity=0.87, Nexample-threshold=7.0, Mean Accuracy =0.756756756757\n",
      "[Info] Fold 1 Accuracy = 0.621621621622\n",
      "[Info] Fold 2 Accuracy = 1.0\n",
      "[Info] Fold 3 Accuracy = 0.675675675676\n",
      "[Info] Fold 4 Accuracy = 0.918918918919\n",
      "[0.6216216216216216, 1.0, 0.67567567567567566, 0.91891891891891897] \n",
      "Purity=0.87, Nexample-threshold=8.0, Mean Accuracy =0.804054054054\n",
      "[Info] Fold 1 Accuracy = 0.702702702703\n",
      "[Info] Fold 2 Accuracy = 0.675675675676\n",
      "[Info] Fold 3 Accuracy = 0.648648648649\n",
      "[Info] Fold 4 Accuracy = 0.972972972973\n",
      "[0.70270270270270274, 0.67567567567567566, 0.64864864864864868, 0.97297297297297303] \n",
      "Purity=0.87, Nexample-threshold=9.0, Mean Accuracy =0.75\n",
      "[Info] Fold 1 Accuracy = 0.378378378378\n",
      "[Info] Fold 2 Accuracy = 0.72972972973\n",
      "[Info] Fold 3 Accuracy = 0.756756756757\n",
      "[Info] Fold 4 Accuracy = 0.108108108108\n",
      "[0.3783783783783784, 0.72972972972972971, 0.7567567567567568, 0.10810810810810811] \n",
      "Purity=0.87, Nexample-threshold=10.0, Mean Accuracy =0.493243243243\n",
      "[Info] Fold 1 Accuracy = 0.837837837838\n"
     ]
    },
    {
     "name": "stderr",
     "output_type": "stream",
     "text": [
      "C:\\Users\\Shahwaiz\\Anaconda2\\lib\\site-packages\\ipykernel\\__main__.py:332: VisibleDeprecationWarning: boolean index did not match indexed array along dimension 0; dimension is 44 but corresponding boolean dimension is 13\n",
      "C:\\Users\\Shahwaiz\\Anaconda2\\lib\\site-packages\\ipykernel\\__main__.py:332: VisibleDeprecationWarning: boolean index did not match indexed array along dimension 0; dimension is 44 but corresponding boolean dimension is 31\n",
      "C:\\Users\\Shahwaiz\\Anaconda2\\lib\\site-packages\\ipykernel\\__main__.py:332: VisibleDeprecationWarning: boolean index did not match indexed array along dimension 0; dimension is 47 but corresponding boolean dimension is 14\n",
      "C:\\Users\\Shahwaiz\\Anaconda2\\lib\\site-packages\\ipykernel\\__main__.py:332: VisibleDeprecationWarning: boolean index did not match indexed array along dimension 0; dimension is 47 but corresponding boolean dimension is 33\n",
      "C:\\Users\\Shahwaiz\\Anaconda2\\lib\\site-packages\\ipykernel\\__main__.py:332: VisibleDeprecationWarning: boolean index did not match indexed array along dimension 0; dimension is 54 but corresponding boolean dimension is 18\n",
      "C:\\Users\\Shahwaiz\\Anaconda2\\lib\\site-packages\\ipykernel\\__main__.py:332: VisibleDeprecationWarning: boolean index did not match indexed array along dimension 0; dimension is 54 but corresponding boolean dimension is 36\n",
      "C:\\Users\\Shahwaiz\\Anaconda2\\lib\\site-packages\\ipykernel\\__main__.py:332: VisibleDeprecationWarning: boolean index did not match indexed array along dimension 0; dimension is 79 but corresponding boolean dimension is 25\n",
      "C:\\Users\\Shahwaiz\\Anaconda2\\lib\\site-packages\\ipykernel\\__main__.py:332: VisibleDeprecationWarning: boolean index did not match indexed array along dimension 0; dimension is 79 but corresponding boolean dimension is 54\n",
      "C:\\Users\\Shahwaiz\\Anaconda2\\lib\\site-packages\\ipykernel\\__main__.py:332: VisibleDeprecationWarning: boolean index did not match indexed array along dimension 0; dimension is 29 but corresponding boolean dimension is 6\n",
      "C:\\Users\\Shahwaiz\\Anaconda2\\lib\\site-packages\\ipykernel\\__main__.py:332: VisibleDeprecationWarning: boolean index did not match indexed array along dimension 0; dimension is 29 but corresponding boolean dimension is 23\n"
     ]
    },
    {
     "name": "stdout",
     "output_type": "stream",
     "text": [
      "[Info] Fold 2 Accuracy = 0.837837837838\n",
      "[Info] Fold 3 Accuracy = 0.648648648649\n",
      "[Info] Fold 4 Accuracy = 0.432432432432\n",
      "[0.83783783783783783, 0.83783783783783783, 0.64864864864864868, 0.43243243243243246] \n",
      "Purity=0.87, Nexample-threshold=11.0, Mean Accuracy =0.689189189189\n",
      "[Info] Fold 1 Accuracy = 0.702702702703\n",
      "[Info] Fold 2 Accuracy = 0.675675675676\n",
      "[Info] Fold 3 Accuracy = 0.675675675676\n"
     ]
    },
    {
     "name": "stderr",
     "output_type": "stream",
     "text": [
      "C:\\Users\\Shahwaiz\\Anaconda2\\lib\\site-packages\\ipykernel\\__main__.py:332: VisibleDeprecationWarning: boolean index did not match indexed array along dimension 0; dimension is 65 but corresponding boolean dimension is 23\n",
      "C:\\Users\\Shahwaiz\\Anaconda2\\lib\\site-packages\\ipykernel\\__main__.py:332: VisibleDeprecationWarning: boolean index did not match indexed array along dimension 0; dimension is 65 but corresponding boolean dimension is 42\n",
      "C:\\Users\\Shahwaiz\\Anaconda2\\lib\\site-packages\\ipykernel\\__main__.py:332: VisibleDeprecationWarning: boolean index did not match indexed array along dimension 0; dimension is 67 but corresponding boolean dimension is 24\n",
      "C:\\Users\\Shahwaiz\\Anaconda2\\lib\\site-packages\\ipykernel\\__main__.py:332: VisibleDeprecationWarning: boolean index did not match indexed array along dimension 0; dimension is 67 but corresponding boolean dimension is 43\n",
      "C:\\Users\\Shahwaiz\\Anaconda2\\lib\\site-packages\\ipykernel\\__main__.py:332: VisibleDeprecationWarning: boolean index did not match indexed array along dimension 0; dimension is 71 but corresponding boolean dimension is 23\n",
      "C:\\Users\\Shahwaiz\\Anaconda2\\lib\\site-packages\\ipykernel\\__main__.py:332: VisibleDeprecationWarning: boolean index did not match indexed array along dimension 0; dimension is 71 but corresponding boolean dimension is 48\n",
      "C:\\Users\\Shahwaiz\\Anaconda2\\lib\\site-packages\\ipykernel\\__main__.py:332: VisibleDeprecationWarning: boolean index did not match indexed array along dimension 0; dimension is 53 but corresponding boolean dimension is 14\n",
      "C:\\Users\\Shahwaiz\\Anaconda2\\lib\\site-packages\\ipykernel\\__main__.py:332: VisibleDeprecationWarning: boolean index did not match indexed array along dimension 0; dimension is 53 but corresponding boolean dimension is 39\n",
      "C:\\Users\\Shahwaiz\\Anaconda2\\lib\\site-packages\\ipykernel\\__main__.py:332: VisibleDeprecationWarning: boolean index did not match indexed array along dimension 0; dimension is 45 but corresponding boolean dimension is 17\n",
      "C:\\Users\\Shahwaiz\\Anaconda2\\lib\\site-packages\\ipykernel\\__main__.py:332: VisibleDeprecationWarning: boolean index did not match indexed array along dimension 0; dimension is 45 but corresponding boolean dimension is 28\n",
      "C:\\Users\\Shahwaiz\\Anaconda2\\lib\\site-packages\\ipykernel\\__main__.py:332: VisibleDeprecationWarning: boolean index did not match indexed array along dimension 0; dimension is 93 but corresponding boolean dimension is 31\n",
      "C:\\Users\\Shahwaiz\\Anaconda2\\lib\\site-packages\\ipykernel\\__main__.py:332: VisibleDeprecationWarning: boolean index did not match indexed array along dimension 0; dimension is 93 but corresponding boolean dimension is 62\n"
     ]
    },
    {
     "name": "stdout",
     "output_type": "stream",
     "text": [
      "[Info] Fold 4 Accuracy = 0.72972972973\n",
      "[0.70270270270270274, 0.67567567567567566, 0.67567567567567566, 0.72972972972972971] \n",
      "Purity=0.87, Nexample-threshold=12.0, Mean Accuracy =0.695945945946\n",
      "[Info] Fold 1 Accuracy = 0.756756756757\n",
      "[Info] Fold 2 Accuracy = 0.675675675676\n",
      "[Info] Fold 3 Accuracy = 0.675675675676\n",
      "[Info] Fold 4 Accuracy = 0.675675675676\n",
      "[0.7567567567567568, 0.67567567567567566, 0.67567567567567566, 0.67567567567567566] \n",
      "Purity=0.87, Nexample-threshold=13.0, Mean Accuracy =0.695945945946\n",
      "[Info] Fold 1 Accuracy = 0.675675675676\n",
      "[Info] Fold 2 Accuracy = 0.675675675676\n",
      "[Info] Fold 3 Accuracy = 0.459459459459\n"
     ]
    },
    {
     "name": "stderr",
     "output_type": "stream",
     "text": [
      "C:\\Users\\Shahwaiz\\Anaconda2\\lib\\site-packages\\ipykernel\\__main__.py:332: VisibleDeprecationWarning: boolean index did not match indexed array along dimension 0; dimension is 98 but corresponding boolean dimension is 31\n",
      "C:\\Users\\Shahwaiz\\Anaconda2\\lib\\site-packages\\ipykernel\\__main__.py:332: VisibleDeprecationWarning: boolean index did not match indexed array along dimension 0; dimension is 98 but corresponding boolean dimension is 67\n",
      "C:\\Users\\Shahwaiz\\Anaconda2\\lib\\site-packages\\ipykernel\\__main__.py:332: VisibleDeprecationWarning: boolean index did not match indexed array along dimension 0; dimension is 81 but corresponding boolean dimension is 26\n",
      "C:\\Users\\Shahwaiz\\Anaconda2\\lib\\site-packages\\ipykernel\\__main__.py:332: VisibleDeprecationWarning: boolean index did not match indexed array along dimension 0; dimension is 81 but corresponding boolean dimension is 55\n",
      "C:\\Users\\Shahwaiz\\Anaconda2\\lib\\site-packages\\ipykernel\\__main__.py:332: VisibleDeprecationWarning: boolean index did not match indexed array along dimension 0; dimension is 51 but corresponding boolean dimension is 18\n",
      "C:\\Users\\Shahwaiz\\Anaconda2\\lib\\site-packages\\ipykernel\\__main__.py:332: VisibleDeprecationWarning: boolean index did not match indexed array along dimension 0; dimension is 51 but corresponding boolean dimension is 33\n",
      "C:\\Users\\Shahwaiz\\Anaconda2\\lib\\site-packages\\ipykernel\\__main__.py:332: VisibleDeprecationWarning: boolean index did not match indexed array along dimension 0; dimension is 107 but corresponding boolean dimension is 35\n",
      "C:\\Users\\Shahwaiz\\Anaconda2\\lib\\site-packages\\ipykernel\\__main__.py:332: VisibleDeprecationWarning: boolean index did not match indexed array along dimension 0; dimension is 107 but corresponding boolean dimension is 72\n",
      "C:\\Users\\Shahwaiz\\Anaconda2\\lib\\site-packages\\ipykernel\\__main__.py:332: VisibleDeprecationWarning: boolean index did not match indexed array along dimension 0; dimension is 83 but corresponding boolean dimension is 24\n",
      "C:\\Users\\Shahwaiz\\Anaconda2\\lib\\site-packages\\ipykernel\\__main__.py:332: VisibleDeprecationWarning: boolean index did not match indexed array along dimension 0; dimension is 83 but corresponding boolean dimension is 59\n",
      "C:\\Users\\Shahwaiz\\Anaconda2\\lib\\site-packages\\ipykernel\\__main__.py:332: VisibleDeprecationWarning: boolean index did not match indexed array along dimension 0; dimension is 57 but corresponding boolean dimension is 15\n",
      "C:\\Users\\Shahwaiz\\Anaconda2\\lib\\site-packages\\ipykernel\\__main__.py:332: VisibleDeprecationWarning: boolean index did not match indexed array along dimension 0; dimension is 57 but corresponding boolean dimension is 42\n",
      "C:\\Users\\Shahwaiz\\Anaconda2\\lib\\site-packages\\ipykernel\\__main__.py:332: VisibleDeprecationWarning: boolean index did not match indexed array along dimension 0; dimension is 39 but corresponding boolean dimension is 9\n",
      "C:\\Users\\Shahwaiz\\Anaconda2\\lib\\site-packages\\ipykernel\\__main__.py:332: VisibleDeprecationWarning: boolean index did not match indexed array along dimension 0; dimension is 39 but corresponding boolean dimension is 30\n",
      "C:\\Users\\Shahwaiz\\Anaconda2\\lib\\site-packages\\ipykernel\\__main__.py:332: VisibleDeprecationWarning: boolean index did not match indexed array along dimension 0; dimension is 73 but corresponding boolean dimension is 28\n",
      "C:\\Users\\Shahwaiz\\Anaconda2\\lib\\site-packages\\ipykernel\\__main__.py:332: VisibleDeprecationWarning: boolean index did not match indexed array along dimension 0; dimension is 73 but corresponding boolean dimension is 45\n"
     ]
    },
    {
     "name": "stdout",
     "output_type": "stream",
     "text": [
      "[Info] Fold 4 Accuracy = 0.864864864865\n",
      "[0.67567567567567566, 0.67567567567567566, 0.45945945945945948, 0.86486486486486491] \n",
      "Purity=0.87, Nexample-threshold=14.0, Mean Accuracy =0.668918918919\n",
      "[Info] Fold 1 Accuracy = 0.621621621622\n",
      "[Info] Fold 2 Accuracy = 0.648648648649\n",
      "[Info] Fold 3 Accuracy = 0.675675675676\n",
      "[Info] Fold 4 Accuracy = 0.972972972973\n",
      "[0.6216216216216216, 0.64864864864864868, 0.67567567567567566, 0.97297297297297303] \n",
      "Purity=0.87, Nexample-threshold=15.0, Mean Accuracy =0.72972972973\n",
      "[Info] Fold 1 Accuracy = 0.675675675676\n",
      "[Info] Fold 2 Accuracy = 0.675675675676\n"
     ]
    },
    {
     "name": "stderr",
     "output_type": "stream",
     "text": [
      "C:\\Users\\Shahwaiz\\Anaconda2\\lib\\site-packages\\ipykernel\\__main__.py:332: VisibleDeprecationWarning: boolean index did not match indexed array along dimension 0; dimension is 83 but corresponding boolean dimension is 29\n",
      "C:\\Users\\Shahwaiz\\Anaconda2\\lib\\site-packages\\ipykernel\\__main__.py:332: VisibleDeprecationWarning: boolean index did not match indexed array along dimension 0; dimension is 83 but corresponding boolean dimension is 54\n",
      "C:\\Users\\Shahwaiz\\Anaconda2\\lib\\site-packages\\ipykernel\\__main__.py:332: VisibleDeprecationWarning: boolean index did not match indexed array along dimension 0; dimension is 32 but corresponding boolean dimension is 17\n",
      "C:\\Users\\Shahwaiz\\Anaconda2\\lib\\site-packages\\ipykernel\\__main__.py:332: VisibleDeprecationWarning: boolean index did not match indexed array along dimension 0; dimension is 32 but corresponding boolean dimension is 15\n",
      "C:\\Users\\Shahwaiz\\Anaconda2\\lib\\site-packages\\ipykernel\\__main__.py:332: VisibleDeprecationWarning: boolean index did not match indexed array along dimension 0; dimension is 69 but corresponding boolean dimension is 26\n",
      "C:\\Users\\Shahwaiz\\Anaconda2\\lib\\site-packages\\ipykernel\\__main__.py:332: VisibleDeprecationWarning: boolean index did not match indexed array along dimension 0; dimension is 69 but corresponding boolean dimension is 43\n",
      "C:\\Users\\Shahwaiz\\Anaconda2\\lib\\site-packages\\ipykernel\\__main__.py:332: VisibleDeprecationWarning: boolean index did not match indexed array along dimension 0; dimension is 33 but corresponding boolean dimension is 15\n",
      "C:\\Users\\Shahwaiz\\Anaconda2\\lib\\site-packages\\ipykernel\\__main__.py:332: VisibleDeprecationWarning: boolean index did not match indexed array along dimension 0; dimension is 33 but corresponding boolean dimension is 18\n",
      "C:\\Users\\Shahwaiz\\Anaconda2\\lib\\site-packages\\ipykernel\\__main__.py:332: VisibleDeprecationWarning: boolean index did not match indexed array along dimension 0; dimension is 70 but corresponding boolean dimension is 20\n",
      "C:\\Users\\Shahwaiz\\Anaconda2\\lib\\site-packages\\ipykernel\\__main__.py:332: VisibleDeprecationWarning: boolean index did not match indexed array along dimension 0; dimension is 70 but corresponding boolean dimension is 50\n",
      "C:\\Users\\Shahwaiz\\Anaconda2\\lib\\site-packages\\ipykernel\\__main__.py:332: VisibleDeprecationWarning: boolean index did not match indexed array along dimension 0; dimension is 62 but corresponding boolean dimension is 19\n",
      "C:\\Users\\Shahwaiz\\Anaconda2\\lib\\site-packages\\ipykernel\\__main__.py:332: VisibleDeprecationWarning: boolean index did not match indexed array along dimension 0; dimension is 62 but corresponding boolean dimension is 43\n",
      "C:\\Users\\Shahwaiz\\Anaconda2\\lib\\site-packages\\ipykernel\\__main__.py:332: VisibleDeprecationWarning: boolean index did not match indexed array along dimension 0; dimension is 42 but corresponding boolean dimension is 11\n",
      "C:\\Users\\Shahwaiz\\Anaconda2\\lib\\site-packages\\ipykernel\\__main__.py:332: VisibleDeprecationWarning: boolean index did not match indexed array along dimension 0; dimension is 42 but corresponding boolean dimension is 31\n",
      "C:\\Users\\Shahwaiz\\Anaconda2\\lib\\site-packages\\ipykernel\\__main__.py:332: VisibleDeprecationWarning: boolean index did not match indexed array along dimension 0; dimension is 25 but corresponding boolean dimension is 12\n",
      "C:\\Users\\Shahwaiz\\Anaconda2\\lib\\site-packages\\ipykernel\\__main__.py:332: VisibleDeprecationWarning: boolean index did not match indexed array along dimension 0; dimension is 25 but corresponding boolean dimension is 13\n",
      "C:\\Users\\Shahwaiz\\Anaconda2\\lib\\site-packages\\ipykernel\\__main__.py:332: VisibleDeprecationWarning: boolean index did not match indexed array along dimension 0; dimension is 78 but corresponding boolean dimension is 23\n",
      "C:\\Users\\Shahwaiz\\Anaconda2\\lib\\site-packages\\ipykernel\\__main__.py:332: VisibleDeprecationWarning: boolean index did not match indexed array along dimension 0; dimension is 78 but corresponding boolean dimension is 55\n",
      "C:\\Users\\Shahwaiz\\Anaconda2\\lib\\site-packages\\ipykernel\\__main__.py:332: VisibleDeprecationWarning: boolean index did not match indexed array along dimension 0; dimension is 100 but corresponding boolean dimension is 34\n",
      "C:\\Users\\Shahwaiz\\Anaconda2\\lib\\site-packages\\ipykernel\\__main__.py:332: VisibleDeprecationWarning: boolean index did not match indexed array along dimension 0; dimension is 100 but corresponding boolean dimension is 66\n",
      "C:\\Users\\Shahwaiz\\Anaconda2\\lib\\site-packages\\ipykernel\\__main__.py:332: VisibleDeprecationWarning: boolean index did not match indexed array along dimension 0; dimension is 64 but corresponding boolean dimension is 23\n",
      "C:\\Users\\Shahwaiz\\Anaconda2\\lib\\site-packages\\ipykernel\\__main__.py:332: VisibleDeprecationWarning: boolean index did not match indexed array along dimension 0; dimension is 64 but corresponding boolean dimension is 41\n",
      "C:\\Users\\Shahwaiz\\Anaconda2\\lib\\site-packages\\ipykernel\\__main__.py:332: VisibleDeprecationWarning: boolean index did not match indexed array along dimension 0; dimension is 53 but corresponding boolean dimension is 18\n",
      "C:\\Users\\Shahwaiz\\Anaconda2\\lib\\site-packages\\ipykernel\\__main__.py:332: VisibleDeprecationWarning: boolean index did not match indexed array along dimension 0; dimension is 53 but corresponding boolean dimension is 35\n",
      "C:\\Users\\Shahwaiz\\Anaconda2\\lib\\site-packages\\ipykernel\\__main__.py:332: VisibleDeprecationWarning: boolean index did not match indexed array along dimension 0; dimension is 103 but corresponding boolean dimension is 33\n",
      "C:\\Users\\Shahwaiz\\Anaconda2\\lib\\site-packages\\ipykernel\\__main__.py:332: VisibleDeprecationWarning: boolean index did not match indexed array along dimension 0; dimension is 103 but corresponding boolean dimension is 70\n"
     ]
    },
    {
     "name": "stdout",
     "output_type": "stream",
     "text": [
      "[Info] Fold 3 Accuracy = 0.324324324324\n",
      "[Info] Fold 4 Accuracy = 0.675675675676\n",
      "[0.67567567567567566, 0.67567567567567566, 0.32432432432432434, 0.67567567567567566] \n",
      "Purity=0.87, Nexample-threshold=16.0, Mean Accuracy =0.587837837838\n",
      "[Info] Fold 1 Accuracy = 0.675675675676\n",
      "[Info] Fold 2 Accuracy = 0.675675675676\n",
      "[Info] Fold 3 Accuracy = 0.675675675676\n",
      "[Info] Fold 4 Accuracy = 0.756756756757\n",
      "[0.67567567567567566, 0.67567567567567566, 0.67567567567567566, 0.7567567567567568] \n",
      "Purity=0.87, Nexample-threshold=17.0, Mean Accuracy =0.695945945946\n"
     ]
    },
    {
     "name": "stderr",
     "output_type": "stream",
     "text": [
      "C:\\Users\\Shahwaiz\\Anaconda2\\lib\\site-packages\\ipykernel\\__main__.py:332: VisibleDeprecationWarning: boolean index did not match indexed array along dimension 0; dimension is 58 but corresponding boolean dimension is 19\n",
      "C:\\Users\\Shahwaiz\\Anaconda2\\lib\\site-packages\\ipykernel\\__main__.py:332: VisibleDeprecationWarning: boolean index did not match indexed array along dimension 0; dimension is 58 but corresponding boolean dimension is 39\n",
      "C:\\Users\\Shahwaiz\\Anaconda2\\lib\\site-packages\\ipykernel\\__main__.py:332: VisibleDeprecationWarning: boolean index did not match indexed array along dimension 0; dimension is 97 but corresponding boolean dimension is 34\n",
      "C:\\Users\\Shahwaiz\\Anaconda2\\lib\\site-packages\\ipykernel\\__main__.py:332: VisibleDeprecationWarning: boolean index did not match indexed array along dimension 0; dimension is 97 but corresponding boolean dimension is 63\n",
      "C:\\Users\\Shahwaiz\\Anaconda2\\lib\\site-packages\\ipykernel\\__main__.py:332: VisibleDeprecationWarning: boolean index did not match indexed array along dimension 0; dimension is 76 but corresponding boolean dimension is 27\n",
      "C:\\Users\\Shahwaiz\\Anaconda2\\lib\\site-packages\\ipykernel\\__main__.py:332: VisibleDeprecationWarning: boolean index did not match indexed array along dimension 0; dimension is 76 but corresponding boolean dimension is 49\n",
      "C:\\Users\\Shahwaiz\\Anaconda2\\lib\\site-packages\\ipykernel\\__main__.py:332: VisibleDeprecationWarning: boolean index did not match indexed array along dimension 0; dimension is 57 but corresponding boolean dimension is 23\n",
      "C:\\Users\\Shahwaiz\\Anaconda2\\lib\\site-packages\\ipykernel\\__main__.py:332: VisibleDeprecationWarning: boolean index did not match indexed array along dimension 0; dimension is 57 but corresponding boolean dimension is 34\n",
      "C:\\Users\\Shahwaiz\\Anaconda2\\lib\\site-packages\\ipykernel\\__main__.py:332: VisibleDeprecationWarning: boolean index did not match indexed array along dimension 0; dimension is 78 but corresponding boolean dimension is 27\n",
      "C:\\Users\\Shahwaiz\\Anaconda2\\lib\\site-packages\\ipykernel\\__main__.py:332: VisibleDeprecationWarning: boolean index did not match indexed array along dimension 0; dimension is 78 but corresponding boolean dimension is 51\n",
      "C:\\Users\\Shahwaiz\\Anaconda2\\lib\\site-packages\\ipykernel\\__main__.py:332: VisibleDeprecationWarning: boolean index did not match indexed array along dimension 0; dimension is 100 but corresponding boolean dimension is 36\n",
      "C:\\Users\\Shahwaiz\\Anaconda2\\lib\\site-packages\\ipykernel\\__main__.py:332: VisibleDeprecationWarning: boolean index did not match indexed array along dimension 0; dimension is 100 but corresponding boolean dimension is 64\n",
      "C:\\Users\\Shahwaiz\\Anaconda2\\lib\\site-packages\\ipykernel\\__main__.py:332: VisibleDeprecationWarning: boolean index did not match indexed array along dimension 0; dimension is 71 but corresponding boolean dimension is 25\n",
      "C:\\Users\\Shahwaiz\\Anaconda2\\lib\\site-packages\\ipykernel\\__main__.py:332: VisibleDeprecationWarning: boolean index did not match indexed array along dimension 0; dimension is 71 but corresponding boolean dimension is 46\n",
      "C:\\Users\\Shahwaiz\\Anaconda2\\lib\\site-packages\\ipykernel\\__main__.py:332: VisibleDeprecationWarning: boolean index did not match indexed array along dimension 0; dimension is 70 but corresponding boolean dimension is 24\n",
      "C:\\Users\\Shahwaiz\\Anaconda2\\lib\\site-packages\\ipykernel\\__main__.py:332: VisibleDeprecationWarning: boolean index did not match indexed array along dimension 0; dimension is 70 but corresponding boolean dimension is 46\n"
     ]
    },
    {
     "name": "stdout",
     "output_type": "stream",
     "text": [
      "[Info] Fold 1 Accuracy = 0.72972972973\n",
      "[Info] Fold 2 Accuracy = 0.675675675676\n",
      "[Info] Fold 3 Accuracy = 0.675675675676\n",
      "[Info] Fold 4 Accuracy = 0.810810810811\n",
      "[0.72972972972972971, 0.67567567567567566, 0.67567567567567566, 0.81081081081081086] \n",
      "Purity=0.87, Nexample-threshold=18.0, Mean Accuracy =0.722972972973\n",
      "[Info] Fold 1 Accuracy = 0.810810810811\n",
      "[Info] Fold 2 Accuracy = 0.675675675676\n",
      "[Info] Fold 3 Accuracy = 0.621621621622\n"
     ]
    },
    {
     "name": "stderr",
     "output_type": "stream",
     "text": [
      "C:\\Users\\Shahwaiz\\Anaconda2\\lib\\site-packages\\ipykernel\\__main__.py:332: VisibleDeprecationWarning: boolean index did not match indexed array along dimension 0; dimension is 46 but corresponding boolean dimension is 21\n",
      "C:\\Users\\Shahwaiz\\Anaconda2\\lib\\site-packages\\ipykernel\\__main__.py:332: VisibleDeprecationWarning: boolean index did not match indexed array along dimension 0; dimension is 46 but corresponding boolean dimension is 25\n",
      "C:\\Users\\Shahwaiz\\Anaconda2\\lib\\site-packages\\ipykernel\\__main__.py:332: VisibleDeprecationWarning: boolean index did not match indexed array along dimension 0; dimension is 47 but corresponding boolean dimension is 15\n",
      "C:\\Users\\Shahwaiz\\Anaconda2\\lib\\site-packages\\ipykernel\\__main__.py:332: VisibleDeprecationWarning: boolean index did not match indexed array along dimension 0; dimension is 47 but corresponding boolean dimension is 32\n",
      "C:\\Users\\Shahwaiz\\Anaconda2\\lib\\site-packages\\ipykernel\\__main__.py:332: VisibleDeprecationWarning: boolean index did not match indexed array along dimension 0; dimension is 65 but corresponding boolean dimension is 22\n",
      "C:\\Users\\Shahwaiz\\Anaconda2\\lib\\site-packages\\ipykernel\\__main__.py:332: VisibleDeprecationWarning: boolean index did not match indexed array along dimension 0; dimension is 65 but corresponding boolean dimension is 43\n",
      "C:\\Users\\Shahwaiz\\Anaconda2\\lib\\site-packages\\ipykernel\\__main__.py:332: VisibleDeprecationWarning: boolean index did not match indexed array along dimension 0; dimension is 63 but corresponding boolean dimension is 19\n",
      "C:\\Users\\Shahwaiz\\Anaconda2\\lib\\site-packages\\ipykernel\\__main__.py:332: VisibleDeprecationWarning: boolean index did not match indexed array along dimension 0; dimension is 63 but corresponding boolean dimension is 44\n"
     ]
    },
    {
     "name": "stdout",
     "output_type": "stream",
     "text": [
      "[Info] Fold 4 Accuracy = 0.459459459459\n",
      "[0.81081081081081086, 0.67567567567567566, 0.6216216216216216, 0.45945945945945948] \n",
      "Purity=0.87, Nexample-threshold=19.0, Mean Accuracy =0.641891891892\n",
      "[Info] Fold 1 Accuracy = 0.675675675676\n",
      "[Info] Fold 2 Accuracy = 0.675675675676\n",
      "[Info] Fold 3 Accuracy = 0.675675675676\n",
      "[Info] Fold 4 Accuracy = 0.648648648649\n",
      "[0.67567567567567566, 0.67567567567567566, 0.67567567567567566, 0.64864864864864868] \n",
      "Purity=0.87, Nexample-threshold=20.0, Mean Accuracy =0.668918918919\n",
      "[Info] Fold 1 Accuracy = 0.675675675676\n"
     ]
    },
    {
     "name": "stderr",
     "output_type": "stream",
     "text": [
      "C:\\Users\\Shahwaiz\\Anaconda2\\lib\\site-packages\\ipykernel\\__main__.py:332: VisibleDeprecationWarning: boolean index did not match indexed array along dimension 0; dimension is 42 but corresponding boolean dimension is 13\n",
      "C:\\Users\\Shahwaiz\\Anaconda2\\lib\\site-packages\\ipykernel\\__main__.py:332: VisibleDeprecationWarning: boolean index did not match indexed array along dimension 0; dimension is 42 but corresponding boolean dimension is 29\n",
      "C:\\Users\\Shahwaiz\\Anaconda2\\lib\\site-packages\\ipykernel\\__main__.py:332: VisibleDeprecationWarning: boolean index did not match indexed array along dimension 0; dimension is 52 but corresponding boolean dimension is 20\n",
      "C:\\Users\\Shahwaiz\\Anaconda2\\lib\\site-packages\\ipykernel\\__main__.py:332: VisibleDeprecationWarning: boolean index did not match indexed array along dimension 0; dimension is 52 but corresponding boolean dimension is 32\n",
      "C:\\Users\\Shahwaiz\\Anaconda2\\lib\\site-packages\\ipykernel\\__main__.py:332: VisibleDeprecationWarning: boolean index did not match indexed array along dimension 0; dimension is 42 but corresponding boolean dimension is 17\n",
      "C:\\Users\\Shahwaiz\\Anaconda2\\lib\\site-packages\\ipykernel\\__main__.py:332: VisibleDeprecationWarning: boolean index did not match indexed array along dimension 0; dimension is 42 but corresponding boolean dimension is 25\n",
      "C:\\Users\\Shahwaiz\\Anaconda2\\lib\\site-packages\\ipykernel\\__main__.py:332: VisibleDeprecationWarning: boolean index did not match indexed array along dimension 0; dimension is 95 but corresponding boolean dimension is 31\n",
      "C:\\Users\\Shahwaiz\\Anaconda2\\lib\\site-packages\\ipykernel\\__main__.py:332: VisibleDeprecationWarning: boolean index did not match indexed array along dimension 0; dimension is 95 but corresponding boolean dimension is 64\n",
      "C:\\Users\\Shahwaiz\\Anaconda2\\lib\\site-packages\\ipykernel\\__main__.py:332: VisibleDeprecationWarning: boolean index did not match indexed array along dimension 0; dimension is 33 but corresponding boolean dimension is 8\n",
      "C:\\Users\\Shahwaiz\\Anaconda2\\lib\\site-packages\\ipykernel\\__main__.py:332: VisibleDeprecationWarning: boolean index did not match indexed array along dimension 0; dimension is 33 but corresponding boolean dimension is 25\n",
      "C:\\Users\\Shahwaiz\\Anaconda2\\lib\\site-packages\\ipykernel\\__main__.py:332: VisibleDeprecationWarning: boolean index did not match indexed array along dimension 0; dimension is 67 but corresponding boolean dimension is 23\n",
      "C:\\Users\\Shahwaiz\\Anaconda2\\lib\\site-packages\\ipykernel\\__main__.py:332: VisibleDeprecationWarning: boolean index did not match indexed array along dimension 0; dimension is 67 but corresponding boolean dimension is 44\n",
      "C:\\Users\\Shahwaiz\\Anaconda2\\lib\\site-packages\\ipykernel\\__main__.py:332: VisibleDeprecationWarning: boolean index did not match indexed array along dimension 0; dimension is 40 but corresponding boolean dimension is 18\n",
      "C:\\Users\\Shahwaiz\\Anaconda2\\lib\\site-packages\\ipykernel\\__main__.py:332: VisibleDeprecationWarning: boolean index did not match indexed array along dimension 0; dimension is 40 but corresponding boolean dimension is 22\n",
      "C:\\Users\\Shahwaiz\\Anaconda2\\lib\\site-packages\\ipykernel\\__main__.py:332: VisibleDeprecationWarning: boolean index did not match indexed array along dimension 0; dimension is 72 but corresponding boolean dimension is 19\n",
      "C:\\Users\\Shahwaiz\\Anaconda2\\lib\\site-packages\\ipykernel\\__main__.py:332: VisibleDeprecationWarning: boolean index did not match indexed array along dimension 0; dimension is 72 but corresponding boolean dimension is 53\n",
      "C:\\Users\\Shahwaiz\\Anaconda2\\lib\\site-packages\\ipykernel\\__main__.py:332: VisibleDeprecationWarning: boolean index did not match indexed array along dimension 0; dimension is 59 but corresponding boolean dimension is 13\n",
      "C:\\Users\\Shahwaiz\\Anaconda2\\lib\\site-packages\\ipykernel\\__main__.py:332: VisibleDeprecationWarning: boolean index did not match indexed array along dimension 0; dimension is 59 but corresponding boolean dimension is 46\n",
      "C:\\Users\\Shahwaiz\\Anaconda2\\lib\\site-packages\\ipykernel\\__main__.py:332: VisibleDeprecationWarning: boolean index did not match indexed array along dimension 0; dimension is 48 but corresponding boolean dimension is 12\n",
      "C:\\Users\\Shahwaiz\\Anaconda2\\lib\\site-packages\\ipykernel\\__main__.py:332: VisibleDeprecationWarning: boolean index did not match indexed array along dimension 0; dimension is 48 but corresponding boolean dimension is 36\n"
     ]
    },
    {
     "name": "stdout",
     "output_type": "stream",
     "text": [
      "[Info] Fold 2 Accuracy = 0.675675675676\n",
      "[Info] Fold 3 Accuracy = 0.243243243243\n",
      "[Info] Fold 4 Accuracy = 0.648648648649\n",
      "[0.67567567567567566, 0.67567567567567566, 0.24324324324324326, 0.64864864864864868] \n",
      "Purity=0.87, Nexample-threshold=21.0, Mean Accuracy =0.560810810811\n",
      "[Info] Fold 1 Accuracy = 0.675675675676\n",
      "[Info] Fold 2 Accuracy = 0.72972972973\n",
      "[Info] Fold 3 Accuracy = 0.675675675676\n",
      "[Info] Fold 4 Accuracy = 0.675675675676\n",
      "[0.67567567567567566, 0.72972972972972971, 0.67567567567567566, 0.67567567567567566] \n",
      "Purity=0.87, Nexample-threshold=22.0, Mean Accuracy =0.689189189189\n"
     ]
    },
    {
     "name": "stderr",
     "output_type": "stream",
     "text": [
      "C:\\Users\\Shahwaiz\\Anaconda2\\lib\\site-packages\\ipykernel\\__main__.py:332: VisibleDeprecationWarning: boolean index did not match indexed array along dimension 0; dimension is 71 but corresponding boolean dimension is 27\n",
      "C:\\Users\\Shahwaiz\\Anaconda2\\lib\\site-packages\\ipykernel\\__main__.py:332: VisibleDeprecationWarning: boolean index did not match indexed array along dimension 0; dimension is 71 but corresponding boolean dimension is 44\n",
      "C:\\Users\\Shahwaiz\\Anaconda2\\lib\\site-packages\\ipykernel\\__main__.py:332: VisibleDeprecationWarning: boolean index did not match indexed array along dimension 0; dimension is 105 but corresponding boolean dimension is 34\n",
      "C:\\Users\\Shahwaiz\\Anaconda2\\lib\\site-packages\\ipykernel\\__main__.py:332: VisibleDeprecationWarning: boolean index did not match indexed array along dimension 0; dimension is 105 but corresponding boolean dimension is 71\n",
      "C:\\Users\\Shahwaiz\\Anaconda2\\lib\\site-packages\\ipykernel\\__main__.py:332: VisibleDeprecationWarning: boolean index did not match indexed array along dimension 0; dimension is 68 but corresponding boolean dimension is 22\n",
      "C:\\Users\\Shahwaiz\\Anaconda2\\lib\\site-packages\\ipykernel\\__main__.py:332: VisibleDeprecationWarning: boolean index did not match indexed array along dimension 0; dimension is 68 but corresponding boolean dimension is 46\n",
      "C:\\Users\\Shahwaiz\\Anaconda2\\lib\\site-packages\\ipykernel\\__main__.py:332: VisibleDeprecationWarning: boolean index did not match indexed array along dimension 0; dimension is 41 but corresponding boolean dimension is 16\n",
      "C:\\Users\\Shahwaiz\\Anaconda2\\lib\\site-packages\\ipykernel\\__main__.py:332: VisibleDeprecationWarning: boolean index did not match indexed array along dimension 0; dimension is 41 but corresponding boolean dimension is 25\n",
      "C:\\Users\\Shahwaiz\\Anaconda2\\lib\\site-packages\\ipykernel\\__main__.py:332: VisibleDeprecationWarning: boolean index did not match indexed array along dimension 0; dimension is 110 but corresponding boolean dimension is 35\n",
      "C:\\Users\\Shahwaiz\\Anaconda2\\lib\\site-packages\\ipykernel\\__main__.py:332: VisibleDeprecationWarning: boolean index did not match indexed array along dimension 0; dimension is 110 but corresponding boolean dimension is 75\n",
      "C:\\Users\\Shahwaiz\\Anaconda2\\lib\\site-packages\\ipykernel\\__main__.py:332: VisibleDeprecationWarning: boolean index did not match indexed array along dimension 0; dimension is 87 but corresponding boolean dimension is 25\n",
      "C:\\Users\\Shahwaiz\\Anaconda2\\lib\\site-packages\\ipykernel\\__main__.py:332: VisibleDeprecationWarning: boolean index did not match indexed array along dimension 0; dimension is 87 but corresponding boolean dimension is 62\n",
      "C:\\Users\\Shahwaiz\\Anaconda2\\lib\\site-packages\\ipykernel\\__main__.py:332: VisibleDeprecationWarning: boolean index did not match indexed array along dimension 0; dimension is 52 but corresponding boolean dimension is 12\n",
      "C:\\Users\\Shahwaiz\\Anaconda2\\lib\\site-packages\\ipykernel\\__main__.py:332: VisibleDeprecationWarning: boolean index did not match indexed array along dimension 0; dimension is 52 but corresponding boolean dimension is 40\n",
      "C:\\Users\\Shahwaiz\\Anaconda2\\lib\\site-packages\\ipykernel\\__main__.py:332: VisibleDeprecationWarning: boolean index did not match indexed array along dimension 0; dimension is 54 but corresponding boolean dimension is 14\n",
      "C:\\Users\\Shahwaiz\\Anaconda2\\lib\\site-packages\\ipykernel\\__main__.py:332: VisibleDeprecationWarning: boolean index did not match indexed array along dimension 0; dimension is 54 but corresponding boolean dimension is 40\n",
      "C:\\Users\\Shahwaiz\\Anaconda2\\lib\\site-packages\\ipykernel\\__main__.py:332: VisibleDeprecationWarning: boolean index did not match indexed array along dimension 0; dimension is 64 but corresponding boolean dimension is 21\n",
      "C:\\Users\\Shahwaiz\\Anaconda2\\lib\\site-packages\\ipykernel\\__main__.py:332: VisibleDeprecationWarning: boolean index did not match indexed array along dimension 0; dimension is 64 but corresponding boolean dimension is 43\n",
      "C:\\Users\\Shahwaiz\\Anaconda2\\lib\\site-packages\\ipykernel\\__main__.py:332: VisibleDeprecationWarning: boolean index did not match indexed array along dimension 0; dimension is 63 but corresponding boolean dimension is 21\n",
      "C:\\Users\\Shahwaiz\\Anaconda2\\lib\\site-packages\\ipykernel\\__main__.py:332: VisibleDeprecationWarning: boolean index did not match indexed array along dimension 0; dimension is 63 but corresponding boolean dimension is 42\n",
      "C:\\Users\\Shahwaiz\\Anaconda2\\lib\\site-packages\\ipykernel\\__main__.py:332: VisibleDeprecationWarning: boolean index did not match indexed array along dimension 0; dimension is 73 but corresponding boolean dimension is 20\n",
      "C:\\Users\\Shahwaiz\\Anaconda2\\lib\\site-packages\\ipykernel\\__main__.py:332: VisibleDeprecationWarning: boolean index did not match indexed array along dimension 0; dimension is 73 but corresponding boolean dimension is 53\n",
      "C:\\Users\\Shahwaiz\\Anaconda2\\lib\\site-packages\\ipykernel\\__main__.py:332: VisibleDeprecationWarning: boolean index did not match indexed array along dimension 0; dimension is 101 but corresponding boolean dimension is 33\n",
      "C:\\Users\\Shahwaiz\\Anaconda2\\lib\\site-packages\\ipykernel\\__main__.py:332: VisibleDeprecationWarning: boolean index did not match indexed array along dimension 0; dimension is 101 but corresponding boolean dimension is 68\n"
     ]
    },
    {
     "name": "stdout",
     "output_type": "stream",
     "text": [
      "[Info] Fold 1 Accuracy = 0.675675675676\n",
      "[Info] Fold 2 Accuracy = 0.756756756757\n",
      "[Info] Fold 3 Accuracy = 0.675675675676\n",
      "[Info] Fold 4 Accuracy = 0.675675675676\n",
      "[0.67567567567567566, 0.7567567567567568, 0.67567567567567566, 0.67567567567567566] \n",
      "Purity=0.87, Nexample-threshold=23.0, Mean Accuracy =0.695945945946\n",
      "[Info] Fold 1 Accuracy = 0.675675675676\n",
      "[Info] Fold 2 Accuracy = 0.945945945946\n"
     ]
    },
    {
     "name": "stderr",
     "output_type": "stream",
     "text": [
      "C:\\Users\\Shahwaiz\\Anaconda2\\lib\\site-packages\\ipykernel\\__main__.py:332: VisibleDeprecationWarning: boolean index did not match indexed array along dimension 0; dimension is 57 but corresponding boolean dimension is 17\n",
      "C:\\Users\\Shahwaiz\\Anaconda2\\lib\\site-packages\\ipykernel\\__main__.py:332: VisibleDeprecationWarning: boolean index did not match indexed array along dimension 0; dimension is 57 but corresponding boolean dimension is 40\n",
      "C:\\Users\\Shahwaiz\\Anaconda2\\lib\\site-packages\\ipykernel\\__main__.py:332: VisibleDeprecationWarning: boolean index did not match indexed array along dimension 0; dimension is 106 but corresponding boolean dimension is 33\n",
      "C:\\Users\\Shahwaiz\\Anaconda2\\lib\\site-packages\\ipykernel\\__main__.py:332: VisibleDeprecationWarning: boolean index did not match indexed array along dimension 0; dimension is 106 but corresponding boolean dimension is 73\n",
      "C:\\Users\\Shahwaiz\\Anaconda2\\lib\\site-packages\\ipykernel\\__main__.py:332: VisibleDeprecationWarning: boolean index did not match indexed array along dimension 0; dimension is 81 but corresponding boolean dimension is 27\n",
      "C:\\Users\\Shahwaiz\\Anaconda2\\lib\\site-packages\\ipykernel\\__main__.py:332: VisibleDeprecationWarning: boolean index did not match indexed array along dimension 0; dimension is 81 but corresponding boolean dimension is 54\n",
      "C:\\Users\\Shahwaiz\\Anaconda2\\lib\\site-packages\\ipykernel\\__main__.py:332: VisibleDeprecationWarning: boolean index did not match indexed array along dimension 0; dimension is 71 but corresponding boolean dimension is 24\n",
      "C:\\Users\\Shahwaiz\\Anaconda2\\lib\\site-packages\\ipykernel\\__main__.py:332: VisibleDeprecationWarning: boolean index did not match indexed array along dimension 0; dimension is 71 but corresponding boolean dimension is 47\n",
      "C:\\Users\\Shahwaiz\\Anaconda2\\lib\\site-packages\\ipykernel\\__main__.py:332: VisibleDeprecationWarning: boolean index did not match indexed array along dimension 0; dimension is 63 but corresponding boolean dimension is 22\n",
      "C:\\Users\\Shahwaiz\\Anaconda2\\lib\\site-packages\\ipykernel\\__main__.py:332: VisibleDeprecationWarning: boolean index did not match indexed array along dimension 0; dimension is 63 but corresponding boolean dimension is 41\n",
      "C:\\Users\\Shahwaiz\\Anaconda2\\lib\\site-packages\\ipykernel\\__main__.py:332: VisibleDeprecationWarning: boolean index did not match indexed array along dimension 0; dimension is 79 but corresponding boolean dimension is 28\n",
      "C:\\Users\\Shahwaiz\\Anaconda2\\lib\\site-packages\\ipykernel\\__main__.py:332: VisibleDeprecationWarning: boolean index did not match indexed array along dimension 0; dimension is 79 but corresponding boolean dimension is 51\n",
      "C:\\Users\\Shahwaiz\\Anaconda2\\lib\\site-packages\\ipykernel\\__main__.py:332: VisibleDeprecationWarning: boolean index did not match indexed array along dimension 0; dimension is 72 but corresponding boolean dimension is 23\n",
      "C:\\Users\\Shahwaiz\\Anaconda2\\lib\\site-packages\\ipykernel\\__main__.py:332: VisibleDeprecationWarning: boolean index did not match indexed array along dimension 0; dimension is 72 but corresponding boolean dimension is 49\n"
     ]
    },
    {
     "name": "stdout",
     "output_type": "stream",
     "text": [
      "[Info] Fold 3 Accuracy = 0.756756756757\n",
      "[Info] Fold 4 Accuracy = 0.540540540541\n",
      "[0.67567567567567566, 0.94594594594594594, 0.7567567567567568, 0.54054054054054057] \n",
      "Purity=0.87, Nexample-threshold=24.0, Mean Accuracy =0.72972972973\n",
      "[Info] Fold 1 Accuracy = 0.675675675676\n",
      "[Info] Fold 2 Accuracy = 0.324324324324\n",
      "[Info] Fold 3 Accuracy = 0.675675675676\n",
      "[Info] Fold 4 Accuracy = 0.675675675676\n",
      "[0.67567567567567566, 0.32432432432432434, 0.67567567567567566, 0.67567567567567566] \n",
      "Purity=0.87, Nexample-threshold=25.0, Mean Accuracy =0.587837837838\n",
      "[Info] Fold 1 Accuracy = 0.648648648649\n",
      "[Info] Fold 2 Accuracy = 0.675675675676\n",
      "[Info] Fold 3 Accuracy = 0.702702702703\n",
      "[Info] Fold 4 Accuracy = 0.675675675676\n",
      "[0.64864864864864868, 0.67567567567567566, 0.70270270270270274, 0.67567567567567566] \n",
      "Purity=0.88, Nexample-threshold=5.0, Mean Accuracy =0.675675675676\n",
      "[Info] Fold 1 Accuracy = 0.675675675676\n",
      "[Info] Fold 2 Accuracy = 0.945945945946\n",
      "[Info] Fold 3 Accuracy = 0.675675675676\n",
      "[Info] Fold 4 Accuracy = 0.675675675676\n",
      "[0.67567567567567566, 0.94594594594594594, 0.67567567567567566, 0.67567567567567566] \n",
      "Purity=0.88, Nexample-threshold=6.0, Mean Accuracy =0.743243243243\n",
      "[Info] Fold 1 Accuracy = 0.675675675676\n"
     ]
    },
    {
     "name": "stderr",
     "output_type": "stream",
     "text": [
      "C:\\Users\\Shahwaiz\\Anaconda2\\lib\\site-packages\\ipykernel\\__main__.py:332: VisibleDeprecationWarning: boolean index did not match indexed array along dimension 0; dimension is 14 but corresponding boolean dimension is 2\n",
      "C:\\Users\\Shahwaiz\\Anaconda2\\lib\\site-packages\\ipykernel\\__main__.py:332: VisibleDeprecationWarning: boolean index did not match indexed array along dimension 0; dimension is 14 but corresponding boolean dimension is 12\n",
      "C:\\Users\\Shahwaiz\\Anaconda2\\lib\\site-packages\\ipykernel\\__main__.py:332: VisibleDeprecationWarning: boolean index did not match indexed array along dimension 0; dimension is 47 but corresponding boolean dimension is 19\n",
      "C:\\Users\\Shahwaiz\\Anaconda2\\lib\\site-packages\\ipykernel\\__main__.py:332: VisibleDeprecationWarning: boolean index did not match indexed array along dimension 0; dimension is 47 but corresponding boolean dimension is 28\n",
      "C:\\Users\\Shahwaiz\\Anaconda2\\lib\\site-packages\\ipykernel\\__main__.py:332: VisibleDeprecationWarning: boolean index did not match indexed array along dimension 0; dimension is 16 but corresponding boolean dimension is 2\n",
      "C:\\Users\\Shahwaiz\\Anaconda2\\lib\\site-packages\\ipykernel\\__main__.py:332: VisibleDeprecationWarning: boolean index did not match indexed array along dimension 0; dimension is 16 but corresponding boolean dimension is 14\n",
      "C:\\Users\\Shahwaiz\\Anaconda2\\lib\\site-packages\\ipykernel\\__main__.py:332: VisibleDeprecationWarning: boolean index did not match indexed array along dimension 0; dimension is 102 but corresponding boolean dimension is 33\n",
      "C:\\Users\\Shahwaiz\\Anaconda2\\lib\\site-packages\\ipykernel\\__main__.py:332: VisibleDeprecationWarning: boolean index did not match indexed array along dimension 0; dimension is 102 but corresponding boolean dimension is 69\n",
      "C:\\Users\\Shahwaiz\\Anaconda2\\lib\\site-packages\\ipykernel\\__main__.py:332: VisibleDeprecationWarning: boolean index did not match indexed array along dimension 0; dimension is 8 but corresponding boolean dimension is 1\n",
      "C:\\Users\\Shahwaiz\\Anaconda2\\lib\\site-packages\\ipykernel\\__main__.py:332: VisibleDeprecationWarning: boolean index did not match indexed array along dimension 0; dimension is 8 but corresponding boolean dimension is 7\n",
      "C:\\Users\\Shahwaiz\\Anaconda2\\lib\\site-packages\\ipykernel\\__main__.py:332: VisibleDeprecationWarning: boolean index did not match indexed array along dimension 0; dimension is 38 but corresponding boolean dimension is 15\n",
      "C:\\Users\\Shahwaiz\\Anaconda2\\lib\\site-packages\\ipykernel\\__main__.py:332: VisibleDeprecationWarning: boolean index did not match indexed array along dimension 0; dimension is 38 but corresponding boolean dimension is 23\n"
     ]
    },
    {
     "name": "stdout",
     "output_type": "stream",
     "text": [
      "[Info] Fold 2 Accuracy = 0.675675675676\n",
      "[Info] Fold 3 Accuracy = 0.675675675676\n",
      "[Info] Fold 4 Accuracy = 0.621621621622\n",
      "[0.67567567567567566, 0.67567567567567566, 0.67567567567567566, 0.6216216216216216] \n",
      "Purity=0.88, Nexample-threshold=7.0, Mean Accuracy =0.662162162162\n",
      "[Info] Fold 1 Accuracy = 0.486486486486\n",
      "[Info] Fold 2 Accuracy = 0.675675675676\n",
      "[Info] Fold 3 Accuracy = 0.675675675676\n",
      "[Info] Fold 4 Accuracy = 0.72972972973\n",
      "[0.48648648648648651, 0.67567567567567566, 0.67567567567567566, 0.72972972972972971] \n",
      "Purity=0.88, Nexample-threshold=8.0, Mean Accuracy =0.641891891892\n",
      "[Info] Fold 1 Accuracy = 0.675675675676\n",
      "[Info] Fold 2 Accuracy = 0.648648648649\n",
      "[Info] Fold 3 Accuracy = 0.594594594595\n"
     ]
    },
    {
     "name": "stderr",
     "output_type": "stream",
     "text": [
      "C:\\Users\\Shahwaiz\\Anaconda2\\lib\\site-packages\\ipykernel\\__main__.py:332: VisibleDeprecationWarning: boolean index did not match indexed array along dimension 0; dimension is 71 but corresponding boolean dimension is 21\n",
      "C:\\Users\\Shahwaiz\\Anaconda2\\lib\\site-packages\\ipykernel\\__main__.py:332: VisibleDeprecationWarning: boolean index did not match indexed array along dimension 0; dimension is 71 but corresponding boolean dimension is 50\n",
      "C:\\Users\\Shahwaiz\\Anaconda2\\lib\\site-packages\\ipykernel\\__main__.py:332: VisibleDeprecationWarning: boolean index did not match indexed array along dimension 0; dimension is 101 but corresponding boolean dimension is 36\n",
      "C:\\Users\\Shahwaiz\\Anaconda2\\lib\\site-packages\\ipykernel\\__main__.py:332: VisibleDeprecationWarning: boolean index did not match indexed array along dimension 0; dimension is 101 but corresponding boolean dimension is 65\n"
     ]
    },
    {
     "ename": "KeyboardInterrupt",
     "evalue": "",
     "output_type": "error",
     "traceback": [
      "\u001b[0;31m---------------------------------------------------------------------------\u001b[0m",
      "\u001b[0;31mKeyboardInterrupt\u001b[0m                         Traceback (most recent call last)",
      "\u001b[0;32m<ipython-input-63-1a8339808fcb>\u001b[0m in \u001b[0;36m<module>\u001b[0;34m()\u001b[0m\n\u001b[1;32m     20\u001b[0m             \u001b[0mdt\u001b[0m\u001b[1;33m=\u001b[0m\u001b[0mDecisionTree\u001b[0m\u001b[1;33m(\u001b[0m\u001b[0mpurity\u001b[0m\u001b[1;33m[\u001b[0m\u001b[0mp\u001b[0m\u001b[1;33m]\u001b[0m\u001b[1;33m,\u001b[0m\u001b[0mnexamp\u001b[0m\u001b[1;33m[\u001b[0m\u001b[0mn\u001b[0m\u001b[1;33m]\u001b[0m\u001b[1;33m)\u001b[0m\u001b[1;33m\u001b[0m\u001b[0m\n\u001b[1;32m     21\u001b[0m             \u001b[0mdt\u001b[0m\u001b[1;33m.\u001b[0m\u001b[0mroot\u001b[0m\u001b[1;33m=\u001b[0m\u001b[0mNone\u001b[0m\u001b[1;33m\u001b[0m\u001b[0m\n\u001b[0;32m---> 22\u001b[0;31m             \u001b[0mdt\u001b[0m\u001b[1;33m.\u001b[0m\u001b[0mtrain\u001b[0m\u001b[1;33m(\u001b[0m\u001b[0mfolds\u001b[0m\u001b[1;33m[\u001b[0m\u001b[0mk\u001b[0m\u001b[1;33m]\u001b[0m\u001b[1;33m[\u001b[0m\u001b[1;36m0\u001b[0m\u001b[1;33m]\u001b[0m\u001b[1;33m[\u001b[0m\u001b[1;33m:\u001b[0m\u001b[1;33m,\u001b[0m\u001b[0mfeatures\u001b[0m\u001b[1;33m]\u001b[0m\u001b[1;33m,\u001b[0m\u001b[0mfolds\u001b[0m\u001b[1;33m[\u001b[0m\u001b[0mk\u001b[0m\u001b[1;33m]\u001b[0m\u001b[1;33m[\u001b[0m\u001b[1;36m1\u001b[0m\u001b[1;33m]\u001b[0m\u001b[1;33m)\u001b[0m\u001b[1;33m\u001b[0m\u001b[0m\n\u001b[0m\u001b[1;32m     23\u001b[0m             \u001b[0mpclasses\u001b[0m\u001b[1;33m=\u001b[0m\u001b[0mdt\u001b[0m\u001b[1;33m.\u001b[0m\u001b[0mpredict\u001b[0m\u001b[1;33m(\u001b[0m\u001b[0mfolds\u001b[0m\u001b[1;33m[\u001b[0m\u001b[0mk\u001b[0m\u001b[1;33m]\u001b[0m\u001b[1;33m[\u001b[0m\u001b[1;36m2\u001b[0m\u001b[1;33m]\u001b[0m\u001b[1;33m[\u001b[0m\u001b[1;33m:\u001b[0m\u001b[1;33m,\u001b[0m\u001b[0mfeatures\u001b[0m\u001b[1;33m]\u001b[0m\u001b[1;33m)\u001b[0m\u001b[1;33m\u001b[0m\u001b[0m\n\u001b[1;32m     24\u001b[0m             \u001b[0macc\u001b[0m\u001b[1;33m=\u001b[0m\u001b[0mnp\u001b[0m\u001b[1;33m.\u001b[0m\u001b[0msum\u001b[0m\u001b[1;33m(\u001b[0m\u001b[0mpclasses\u001b[0m\u001b[1;33m==\u001b[0m\u001b[0mfolds\u001b[0m\u001b[1;33m[\u001b[0m\u001b[0mk\u001b[0m\u001b[1;33m]\u001b[0m\u001b[1;33m[\u001b[0m\u001b[1;36m3\u001b[0m\u001b[1;33m]\u001b[0m\u001b[1;33m)\u001b[0m\u001b[1;33m/\u001b[0m\u001b[0mfloat\u001b[0m\u001b[1;33m(\u001b[0m\u001b[0mfolds\u001b[0m\u001b[1;33m[\u001b[0m\u001b[0mk\u001b[0m\u001b[1;33m]\u001b[0m\u001b[1;33m[\u001b[0m\u001b[1;36m3\u001b[0m\u001b[1;33m]\u001b[0m\u001b[1;33m.\u001b[0m\u001b[0mshape\u001b[0m\u001b[1;33m[\u001b[0m\u001b[1;36m0\u001b[0m\u001b[1;33m]\u001b[0m\u001b[1;33m)\u001b[0m\u001b[1;33m\u001b[0m\u001b[0m\n",
      "\u001b[0;32m<ipython-input-5-bea5290bcef8>\u001b[0m in \u001b[0;36mtrain\u001b[0;34m(self, X, Y)\u001b[0m\n\u001b[1;32m     54\u001b[0m \u001b[1;33m\u001b[0m\u001b[0m\n\u001b[1;32m     55\u001b[0m \u001b[1;33m\u001b[0m\u001b[0m\n\u001b[0;32m---> 56\u001b[0;31m         \u001b[0mself\u001b[0m\u001b[1;33m.\u001b[0m\u001b[0mbuild_tree\u001b[0m\u001b[1;33m(\u001b[0m\u001b[0mXt\u001b[0m\u001b[1;33m,\u001b[0m\u001b[0mYt\u001b[0m\u001b[1;33m)\u001b[0m\u001b[1;33m\u001b[0m\u001b[0m\n\u001b[0m\u001b[1;32m     57\u001b[0m         \u001b[1;32mreturn\u001b[0m\u001b[1;33m\u001b[0m\u001b[0m\n\u001b[1;32m     58\u001b[0m \u001b[1;33m\u001b[0m\u001b[0m\n",
      "\u001b[0;32m<ipython-input-5-bea5290bcef8>\u001b[0m in \u001b[0;36mbuild_tree\u001b[0;34m(self, X, Y, depth, currNode)\u001b[0m\n\u001b[1;32m    173\u001b[0m \u001b[1;33m\u001b[0m\u001b[0m\n\u001b[1;32m    174\u001b[0m                 \u001b[0mself\u001b[0m\u001b[1;33m.\u001b[0m\u001b[0mbuild_tree\u001b[0m\u001b[1;33m(\u001b[0m\u001b[0mDY_exp\u001b[0m\u001b[1;33m,\u001b[0m\u001b[0mY_l\u001b[0m\u001b[1;33m,\u001b[0m\u001b[1;36m10\u001b[0m\u001b[1;33m,\u001b[0m\u001b[0mself\u001b[0m\u001b[1;33m.\u001b[0m\u001b[0mroot\u001b[0m\u001b[1;33m.\u001b[0m\u001b[0mlchild\u001b[0m\u001b[1;33m)\u001b[0m\u001b[1;33m\u001b[0m\u001b[0m\n\u001b[0;32m--> 175\u001b[0;31m                 \u001b[0mself\u001b[0m\u001b[1;33m.\u001b[0m\u001b[0mbuild_tree\u001b[0m\u001b[1;33m(\u001b[0m\u001b[0mDN_exp\u001b[0m\u001b[1;33m,\u001b[0m\u001b[0mY_r\u001b[0m\u001b[1;33m,\u001b[0m\u001b[1;36m10\u001b[0m\u001b[1;33m,\u001b[0m\u001b[0mself\u001b[0m\u001b[1;33m.\u001b[0m\u001b[0mroot\u001b[0m\u001b[1;33m.\u001b[0m\u001b[0mrchild\u001b[0m\u001b[1;33m)\u001b[0m\u001b[1;33m\u001b[0m\u001b[0m\n\u001b[0m\u001b[1;32m    176\u001b[0m \u001b[1;33m\u001b[0m\u001b[0m\n\u001b[1;32m    177\u001b[0m             \u001b[1;32melse\u001b[0m\u001b[1;33m:\u001b[0m\u001b[1;33m\u001b[0m\u001b[0m\n",
      "\u001b[0;32m<ipython-input-5-bea5290bcef8>\u001b[0m in \u001b[0;36mbuild_tree\u001b[0;34m(self, X, Y, depth, currNode)\u001b[0m\n\u001b[1;32m    187\u001b[0m                 \u001b[0mcurrNode\u001b[0m\u001b[1;33m.\u001b[0m\u001b[0mrchild\u001b[0m\u001b[1;33m=\u001b[0m\u001b[0mNode\u001b[0m\u001b[1;33m(\u001b[0m\u001b[1;33m-\u001b[0m\u001b[1;36m1\u001b[0m\u001b[1;33m,\u001b[0m\u001b[1;34m'noclass'\u001b[0m\u001b[1;33m,\u001b[0m\u001b[1;33m-\u001b[0m\u001b[1;36m1\u001b[0m\u001b[1;33m,\u001b[0m\u001b[1;33m[\u001b[0m\u001b[1;33m-\u001b[0m\u001b[1;36m1\u001b[0m\u001b[1;33m,\u001b[0m\u001b[1;33m-\u001b[0m\u001b[1;36m1\u001b[0m\u001b[1;33m]\u001b[0m\u001b[1;33m,\u001b[0m\u001b[1;33m-\u001b[0m\u001b[1;36m1\u001b[0m\u001b[1;33m)\u001b[0m\u001b[1;33m\u001b[0m\u001b[0m\n\u001b[1;32m    188\u001b[0m \u001b[1;33m\u001b[0m\u001b[0m\n\u001b[0;32m--> 189\u001b[0;31m                 \u001b[0mself\u001b[0m\u001b[1;33m.\u001b[0m\u001b[0mbuild_tree\u001b[0m\u001b[1;33m(\u001b[0m\u001b[0mDY_exp\u001b[0m\u001b[1;33m,\u001b[0m\u001b[0mY_l\u001b[0m\u001b[1;33m,\u001b[0m\u001b[1;36m10\u001b[0m\u001b[1;33m,\u001b[0m\u001b[0mcurrNode\u001b[0m\u001b[1;33m.\u001b[0m\u001b[0mlchild\u001b[0m\u001b[1;33m)\u001b[0m\u001b[1;33m\u001b[0m\u001b[0m\n\u001b[0m\u001b[1;32m    190\u001b[0m                 \u001b[0mself\u001b[0m\u001b[1;33m.\u001b[0m\u001b[0mbuild_tree\u001b[0m\u001b[1;33m(\u001b[0m\u001b[0mDN_exp\u001b[0m\u001b[1;33m,\u001b[0m\u001b[0mY_r\u001b[0m\u001b[1;33m,\u001b[0m\u001b[1;36m10\u001b[0m\u001b[1;33m,\u001b[0m\u001b[0mcurrNode\u001b[0m\u001b[1;33m.\u001b[0m\u001b[0mrchild\u001b[0m\u001b[1;33m)\u001b[0m\u001b[1;33m\u001b[0m\u001b[0m\n\u001b[1;32m    191\u001b[0m \u001b[1;33m\u001b[0m\u001b[0m\n",
      "\u001b[0;32m<ipython-input-5-bea5290bcef8>\u001b[0m in \u001b[0;36mbuild_tree\u001b[0;34m(self, X, Y, depth, currNode)\u001b[0m\n\u001b[1;32m    188\u001b[0m \u001b[1;33m\u001b[0m\u001b[0m\n\u001b[1;32m    189\u001b[0m                 \u001b[0mself\u001b[0m\u001b[1;33m.\u001b[0m\u001b[0mbuild_tree\u001b[0m\u001b[1;33m(\u001b[0m\u001b[0mDY_exp\u001b[0m\u001b[1;33m,\u001b[0m\u001b[0mY_l\u001b[0m\u001b[1;33m,\u001b[0m\u001b[1;36m10\u001b[0m\u001b[1;33m,\u001b[0m\u001b[0mcurrNode\u001b[0m\u001b[1;33m.\u001b[0m\u001b[0mlchild\u001b[0m\u001b[1;33m)\u001b[0m\u001b[1;33m\u001b[0m\u001b[0m\n\u001b[0;32m--> 190\u001b[0;31m                 \u001b[0mself\u001b[0m\u001b[1;33m.\u001b[0m\u001b[0mbuild_tree\u001b[0m\u001b[1;33m(\u001b[0m\u001b[0mDN_exp\u001b[0m\u001b[1;33m,\u001b[0m\u001b[0mY_r\u001b[0m\u001b[1;33m,\u001b[0m\u001b[1;36m10\u001b[0m\u001b[1;33m,\u001b[0m\u001b[0mcurrNode\u001b[0m\u001b[1;33m.\u001b[0m\u001b[0mrchild\u001b[0m\u001b[1;33m)\u001b[0m\u001b[1;33m\u001b[0m\u001b[0m\n\u001b[0m\u001b[1;32m    191\u001b[0m \u001b[1;33m\u001b[0m\u001b[0m\n\u001b[1;32m    192\u001b[0m             \u001b[1;31m###now make a recursive call for both left and right part\u001b[0m\u001b[1;33m\u001b[0m\u001b[1;33m\u001b[0m\u001b[0m\n",
      "\u001b[0;32m<ipython-input-5-bea5290bcef8>\u001b[0m in \u001b[0;36mbuild_tree\u001b[0;34m(self, X, Y, depth, currNode)\u001b[0m\n\u001b[1;32m    187\u001b[0m                 \u001b[0mcurrNode\u001b[0m\u001b[1;33m.\u001b[0m\u001b[0mrchild\u001b[0m\u001b[1;33m=\u001b[0m\u001b[0mNode\u001b[0m\u001b[1;33m(\u001b[0m\u001b[1;33m-\u001b[0m\u001b[1;36m1\u001b[0m\u001b[1;33m,\u001b[0m\u001b[1;34m'noclass'\u001b[0m\u001b[1;33m,\u001b[0m\u001b[1;33m-\u001b[0m\u001b[1;36m1\u001b[0m\u001b[1;33m,\u001b[0m\u001b[1;33m[\u001b[0m\u001b[1;33m-\u001b[0m\u001b[1;36m1\u001b[0m\u001b[1;33m,\u001b[0m\u001b[1;33m-\u001b[0m\u001b[1;36m1\u001b[0m\u001b[1;33m]\u001b[0m\u001b[1;33m,\u001b[0m\u001b[1;33m-\u001b[0m\u001b[1;36m1\u001b[0m\u001b[1;33m)\u001b[0m\u001b[1;33m\u001b[0m\u001b[0m\n\u001b[1;32m    188\u001b[0m \u001b[1;33m\u001b[0m\u001b[0m\n\u001b[0;32m--> 189\u001b[0;31m                 \u001b[0mself\u001b[0m\u001b[1;33m.\u001b[0m\u001b[0mbuild_tree\u001b[0m\u001b[1;33m(\u001b[0m\u001b[0mDY_exp\u001b[0m\u001b[1;33m,\u001b[0m\u001b[0mY_l\u001b[0m\u001b[1;33m,\u001b[0m\u001b[1;36m10\u001b[0m\u001b[1;33m,\u001b[0m\u001b[0mcurrNode\u001b[0m\u001b[1;33m.\u001b[0m\u001b[0mlchild\u001b[0m\u001b[1;33m)\u001b[0m\u001b[1;33m\u001b[0m\u001b[0m\n\u001b[0m\u001b[1;32m    190\u001b[0m                 \u001b[0mself\u001b[0m\u001b[1;33m.\u001b[0m\u001b[0mbuild_tree\u001b[0m\u001b[1;33m(\u001b[0m\u001b[0mDN_exp\u001b[0m\u001b[1;33m,\u001b[0m\u001b[0mY_r\u001b[0m\u001b[1;33m,\u001b[0m\u001b[1;36m10\u001b[0m\u001b[1;33m,\u001b[0m\u001b[0mcurrNode\u001b[0m\u001b[1;33m.\u001b[0m\u001b[0mrchild\u001b[0m\u001b[1;33m)\u001b[0m\u001b[1;33m\u001b[0m\u001b[0m\n\u001b[1;32m    191\u001b[0m \u001b[1;33m\u001b[0m\u001b[0m\n",
      "\u001b[0;32m<ipython-input-5-bea5290bcef8>\u001b[0m in \u001b[0;36mbuild_tree\u001b[0;34m(self, X, Y, depth, currNode)\u001b[0m\n\u001b[1;32m    107\u001b[0m \u001b[1;33m\u001b[0m\u001b[0m\n\u001b[1;32m    108\u001b[0m             \u001b[1;31m# or  self.find_depth()>6\u001b[0m\u001b[1;33m\u001b[0m\u001b[1;33m\u001b[0m\u001b[0m\n\u001b[0;32m--> 109\u001b[0;31m             \u001b[1;32mif\u001b[0m \u001b[1;33m(\u001b[0m\u001b[0mnexamples\u001b[0m\u001b[1;33m<=\u001b[0m\u001b[0mself\u001b[0m\u001b[1;33m.\u001b[0m\u001b[0mexthreshold\u001b[0m \u001b[1;32mor\u001b[0m \u001b[0mpurityD\u001b[0m\u001b[1;33m>=\u001b[0m\u001b[0mself\u001b[0m\u001b[1;33m.\u001b[0m\u001b[0mpurity\u001b[0m \u001b[1;32mor\u001b[0m \u001b[0mself\u001b[0m\u001b[1;33m.\u001b[0m\u001b[0mfind_depth\u001b[0m\u001b[1;33m(\u001b[0m\u001b[1;33m)\u001b[0m\u001b[1;33m>\u001b[0m\u001b[1;36m6\u001b[0m\u001b[1;33m)\u001b[0m\u001b[1;33m:\u001b[0m\u001b[1;33m\u001b[0m\u001b[0m\n\u001b[0m\u001b[1;32m    110\u001b[0m                 \u001b[0mcurrNode\u001b[0m\u001b[1;33m.\u001b[0m\u001b[0mpurity\u001b[0m\u001b[1;33m=\u001b[0m\u001b[0mpurityD\u001b[0m\u001b[1;33m\u001b[0m\u001b[0m\n\u001b[1;32m    111\u001b[0m                 \u001b[0mcurrNode\u001b[0m\u001b[1;33m.\u001b[0m\u001b[0mklasslabel\u001b[0m\u001b[1;33m=\u001b[0m\u001b[0mklasses\u001b[0m\u001b[1;33m[\u001b[0m\u001b[0mp_idx\u001b[0m\u001b[1;33m]\u001b[0m\u001b[1;33m\u001b[0m\u001b[0m\n",
      "\u001b[0;32m<ipython-input-5-bea5290bcef8>\u001b[0m in \u001b[0;36mfind_depth\u001b[0;34m(self)\u001b[0m\n\u001b[1;32m    400\u001b[0m \u001b[1;33m\u001b[0m\u001b[0m\n\u001b[1;32m    401\u001b[0m     \u001b[1;32mdef\u001b[0m \u001b[0mfind_depth\u001b[0m\u001b[1;33m(\u001b[0m\u001b[0mself\u001b[0m\u001b[1;33m)\u001b[0m\u001b[1;33m:\u001b[0m\u001b[1;33m\u001b[0m\u001b[0m\n\u001b[0;32m--> 402\u001b[0;31m         \u001b[1;32mreturn\u001b[0m \u001b[0mself\u001b[0m\u001b[1;33m.\u001b[0m\u001b[0m_find_depth\u001b[0m\u001b[1;33m(\u001b[0m\u001b[0mself\u001b[0m\u001b[1;33m.\u001b[0m\u001b[0mroot\u001b[0m\u001b[1;33m)\u001b[0m\u001b[1;33m\u001b[0m\u001b[0m\n\u001b[0m\u001b[1;32m    403\u001b[0m \u001b[1;33m\u001b[0m\u001b[0m\n\u001b[1;32m    404\u001b[0m \u001b[1;33m\u001b[0m\u001b[0m\n",
      "\u001b[0;32m<ipython-input-5-bea5290bcef8>\u001b[0m in \u001b[0;36m_find_depth\u001b[0;34m(self, node)\u001b[0m\n\u001b[1;32m    409\u001b[0m             \u001b[1;32mreturn\u001b[0m \u001b[1;36m1\u001b[0m\u001b[1;33m\u001b[0m\u001b[0m\n\u001b[1;32m    410\u001b[0m         \u001b[1;32melse\u001b[0m\u001b[1;33m:\u001b[0m\u001b[1;33m\u001b[0m\u001b[0m\n\u001b[0;32m--> 411\u001b[0;31m             \u001b[1;32mreturn\u001b[0m \u001b[0mmax\u001b[0m\u001b[1;33m(\u001b[0m\u001b[0mself\u001b[0m\u001b[1;33m.\u001b[0m\u001b[0m_find_depth\u001b[0m\u001b[1;33m(\u001b[0m\u001b[0mnode\u001b[0m\u001b[1;33m.\u001b[0m\u001b[0mlchild\u001b[0m\u001b[1;33m)\u001b[0m\u001b[1;33m,\u001b[0m\u001b[0mself\u001b[0m\u001b[1;33m.\u001b[0m\u001b[0m_find_depth\u001b[0m\u001b[1;33m(\u001b[0m\u001b[0mnode\u001b[0m\u001b[1;33m.\u001b[0m\u001b[0mrchild\u001b[0m\u001b[1;33m)\u001b[0m\u001b[1;33m)\u001b[0m\u001b[1;33m+\u001b[0m\u001b[1;36m1\u001b[0m\u001b[1;33m\u001b[0m\u001b[0m\n\u001b[0m\u001b[1;32m    412\u001b[0m     \u001b[1;32mdef\u001b[0m \u001b[0m__print\u001b[0m\u001b[1;33m(\u001b[0m\u001b[0mself\u001b[0m\u001b[1;33m,\u001b[0m\u001b[0mnode\u001b[0m\u001b[1;33m,\u001b[0m\u001b[0mdepth\u001b[0m\u001b[1;33m=\u001b[0m\u001b[1;36m0\u001b[0m\u001b[1;33m)\u001b[0m\u001b[1;33m:\u001b[0m\u001b[1;33m\u001b[0m\u001b[0m\n\u001b[1;32m    413\u001b[0m         \u001b[0mret\u001b[0m \u001b[1;33m=\u001b[0m \u001b[1;34m\"\"\u001b[0m\u001b[1;33m\u001b[0m\u001b[0m\n",
      "\u001b[0;32m<ipython-input-5-bea5290bcef8>\u001b[0m in \u001b[0;36m_find_depth\u001b[0;34m(self, node)\u001b[0m\n\u001b[1;32m    406\u001b[0m         \u001b[1;32mif\u001b[0m \u001b[1;32mnot\u001b[0m \u001b[0mnode\u001b[0m\u001b[1;33m:\u001b[0m\u001b[1;33m\u001b[0m\u001b[0m\n\u001b[1;32m    407\u001b[0m             \u001b[1;32mreturn\u001b[0m\u001b[1;33m\u001b[0m\u001b[0m\n\u001b[0;32m--> 408\u001b[0;31m         \u001b[1;32mif\u001b[0m \u001b[0mnode\u001b[0m\u001b[1;33m.\u001b[0m\u001b[0misleaf\u001b[0m\u001b[1;33m(\u001b[0m\u001b[1;33m)\u001b[0m\u001b[1;33m:\u001b[0m\u001b[1;33m\u001b[0m\u001b[0m\n\u001b[0m\u001b[1;32m    409\u001b[0m             \u001b[1;32mreturn\u001b[0m \u001b[1;36m1\u001b[0m\u001b[1;33m\u001b[0m\u001b[0m\n\u001b[1;32m    410\u001b[0m         \u001b[1;32melse\u001b[0m\u001b[1;33m:\u001b[0m\u001b[1;33m\u001b[0m\u001b[0m\n",
      "\u001b[0;32m<ipython-input-2-63106f40a029>\u001b[0m in \u001b[0;36misleaf\u001b[0;34m(self)\u001b[0m\n\u001b[1;32m     18\u001b[0m         \u001b[1;31m#if leaf returns True else False\u001b[0m\u001b[1;33m\u001b[0m\u001b[1;33m\u001b[0m\u001b[0m\n\u001b[1;32m     19\u001b[0m         \u001b[1;32mif\u001b[0m\u001b[1;33m(\u001b[0m\u001b[0mself\u001b[0m\u001b[1;33m.\u001b[0m\u001b[0mlchild\u001b[0m \u001b[1;32mis\u001b[0m  \u001b[0mNone\u001b[0m \u001b[1;32mand\u001b[0m \u001b[0mself\u001b[0m\u001b[1;33m.\u001b[0m\u001b[0mrchild\u001b[0m \u001b[1;32mis\u001b[0m  \u001b[0mNone\u001b[0m\u001b[1;33m)\u001b[0m\u001b[1;33m:\u001b[0m\u001b[1;33m\u001b[0m\u001b[0m\n\u001b[0;32m---> 20\u001b[0;31m             \u001b[1;32mreturn\u001b[0m \u001b[0mTrue\u001b[0m\u001b[1;33m\u001b[0m\u001b[0m\n\u001b[0m\u001b[1;32m     21\u001b[0m         \u001b[1;32melse\u001b[0m\u001b[1;33m:\u001b[0m\u001b[1;33m\u001b[0m\u001b[0m\n\u001b[1;32m     22\u001b[0m             \u001b[1;32mreturn\u001b[0m \u001b[0mFalse\u001b[0m\u001b[1;33m\u001b[0m\u001b[0m\n",
      "\u001b[0;31mKeyboardInterrupt\u001b[0m: "
     ]
    }
   ],
   "source": [
    "# Now lets cross validate for best paramters, and test the result...\n",
    "# We will be training four different models on four different partitions of data set and \n",
    "# then will be reporting the mean accuracy of the four classifiers.\n",
    "\n",
    "nfolds=4 # lets use four folds..\n",
    "folds=t.generate_folds(X,Y,nfolds)\n",
    "features=[0,1, 2, 3] # features to use for our system\n",
    "#now lets train and test on these folds...\n",
    "\n",
    "#Lets perform the grid search...\n",
    "purity=np.linspace(0.85,0.97,13) # You can also search over depth as well....\n",
    "nexamp=np.linspace(5,25,21)  \n",
    "\n",
    "params=np.zeros((len(purity),len(nexamp)))\n",
    "                   \n",
    "for p in range(len(purity)):\n",
    "    for n in range(len(nexamp)):\n",
    "        totacc=[]\n",
    "        for k in range(nfolds):\n",
    "            dt=DecisionTree(purity[p],nexamp[n])\n",
    "            dt.root=None\n",
    "            dt.train(folds[k][0][:,features],folds[k][1])\n",
    "            pclasses=dt.predict(folds[k][2][:,features])\n",
    "            acc=np.sum(pclasses==folds[k][3])/float(folds[k][3].shape[0])\n",
    "            print \"[Info] Fold {} Accuracy = {}\".format(k+1, acc)\n",
    "            totacc.append(acc)\n",
    "        params[p,n]=np.mean(totacc)\n",
    "        print totacc, '\\nPurity={}, Nexample-threshold={}, Mean Accuracy ={}'.format(purity[p],nexamp[n], np.mean(totacc))"
   ]
  },
  {
   "cell_type": "code",
   "execution_count": 187,
   "metadata": {
    "collapsed": true,
    "deletable": true,
    "editable": true
   },
   "outputs": [],
   "source": [
    "np.save('dt-cv',params)"
   ]
  },
  {
   "cell_type": "code",
   "execution_count": 188,
   "metadata": {
    "collapsed": false,
    "deletable": true,
    "editable": true,
    "scrolled": true
   },
   "outputs": [
    {
     "name": "stdout",
     "output_type": "stream",
     "text": [
      "[[ 0.375       0.27083333  0.48611111  0.07638889  0.34722222  0.5625\n",
      "   0.34027778  0.31944444  0.40277778  0.34722222  0.28472222  0.40972222\n",
      "   0.34027778  0.28472222  0.375       0.45138889  0.38194444  0.45833333\n",
      "   0.20833333  0.375       0.5       ]\n",
      " [ 0.53472222  0.39583333  0.27083333  0.3125      0.625       0.40277778\n",
      "   0.125       0.33333333  0.33333333  0.15277778  0.34027778  0.375\n",
      "   0.36111111  0.27777778  0.51388889  0.36111111  0.32638889  0.45833333\n",
      "   0.40972222  0.20833333  0.43055556]\n",
      " [ 0.38888889  0.34027778  0.11111111  0.38194444  0.40277778  0.34722222\n",
      "   0.25        0.29861111  0.38194444  0.32638889  0.35416667  0.38194444\n",
      "   0.40277778  0.20833333  0.31944444  0.375       0.25694444  0.34027778\n",
      "   0.29861111  0.28472222  0.56944444]\n",
      " [ 0.38888889  0.20833333  0.24305556  0.22916667  0.45138889  0.26388889\n",
      "   0.27777778  0.375       0.29166667  0.40277778  0.43055556  0.35416667\n",
      "   0.27083333  0.3125      0.34027778  0.46527778  0.3125      0.40277778\n",
      "   0.40972222  0.31944444  0.46527778]\n",
      " [ 0.41666667  0.44444444  0.17361111  0.40277778  0.33333333  0.42361111\n",
      "   0.49305556  0.36805556  0.36111111  0.15972222  0.22222222  0.28472222\n",
      "   0.38194444  0.24305556  0.39583333  0.28472222  0.32638889  0.43055556\n",
      "   0.32638889  0.10416667  0.38888889]\n",
      " [ 0.34722222  0.39583333  0.38194444  0.10416667  0.29861111  0.41666667\n",
      "   0.40972222  0.28472222  0.45833333  0.47916667  0.17361111  0.56944444\n",
      "   0.42361111  0.27777778  0.36111111  0.3125      0.38888889  0.42361111\n",
      "   0.15972222  0.27083333  0.17361111]\n",
      " [ 0.36805556  0.45833333  0.30555556  0.34027778  0.22222222  0.21527778\n",
      "   0.44444444  0.27777778  0.45833333  0.27777778  0.40972222  0.19444444\n",
      "   0.38888889  0.13888889  0.16666667  0.25        0.1875      0.40972222\n",
      "   0.29166667  0.43055556  0.47222222]\n",
      " [ 0.42361111  0.29166667  0.29166667  0.375       0.375       0.375\n",
      "   0.16666667  0.23611111  0.17361111  0.53472222  0.21527778  0.27083333\n",
      "   0.22916667  0.52083333  0.54166667  0.36111111  0.25694444  0.29166667\n",
      "   0.25        0.21527778  0.3125    ]\n",
      " [ 0.44444444  0.59027778  0.45138889  0.38194444  0.38194444  0.375\n",
      "   0.20833333  0.44444444  0.22222222  0.56944444  0.61805556  0.5\n",
      "   0.09027778  0.55555556  0.29166667  0.32638889  0.50694444  0.36111111\n",
      "   0.56944444  0.22916667  0.21527778]\n",
      " [ 0.38194444  0.45138889  0.54166667  0.29861111  0.21527778  0.30555556\n",
      "   0.47222222  0.21527778  0.50694444  0.54166667  0.22916667  0.36111111\n",
      "   0.50694444  0.40972222  0.43055556  0.3125      0.28472222  0.56944444\n",
      "   0.25694444  0.20833333  0.27083333]\n",
      " [ 0.32638889  0.20138889  0.29861111  0.38194444  0.25        0.3125\n",
      "   0.35416667  0.27777778  0.24305556  0.54861111  0.35416667  0.34027778\n",
      "   0.375       0.38194444  0.3125      0.45138889  0.26388889  0.3125\n",
      "   0.36805556  0.42361111  0.18055556]\n",
      " [ 0.42361111  0.29861111  0.40972222  0.28472222  0.38194444  0.43055556\n",
      "   0.29166667  0.51388889  0.25694444  0.34722222  0.36111111  0.38194444\n",
      "   0.46527778  0.27777778  0.27083333  0.38194444  0.43055556  0.33333333\n",
      "   0.18055556  0.60416667  0.48611111]\n",
      " [ 0.29861111  0.44444444  0.47916667  0.32638889  0.27777778  0.29861111\n",
      "   0.23611111  0.39583333  0.21527778  0.24305556  0.20833333  0.59722222\n",
      "   0.27083333  0.25        0.3125      0.43055556  0.20833333  0.30555556\n",
      "   0.39583333  0.1875      0.29166667]]\n"
     ]
    }
   ],
   "source": [
    "print params"
   ]
  },
  {
   "cell_type": "code",
   "execution_count": 189,
   "metadata": {
    "collapsed": false,
    "deletable": true,
    "editable": true
   },
   "outputs": [
    {
     "name": "stdout",
     "output_type": "stream",
     "text": [
      "(13L, 21L)\n"
     ]
    }
   ],
   "source": [
    "print params.shape\n",
    "#(13, 21)"
   ]
  },
  {
   "cell_type": "code",
   "execution_count": 190,
   "metadata": {
    "collapsed": false,
    "deletable": true,
    "editable": true
   },
   "outputs": [
    {
     "data": {
      "text/plain": [
       "<matplotlib.image.AxesImage at 0xbf10d68>"
      ]
     },
     "execution_count": 190,
     "metadata": {},
     "output_type": "execute_result"
    },
    {
     "data": {
      "image/png": "[encoded data removed]",
      "text/plain": [
       "<matplotlib.figure.Figure at 0xb2cc4e0>"
      ]
     },
     "metadata": {},
     "output_type": "display_data"
    }
   ],
   "source": [
    "plt.imshow(params) # displayc the accuracy as 2D image..."
   ]
  },
  {
   "cell_type": "code",
   "execution_count": 191,
   "metadata": {
    "collapsed": false,
    "deletable": true,
    "editable": true
   },
   "outputs": [
    {
     "data": {
      "text/plain": [
       "<matplotlib.text.Text at 0xc09ef60>"
      ]
     },
     "execution_count": 191,
     "metadata": {},
     "output_type": "execute_result"
    },
    {
     "data": {
      "image/png": "[encoded data removed]",
      "text/plain": [
       "<matplotlib.figure.Figure at 0xbb50e10>"
      ]
     },
     "metadata": {},
     "output_type": "display_data"
    }
   ],
   "source": [
    "from mpl_toolkits.mplot3d import Axes3D\n",
    "\n",
    "fig = plt.figure()\n",
    "ax = Axes3D(fig)\n",
    "tX, tY = np.meshgrid(purity, nexamp)\n",
    "ax.plot_surface(tX,tY,params.T)\n",
    "ax.set_xlabel('Purity')\n",
    "ax.set_ylabel('Nexamples')\n",
    "ax.set_zlabel('Mean Accuracy across {}-Folds'.format(nfolds))\n",
    "# ax.scatter3D(data['SepalLength'],data['PetalLength'],data['PetalWidth'])\n",
    "#(params,ax,'Purity','Example-Threshold','Mean-Accuracy')"
   ]
  },
  {
   "cell_type": "code",
   "execution_count": 192,
   "metadata": {
    "collapsed": false,
    "deletable": true,
    "editable": true
   },
   "outputs": [
    {
     "name": "stdout",
     "output_type": "stream",
     "text": [
      "(13L, 21L) (21L, 13L) (21L, 13L)\n"
     ]
    }
   ],
   "source": [
    "print params.shape, tX.shape, tY.shape\n",
    "#(13, 21) (21, 13) (21, 13)\n"
   ]
  },
  {
   "cell_type": "code",
   "execution_count": 193,
   "metadata": {
    "collapsed": false,
    "deletable": true,
    "editable": true
   },
   "outputs": [
    {
     "name": "stdout",
     "output_type": "stream",
     "text": [
      "1 4\n"
     ]
    }
   ],
   "source": [
    "#print the row and column  index of m\n",
    "#single line code\n",
    "ridx,cidx= np.unravel_index(np.argmax(params), params.shape)\n",
    "\n",
    "# simple step-wise code\n",
    "\n",
    "cidx=np.argmax(params.max(axis=0))\n",
    "ridx=np.argmax(params[:,cidx])\n",
    "print ridx, cidx\n",
    "#10 0"
   ]
  },
  {
   "cell_type": "code",
   "execution_count": 194,
   "metadata": {
    "collapsed": false,
    "deletable": true,
    "editable": true
   },
   "outputs": [
    {
     "name": "stdout",
     "output_type": "stream",
     "text": [
      "CV Best Parameters are, purity=0.86, nexamp=9.0, mean accuracy=0.625\n"
     ]
    }
   ],
   "source": [
    "print 'CV Best Parameters are, purity={}, nexamp={}, mean accuracy={}'.format(purity[ridx],nexamp[cidx],params[ridx,cidx])"
   ]
  },
  {
   "cell_type": "code",
   "execution_count": 218,
   "metadata": {
    "collapsed": false,
    "deletable": true,
    "editable": true
   },
   "outputs": [
    {
     "name": "stdout",
     "output_type": "stream",
     "text": [
      "0.86 9.0\n",
      "X.shape:: (104L, 4L)\n",
      "19\n",
      "Accuracy =  0.422222222222\n"
     ]
    },
    {
     "name": "stderr",
     "output_type": "stream",
     "text": [
      "C:\\Users\\Shahwaiz\\Anaconda2\\lib\\site-packages\\ipykernel\\__main__.py:270: VisibleDeprecationWarning: boolean index did not match indexed array along dimension 0; dimension is 104 but corresponding boolean dimension is 34\n",
      "C:\\Users\\Shahwaiz\\Anaconda2\\lib\\site-packages\\ipykernel\\__main__.py:270: VisibleDeprecationWarning: boolean index did not match indexed array along dimension 0; dimension is 104 but corresponding boolean dimension is 35\n",
      "C:\\Users\\Shahwaiz\\Anaconda2\\lib\\site-packages\\ipykernel\\__main__.py:270: VisibleDeprecationWarning: boolean index did not match indexed array along dimension 0; dimension is 40 but corresponding boolean dimension is 11\n",
      "C:\\Users\\Shahwaiz\\Anaconda2\\lib\\site-packages\\ipykernel\\__main__.py:270: VisibleDeprecationWarning: boolean index did not match indexed array along dimension 0; dimension is 40 but corresponding boolean dimension is 17\n",
      "C:\\Users\\Shahwaiz\\Anaconda2\\lib\\site-packages\\ipykernel\\__main__.py:270: VisibleDeprecationWarning: boolean index did not match indexed array along dimension 0; dimension is 40 but corresponding boolean dimension is 12\n",
      "C:\\Users\\Shahwaiz\\Anaconda2\\lib\\site-packages\\ipykernel\\__main__.py:270: VisibleDeprecationWarning: boolean index did not match indexed array along dimension 0; dimension is 11 but corresponding boolean dimension is 6\n",
      "C:\\Users\\Shahwaiz\\Anaconda2\\lib\\site-packages\\ipykernel\\__main__.py:270: VisibleDeprecationWarning: boolean index did not match indexed array along dimension 0; dimension is 11 but corresponding boolean dimension is 2\n",
      "C:\\Users\\Shahwaiz\\Anaconda2\\lib\\site-packages\\ipykernel\\__main__.py:270: VisibleDeprecationWarning: boolean index did not match indexed array along dimension 0; dimension is 11 but corresponding boolean dimension is 3\n",
      "C:\\Users\\Shahwaiz\\Anaconda2\\lib\\site-packages\\ipykernel\\__main__.py:270: VisibleDeprecationWarning: boolean index did not match indexed array along dimension 0; dimension is 29 but corresponding boolean dimension is 5\n",
      "C:\\Users\\Shahwaiz\\Anaconda2\\lib\\site-packages\\ipykernel\\__main__.py:270: VisibleDeprecationWarning: boolean index did not match indexed array along dimension 0; dimension is 29 but corresponding boolean dimension is 15\n",
      "C:\\Users\\Shahwaiz\\Anaconda2\\lib\\site-packages\\ipykernel\\__main__.py:270: VisibleDeprecationWarning: boolean index did not match indexed array along dimension 0; dimension is 29 but corresponding boolean dimension is 9\n",
      "C:\\Users\\Shahwaiz\\Anaconda2\\lib\\site-packages\\ipykernel\\__main__.py:270: VisibleDeprecationWarning: boolean index did not match indexed array along dimension 0; dimension is 17 but corresponding boolean dimension is 3\n",
      "C:\\Users\\Shahwaiz\\Anaconda2\\lib\\site-packages\\ipykernel\\__main__.py:270: VisibleDeprecationWarning: boolean index did not match indexed array along dimension 0; dimension is 17 but corresponding boolean dimension is 9\n",
      "C:\\Users\\Shahwaiz\\Anaconda2\\lib\\site-packages\\ipykernel\\__main__.py:270: VisibleDeprecationWarning: boolean index did not match indexed array along dimension 0; dimension is 17 but corresponding boolean dimension is 5\n",
      "C:\\Users\\Shahwaiz\\Anaconda2\\lib\\site-packages\\ipykernel\\__main__.py:270: VisibleDeprecationWarning: boolean index did not match indexed array along dimension 0; dimension is 14 but corresponding boolean dimension is 2\n",
      "C:\\Users\\Shahwaiz\\Anaconda2\\lib\\site-packages\\ipykernel\\__main__.py:270: VisibleDeprecationWarning: boolean index did not match indexed array along dimension 0; dimension is 14 but corresponding boolean dimension is 9\n",
      "C:\\Users\\Shahwaiz\\Anaconda2\\lib\\site-packages\\ipykernel\\__main__.py:270: VisibleDeprecationWarning: boolean index did not match indexed array along dimension 0; dimension is 14 but corresponding boolean dimension is 3\n",
      "C:\\Users\\Shahwaiz\\Anaconda2\\lib\\site-packages\\ipykernel\\__main__.py:270: VisibleDeprecationWarning: boolean index did not match indexed array along dimension 0; dimension is 11 but corresponding boolean dimension is 1\n",
      "C:\\Users\\Shahwaiz\\Anaconda2\\lib\\site-packages\\ipykernel\\__main__.py:270: VisibleDeprecationWarning: boolean index did not match indexed array along dimension 0; dimension is 11 but corresponding boolean dimension is 8\n"
     ]
    }
   ],
   "source": [
    "print purity[ridx],nexamp[cidx]\n",
    "dt=DecisionTree(purity[ridx],nexamp[cidx])\n",
    "dt.train(Xtrain[:,feat],Ytrain)\n",
    "pclasses=dt.predict(Xtest[:,feat])\n",
    "#Lets see how good we are doing, by finding the accuracy on the test set..\n",
    "print np.sum(pclasses==Ytest)\n",
    "print \"Accuracy = \", np.sum(pclasses==Ytest)/float(Ytest.shape[0])\n",
    "#0.95 5.0\n",
    "#45\n",
    "#Accuracy =  1.0"
   ]
  },
  {
   "cell_type": "code",
   "execution_count": 196,
   "metadata": {
    "collapsed": false,
    "deletable": true,
    "editable": true
   },
   "outputs": [
    {
     "name": "stdout",
     "output_type": "stream",
     "text": [
      "6\n"
     ]
    }
   ],
   "source": [
    "print dt.find_depth()"
   ]
  },
  {
   "cell_type": "code",
   "execution_count": 67,
   "metadata": {
    "collapsed": false,
    "deletable": true,
    "editable": true
   },
   "outputs": [
    {
     "name": "stdout",
     "output_type": "stream",
     "text": [
      "HERE\n",
      "\n",
      "        C(class=Iris-virginica,Purity=0.897435897436)\n",
      "    I(Fidx=-1,Score=0.398024878084,Split=[2, 4.75])\n",
      "        C(class=Iris-versicolor,Purity=1.0)\n",
      "I(Fidx=-1,Score=0.666932222158,Split=[3, 0.75])\n",
      "    C(class=Iris-setosa,Purity=1.0)\n"
     ]
    }
   ],
   "source": [
    "print dt"
   ]
  }
 ],
 "metadata": {
  "anaconda-cloud": {},
  "kernelspec": {
   "display_name": "Python [default]",
   "language": "python",
   "name": "python2"
  },
  "language_info": {
   "codemirror_mode": {
    "name": "ipython",
    "version": 2
   },
   "file_extension": ".py",
   "mimetype": "text/x-python",
   "name": "python",
   "nbconvert_exporter": "python",
   "pygments_lexer": "ipython2",
   "version": "2.7.12"
  }
 },
 "nbformat": 4,
 "nbformat_minor": 0
}
